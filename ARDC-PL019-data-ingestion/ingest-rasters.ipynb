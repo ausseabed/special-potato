{
 "cells": [
  {
   "cell_type": "code",
   "execution_count": 15,
   "id": "4082c1c7-9759-4830-afd6-92f0cea25331",
   "metadata": {},
   "outputs": [],
   "source": [
    "\"\"\"\n",
    "All rasters were converted to TileDB using the following basic configuration:\n",
    "No performance testing for optimal compression ratios, compression filters, blocksizes nor I/O were undertaken.\n",
    "Initial storage comparisons (eyeball) of GeoTIFF to TileDB resulted in a 50% reduction is storage size (not including the sidecar metadata files for the TIFF, nor the pyramids).\n",
    "Deakin's GeoTIFF's were using LZW for compression, so in some circles, the worst of the worst, as such not an apples and apples comparison.\n",
    "Some provided data has block sizes of 2048, compared to here in using 512. Eg a deflate 2048 in geotiff was ~22% larger than tiledb 512 zstd\n",
    "gdal_translate -of TileDB -co TILEDB_CONFIG=tiledb-config.txt -co COMPRESSION=ZSTD -co COMPRESSION_LEVEL=16 -co BLOCKXSIZE=512 -co BLOCKYSIZE=512 \n",
    "\"\"\""
   ]
  },
  {
   "cell_type": "code",
   "execution_count": null,
   "id": "91bc0d27-4abb-47f3-93fd-d9ebf43b62d6",
   "metadata": {},
   "outputs": [],
   "source": [
    "import s3fs\n",
    "import json\n",
    "from pathlib import Path\n",
    "import numpy\n",
    "import rasterio\n",
    "from rasterio.session import AWSSession\n",
    "import boto3\n",
    "import tiledb\n",
    "import tiledb.cloud\n",
    "from tiledb.cloud.compute import DelayedArrayUDF, Delayed\n",
    "import pandas\n",
    "import geopandas\n",
    "import fiona\n",
    "#from fiona.session import AWSSession\n",
    "import pystac"
   ]
  },
  {
   "cell_type": "code",
   "execution_count": 12,
   "id": "93fda1b7-937d-490f-bb2e-1db29217c4c6",
   "metadata": {},
   "outputs": [],
   "source": [
    "session = boto3.Session()\n",
    "creds = session.get_credentials()"
   ]
  },
  {
   "cell_type": "code",
   "execution_count": 13,
   "id": "51a69a98-78ad-480a-b8df-4f53dc202fbd",
   "metadata": {},
   "outputs": [],
   "source": [
    "#with rasterio.env.Env(aws_access_key_id=creds.access_key, aws_secret_access_key=creds.secret_key) as Env:\n",
    "    "
   ]
  },
  {
   "cell_type": "code",
   "execution_count": 75,
   "id": "7600bdaa-a702-4d00-976d-c2e2a881128d",
   "metadata": {},
   "outputs": [
    {
     "name": "stdout",
     "output_type": "stream",
     "text": [
      "{'driver': 'GTiff', 'dtype': 'float32', 'nodata': 3.4028234663852886e+38, 'width': 28833, 'height': 16132, 'count': 1, 'crs': CRS.from_epsg(32755), 'transform': Affine(2.0, 0.0, 413345.0,\n",
      "       0.0, -2.0, 5694193.0)}\n",
      "Compression.lzw\n",
      "{'driver': 'GTiff', 'dtype': 'float32', 'nodata': 3.4028234663852886e+38, 'width': 16620, 'height': 17025, 'count': 3, 'crs': CRS.from_epsg(4326), 'transform': Affine(1.7966305682390557e-05, 0.0, 146.7014346151391,\n",
      "       0.0, -1.796630568239043e-05, -39.19413364998645)}\n",
      "Compression.deflate\n",
      "[(2048, 2048), (2048, 2048), (2048, 2048)]\n"
     ]
    }
   ],
   "source": [
    "with rasterio.Env(AWSSession(session)) as env:\n",
    "    with rasterio.open(\"s3://ausseabed-pl019-provided-data/DeakinUniversity/WilsonsProm_WestGlennie_Refuge_SRL/geotif/WilsonsProm_SRL_WestGlennie_Refuge_Z_2m_WGS84_UTMz55S.tif\") as ds:\n",
    "        print(ds.meta)\n",
    "        print(ds.compression)\n",
    "    with rasterio.open(\"s3://ausseabed-pl019-provided-data/JamesCookUniversity/0364_BeagleMarinePark_2018/Products/geotif/ga-0364_tile-s39-5e146-5_bathymetry_egm2008_2018_2m_epsg-4326_20211025.tiff\") as ds:\n",
    "        print(ds.meta)\n",
    "        print(ds.compression)\n",
    "        print(ds.block_shapes)"
   ]
  },
  {
   "cell_type": "code",
   "execution_count": 18,
   "id": "cbaf385c-cc06-4f6b-808f-b90cb1e97166",
   "metadata": {},
   "outputs": [],
   "source": [
    "config = tiledb.Config(\n",
    "        {\"vfs.s3.aws_access_key_id\": creds.access_key, \"vfs.s3.aws_secret_access_key\": creds.secret_key}\n",
    "    )\n",
    "config_dict = config.dict()\n",
    "ctx = tiledb.Ctx(config=config)"
   ]
  },
  {
   "cell_type": "code",
   "execution_count": 20,
   "id": "45fda933-becd-4fb3-9dbb-dbf2af0ba23e",
   "metadata": {},
   "outputs": [
    {
     "name": "stdout",
     "output_type": "stream",
     "text": [
      "(('_gdal', (60, 80, 65, 77, 68, 97, 116, 97, 115, 101, 116, 62, 10, 32, 32, 60, 83, 82, 83, 32, 100, 97, 116, 97, 65, 120, 105, 115, 84, 111, 83, 82, 83, 65, 120, 105, 115, 77, 97, 112, 112, 105, 110, 103, 61, 34, 49, 44, 50, 34, 62, 80, 82, 79, 74, 67, 83, 91, 34, 87, 71, 83, 95, 49, 57, 56, 52, 95, 85, 84, 77, 95, 90, 111, 110, 101, 95, 53, 53, 83, 34, 44, 71, 69, 79, 71, 67, 83, 91, 34, 87, 71, 83, 32, 56, 52, 34, 44, 68, 65, 84, 85, 77, 91, 34, 87, 71, 83, 95, 49, 57, 56, 52, 34, 44, 83, 80, 72, 69, 82, 79, 73, 68, 91, 34, 87, 71, 83, 32, 56, 52, 34, 44, 54, 51, 55, 56, 49, 51, 55, 44, 50, 57, 56, 46, 50, 53, 55, 50, 50, 51, 53, 54, 51, 44, 65, 85, 84, 72, 79, 82, 73, 84, 89, 91, 34, 69, 80, 83, 71, 34, 44, 34, 55, 48, 51, 48, 34, 93, 93, 44, 65, 85, 84, 72, 79, 82, 73, 84, 89, 91, 34, 69, 80, 83, 71, 34, 44, 34, 54, 51, 50, 54, 34, 93, 93, 44, 80, 82, 73, 77, 69, 77, 91, 34, 71, 114, 101, 101, 110, 119, 105, 99, 104, 34, 44, 48, 93, 44, 85, 78, 73, 84, 91, 34, 100, 101, 103, 114, 101, 101, 34, 44, 48, 46, 48, 49, 55, 52, 53, 51, 50, 57, 50, 53, 49, 57, 57, 52, 51, 51, 44, 65, 85, 84, 72, 79, 82, 73, 84, 89, 91, 34, 69, 80, 83, 71, 34, 44, 34, 57, 49, 50, 50, 34, 93, 93, 44, 65, 85, 84, 72, 79, 82, 73, 84, 89, 91, 34, 69, 80, 83, 71, 34, 44, 34, 52, 51, 50, 54, 34, 93, 93, 44, 80, 82, 79, 74, 69, 67, 84, 73, 79, 78, 91, 34, 84, 114, 97, 110, 115, 118, 101, 114, 115, 101, 95, 77, 101, 114, 99, 97, 116, 111, 114, 34, 93, 44, 80, 65, 82, 65, 77, 69, 84, 69, 82, 91, 34, 108, 97, 116, 105, 116, 117, 100, 101, 95, 111, 102, 95, 111, 114, 105, 103, 105, 110, 34, 44, 48, 93, 44, 80, 65, 82, 65, 77, 69, 84, 69, 82, 91, 34, 99, 101, 110, 116, 114, 97, 108, 95, 109, 101, 114, 105, 100, 105, 97, 110, 34, 44, 49, 52, 55, 93, 44, 80, 65, 82, 65, 77, 69, 84, 69, 82, 91, 34, 115, 99, 97, 108, 101, 95, 102, 97, 99, 116, 111, 114, 34, 44, 48, 46, 57, 57, 57, 54, 93, 44, 80, 65, 82, 65, 77, 69, 84, 69, 82, 91, 34, 102, 97, 108, 115, 101, 95, 101, 97, 115, 116, 105, 110, 103, 34, 44, 53, 48, 48, 48, 48, 48, 93, 44, 80, 65, 82, 65, 77, 69, 84, 69, 82, 91, 34, 102, 97, 108, 115, 101, 95, 110, 111, 114, 116, 104, 105, 110, 103, 34, 44, 49, 48, 48, 48, 48, 48, 48, 48, 93, 44, 85, 78, 73, 84, 91, 34, 109, 101, 116, 114, 101, 34, 44, 49, 44, 65, 85, 84, 72, 79, 82, 73, 84, 89, 91, 34, 69, 80, 83, 71, 34, 44, 34, 57, 48, 48, 49, 34, 93, 93, 44, 65, 88, 73, 83, 91, 34, 69, 97, 115, 116, 105, 110, 103, 34, 44, 69, 65, 83, 84, 93, 44, 65, 88, 73, 83, 91, 34, 78, 111, 114, 116, 104, 105, 110, 103, 34, 44, 78, 79, 82, 84, 72, 93, 44, 65, 85, 84, 72, 79, 82, 73, 84, 89, 91, 34, 69, 80, 83, 71, 34, 44, 34, 51, 50, 55, 53, 53, 34, 93, 93, 60, 47, 83, 82, 83, 62, 10, 32, 32, 60, 71, 101, 111, 84, 114, 97, 110, 115, 102, 111, 114, 109, 62, 32, 32, 52, 46, 50, 53, 57, 49, 56, 55, 53, 48, 48, 48, 48, 48, 48, 48, 48, 48, 101, 43, 48, 53, 44, 32, 32, 50, 46, 53, 48, 48, 48, 48, 48, 48, 48, 48, 48, 48, 48, 48, 48, 48, 48, 101, 43, 48, 48, 44, 32, 32, 48, 46, 48, 48, 48, 48, 48, 48, 48, 48, 48, 48, 48, 48, 48, 48, 48, 48, 101, 43, 48, 48, 44, 32, 32, 53, 46, 54, 56, 48, 50, 55, 54, 50, 53, 48, 48, 48, 48, 48, 48, 48, 48, 101, 43, 48, 54, 44, 32, 32, 48, 46, 48, 48, 48, 48, 48, 48, 48, 48, 48, 48, 48, 48, 48, 48, 48, 48, 101, 43, 48, 48, 44, 32, 45, 50, 46, 53, 48, 48, 48, 48, 48, 48, 48, 48, 48, 48, 48, 48, 48, 48, 48, 101, 43, 48, 48, 60, 47, 71, 101, 111, 84, 114, 97, 110, 115, 102, 111, 114, 109, 62, 10, 32, 32, 60, 77, 101, 116, 97, 100, 97, 116, 97, 32, 100, 111, 109, 97, 105, 110, 61, 34, 73, 77, 65, 71, 69, 95, 83, 84, 82, 85, 67, 84, 85, 82, 69, 34, 62, 10, 32, 32, 32, 32, 60, 77, 68, 73, 32, 107, 101, 121, 61, 34, 68, 65, 84, 65, 95, 84, 89, 80, 69, 34, 62, 70, 108, 111, 97, 116, 51, 50, 60, 47, 77, 68, 73, 62, 10, 32, 32, 32, 32, 60, 77, 68, 73, 32, 107, 101, 121, 61, 34, 73, 78, 84, 69, 82, 76, 69, 65, 86, 69, 34, 62, 66, 65, 78, 68, 60, 47, 77, 68, 73, 62, 10, 32, 32, 32, 32, 60, 77, 68, 73, 32, 107, 101, 121, 61, 34, 78, 66, 73, 84, 83, 34, 62, 51, 50, 60, 47, 77, 68, 73, 62, 10, 32, 32, 32, 32, 60, 77, 68, 73, 32, 107, 101, 121, 61, 34, 88, 95, 83, 73, 90, 69, 34, 62, 49, 51, 56, 57, 56, 60, 47, 77, 68, 73, 62, 10, 32, 32, 32, 32, 60, 77, 68, 73, 32, 107, 101, 121, 61, 34, 89, 95, 83, 73, 90, 69, 34, 62, 55, 52, 53, 52, 60, 47, 77, 68, 73, 62, 10, 32, 32, 60, 47, 77, 101, 116, 97, 100, 97, 116, 97, 62, 10, 32, 32, 60, 77, 101, 116, 97, 100, 97, 116, 97, 62, 10, 32, 32, 32, 32, 60, 77, 68, 73, 32, 107, 101, 121, 61, 34, 65, 82, 69, 65, 95, 79, 82, 95, 80, 79, 73, 78, 84, 34, 62, 65, 114, 101, 97, 60, 47, 77, 68, 73, 62, 10, 32, 32, 32, 32, 60, 77, 68, 73, 32, 107, 101, 121, 61, 34, 68, 97, 116, 97, 84, 121, 112, 101, 34, 62, 71, 101, 110, 101, 114, 105, 99, 60, 47, 77, 68, 73, 62, 10, 32, 32, 60, 47, 77, 101, 116, 97, 100, 97, 116, 97, 62, 10, 32, 32, 60, 80, 65, 77, 82, 97, 115, 116, 101, 114, 66, 97, 110, 100, 32, 98, 97, 110, 100, 61, 34, 49, 34, 62, 10, 32, 32, 32, 32, 60, 78, 111, 68, 97, 116, 97, 86, 97, 108, 117, 101, 32, 108, 101, 95, 104, 101, 120, 95, 101, 113, 117, 105, 118, 61, 34, 48, 48, 48, 48, 48, 48, 69, 48, 70, 70, 70, 70, 69, 70, 52, 55, 34, 62, 51, 46, 52, 48, 50, 56, 50, 51, 52, 54, 54, 51, 56, 53, 50, 57, 69, 43, 51, 56, 60, 47, 78, 111, 68, 97, 116, 97, 86, 97, 108, 117, 101, 62, 10, 32, 32, 32, 32, 60, 77, 101, 116, 97, 100, 97, 116, 97, 62, 10, 32, 32, 32, 32, 32, 32, 60, 77, 68, 73, 32, 107, 101, 121, 61, 34, 82, 101, 112, 114, 101, 115, 101, 110, 116, 97, 116, 105, 111, 110, 84, 121, 112, 101, 34, 62, 65, 84, 72, 69, 77, 65, 84, 73, 67, 60, 47, 77, 68, 73, 62, 10, 32, 32, 32, 32, 32, 32, 60, 77, 68, 73, 32, 107, 101, 121, 61, 34, 83, 84, 65, 84, 73, 83, 84, 73, 67, 83, 95, 67, 79, 86, 65, 82, 73, 65, 78, 67, 69, 83, 34, 62, 50, 52, 55, 46, 54, 49, 55, 54, 51, 53, 52, 51, 49, 50, 51, 55, 49, 60, 47, 77, 68, 73, 62, 10, 32, 32, 32, 32, 32, 32, 60, 77, 68, 73, 32, 107, 101, 121, 61, 34, 83, 84, 65, 84, 73, 83, 84, 73, 67, 83, 95, 77, 65, 88, 73, 77, 85, 77, 34, 62, 49, 46, 53, 57, 57, 57, 50, 53, 50, 55, 57, 54, 49, 55, 51, 60, 47, 77, 68, 73, 62, 10, 32, 32, 32, 32, 32, 32, 60, 77, 68, 73, 32, 107, 101, 121, 61, 34, 83, 84, 65, 84, 73, 83, 84, 73, 67, 83, 95, 77, 69, 65, 78, 34, 62, 45, 52, 57, 46, 53, 50, 57, 51, 52, 57, 50, 50, 51, 50, 55, 54, 60, 47, 77, 68, 73, 62, 10, 32, 32, 32, 32, 32, 32, 60, 77, 68, 73, 32, 107, 101, 121, 61, 34, 83, 84, 65, 84, 73, 83, 84, 73, 67, 83, 95, 77, 73, 78, 73, 77, 85, 77, 34, 62, 45, 57, 52, 46, 52, 50, 51, 51, 57, 51, 50, 52, 57, 53, 49, 50, 60, 47, 77, 68, 73, 62, 10, 32, 32, 32, 32, 32, 32, 60, 77, 68, 73, 32, 107, 101, 121, 61, 34, 83, 84, 65, 84, 73, 83, 84, 73, 67, 83, 95, 83, 75, 73, 80, 70, 65, 67, 84, 79, 82, 88, 34, 62, 49, 60, 47, 77, 68, 73, 62, 10, 32, 32, 32, 32, 32, 32, 60, 77, 68, 73, 32, 107, 101, 121, 61, 34, 83, 84, 65, 84, 73, 83, 84, 73, 67, 83, 95, 83, 75, 73, 80, 70, 65, 67, 84, 79, 82, 89, 34, 62, 49, 60, 47, 77, 68, 73, 62, 10, 32, 32, 32, 32, 32, 32, 60, 77, 68, 73, 32, 107, 101, 121, 61, 34, 83, 84, 65, 84, 73, 83, 84, 73, 67, 83, 95, 83, 84, 68, 68, 69, 86, 34, 62, 49, 53, 46, 55, 51, 53, 56, 55, 48, 57, 55, 55, 56, 52, 60, 47, 77, 68, 73, 62, 10, 32, 32, 32, 32, 60, 47, 77, 101, 116, 97, 100, 97, 116, 97, 62, 10, 32, 32, 60, 47, 80, 65, 77, 82, 97, 115, 116, 101, 114, 66, 97, 110, 100, 62, 10, 60, 47, 80, 65, 77, 68, 97, 116, 97, 115, 101, 116, 62, 10)),)\n"
     ]
    }
   ],
   "source": [
    "with tiledb.open(\"s3://ausseabed-pl019-ingested-data/L3/WilsonsPromontory_MNP/WilsonsPromontory_Z_250cm_WGS84_UTMz55S.tiledb\", ctx=ctx) as ds:\n",
    "    print(ds.meta.items())"
   ]
  },
  {
   "cell_type": "code",
   "execution_count": 79,
   "id": "c23c2d4a-7791-47ae-8dfd-9a8cdb9ba04e",
   "metadata": {},
   "outputs": [],
   "source": [
    "with rasterio.Env(AWSSession(session)) as env:\n",
    "    with rasterio.open(\"s3://ausseabed-pl019-provided-data/JamesCookUniversity/0364_BeagleMarinePark_2018/Products/geotif/ga-0364_tile-s40-5e145-5_bathymetry_egm2008_2018_2m_epsg-4326_20220511.tiff\") as src:\n",
    "        out_uri = \"s3://ausseabed-pl019-ingested-data/L3/0364_BeagleMarinePark_2018/ga-0364_tile-s40-5e145-5_bathymetry_egm2008_2018_2m_epsg-4326_20220511.tiledb\"\n",
    "        #data = src.read()\n",
    "        with rasterio.open(out_uri, \"w\", count=src.count, driver=\"TileDB\", crs=src.crs, transform=src.transform, nodata=src.nodata, height=src.height, width=src.width, dtype=src.dtypes[0], compression=\"zstd\", blockxsize=512, blockysize=512, compression_level=16) as dst:\n",
    "            dst.write(src.read())"
   ]
  },
  {
   "cell_type": "code",
   "execution_count": 32,
   "id": "d1a1efc5-6fe7-4e61-9a89-8f92dcb502d9",
   "metadata": {},
   "outputs": [],
   "source": [
    "del data"
   ]
  },
  {
   "cell_type": "code",
   "execution_count": 33,
   "id": "566e4f80-0473-409e-b97a-55bb96d4d01f",
   "metadata": {},
   "outputs": [],
   "source": [
    "import gc"
   ]
  },
  {
   "cell_type": "code",
   "execution_count": 66,
   "id": "fe10db66-4583-4d83-b7ce-9796951b3be5",
   "metadata": {},
   "outputs": [
    {
     "data": {
      "text/plain": [
       "299"
      ]
     },
     "execution_count": 66,
     "metadata": {},
     "output_type": "execute_result"
    }
   ],
   "source": [
    "gc.collect()"
   ]
  },
  {
   "cell_type": "code",
   "execution_count": 80,
   "id": "90d83087-b9b9-4772-8049-e3bc94fd625e",
   "metadata": {},
   "outputs": [],
   "source": [
    "ds = tiledb.open(\"s3://ausseabed-pl019-ingested-data/L3/WilsonsPromontory_MNP/WilsonsPromontory_Z_250cm_WGS84_UTMz55S.tiledb\", ctx=ctx)"
   ]
  },
  {
   "cell_type": "code",
   "execution_count": 81,
   "id": "c3bb7c25-d6df-4aa3-89be-9db0854bebd5",
   "metadata": {},
   "outputs": [
    {
     "data": {
      "text/html": [
       "<table><tr><th>Domain</th></tr><tr><td><table><tr><th>Name</th><th>Domain</th><th>Tile</th><th>Data Type</th><th>Is Var-length</th><th>Filters</th></tr><tr><td>BANDS</td><td>(1, 1)</td><td>1</td><td>uint64</td><td>False</td><td>-</td></tr><tr><td>Y</td><td>(0, 7679)</td><td>512</td><td>uint64</td><td>False</td><td>-</td></tr><tr><td>X</td><td>(0, 14335)</td><td>512</td><td>uint64</td><td>False</td><td>-</td></tr></table></td></tr><tr><th>Attributes</th></tr><tr><td><table><tr><th>Name</th><th>Data Type</th><th>Is Var-Len</th><th>Is Nullable</th><th>Filters</th></tr><tr><td>TDB_VALUES</td><td>float32</td><td>False</td><td>False</td><td><section>\n",
       "<table>\n",
       "<tr>\n",
       "<th>Name</th>\n",
       "<th>Option</th>\n",
       "<th>Level</th>\n",
       "</tr>\n",
       "<tr>\n",
       "<td>ZstdFilter</td>\n",
       "<td>level</td><td>16</td></tr>\n",
       "</table>\n",
       "</section>\n",
       "</td></tr></table></td></tr><tr><th>Cell Order</th></tr><tr><td>row-major</td></tr><tr><th>Tile Order</th></tr><tr><td>row-major</td></tr><tr><th>Capacity</th></tr><tr><td>10000</td></tr><tr><th>Sparse</th></tr><tr><td>False</td></tr></table>"
      ],
      "text/plain": [
       "ArraySchema(\n",
       "  domain=Domain(*[\n",
       "    Dim(name='BANDS', domain=(1, 1), tile=1, dtype='uint64'),\n",
       "    Dim(name='Y', domain=(0, 7679), tile=512, dtype='uint64'),\n",
       "    Dim(name='X', domain=(0, 14335), tile=512, dtype='uint64'),\n",
       "  ]),\n",
       "  attrs=[\n",
       "    Attr(name='TDB_VALUES', dtype='float32', var=False, nullable=False, filters=FilterList([ZstdFilter(level=16), ])),\n",
       "  ],\n",
       "  cell_order='row-major',\n",
       "  tile_order='row-major',\n",
       "  capacity=10000,\n",
       "  sparse=False,\n",
       ")"
      ]
     },
     "execution_count": 81,
     "metadata": {},
     "output_type": "execute_result"
    }
   ],
   "source": [
    "ds.schema"
   ]
  },
  {
   "cell_type": "code",
   "execution_count": 83,
   "id": "114c61c0-ff90-4dd6-97af-7640d18fc25f",
   "metadata": {},
   "outputs": [
    {
     "data": {
      "text/plain": [
       "['_gdal']"
      ]
     },
     "execution_count": 83,
     "metadata": {},
     "output_type": "execute_result"
    }
   ],
   "source": [
    "ds.meta.keys()"
   ]
  },
  {
   "cell_type": "code",
   "execution_count": 84,
   "id": "3e0b9c0e-5955-4269-bf14-6b3e1738c528",
   "metadata": {},
   "outputs": [],
   "source": [
    "md = ds.meta[\"_gdal\"]"
   ]
  },
  {
   "cell_type": "code",
   "execution_count": 88,
   "id": "e7db7923-765f-445c-9307-6ea5f252d053",
   "metadata": {},
   "outputs": [
    {
     "data": {
      "text/plain": [
       "'0b111100'"
      ]
     },
     "execution_count": 88,
     "metadata": {},
     "output_type": "execute_result"
    }
   ],
   "source": [
    "str(bin(md[0]))"
   ]
  },
  {
   "cell_type": "code",
   "execution_count": 98,
   "id": "3817cfc5-8461-48e4-89cb-d59d49065168",
   "metadata": {},
   "outputs": [
    {
     "data": {
      "text/plain": [
       "'0x50'"
      ]
     },
     "execution_count": 98,
     "metadata": {},
     "output_type": "execute_result"
    }
   ],
   "source": [
    "hex(md[1])"
   ]
  },
  {
   "cell_type": "code",
   "execution_count": 91,
   "id": "52716ca2-e89b-49d9-8004-57fc2cbd644d",
   "metadata": {},
   "outputs": [],
   "source": [
    "hex_string = \"\".join([hex(i) for i in md])"
   ]
  },
  {
   "cell_type": "code",
   "execution_count": 92,
   "id": "15ffdceb-0be6-4b22-852f-dc7ca1a7e259",
   "metadata": {},
   "outputs": [],
   "source": [
    "import xml.etree.ElementTree as ET"
   ]
  },
  {
   "cell_type": "code",
   "execution_count": 129,
   "id": "d7a41c63-7e58-4fc3-977f-eab9271339e3",
   "metadata": {},
   "outputs": [
    {
     "data": {
      "text/plain": [
       "b'<PAMDataset>\\n  <SRS dataAxisToSRSAxisMapping=\"1,2\">PROJCS[\"WGS_1984_UTM_Zone_55S\",GEOGCS[\"WGS 84\",DATUM[\"WGS_1984\",SPHEROID[\"WGS 84\",6378137,298.257223563,AUTHORITY[\"EPSG\",\"7030\"]],AUTHORITY[\"EPSG\",\"6326\"]],PRIMEM[\"Greenwich\",0],UNIT[\"degree\",0.0174532925199433,AUTHORITY[\"EPSG\",\"9122\"]],AUTHORITY[\"EPSG\",\"4326\"]],PROJECTION[\"Transverse_Mercator\"],PARAMETER[\"latitude_of_origin\",0],PARAMETER[\"central_meridian\",147],PARAMETER[\"scale_factor\",0.9996],PARAMETER[\"false_easting\",500000],PARAMETER[\"false_northing\",10000000],UNIT[\"metre\",1,AUTHORITY[\"EPSG\",\"9001\"]],AXIS[\"Easting\",EAST],AXIS[\"Northing\",NORTH],AUTHORITY[\"EPSG\",\"32755\"]]</SRS>\\n  <GeoTransform>  4.2591875000000000e+05,  2.5000000000000000e+00,  0.0000000000000000e+00,  5.6802762500000000e+06,  0.0000000000000000e+00, -2.5000000000000000e+00</GeoTransform>\\n  <Metadata domain=\"IMAGE_STRUCTURE\">\\n    <MDI key=\"DATA_TYPE\">Float32</MDI>\\n    <MDI key=\"INTERLEAVE\">BAND</MDI>\\n    <MDI key=\"NBITS\">32</MDI>\\n    <MDI key=\"X_SIZE\">13898</MDI>\\n    <MDI key=\"Y_SIZE\">7454</MDI>\\n  </Metadata>\\n  <Metadata>\\n    <MDI key=\"AREA_OR_POINT\">Area</MDI>\\n    <MDI key=\"DataType\">Generic</MDI>\\n  </Metadata>\\n  <PAMRasterBand band=\"1\">\\n    <NoDataValue le_hex_equiv=\"000000E0FFFFEF47\">3.40282346638529E+38</NoDataValue>\\n    <Metadata>\\n      <MDI key=\"RepresentationType\">ATHEMATIC</MDI>\\n      <MDI key=\"STATISTICS_COVARIANCES\">247.6176354312371</MDI>\\n      <MDI key=\"STATISTICS_MAXIMUM\">1.5999252796173</MDI>\\n      <MDI key=\"STATISTICS_MEAN\">-49.529349223276</MDI>\\n      <MDI key=\"STATISTICS_MINIMUM\">-94.423393249512</MDI>\\n      <MDI key=\"STATISTICS_SKIPFACTORX\">1</MDI>\\n      <MDI key=\"STATISTICS_SKIPFACTORY\">1</MDI>\\n      <MDI key=\"STATISTICS_STDDEV\">15.73587097784</MDI>\\n    </Metadata>\\n  </PAMRasterBand>\\n</PAMDataset>\\n'"
      ]
     },
     "execution_count": 129,
     "metadata": {},
     "output_type": "execute_result"
    }
   ],
   "source": [
    "numpy.bytes_(md)"
   ]
  },
  {
   "cell_type": "code",
   "execution_count": 152,
   "id": "6f2764a0-205b-4d95-8873-78a0b62cbc61",
   "metadata": {},
   "outputs": [
    {
     "data": {
      "text/plain": [
       "'<PAMDataset>\\n  <SRS dataAxisToSRSAxisMapping=\"1,2\">PROJCS[\"WGS_1984_UTM_Zone_55S\",GEOGCS[\"WGS 84\",DATUM[\"WGS_1984\",SPHEROID[\"WGS 84\",6378137,298.257223563,AUTHORITY[\"EPSG\",\"7030\"]],AUTHORITY[\"EPSG\",\"6326\"]],PRIMEM[\"Greenwich\",0],UNIT[\"degree\",0.0174532925199433,AUTHORITY[\"EPSG\",\"9122\"]],AUTHORITY[\"EPSG\",\"4326\"]],PROJECTION[\"Transverse_Mercator\"],PARAMETER[\"latitude_of_origin\",0],PARAMETER[\"central_meridian\",147],PARAMETER[\"scale_factor\",0.9996],PARAMETER[\"false_easting\",500000],PARAMETER[\"false_northing\",10000000],UNIT[\"metre\",1,AUTHORITY[\"EPSG\",\"9001\"]],AXIS[\"Easting\",EAST],AXIS[\"Northing\",NORTH],AUTHORITY[\"EPSG\",\"32755\"]]</SRS>\\n  <GeoTransform>  4.2591875000000000e+05,  2.5000000000000000e+00,  0.0000000000000000e+00,  5.6802762500000000e+06,  0.0000000000000000e+00, -2.5000000000000000e+00</GeoTransform>\\n  <Metadata domain=\"IMAGE_STRUCTURE\">\\n    <MDI key=\"DATA_TYPE\">Float32</MDI>\\n    <MDI key=\"INTERLEAVE\">BAND</MDI>\\n    <MDI key=\"NBITS\">32</MDI>\\n    <MDI key=\"X_SIZE\">13898</MDI>\\n    <MDI key=\"Y_SIZE\">7454</MDI>\\n  </Metadata>\\n  <Metadata>\\n    <MDI key=\"AREA_OR_POINT\">Area</MDI>\\n    <MDI key=\"DataType\">Generic</MDI>\\n  </Metadata>\\n  <PAMRasterBand band=\"1\">\\n    <NoDataValue le_hex_equiv=\"000000E0FFFFEF47\">3.40282346638529E+38</NoDataValue>\\n    <Metadata>\\n      <MDI key=\"RepresentationType\">ATHEMATIC</MDI>\\n      <MDI key=\"STATISTICS_COVARIANCES\">247.6176354312371</MDI>\\n      <MDI key=\"STATISTICS_MAXIMUM\">1.5999252796173</MDI>\\n      <MDI key=\"STATISTICS_MEAN\">-49.529349223276</MDI>\\n      <MDI key=\"STATISTICS_MINIMUM\">-94.423393249512</MDI>\\n      <MDI key=\"STATISTICS_SKIPFACTORX\">1</MDI>\\n      <MDI key=\"STATISTICS_SKIPFACTORY\">1</MDI>\\n      <MDI key=\"STATISTICS_STDDEV\">15.73587097784</MDI>\\n    </Metadata>\\n  </PAMRasterBand>\\n</PAMDataset>\\n'"
      ]
     },
     "execution_count": 152,
     "metadata": {},
     "output_type": "execute_result"
    }
   ],
   "source": [
    "numpy.bytes_(md).decode(\"utf-8\")"
   ]
  },
  {
   "cell_type": "code",
   "execution_count": 130,
   "id": "5a6bc22f-1db9-4b32-89cd-6cf0e9381300",
   "metadata": {},
   "outputs": [],
   "source": [
    "root = ET.fromstring(numpy.bytes_(md))"
   ]
  },
  {
   "cell_type": "code",
   "execution_count": 133,
   "id": "5e406b38-75f4-4701-b383-932b1919f65c",
   "metadata": {},
   "outputs": [
    {
     "name": "stdout",
     "output_type": "stream",
     "text": [
      "SRS {'dataAxisToSRSAxisMapping': '1,2'}\n",
      "GeoTransform {}\n",
      "Metadata {'domain': 'IMAGE_STRUCTURE'}\n",
      "Metadata {}\n",
      "PAMRasterBand {'band': '1'}\n"
     ]
    }
   ],
   "source": [
    "for child in root:\n",
    "    print(child.tag, child.attrib)"
   ]
  },
  {
   "cell_type": "code",
   "execution_count": 135,
   "id": "c8e8cba3-a278-4e95-b41e-97af960e7d6c",
   "metadata": {},
   "outputs": [],
   "source": [
    "el = ET.SubElement(root, 'GeoTransform')"
   ]
  },
  {
   "cell_type": "code",
   "execution_count": 138,
   "id": "fd390e59-989d-4a94-933e-a637e34c4b37",
   "metadata": {},
   "outputs": [
    {
     "data": {
      "text/plain": [
       "<Element 'GeoTransform' at 0x7f17fb361ad0>"
      ]
     },
     "execution_count": 138,
     "metadata": {},
     "output_type": "execute_result"
    }
   ],
   "source": [
    "el"
   ]
  },
  {
   "cell_type": "code",
   "execution_count": 140,
   "id": "cb60b6b1-3e46-4ca3-91c6-432c9da68178",
   "metadata": {},
   "outputs": [
    {
     "data": {
      "text/plain": [
       "'  4.2591875000000000e+05,  2.5000000000000000e+00,  0.0000000000000000e+00,  5.6802762500000000e+06,  0.0000000000000000e+00, -2.5000000000000000e+00'"
      ]
     },
     "execution_count": 140,
     "metadata": {},
     "output_type": "execute_result"
    }
   ],
   "source": [
    "root.find('GeoTransform').text"
   ]
  },
  {
   "cell_type": "code",
   "execution_count": 143,
   "id": "0b76d8ee-67ba-4dda-8367-2bd31ed4b215",
   "metadata": {},
   "outputs": [
    {
     "data": {
      "text/plain": [
       "[425918.75, 2.5, 0.0, 5680276.25, 0.0, -2.5]"
      ]
     },
     "execution_count": 143,
     "metadata": {},
     "output_type": "execute_result"
    }
   ],
   "source": [
    "[float(f) for f in root.find('GeoTransform').text.split(',')]"
   ]
  },
  {
   "cell_type": "code",
   "execution_count": 144,
   "id": "d523aa03-94fa-4be5-aeb0-d6dd3c9acca7",
   "metadata": {},
   "outputs": [
    {
     "data": {
      "text/plain": [
       "'PROJCS[\"WGS_1984_UTM_Zone_55S\",GEOGCS[\"WGS 84\",DATUM[\"WGS_1984\",SPHEROID[\"WGS 84\",6378137,298.257223563,AUTHORITY[\"EPSG\",\"7030\"]],AUTHORITY[\"EPSG\",\"6326\"]],PRIMEM[\"Greenwich\",0],UNIT[\"degree\",0.0174532925199433,AUTHORITY[\"EPSG\",\"9122\"]],AUTHORITY[\"EPSG\",\"4326\"]],PROJECTION[\"Transverse_Mercator\"],PARAMETER[\"latitude_of_origin\",0],PARAMETER[\"central_meridian\",147],PARAMETER[\"scale_factor\",0.9996],PARAMETER[\"false_easting\",500000],PARAMETER[\"false_northing\",10000000],UNIT[\"metre\",1,AUTHORITY[\"EPSG\",\"9001\"]],AXIS[\"Easting\",EAST],AXIS[\"Northing\",NORTH],AUTHORITY[\"EPSG\",\"32755\"]]'"
      ]
     },
     "execution_count": 144,
     "metadata": {},
     "output_type": "execute_result"
    }
   ],
   "source": [
    "root.find('SRS').text"
   ]
  },
  {
   "cell_type": "code",
   "execution_count": 149,
   "id": "f666f2c5-6dbc-4e66-9c40-51525f3f402a",
   "metadata": {},
   "outputs": [
    {
     "data": {
      "text/plain": [
       "['\\n    ', '\\n    ']"
      ]
     },
     "execution_count": 149,
     "metadata": {},
     "output_type": "execute_result"
    }
   ],
   "source": [
    "[i.text for i in root.findall(\"Metadata\")]"
   ]
  },
  {
   "cell_type": "code",
   "execution_count": 153,
   "id": "a74d50d3-fc2e-42bd-8a0f-1c975c98e360",
   "metadata": {},
   "outputs": [],
   "source": [
    "e = root.findall(\"Metadata\")[0]"
   ]
  },
  {
   "cell_type": "code",
   "execution_count": 157,
   "id": "27b794d4-e50d-4c4b-9f8f-5eeface9f086",
   "metadata": {},
   "outputs": [],
   "source": [
    "iterator = e.getiterator()"
   ]
  },
  {
   "cell_type": "code",
   "execution_count": 158,
   "id": "7dd3f303-eb61-4876-be69-964e8b8b8e88",
   "metadata": {},
   "outputs": [
    {
     "data": {
      "text/plain": [
       "[('Metadata', {'domain': 'IMAGE_STRUCTURE'}, '\\n    '),\n",
       " ('MDI', {'key': 'DATA_TYPE'}, 'Float32'),\n",
       " ('MDI', {'key': 'INTERLEAVE'}, 'BAND'),\n",
       " ('MDI', {'key': 'NBITS'}, '32'),\n",
       " ('MDI', {'key': 'X_SIZE'}, '13898'),\n",
       " ('MDI', {'key': 'Y_SIZE'}, '7454')]"
      ]
     },
     "execution_count": 158,
     "metadata": {},
     "output_type": "execute_result"
    }
   ],
   "source": [
    "[(i.tag, i.attrib, i.text) for i in iterator]"
   ]
  },
  {
   "cell_type": "code",
   "execution_count": 159,
   "id": "83351332-a1f5-4bf6-a180-164673bbf8d2",
   "metadata": {},
   "outputs": [],
   "source": [
    "ee = root.findall(\"Metadata\")[1]"
   ]
  },
  {
   "cell_type": "code",
   "execution_count": 160,
   "id": "12f918fd-a808-4a11-a4be-c5012e4a1bc5",
   "metadata": {},
   "outputs": [],
   "source": [
    "iterator2 = ee.getiterator()"
   ]
  },
  {
   "cell_type": "code",
   "execution_count": 161,
   "id": "a96db05e-c7bc-427b-bbec-fd620643b3b0",
   "metadata": {},
   "outputs": [
    {
     "data": {
      "text/plain": [
       "[('Metadata', {}, '\\n    '),\n",
       " ('MDI', {'key': 'AREA_OR_POINT'}, 'Area'),\n",
       " ('MDI', {'key': 'DataType'}, 'Generic')]"
      ]
     },
     "execution_count": 161,
     "metadata": {},
     "output_type": "execute_result"
    }
   ],
   "source": [
    "[(i.tag, i.attrib, i.text) for i in iterator2]"
   ]
  },
  {
   "cell_type": "code",
   "execution_count": null,
   "id": "00e757df-3f34-417e-bc4e-f6941ff1da74",
   "metadata": {},
   "outputs": [],
   "source": []
  }
 ],
 "metadata": {
  "kernelspec": {
   "display_name": "Python 3",
   "language": "python",
   "name": "python3"
  },
  "language_info": {
   "codemirror_mode": {
    "name": "ipython",
    "version": 3
   },
   "file_extension": ".py",
   "mimetype": "text/x-python",
   "name": "python",
   "nbconvert_exporter": "python",
   "pygments_lexer": "ipython3",
   "version": "3.10.5"
  }
 },
 "nbformat": 4,
 "nbformat_minor": 5
}
