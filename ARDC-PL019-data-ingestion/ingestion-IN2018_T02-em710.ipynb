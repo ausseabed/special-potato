{
 "cells": [
  {
   "cell_type": "code",
   "execution_count": 1,
   "id": "ff426cfe-4e54-4b86-9e3e-7bfdeaae6068",
   "metadata": {},
   "outputs": [],
   "source": [
    "import boto3\n",
    "import io\n",
    "import urllib\n",
    "import s3fs\n",
    "import json\n",
    "from pathlib import Path\n",
    "import attr\n",
    "import numpy\n",
    "import tiledb\n",
    "import tiledb.cloud\n",
    "from tiledb.cloud.compute import DelayedArrayUDF, Delayed\n",
    "import pandas\n",
    "import geopandas\n",
    "import fiona\n",
    "from fiona.session import AWSSession\n",
    "import pystac\n",
    "from scipy.stats import skew, kurtosis\n",
    "import uuid\n",
    "from numba import jit\n",
    "import gc"
   ]
  },
  {
   "cell_type": "code",
   "execution_count": 2,
   "id": "55906efe-66b4-4edd-b1b2-acf8622fcb49",
   "metadata": {},
   "outputs": [],
   "source": [
    "import pystac\n",
    "from pystac.extensions.projection import ProjectionExtension\n",
    "from pystac.extensions.pointcloud import (\n",
    "PointcloudExtension,\n",
    "SchemaType,\n",
    "PhenomenologyType,\n",
    "Schema,\n",
    "Statistic,\n",
    ")"
   ]
  },
  {
   "cell_type": "code",
   "execution_count": 3,
   "id": "995ae892-7c26-4006-b425-00aedb2bec1b",
   "metadata": {},
   "outputs": [],
   "source": [
    "from reap_gsf import reap, data_model\n",
    "from bathy_datasets import rhealpix, storage, geometry, asb_spreadsheet,stac_metadata"
   ]
  },
  {
   "cell_type": "code",
   "execution_count": 4,
   "id": "4b98e8ee-f839-4a6e-9f6a-cdaccbea39b5",
   "metadata": {},
   "outputs": [],
   "source": [
    "session = boto3.Session()\n",
    "creds = session.get_credentials()"
   ]
  },
  {
   "cell_type": "code",
   "execution_count": 5,
   "id": "212811cf-142a-4cf7-a978-7cc026250696",
   "metadata": {},
   "outputs": [],
   "source": [
    "fs = s3fs.S3FileSystem(key=creds.access_key, secret=creds.secret_key, use_listings_cache=False)"
   ]
  },
  {
   "cell_type": "code",
   "execution_count": 6,
   "id": "f5225308-91f7-4b68-a0b4-75597341c973",
   "metadata": {},
   "outputs": [],
   "source": [
    "uid = uuid.uuid4()"
   ]
  },
  {
   "cell_type": "code",
   "execution_count": 7,
   "id": "248a4b7d-96c8-4158-a0e1-7f98df76e724",
   "metadata": {},
   "outputs": [],
   "source": [
    "survey_uri = \"s3://ausseabed-pl019-provided-data/CSIRO/IN2018_T02/GSF/em710/\"\n",
    "outdir_uri = \"s3://ausseabed-pl019-ingested-data/L2/IN2018_T02-em710/\"\n",
    "asb_metadata_uri = \"s3://ausseabed-pl019-provided-data/CSIRO/IN2018_T02/GSF/em710/IN2018_T02_EM710.json\"\n",
    "survey_info_uri = \"s3://ausseabed-pl019-provided-data/CSIRO/IN2018_T02/GSF/em710/schema-info.json\""
   ]
  },
  {
   "cell_type": "code",
   "execution_count": 8,
   "id": "fcdf8628-92e9-4864-87cd-485d6ff1f213",
   "metadata": {},
   "outputs": [],
   "source": [
    "base_prefix = \"ga_ausseabed\"\n",
    "array_name = f\"{base_prefix}_{uid}_bathymetry\"\n",
    "array_uri = f\"{outdir_uri}{array_name}.tiledb\"\n",
    "tiledb_array_uri = f\"tiledb://sixy6e/{array_name}\"\n",
    "soundings_cell_density_uri = f\"{outdir_uri}{base_prefix}_{uid}_soundings-cell-density-resolution-12.geojson\"\n",
    "coverage_uri = f\"{outdir_uri}{base_prefix}_{uid}_coverage.geojson\"\n",
    "stac_md_uri = f\"{outdir_uri}{base_prefix}_{uid}_stac-metadata.geojson\""
   ]
  },
  {
   "cell_type": "code",
   "execution_count": 9,
   "id": "1478c1e2-70f9-4519-afb2-c42076d7c613",
   "metadata": {},
   "outputs": [],
   "source": [
    "soundings_cell_density_uri_15 = f\"{outdir_uri}{base_prefix}_{uid}_soundings-cell-density-resolution-15.geojson\"\n",
    "soundings_cell_density_array_uri_15 = f\"{outdir_uri}{base_prefix}_{uid}_soundings-cell-density-resolution-15.tiledb\"\n",
    "soundings_cell_density_sparse_array_uri_15 = f\"{outdir_uri}{base_prefix}_{uid}_soundings-cell-density-resolution-15-sparse-array.tiledb\""
   ]
  },
  {
   "cell_type": "code",
   "execution_count": 10,
   "id": "d18782f0-df64-48c3-9826-2030dfaa87a8",
   "metadata": {},
   "outputs": [],
   "source": [
    "res12_out_uri_sparse = f\"{outdir_uri}{base_prefix}_{uid}_soundings-cell-density-resolution-12-sparse-array.tiledb\"\n",
    "res12_out_uri_dense = f\"{outdir_uri}{base_prefix}_{uid}_soundings-cell-density-resolution-12-dense-array.tiledb\""
   ]
  },
  {
   "cell_type": "code",
   "execution_count": 11,
   "id": "f3fd295b-4c7c-463b-be50-7b4fd75e988e",
   "metadata": {},
   "outputs": [],
   "source": [
    "tmpdir = f\"{outdir_uri}{base_prefix}_{uid}_tmp/\""
   ]
  },
  {
   "cell_type": "code",
   "execution_count": 12,
   "id": "4914f8bf-6c3c-4155-a57d-a808101d9b07",
   "metadata": {},
   "outputs": [
    {
     "data": {
      "text/plain": [
       "'s3://ausseabed-pl019-ingested-data/L2/IN2015_T01-em122/ga_ausseabed_1fa2a13d-4985-4a5e-a175-a0de5305aedb_tmp/'"
      ]
     },
     "execution_count": 12,
     "metadata": {},
     "output_type": "execute_result"
    }
   ],
   "source": [
    "tmpdir"
   ]
  },
  {
   "cell_type": "code",
   "execution_count": 13,
   "id": "cf9c1e24-ae72-4ef8-bb40-16b9d4116000",
   "metadata": {},
   "outputs": [
    {
     "data": {
      "text/plain": [
       "'s3://ausseabed-pl019-ingested-data/L2/IN2015_T01-em122/ga_ausseabed_1fa2a13d-4985-4a5e-a175-a0de5305aedb_bathymetry.tiledb'"
      ]
     },
     "execution_count": 13,
     "metadata": {},
     "output_type": "execute_result"
    }
   ],
   "source": [
    "array_uri"
   ]
  },
  {
   "cell_type": "code",
   "execution_count": 14,
   "id": "df2776e2-b7db-4674-8d23-27bb1374dfe1",
   "metadata": {},
   "outputs": [],
   "source": [
    "def get_sonar_metadata(json_uri):\n",
    "    \"\"\"\n",
    "    Temporary func for pulling metadata from a sample GSF file.\n",
    "    \"\"\"\n",
    "    with fs.open(json_uri) as src:\n",
    "        md = json.loads(src.read())\n",
    "    stream_task = Delayed(\"sixy6e/retrieve_stream\", name=\"retrieve\")(md[\"gsf_uri\"], creds.access_key, creds.secret_key)\n",
    "    dataframe_task = Delayed(\"sixy6e/decode_gsf\", name=\"decode\", image_name=\"3.7-geo\")(stream_task, slice(10))\n",
    "    df, finfo = dataframe_task.compute()\n",
    "    sonar_metadata = finfo[3].record(0).read(stream_task.result()[0])\n",
    "    history = attr.asdict(finfo[6].record(0).read(stream_task.result()[0]))\n",
    "    for key, value in history.items():\n",
    "        sonar_metadata[key] = value\n",
    "    return sonar_metadata\n",
    "\n",
    "\n",
    "def reduce_region_codes_timestamps(results):\n",
    "    \"\"\"\n",
    "    The reduce part of the map-reduce construct for handling the region_code counts.\n",
    "    Combine all the region_code counts then summarise the results.\n",
    "    \"\"\"\n",
    "    region_codes = [i[0] for i in results]\n",
    "    timestamps = [i[1] for i in results]\n",
    "    df = pandas.concat(region_codes)\n",
    "    cell_count = df.groupby([\"region_code\"])[\"count\"].agg(\"sum\").to_frame(\"count\").reset_index()\n",
    "    \n",
    "    timestamps_df = pandas.DataFrame(\n",
    "        {\n",
    "            \"start_datetime\": [i[0] for i in timestamps],\n",
    "            \"end_datetime\": [i[1] for i in timestamps],\n",
    "        }\n",
    "    )\n",
    "\n",
    "    start_end_timestamp = [\n",
    "        timestamps_df.start_datetime.min().to_pydatetime(),\n",
    "        timestamps_df.end_datetime.max().to_pydatetime(),\n",
    "    ]\n",
    "\n",
    "    return cell_count, start_end_timestamp\n",
    "\n",
    "\n",
    "def reduce_region_codes(region_codes):\n",
    "    \"\"\"\n",
    "    The reduce part of the map-reduce construct for handling the region_code counts.\n",
    "    Combine all the region_code counts then summarise the results.\n",
    "    \"\"\"\n",
    "    df = pandas.concat(region_codes)\n",
    "    cell_count = df.groupby([\"region_code\"])[\"count\"].agg(\"sum\").to_frame(\"count\").reset_index()\n",
    "\n",
    "    return cell_count\n",
    "\n",
    "\n",
    "def reduce_timestamps(timestamps):\n",
    "    \"\"\"\n",
    "    The reduce part of the map-reduce construct for handling the region_code counts.\n",
    "    Combine all the region_code counts then summarise the results.\n",
    "    \"\"\"\n",
    "    timestamps_df = pandas.DataFrame(\n",
    "        {\n",
    "            \"start_datetime\": [i[0] for i in timestamps],\n",
    "            \"end_datetime\": [i[1] for i in timestamps],\n",
    "        }\n",
    "    )\n",
    "\n",
    "    start_end_timestamp = [\n",
    "        timestamps_df.start_datetime.min().to_pydatetime(),\n",
    "        timestamps_df.end_datetime.max().to_pydatetime(),\n",
    "    ]\n",
    "\n",
    "    return start_end_timestamp\n",
    "\n",
    "\n",
    "def gather_stats(results):\n",
    "    \"\"\"\n",
    "    Gather the results from all the stats tasks and\n",
    "    combine into a single dict.\n",
    "    \"\"\"\n",
    "    data = {}\n",
    "    for item in results:\n",
    "        for key in item:\n",
    "            data[key] = item[key]\n",
    "    return data"
   ]
  },
  {
   "cell_type": "code",
   "execution_count": 15,
   "id": "37d88186-afd5-4a2e-bd2b-f9a3e154d79b",
   "metadata": {},
   "outputs": [],
   "source": [
    "def retrieve_stream(uri, access_key, skey):\n",
    "    \"\"\"\n",
    "    Not testing the creation of the stream object at this point.\n",
    "    But for testing, we also need to keep the download to occur only\n",
    "    once.\n",
    "    \"\"\"\n",
    "    session = boto3.Session(aws_access_key_id=access_key, aws_secret_access_key=skey)\n",
    "    dev_resource = session.resource(\"s3\")\n",
    "    uri = urllib.parse.urlparse(uri)\n",
    "    obj = dev_resource.Object(bucket_name=uri.netloc, key=uri.path[1:])\n",
    "    stream = io.BytesIO(obj.get()[\"Body\"].read())\n",
    "    return stream, obj.content_length\n",
    "\n",
    "\n",
    "def append_ping_dataframe(dataframe, array_uri, access_key, skey):\n",
    "    \"\"\"Append the ping dataframe read from a GSF file.\"\"\"\n",
    "    config = tiledb.Config(\n",
    "        {\"vfs.s3.aws_access_key_id\": access_key, \"vfs.s3.aws_secret_access_key\": skey}\n",
    "    )\n",
    "    ctx = tiledb.Ctx(config=config)\n",
    "    kwargs = {\n",
    "        \"mode\": \"append\",\n",
    "        \"sparse\": True,\n",
    "        \"ctx\": ctx,\n",
    "    }\n",
    "\n",
    "    tiledb.dataframe_.from_pandas(array_uri, dataframe, **kwargs)\n",
    "\n",
    "\n",
    "def ingest_gsf_slice(\n",
    "    file_record,\n",
    "    stream,\n",
    "    access_key,\n",
    "    skey,\n",
    "    array_uri,\n",
    "    idx=slice(None),\n",
    "    cell_frequency=False,\n",
    "):\n",
    "    \"\"\"\n",
    "    General steps:\n",
    "    Extract the ping data.\n",
    "    Calculate the rHEALPIX code.\n",
    "    Summarise the rHEALPIX codes (frequency count).\n",
    "    Get timestamps of first and last pings.\n",
    "    Write the ping data to a TileDB array.\n",
    "    res = [df.groupby([\"key\"])[\"key\"].agg(\"count\").to_frame(\"count\").reset_index() for i in range(3)]\n",
    "    df2 = pandas.concat(res)\n",
    "    df2.groupby([\"key\"])[\"count\"].agg(\"sum\")\n",
    "    \"\"\"\n",
    "    swath_pings = data_model.SwathBathymetryPing.from_records(file_record, stream, idx)\n",
    "    swath_pings.ping_dataframe[\"region_code\"] = rhealpix.rhealpix_code(\n",
    "        swath_pings.ping_dataframe.X, swath_pings.ping_dataframe.Y, 15\n",
    "    )\n",
    "\n",
    "    # frequency of dggs cells\n",
    "    if cell_frequency:\n",
    "        cell_count = (\n",
    "            swath_pings.ping_dataframe.groupby([\"region_code\"])[\"region_code\"]\n",
    "            .agg(\"count\")\n",
    "            .to_frame(\"count\")\n",
    "            .reset_index()\n",
    "        )\n",
    "\n",
    "        start_end_time = [\n",
    "            swath_pings.ping_dataframe.timestamp.min().to_pydatetime(),\n",
    "            swath_pings.ping_dataframe.timestamp.max().to_pydatetime(),\n",
    "        ]\n",
    "\n",
    "    else:\n",
    "        cell_count = None\n",
    "        start_end_time = None\n",
    "\n",
    "    # write to tiledb array\n",
    "    append_ping_dataframe(swath_pings.ping_dataframe, array_uri, access_key, skey)\n",
    "\n",
    "    return cell_count, start_end_time\n",
    "\n",
    "\n",
    "def ingest_gsf_slices(gsf_uri, access_key, skey, array_uri, slices, cell_frequency=False):\n",
    "    \"\"\"\n",
    "    Ingest a list of ping slices from a given GSF file.\n",
    "    \"\"\"\n",
    "    stream, stream_length = retrieve_stream(gsf_uri, access_key, skey)\n",
    "    finfo = reap.file_info(stream, stream_length)\n",
    "    ping_file_record = finfo[1]\n",
    "\n",
    "    cell_counts = []\n",
    "    start_end_timestamps = []\n",
    "\n",
    "    for idx in slices:\n",
    "        count, start_end_time = ingest_gsf_slice(\n",
    "            ping_file_record, stream, access_key, skey, array_uri, idx, cell_frequency\n",
    "        )\n",
    "        cell_counts.append(count)\n",
    "        start_end_timestamps.append(start_end_time)\n",
    "\n",
    "    if cell_frequency:\n",
    "        # aggreate the ping slices and calculate the cell counts\n",
    "        concatenated = pandas.concat(cell_counts)\n",
    "        cell_count = (\n",
    "            concatenated.groupby([\"region_code\"])[\"count\"]\n",
    "            .agg(\"sum\")\n",
    "            .to_frame(\"count\")\n",
    "            .reset_index()\n",
    "        )\n",
    "\n",
    "        # aggregate the min and max timestamps, then find the min max timestamps\n",
    "        timestamps_df = pandas.DataFrame(\n",
    "            {\n",
    "                \"start_datetime\": [i[0] for i in start_end_timestamps],\n",
    "                \"end_datetime\": [i[1] for i in start_end_timestamps],\n",
    "            }\n",
    "        )\n",
    "\n",
    "        start_end_timestamp = [\n",
    "            timestamps_df.start_datetime.min().to_pydatetime(),\n",
    "            timestamps_df.end_datetime.max().to_pydatetime(),\n",
    "        ]\n",
    "\n",
    "    else:\n",
    "        cell_count = None\n",
    "        start_end_timestamp = None\n",
    "\n",
    "    return cell_count, start_end_timestamp"
   ]
  },
  {
   "cell_type": "code",
   "execution_count": 16,
   "id": "9be764a7-18c4-4429-93bb-42a46477838d",
   "metadata": {},
   "outputs": [],
   "source": [
    "def dummy_reducer(results):\n",
    "    return len(results)\n",
    "\n",
    "def scatter(iterable, n):\n",
    "    \"\"\"\n",
    "    Evenly scatters an interable by `n` blocks.\n",
    "    Sourced from:\n",
    "    http://stackoverflow.com/questions/2130016/splitting-a-list-of-arbitrary-size-into-only-roughly-n-equal-parts\n",
    "\n",
    "    :param iterable:\n",
    "        An iterable or preferably a 1D list or array.\n",
    "\n",
    "    :param n:\n",
    "        An integer indicating how many blocks to create.\n",
    "\n",
    "    :return:\n",
    "        A `list` consisting of `n` blocks of roughly equal size, each\n",
    "        containing elements from `iterable`.\n",
    "    \"\"\"\n",
    "\n",
    "    q, r = len(iterable) // n, len(iterable) % n\n",
    "    res = (iterable[i * q + min(i, r) : (i + 1) * q + min(i + 1, r)] for i in range(n))\n",
    "    return list(res)"
   ]
  },
  {
   "cell_type": "code",
   "execution_count": null,
   "id": "4d3a2f7a",
   "metadata": {},
   "outputs": [],
   "source": [
    "def cell_frequency(array_uri, cell_frequency_uri, access_key, skey):\n",
    "    \"\"\"\n",
    "    Calculate the frequency distirbution of each region code (cell count).\n",
    "    Result is written to a tiledb array.\n",
    "    \"\"\"\n",
    "    config = tiledb.Config(\n",
    "        {\"vfs.s3.aws_access_key_id\": access_key, \"vfs.s3.aws_secret_access_key\": skey}\n",
    "    )\n",
    "    ctx = tiledb.Ctx(config=config)\n",
    "    kwargs = {\n",
    "        \"sparse\": False,\n",
    "        \"column_types\": {\n",
    "            \"region_code\": str,\n",
    "            \"count\": numpy.uint64,\n",
    "        },\n",
    "        \"ctx\": ctx,\n",
    "    }\n",
    "\n",
    "    with tiledb.open(array_uri, ctx=ctx) as ds:\n",
    "        query = ds.query(attrs=[\"region_code\"], coords=False)\n",
    "        df = query.df[:]\n",
    "\n",
    "    frequency_df = (\n",
    "        df.groupby([\"region_code\"])[\"region_code\"]\n",
    "        .agg(\"count\")\n",
    "        .to_frame(\"count\")\n",
    "        .reset_index()\n",
    "    )\n",
    "\n",
    "    tiledb.dataframe_.from_pandas(cell_frequency_uri, frequency_df, **kwargs)\n",
    "\n",
    "\n",
    "def start_end_timestamps(array_uri, access_key, skey):\n",
    "    \"\"\"\n",
    "    Find the min/max of the timestamp attribute.\n",
    "    \"\"\"\n",
    "    config = tiledb.Config(\n",
    "        {\"vfs.s3.aws_access_key_id\": access_key, \"vfs.s3.aws_secret_access_key\": skey}\n",
    "    )\n",
    "    ctx = tiledb.Ctx(config=config)\n",
    "\n",
    "    with tiledb.open(array_uri, ctx=ctx) as ds:\n",
    "        query = ds.query(attrs=[\"timestamp\"], coords=False)\n",
    "        df = query.df[:]\n",
    "\n",
    "    start_end_time = [\n",
    "        df.timestamp.min().to_pydatetime(),\n",
    "        df.timestamp.max().to_pydatetime(),\n",
    "    ]\n",
    "\n",
    "    return start_end_time"
   ]
  },
  {
   "cell_type": "code",
   "execution_count": 17,
   "id": "a43fc141-11e0-4faa-88b0-b47820681119",
   "metadata": {},
   "outputs": [],
   "source": [
    "def ingest_gsfs_singular(files, processing_node_limit, ping_slice_step, slices_per_node, array_uris, cell_freq_uris, local=False):\n",
    "    \"\"\"\n",
    "    Prototype ingester. Multi-file method. Each GSF will have a corresponding TileDB array.\n",
    "    After which all TileDB arrays will be merged into 1.\n",
    "    \"\"\"\n",
    "\n",
    "    node_counter = 0\n",
    "    tasks = []\n",
    "    tasks_dict = {n: [] for n in range(processing_node_limit)}\n",
    "    files_dict = {fname: [] for fname in files}\n",
    "    cell_frequency_tasks = []\n",
    "    timestamps_tasks = []\n",
    "\n",
    "    for enumi, pathname in enumerate(files):\n",
    "        metadata_pathname = pathname.replace(\".gsf\", \".json\")\n",
    "        base_name = Path(pathname).stem\n",
    "        with fs.open(metadata_pathname) as src:\n",
    "            gsf_metadata = json.loads(src.read())\n",
    "\n",
    "        ping_count = gsf_metadata[\"file_record_types\"][\"GSF_SWATH_BATHYMETRY_PING\"][\"record_count\"]\n",
    "\n",
    "        slices = [slice(start, start+ping_slice_step) for start in numpy.arange(0, ping_count, ping_slice_step)]\n",
    "        slice_chunks = [slices[i:i+slices_per_node] for i in range(0, len(slices), slices_per_node)]\n",
    "\n",
    "        array_uri = array_uris[enumi]\n",
    "        cell_freq_uri = cell_freq_uris[enumi]\n",
    "\n",
    "        for slice_chunk in slice_chunks:\n",
    "            start_idx = slice_chunk[0].start\n",
    "            end_idx = slice_chunk[-1].stop\n",
    "            task_name = f\"{base_name}-{start_idx}-{end_idx}-{node_counter}\"\n",
    "            \n",
    "            if local:\n",
    "                task = Delayed(ingest_gsf_slices, name=task_name, local=True)(gsf_metadata[\"gsf_uri\"], creds.access_key, creds.secret_key, array_uri, slice_chunk, cell_frequency=False)\n",
    "            else:\n",
    "                task = Delayed(\"sixy6e/ingest_gsf_slices\", name=task_name, image_name=\"3.7-geo\", timeout=1800)(gsf_metadata[\"gsf_uri\"], creds.access_key, creds.secret_key, array_uri, slice_chunk, cell_frequency=False)\n",
    "\n",
    "            if len(tasks_dict[node_counter]):\n",
    "                task.depends_on(tasks_dict[node_counter][-1])\n",
    "\n",
    "            tasks.append(task)\n",
    "            tasks_dict[node_counter].append(task)\n",
    "            node_counter += 1\n",
    "\n",
    "            files_dict[pathname].append(task)\n",
    "\n",
    "            if node_counter == processing_node_limit:\n",
    "                node_counter = 0\n",
    "\n",
    "        if local:\n",
    "            cell_freq_task = Delayed(cell_frequency, name=f\"{base_name}-cell-frequency\", local=True)(array_uri, cell_freq_uri, creds.access_key, creds.secret_key)\n",
    "            timestamp_task = Delayed(start_end_timestamps, name=f\"{base_name}-start-end-timestamps\", local=True)(array_uri, creds.access_key, creds.secret_key)\n",
    "        else:\n",
    "            cell_freq_task = Delayed(\"sixy6e/cell_frequency\", name=f\"{base_name}-cell-frequency\")(array_uri, cell_freq_uri, creds.access_key, creds.secret_key)\n",
    "            timestamp_task = Delayed(\"sixy6e/start_end_timestamps\", name=f\"{base_name}-start-end-timestamps\")(array_uri, creds.access_key, creds.secret_key)\n",
    "        \n",
    "        for dep in files_dict[pathname]:\n",
    "            cell_freq_task.depends_on(dep)\n",
    "\n",
    "\n",
    "        #timestamp_task = Delayed(\"sixy6e/start_end_timestamps\", name=f\"{base_name}-start-end-timestamps\")(array_uri, creds.access_key, creds.secret_key)\n",
    "        timestamp_task.depends_on(cell_freq_task)\n",
    "\n",
    "        cell_frequency_tasks.append(cell_freq_task)\n",
    "        timestamps_tasks.append(timestamp_task)\n",
    "\n",
    "\n",
    "    reduce_task = Delayed(reduce_timestamps, \"reduce-timestamps\", local=True)(timestamps_tasks)\n",
    "    \n",
    "    return reduce_task"
   ]
  },
  {
   "cell_type": "code",
   "execution_count": 18,
   "id": "4745ee27-3467-4c1e-9b9f-918a41024aaf",
   "metadata": {},
   "outputs": [],
   "source": [
    "def load_and_concat(array_uris, ctx, out_uri=None):\n",
    "    def concat(array_uris, ctx):\n",
    "        data = []\n",
    "\n",
    "        for uri in array_uris:\n",
    "            with tiledb.open(uri, ctx=ctx) as ds:\n",
    "                data.append(ds.df[:])\n",
    "\n",
    "        concatenated = pandas.concat(data, copy=False)\n",
    "\n",
    "        return concatenated\n",
    "\n",
    "    concatenated = concat(array_uris, ctx)\n",
    "    summarised = concatenated.groupby([\"region_code\"])[\"count\"].agg(\"sum\").to_frame(\"count\").reset_index()\n",
    "    if out_uri is None:\n",
    "        return summarised\n",
    "    else:\n",
    "        write_chunked(summarised, out_uri, ctx, chunks=1000000)"
   ]
  },
  {
   "cell_type": "code",
   "execution_count": 19,
   "id": "7f1c38c7-335c-49a2-b714-3f0d2e4b5764",
   "metadata": {},
   "outputs": [],
   "source": [
    "@jit(nopython=True)\n",
    "def strtoint(s):\n",
    "    return ord(s) - 48\n",
    "\n",
    "@jit(nopython=True)\n",
    "def _unpack_code(region_codes: numpy.ndarray, ncodes, res):\n",
    "    resolutions = [str(f\"R{i}\") for i in range(res)]\n",
    "    unpacked = {\n",
    "        \"R1\": numpy.zeros(ncodes, dtype=\"uint8\"),\n",
    "        \"R2\": numpy.zeros(ncodes, dtype=\"uint8\"),\n",
    "        \"R3\": numpy.zeros(ncodes, dtype=\"uint8\"),\n",
    "        \"R4\": numpy.zeros(ncodes, dtype=\"uint8\"),\n",
    "        \"R5\": numpy.zeros(ncodes, dtype=\"uint8\"),\n",
    "        \"R6\": numpy.zeros(ncodes, dtype=\"uint8\"),\n",
    "        \"R7\": numpy.zeros(ncodes, dtype=\"uint8\"),\n",
    "        \"R8\": numpy.zeros(ncodes, dtype=\"uint8\"),\n",
    "        \"R9\": numpy.zeros(ncodes, dtype=\"uint8\"),\n",
    "        \"R10\": numpy.zeros(ncodes, dtype=\"uint8\"),\n",
    "        \"R11\": numpy.zeros(ncodes, dtype=\"uint8\"),\n",
    "        \"R12\": numpy.zeros(ncodes, dtype=\"uint8\"),\n",
    "        \"R13\": numpy.zeros(ncodes, dtype=\"uint8\"),\n",
    "        \"R14\": numpy.zeros(ncodes, dtype=\"uint8\"),\n",
    "        \"R15\": numpy.zeros(ncodes, dtype=\"uint8\"),\n",
    "    }\n",
    "    r0 = numpy.zeros(ncodes, dtype=\"<U1\")\n",
    "    for i in range(ncodes):\n",
    "        code = str(region_codes[i])\n",
    "        r0[i] = code[0]\n",
    "        for j in range(1, res):\n",
    "            unpacked[resolutions[j]][i] = strtoint(code[j])\n",
    "    return r0, unpacked"
   ]
  },
  {
   "cell_type": "code",
   "execution_count": 20,
   "id": "17e7753a-5f7b-4963-95b9-c2aa2d728214",
   "metadata": {},
   "outputs": [],
   "source": [
    "def unpack_code(region_codes: numpy.ndarray, dataframe=True):\n",
    "    res = len(region_codes[0])\n",
    "    region_codes = region_codes.astype(f\"<U{len(region_codes[0])}\")\n",
    "    r0, unpacked = _unpack_code(region_codes, region_codes.shape[0], res)\n",
    "    unpacked_dict = {\"R0\": r0}\n",
    "    for key in unpacked:\n",
    "        unpacked_dict[key] = unpacked[key]\n",
    "    if dataframe:\n",
    "        result = pandas.DataFrame(unpacked_dict)\n",
    "    else:\n",
    "        result = unpacked_dict\n",
    "    return result"
   ]
  },
  {
   "cell_type": "code",
   "execution_count": 21,
   "id": "161fa62a-ea3d-4276-8364-b843435a5e16",
   "metadata": {},
   "outputs": [],
   "source": [
    "def reduce_resoltion(df, resolution=12, chunks=10000):\n",
    "    def reduce_res(dataframe, resolution):\n",
    "        res = resolution + 1\n",
    "        reduced = pandas.DataFrame(\n",
    "            {\n",
    "                \"region_code\": dataframe.region_code.str[0:res],\n",
    "                \"count\": dataframe[\"count\"].values,\n",
    "            }\n",
    "        )\n",
    "\n",
    "        return reduced\n",
    "    \n",
    "    def group_res(dataframe):\n",
    "        return dataframe.groupby([\"region_code\"])[\"count\"].agg(\"sum\").to_frame(\"count\").reset_index()\n",
    "\n",
    "    idxs = [(start, start + chunks) for start in numpy.arange(0, df.shape[0], chunks)]\n",
    "    idx0 = idxs[0]\n",
    "    subset = df[idx0[0]:idx0[1]]\n",
    "    base_reduced = group_res(reduce_res(subset, resolution))\n",
    "\n",
    "    for idx in idxs[1:]:\n",
    "        subset = df[idx[0]:idx[1]]\n",
    "        reduced = reduce_res(subset, resolution)\n",
    "        concatenated = pandas.concat([base_reduced, reduced], copy=False)\n",
    "        base_reduced = group_res(concatenated)\n",
    "\n",
    "    return base_reduced"
   ]
  },
  {
   "cell_type": "code",
   "execution_count": 22,
   "id": "55a306bc-005d-4cae-adb8-ab832966c997",
   "metadata": {},
   "outputs": [],
   "source": [
    "def write_chunked(df, out_uri, ctx, chunks=10000):\n",
    "    idxs = [(start, start + chunks) for start in numpy.arange(0, df.shape[0], chunks)]\n",
    "    rows_written = 0\n",
    "    kwargs = {\n",
    "        \"sparse\": False,\n",
    "        \"column_types\": {\"region_code\": str, \"count\": numpy.uint64},\n",
    "        \"ctx\": ctx,\n",
    "    }\n",
    "    for idx in idxs:\n",
    "        subset = df[idx[0]:idx[1]]\n",
    "        kwargs[\"row_start_idx\"] = rows_written\n",
    "        tiledb.dataframe_.from_pandas(out_uri, subset, **kwargs)\n",
    "        kwargs[\"mode\"] = \"append\"\n",
    "        rows_written += len(subset)\n",
    "\n",
    "\n",
    "def write_sparse_rhealpix_chunked(df, out_uri, ctx, chunks=10000):\n",
    "    \"\"\"Requires the output array to have already been created.\"\"\"\n",
    "    idxs = [(start, start + chunks) for start in numpy.arange(0, df.shape[0], chunks)]\n",
    "    kwargs = {\n",
    "        \"mode\": \"append\",\n",
    "        \"sparse\": True,\n",
    "        \"ctx\": ctx,\n",
    "    }\n",
    "    for idx in idxs:\n",
    "        subset = df[idx[0]:idx[1]]\n",
    "        new_df = unpack_code(subset.region_code.values)\n",
    "        new_df[\"region_code\"] = subset.region_code.values\n",
    "        new_df[\"count\"] = subset[\"count\"].values\n",
    "        tiledb.dataframe_.from_pandas(out_uri, new_df, **kwargs)"
   ]
  },
  {
   "cell_type": "code",
   "execution_count": 23,
   "id": "80483ffa-c82a-4542-b7f8-67cff0ff5ca8",
   "metadata": {},
   "outputs": [],
   "source": [
    "def filter_empty_files(files):\n",
    "    \"\"\"\n",
    "    Filter out GSF's containing no Pings so we don't attempt to process them.\n",
    "    \"\"\"\n",
    "    empty_files = []\n",
    "    non_empty_files = []\n",
    "\n",
    "    for pathname in files:\n",
    "        metadata_pathname = pathname.replace(\".gsf\", \".json\")\n",
    "        base_name = Path(pathname).stem\n",
    "        with fs.open(metadata_pathname) as src:\n",
    "            gsf_metadata = json.loads(src.read())\n",
    "\n",
    "        ping_count = gsf_metadata[\"file_record_types\"][\"GSF_SWATH_BATHYMETRY_PING\"][\"record_count\"]\n",
    "        if ping_count == 0:\n",
    "            empty_files.append(pathname)\n",
    "        else:\n",
    "            non_empty_files.append(pathname)\n",
    "\n",
    "    return non_empty_files, empty_files\n",
    "\n",
    "\n",
    "def filter_large_files(files, size_limit_mb):\n",
    "    \"\"\"\n",
    "    Filter out GSF's that are large than size_limit_mb so that they're processed locally.\n",
    "    \"\"\"\n",
    "    manageable_files = []\n",
    "    large_files = []\n",
    "\n",
    "    for pathname in files:\n",
    "        metadata_pathname = pathname.replace(\".gsf\", \".json\")\n",
    "        base_name = Path(pathname).stem\n",
    "        with fs.open(metadata_pathname) as src:\n",
    "            gsf_metadata = json.loads(src.read())\n",
    "\n",
    "        # filter large files before hand, so we can still pass them through here but process locally\n",
    "        if (gsf_metadata[\"size\"] / 1024 / 1024) > size_limit_mb:\n",
    "            large_files.append(pathname)\n",
    "        else:\n",
    "            manageable_files.append(pathname)\n",
    "\n",
    "    return manageable_files, large_files"
   ]
  },
  {
   "cell_type": "code",
   "execution_count": 42,
   "id": "096bcc67-7e1c-4fd4-97d2-d1118bffd87e",
   "metadata": {},
   "outputs": [],
   "source": [
    "def combine_tiledbs(array_uris, out_array_uri, access_key, skey):\n",
    "    config = tiledb.Config(\n",
    "        {\"vfs.s3.aws_access_key_id\": access_key, \"vfs.s3.aws_secret_access_key\": skey}\n",
    "    )\n",
    "    ctx = tiledb.Ctx(config=config)\n",
    "\n",
    "    for array_uri in array_uris:\n",
    "        with tiledb.open(array_uri, ctx=ctx) as ds:\n",
    "            df = ds.df[:]\n",
    "\n",
    "        append_ping_dataframe(df, out_array_uri, access_key, skey)"
   ]
  },
  {
   "cell_type": "code",
   "execution_count": null,
   "id": "e92da958-d5b7-442a-a798-cfaece48c1c3",
   "metadata": {},
   "outputs": [],
   "source": []
  },
  {
   "cell_type": "code",
   "execution_count": null,
   "id": "a2ea41d7-add1-4a14-872b-0ab53b804763",
   "metadata": {},
   "outputs": [],
   "source": []
  },
  {
   "cell_type": "code",
   "execution_count": 24,
   "id": "bb2522fb-acf1-49a1-a2ce-f24bc7b7d468",
   "metadata": {},
   "outputs": [],
   "source": [
    "with fs.open(survey_info_uri) as src:\n",
    "    survey_info = json.loads(src.read())"
   ]
  },
  {
   "cell_type": "code",
   "execution_count": 25,
   "id": "20685ac8-4fc7-4a08-bcbf-f0051bc45c10",
   "metadata": {},
   "outputs": [],
   "source": [
    "#required_attributes = survey_info[\"schemas\"][0]\n",
    "# this is temporary. better to have it defined internally. or programmatically derived as a union of all schemas from all pings\n",
    "required_attributes = [\n",
    "    \"Z\",\n",
    "    \"across_track\",\n",
    "    \"along_track\",\n",
    "    \"beam_angle\",\n",
    "    \"beam_angle_forward\",\n",
    "    \"beam_flags\",\n",
    "    \"beam_number\",\n",
    "    \"centre_beam\",\n",
    "    \"course\",\n",
    "    \"depth_corrector\",\n",
    "    \"gps_tide_corrector\",\n",
    "    \"heading\",\n",
    "    \"heave\",\n",
    "    \"height\",\n",
    "    \"horizontal_error\",\n",
    "    \"ping_flags\",\n",
    "    \"pitch\",\n",
    "    \"roll\",\n",
    "    \"sector_number\",\n",
    "    \"separation\",\n",
    "    \"speed\",\n",
    "    \"tide_corrector\",\n",
    "    \"timestamp\",\n",
    "    \"travel_time\",\n",
    "    \"vertical_error\",\n",
    "    \"region_code\",\n",
    "]"
   ]
  },
  {
   "cell_type": "code",
   "execution_count": 26,
   "id": "eb72799e-7146-41d3-95fb-e07812a22d08",
   "metadata": {},
   "outputs": [],
   "source": [
    "config = tiledb.Config(\n",
    "        {\"vfs.s3.aws_access_key_id\": creds.access_key, \"vfs.s3.aws_secret_access_key\": creds.secret_key}\n",
    "    )\n",
    "config_dict = config.dict()\n",
    "ctx = tiledb.Ctx(config=config)"
   ]
  },
  {
   "cell_type": "code",
   "execution_count": null,
   "id": "2a688555-71a1-4bf5-a08f-096aab89e4e3",
   "metadata": {},
   "outputs": [],
   "source": []
  },
  {
   "cell_type": "code",
   "execution_count": null,
   "id": "b46e983d-e30a-4628-a6bd-c16ebdac98d1",
   "metadata": {},
   "outputs": [],
   "source": []
  },
  {
   "cell_type": "code",
   "execution_count": 27,
   "id": "72237103-18d3-4fd6-8579-93513379d06f",
   "metadata": {},
   "outputs": [],
   "source": [
    "storage.create_mbes_array(array_uri, required_attributes, ctx)"
   ]
  },
  {
   "cell_type": "code",
   "execution_count": null,
   "id": "5fa94687-da57-465f-8eff-c57bab492538",
   "metadata": {},
   "outputs": [],
   "source": []
  },
  {
   "cell_type": "code",
   "execution_count": null,
   "id": "d9d9c519-b8c2-405a-8644-11cec5b77ebb",
   "metadata": {},
   "outputs": [],
   "source": []
  },
  {
   "cell_type": "code",
   "execution_count": 28,
   "id": "c147ea03-ec23-4607-8042-6686b0585a4f",
   "metadata": {},
   "outputs": [
    {
     "data": {
      "text/plain": [
       "64"
      ]
     },
     "execution_count": 28,
     "metadata": {},
     "output_type": "execute_result"
    }
   ],
   "source": [
    "files = fs.glob(survey_uri + \"**.gsf\")\n",
    "len(files)"
   ]
  },
  {
   "cell_type": "code",
   "execution_count": null,
   "id": "f6814ad2-dd22-48c0-a3f5-7226011c75f6",
   "metadata": {},
   "outputs": [],
   "source": []
  },
  {
   "cell_type": "code",
   "execution_count": 29,
   "id": "605d93fa-2534-44d5-80af-31984371d5cd",
   "metadata": {},
   "outputs": [
    {
     "data": {
      "text/plain": [
       "(64, 0)"
      ]
     },
     "execution_count": 29,
     "metadata": {},
     "output_type": "execute_result"
    }
   ],
   "source": [
    "# filter and empty files\n",
    "non_empty_files, empty_files = filter_empty_files(files)\n",
    "len(non_empty_files), len(empty_files)"
   ]
  },
  {
   "cell_type": "code",
   "execution_count": null,
   "id": "e8bad207-cedd-4fc5-9f1d-298d60490b7e",
   "metadata": {},
   "outputs": [],
   "source": []
  },
  {
   "cell_type": "code",
   "execution_count": 30,
   "id": "d5fdd489-0ad0-40f5-a782-83b111365576",
   "metadata": {},
   "outputs": [
    {
     "data": {
      "text/plain": [
       "(64, 0)"
      ]
     },
     "execution_count": 30,
     "metadata": {},
     "output_type": "execute_result"
    }
   ],
   "source": [
    "# filter large files\n",
    "size_limit_mb = 500\n",
    "manageable_files, large_files = filter_large_files(non_empty_files, size_limit_mb)\n",
    "len(manageable_files), len(large_files)"
   ]
  },
  {
   "cell_type": "code",
   "execution_count": null,
   "id": "8b0a311e-1704-48dc-b6ac-c2f59d8f4ede",
   "metadata": {},
   "outputs": [],
   "source": []
  },
  {
   "cell_type": "code",
   "execution_count": null,
   "id": "6da5e953-335c-424f-8265-45d4e4cb7927",
   "metadata": {},
   "outputs": [],
   "source": []
  },
  {
   "cell_type": "code",
   "execution_count": 31,
   "id": "42a45273-6691-4680-bd8d-241acfffe31d",
   "metadata": {},
   "outputs": [],
   "source": [
    "intermediate_bathy_uris = [tmpdir + \"bathymetry/\" + Path(fname).with_suffix(\".tiledb\").name for fname in manageable_files]\n",
    "intermediate_freq_uris = [tmpdir + \"cell-frequency/\" + Path(fname).stem + \".tiledb\" for fname in manageable_files]\n",
    "intermediate_bathy_large_uris = [tmpdir + \"bathymetry/\" + Path(fname).with_suffix(\".tiledb\").name for fname in large_files]\n",
    "intermediate_freq_large_uris = [tmpdir + \"cell-frequency/\" + Path(fname).stem + \".tiledb\" for fname in large_files]"
   ]
  },
  {
   "cell_type": "code",
   "execution_count": null,
   "id": "d1a66024-7965-44a4-8889-5036c69d239f",
   "metadata": {},
   "outputs": [],
   "source": []
  },
  {
   "cell_type": "code",
   "execution_count": null,
   "id": "edfa4a16-8781-4557-bc16-4ad91aa97a6c",
   "metadata": {},
   "outputs": [],
   "source": []
  },
  {
   "cell_type": "code",
   "execution_count": 32,
   "id": "fd20eb1b-89f9-4a2c-83b8-03a3fbf45c03",
   "metadata": {},
   "outputs": [],
   "source": [
    "# create the arrays to hold the bathymetry (required multi-node and multi-proc ingestion)\n",
    "for fname_uri in intermediate_bathy_uris:\n",
    "    storage.create_mbes_array(fname_uri, required_attributes, ctx)"
   ]
  },
  {
   "cell_type": "code",
   "execution_count": 33,
   "id": "04a9e611-b1dd-4821-8450-92bddac5e624",
   "metadata": {},
   "outputs": [],
   "source": [
    "for fname_uri in intermediate_bathy_large_uris:\n",
    "    storage.create_mbes_array(fname_uri, required_attributes, ctx)"
   ]
  },
  {
   "cell_type": "code",
   "execution_count": null,
   "id": "8a3e77a0-3844-4b9e-a12f-587e1140127e",
   "metadata": {},
   "outputs": [],
   "source": []
  },
  {
   "cell_type": "code",
   "execution_count": null,
   "id": "844c2626-4f59-4385-be77-47cfc6e674bb",
   "metadata": {},
   "outputs": [],
   "source": []
  },
  {
   "cell_type": "code",
   "execution_count": 34,
   "id": "d8267136-9aa3-420c-b261-a32c50441f93",
   "metadata": {},
   "outputs": [],
   "source": [
    "sonar_metadata = get_sonar_metadata(manageable_files[0].replace(\".gsf\", \".json\"))"
   ]
  },
  {
   "cell_type": "code",
   "execution_count": null,
   "id": "753a72aa-0f11-46ab-8f34-307928baab60",
   "metadata": {},
   "outputs": [],
   "source": []
  },
  {
   "cell_type": "code",
   "execution_count": null,
   "id": "31d7b8ad-b40c-4943-9dcf-4732b67801f5",
   "metadata": {},
   "outputs": [],
   "source": []
  },
  {
   "cell_type": "code",
   "execution_count": 36,
   "id": "c2326011-1030-4e0f-b5f4-50431e13bf3c",
   "metadata": {},
   "outputs": [
    {
     "data": {
      "text/plain": [
       "64"
      ]
     },
     "execution_count": 36,
     "metadata": {},
     "output_type": "execute_result"
    }
   ],
   "source": [
    "n_partitions = 1\n",
    "files_blocks = scatter(manageable_files, n_partitions)\n",
    "tmp_bathy_blocks = scatter(intermediate_bathy_uris, n_partitions)\n",
    "tmp_freq_blocks = scatter(intermediate_freq_uris, n_partitions)\n",
    "len(files_blocks[0])"
   ]
  },
  {
   "cell_type": "code",
   "execution_count": 37,
   "id": "cd4c87ef-92fc-4a7d-8731-1ccc950959db",
   "metadata": {},
   "outputs": [],
   "source": [
    "processing_node_limit = 40\n",
    "ping_slice_step = 2000\n",
    "slices_per_node = 4\n",
    "local_tasks_limit = 1\n",
    "local_ping_slice_step = 2000\n",
    "local_slices_per_task = 4"
   ]
  },
  {
   "cell_type": "code",
   "execution_count": null,
   "id": "d0113a62-ba50-4c0d-badf-c5a727ac1c06",
   "metadata": {},
   "outputs": [],
   "source": []
  },
  {
   "cell_type": "code",
   "execution_count": 38,
   "id": "78978853-98ce-4f4f-a62b-7c69d6652713",
   "metadata": {},
   "outputs": [],
   "source": [
    "# GSF processing"
   ]
  },
  {
   "cell_type": "code",
   "execution_count": 39,
   "id": "221df928-5eb4-43f0-9649-f60ca0da9dc1",
   "metadata": {},
   "outputs": [],
   "source": [
    "reduce_task0 = ingest_gsfs_singular(files_blocks[0], processing_node_limit, ping_slice_step, slices_per_node, tmp_bathy_blocks[0], tmp_freq_blocks[0])"
   ]
  },
  {
   "cell_type": "code",
   "execution_count": 40,
   "id": "a9733be6-1242-4116-8afa-d82234414ca3",
   "metadata": {},
   "outputs": [
    {
     "data": {
      "application/vnd.jupyter.widget-view+json": {
       "model_id": "d4fba5f26ebe4b80b73c0feadb2ff5f0",
       "version_major": 2,
       "version_minor": 0
      },
      "text/plain": [
       "Visualize(value='{\"nodes\": [\"f630c1b0-2303-4b35-bb26-e1ad208f37d5\", \"d962d54d-02fb-4cc9-bb5a-dd9e3b45d5ce\", \"9…"
      ]
     },
     "metadata": {},
     "output_type": "display_data"
    }
   ],
   "source": [
    "reduce_task0.visualize()"
   ]
  },
  {
   "cell_type": "code",
   "execution_count": 41,
   "id": "43300d3c-1a0d-4114-b5c7-61975436483d",
   "metadata": {},
   "outputs": [],
   "source": [
    "start_end_timestamps0 = reduce_task0.compute()"
   ]
  },
  {
   "cell_type": "code",
   "execution_count": 43,
   "id": "b3dad907-a45d-4a78-869b-368de4a406f3",
   "metadata": {},
   "outputs": [
    {
     "data": {
      "text/plain": [
       "[datetime.datetime(2015, 5, 10, 10, 5, 27, 51000),\n",
       " datetime.datetime(2015, 5, 13, 0, 5, 24, 400000)]"
      ]
     },
     "execution_count": 43,
     "metadata": {},
     "output_type": "execute_result"
    }
   ],
   "source": [
    "start_end_timestamps0"
   ]
  },
  {
   "cell_type": "code",
   "execution_count": null,
   "id": "87d872bd-9552-45d2-b864-4be24ad27a30",
   "metadata": {},
   "outputs": [],
   "source": []
  },
  {
   "cell_type": "code",
   "execution_count": null,
   "id": "d12b05a4",
   "metadata": {},
   "outputs": [],
   "source": [
    "unfinished_bathy_uris = []\n",
    "finished_uris = []\n",
    "unfinished_freq_uris = []\n",
    "unfinished_gsf_files = []\n",
    "for i, fname_uri in enumerate(intermediate_bathy_uris):\n",
    "    if fs.exists(intermediate_freq_uris[i]):\n",
    "        finished_uris.append(fname_uri)\n",
    "        continue\n",
    "    unfinished_bathy_uris.append(fname_uri)\n",
    "    unfinished_freq_uris.append(intermediate_freq_uris[i])\n",
    "    unfinished_gsf_files.append(\"ausseabed-pl019-provided-data/CSIRO/IN2018_V04/GSF/em710/\" + Path(fname_uri).stem + \".gsf\")\n",
    "    fs.rm(fname_uri, recursive=True)\n",
    "    storage.create_mbes_array(fname_uri, required_attributes, ctx)"
   ]
  },
  {
   "cell_type": "code",
   "execution_count": null,
   "id": "05a2209e",
   "metadata": {},
   "outputs": [],
   "source": [
    "len(finished_uris)"
   ]
  },
  {
   "cell_type": "code",
   "execution_count": null,
   "id": "67ec8cb7",
   "metadata": {},
   "outputs": [],
   "source": [
    "unfinished_gsf_files[0]"
   ]
  },
  {
   "cell_type": "code",
   "execution_count": null,
   "id": "bc90e2cc",
   "metadata": {},
   "outputs": [],
   "source": [
    "unfinished_bathy_uris[0]"
   ]
  },
  {
   "cell_type": "code",
   "execution_count": null,
   "id": "6a586a46",
   "metadata": {},
   "outputs": [],
   "source": [
    "local_tasks_limit = 10\n",
    "local_ping_slice_step = 2000\n",
    "local_slices_per_task = 2"
   ]
  },
  {
   "cell_type": "code",
   "execution_count": null,
   "id": "4066b9e6",
   "metadata": {},
   "outputs": [],
   "source": [
    "reduce_task_unfinished = ingest_gsfs_singular(unfinished_gsf_files, local_tasks_limit, local_ping_slice_step, local_slices_per_task, unfinished_bathy_uris, unfinished_freq_uris, local=True)"
   ]
  },
  {
   "cell_type": "code",
   "execution_count": null,
   "id": "db66dfca",
   "metadata": {},
   "outputs": [],
   "source": [
    "start_end_timestamps_unfinished = reduce_task_unfinished.compute()"
   ]
  },
  {
   "cell_type": "code",
   "execution_count": null,
   "id": "bedf9b8c",
   "metadata": {},
   "outputs": [],
   "source": []
  },
  {
   "cell_type": "code",
   "execution_count": null,
   "id": "6999a8b3",
   "metadata": {},
   "outputs": [],
   "source": [
    "timestamps_blocks = scatter(intermediate_bathy_uris, 10)\n",
    "(len(timestamps_blocks[0]), len(timestamps_blocks[-1]))"
   ]
  },
  {
   "cell_type": "code",
   "execution_count": null,
   "id": "1ff5414a",
   "metadata": {},
   "outputs": [],
   "source": [
    "timestamps_collect = []"
   ]
  },
  {
   "cell_type": "code",
   "execution_count": null,
   "id": "fb1165a8",
   "metadata": {},
   "outputs": [],
   "source": [
    "for timestamps_block in timestamps_blocks:\n",
    "    timestamps_tasks = []\n",
    "    for uri_fname in timestamps_block:\n",
    "        base_name = Path(uri_fname).stem\n",
    "        #uri_fname = f\"s3://{fname}\"\n",
    "        timestamp_task = Delayed(\"sixy6e/start_end_timestamps\", name=f\"{base_name}-start-end-timestamps\")(uri_fname, creds.access_key, creds.secret_key)\n",
    "        timestamps_tasks.append(timestamp_task)\n",
    "\n",
    "\n",
    "    reduce_task = Delayed(reduce_timestamps, \"reduce-timestamps\", local=True)(timestamps_tasks)\n",
    "    timestamps_collect.append(reduce_task.compute())"
   ]
  },
  {
   "cell_type": "code",
   "execution_count": null,
   "id": "2ee87e54",
   "metadata": {},
   "outputs": [],
   "source": [
    "final_start_end_timestamps = reduce_timestamps(timestamps_collect)"
   ]
  },
  {
   "cell_type": "code",
   "execution_count": null,
   "id": "c32a5e1d",
   "metadata": {},
   "outputs": [],
   "source": [
    "final_start_end_timestamps"
   ]
  },
  {
   "cell_type": "code",
   "execution_count": null,
   "id": "c67ce3e1-3371-4e12-a82e-470507919e3f",
   "metadata": {},
   "outputs": [],
   "source": []
  },
  {
   "cell_type": "code",
   "execution_count": 45,
   "id": "0ef51f57-9124-4120-96a2-3b2bd859a3dd",
   "metadata": {},
   "outputs": [
    {
     "data": {
      "text/plain": [
       "8"
      ]
     },
     "execution_count": 45,
     "metadata": {},
     "output_type": "execute_result"
    }
   ],
   "source": [
    "bathy_blocks = scatter(intermediate_bathy_uris, 8)\n",
    "len(bathy_blocks[0])"
   ]
  },
  {
   "cell_type": "code",
   "execution_count": 46,
   "id": "ccfd6e3a-0a2c-408a-930d-81076adf06cd",
   "metadata": {},
   "outputs": [],
   "source": [
    "ingest_tasks = []\n",
    "for block_id, bblock in enumerate(bathy_blocks):\n",
    "    task = Delayed(combine_tiledbs, name=f\"ingesting-block-{block_id}\", local=True)(bblock, array_uri, creds.access_key, creds.secret_key)\n",
    "    ingest_tasks.append(task)\n",
    "\n",
    "dummy_reducer = Delayed(dummy_reducer, name=\"dummy-reducer-ingester\", local=True)(ingest_tasks)"
   ]
  },
  {
   "cell_type": "code",
   "execution_count": 47,
   "id": "64222bbd-4f51-40c1-ab55-b0cde37766af",
   "metadata": {},
   "outputs": [],
   "source": [
    "ingested_result = dummy_reducer.compute()"
   ]
  },
  {
   "cell_type": "code",
   "execution_count": null,
   "id": "1007f375-3f33-42e4-8001-31893d1d908a",
   "metadata": {},
   "outputs": [],
   "source": []
  },
  {
   "cell_type": "code",
   "execution_count": null,
   "id": "deb1ddae-208e-422c-904c-567e9d8d3cf3",
   "metadata": {},
   "outputs": [],
   "source": []
  },
  {
   "cell_type": "code",
   "execution_count": 49,
   "id": "4d95d3b3-9e75-45ee-8d30-00121df238fa",
   "metadata": {},
   "outputs": [],
   "source": [
    "partitions = 5\n",
    "sub_partitions = 2"
   ]
  },
  {
   "cell_type": "code",
   "execution_count": 50,
   "id": "6f6ce6a4-fff9-4f9d-bf73-f2c41ea59e65",
   "metadata": {},
   "outputs": [
    {
     "data": {
      "text/plain": [
       "13"
      ]
     },
     "execution_count": 50,
     "metadata": {},
     "output_type": "execute_result"
    }
   ],
   "source": [
    "freq_blocks = scatter(intermediate_freq_uris, partitions)\n",
    "len(freq_blocks[0])"
   ]
  },
  {
   "cell_type": "code",
   "execution_count": 51,
   "id": "e225cde1-7a76-4db2-b0c0-b95f1f64ec99",
   "metadata": {},
   "outputs": [],
   "source": [
    "cell_freq_blocks_tmp_dir = tmpdir + \"cell-frequency-blocks-pass1/\""
   ]
  },
  {
   "cell_type": "code",
   "execution_count": 52,
   "id": "85c79f39-24c6-4eeb-b662-f10bef308c64",
   "metadata": {},
   "outputs": [],
   "source": [
    "tasks = []\n",
    "tasks_dict = {i: [] for i in range(partitions)}\n",
    "for i, freq_block in enumerate(freq_blocks):\n",
    "    sub_freq_blocks = scatter(freq_block, sub_partitions)\n",
    "    for j, sub_block in enumerate(sub_freq_blocks):\n",
    "        task_name = f\"combine-cell-freq_block-{i}_sub-block-{j}\"\n",
    "        out_uri = f\"{cell_freq_blocks_tmp_dir}cell-frequency-block-{i}-sub-block-{j}.tiledb\"\n",
    "        task = Delayed(load_and_concat, name=task_name, local=True)(sub_block, ctx, out_uri)\n",
    "        tasks.append(task)\n",
    "        if len(tasks_dict[i]):\n",
    "            task.depends_on(tasks_dict[i][-1])\n",
    "        tasks_dict[i].append(task)\n",
    "\n",
    "dummy_reducer = Delayed(dummy_reducer, name=\"dummy-reducer-ingester\", local=True)(tasks)"
   ]
  },
  {
   "cell_type": "code",
   "execution_count": 53,
   "id": "da27f0b4-5c81-4e5e-89c4-3943e7843114",
   "metadata": {},
   "outputs": [
    {
     "data": {
      "application/vnd.jupyter.widget-view+json": {
       "model_id": "aae06f98e64b4f34a0a88998216fd4d4",
       "version_major": 2,
       "version_minor": 0
      },
      "text/plain": [
       "Visualize(value='{\"nodes\": [\"9aa6794b-218b-48fb-b76a-d1175adc3158\", \"a4f7c298-4216-4b82-b6a3-378cd17f01ba\", \"2…"
      ]
     },
     "metadata": {},
     "output_type": "display_data"
    }
   ],
   "source": [
    "dummy_reducer.visualize()"
   ]
  },
  {
   "cell_type": "code",
   "execution_count": 54,
   "id": "8f6f6256-9f37-4fee-8cdf-d295e078515f",
   "metadata": {},
   "outputs": [],
   "source": [
    "freq_pass1_result = dummy_reducer.compute()"
   ]
  },
  {
   "cell_type": "code",
   "execution_count": null,
   "id": "6564386a-a6e1-4718-9210-b09796bd622a",
   "metadata": {},
   "outputs": [],
   "source": []
  },
  {
   "cell_type": "code",
   "execution_count": 55,
   "id": "3b468670-7eb7-4c70-bbf6-6a82df9b23ce",
   "metadata": {},
   "outputs": [
    {
     "data": {
      "text/plain": [
       "10"
      ]
     },
     "execution_count": 55,
     "metadata": {},
     "output_type": "execute_result"
    }
   ],
   "source": [
    "pass1_cell_freqs = fs.glob(cell_freq_blocks_tmp_dir + \"**.tiledb\")\n",
    "len(pass1_cell_freqs)"
   ]
  },
  {
   "cell_type": "code",
   "execution_count": null,
   "id": "c9286cbf-6051-4126-8a85-7f954db6635a",
   "metadata": {},
   "outputs": [],
   "source": []
  },
  {
   "cell_type": "code",
   "execution_count": 56,
   "id": "c40a5e29-4e10-4e37-b453-4d5c4be57307",
   "metadata": {},
   "outputs": [],
   "source": [
    "pass1_cell_freq_uris = [f\"s3://{fname}\" for fname in pass1_cell_freqs]"
   ]
  },
  {
   "cell_type": "code",
   "execution_count": 57,
   "id": "d43123fc-76ba-4b49-9e2c-4beca248f31d",
   "metadata": {},
   "outputs": [
    {
     "data": {
      "text/plain": [
       "[((0, 5777019),),\n",
       " ((0, 2232462),),\n",
       " ((0, 642704),),\n",
       " ((0, 376392),),\n",
       " ((0, 2428873),),\n",
       " ((0, 1204686),),\n",
       " ((0, 402589),),\n",
       " ((0, 549998),),\n",
       " ((0, 951183),),\n",
       " ((0, 2078189),)]"
      ]
     },
     "execution_count": 57,
     "metadata": {},
     "output_type": "execute_result"
    }
   ],
   "source": [
    "domains = []\n",
    "for p1_uri in pass1_cell_freq_uris:\n",
    "    with tiledb.open(p1_uri, ctx=ctx) as ds:\n",
    "        domains.append(ds.nonempty_domain())\n",
    "domains"
   ]
  },
  {
   "cell_type": "code",
   "execution_count": null,
   "id": "14f76a5f-b307-4ab5-9c0e-1ae33087370e",
   "metadata": {},
   "outputs": [],
   "source": []
  },
  {
   "cell_type": "code",
   "execution_count": 58,
   "id": "1b8017ea-391d-48bc-bf41-78e1ef3e2cbe",
   "metadata": {},
   "outputs": [],
   "source": [
    "partitions = 2\n",
    "sub_partitions = 1"
   ]
  },
  {
   "cell_type": "code",
   "execution_count": 59,
   "id": "4db77217-06b7-43aa-a878-91f102b702a3",
   "metadata": {},
   "outputs": [],
   "source": [
    "cell_freq_blocks_tmp_dir = tmpdir + \"cell-frequency-blocks-pass2/\""
   ]
  },
  {
   "cell_type": "code",
   "execution_count": 60,
   "id": "12a4c06a-959d-4a36-8c6c-bd09fb16694d",
   "metadata": {},
   "outputs": [],
   "source": [
    "freq_blocks = scatter(pass1_cell_freq_uris, partitions)"
   ]
  },
  {
   "cell_type": "code",
   "execution_count": 61,
   "id": "882bec90-fcfa-49b7-8ecc-d0c476ed0766",
   "metadata": {},
   "outputs": [
    {
     "data": {
      "text/plain": [
       "2"
      ]
     },
     "execution_count": 61,
     "metadata": {},
     "output_type": "execute_result"
    }
   ],
   "source": [
    "len(freq_blocks)"
   ]
  },
  {
   "cell_type": "code",
   "execution_count": 62,
   "id": "e0cb2063-5a7e-4148-85d2-3896e2daf085",
   "metadata": {},
   "outputs": [],
   "source": [
    "tasks = []\n",
    "tasks_dict = {i: [] for i in range(partitions)}\n",
    "for i, freq_block in enumerate(freq_blocks):\n",
    "    sub_freq_blocks = scatter(freq_block, sub_partitions)\n",
    "    for j, sub_block in enumerate(sub_freq_blocks):\n",
    "        task_name = f\"combine-cell-freq_block-{i}_sub-block-{j}\"\n",
    "        out_uri = f\"{cell_freq_blocks_tmp_dir}cell-frequency-block-{i}-sub-block-{j}.tiledb\"\n",
    "        task = Delayed(load_and_concat, name=task_name, local=True)(sub_block, ctx, out_uri)\n",
    "        tasks.append(task)\n",
    "        if len(tasks_dict[i]):\n",
    "            task.depends_on(tasks_dict[i][-1])\n",
    "        tasks_dict[i].append(task)\n",
    "\n",
    "dummy_reducer = Delayed(dummy_reducer, name=\"dummy-reducer-ingester\", local=True)(tasks)"
   ]
  },
  {
   "cell_type": "code",
   "execution_count": 63,
   "id": "25de1b0f-2840-4743-91b9-8d0a6dee7f4a",
   "metadata": {},
   "outputs": [],
   "source": [
    "freq_pass2_result = dummy_reducer.compute()"
   ]
  },
  {
   "cell_type": "code",
   "execution_count": null,
   "id": "171e2c90-3b2b-48c4-8b4b-effa540328f3",
   "metadata": {},
   "outputs": [],
   "source": []
  },
  {
   "cell_type": "code",
   "execution_count": 64,
   "id": "6c39dfa1-d354-4028-8d2d-d342ae85fd3d",
   "metadata": {},
   "outputs": [
    {
     "data": {
      "text/plain": [
       "2"
      ]
     },
     "execution_count": 64,
     "metadata": {},
     "output_type": "execute_result"
    }
   ],
   "source": [
    "pass2_cell_freqs = fs.glob(cell_freq_blocks_tmp_dir + \"**.tiledb\")\n",
    "len(pass2_cell_freqs)"
   ]
  },
  {
   "cell_type": "code",
   "execution_count": 67,
   "id": "a4ab4e52-12d4-4f7a-b6a2-c458fba7a101",
   "metadata": {},
   "outputs": [
    {
     "data": {
      "text/plain": [
       "2"
      ]
     },
     "execution_count": 67,
     "metadata": {},
     "output_type": "execute_result"
    }
   ],
   "source": [
    "pass2_cell_freq_uris = [f\"s3://{fname}\" for fname in pass2_cell_freqs]\n",
    "len(pass2_cell_freq_uris)"
   ]
  },
  {
   "cell_type": "code",
   "execution_count": 66,
   "id": "7ab6f60f-43ad-4339-be7f-67fcb10bf2e0",
   "metadata": {},
   "outputs": [
    {
     "data": {
      "text/plain": [
       "[((0, 11457454),), ((0, 5186649),)]"
      ]
     },
     "execution_count": 66,
     "metadata": {},
     "output_type": "execute_result"
    }
   ],
   "source": [
    "domains = []\n",
    "for p2_uri in pass2_cell_freq_uris:\n",
    "    with tiledb.open(p2_uri, ctx=ctx) as ds:\n",
    "        domains.append(ds.nonempty_domain())\n",
    "domains"
   ]
  },
  {
   "cell_type": "code",
   "execution_count": 69,
   "id": "ece7ada1-dfdb-4b3a-81fb-ba4b422d79f8",
   "metadata": {},
   "outputs": [],
   "source": [
    "load_and_concat(pass2_cell_freq_uris, ctx, soundings_cell_density_array_uri_15)"
   ]
  },
  {
   "cell_type": "code",
   "execution_count": null,
   "id": "fb568a16-7024-4443-8d89-42c6a646d915",
   "metadata": {},
   "outputs": [],
   "source": []
  },
  {
   "cell_type": "code",
   "execution_count": null,
   "id": "eb07ccc8-e4e7-46cd-ad82-6c9915e0dedd",
   "metadata": {},
   "outputs": [],
   "source": []
  },
  {
   "cell_type": "code",
   "execution_count": null,
   "id": "ec2eaec4-d53f-45df-ae96-f6fe25bbea35",
   "metadata": {},
   "outputs": [],
   "source": [
    "# sparse rhealpix version of cell frequency"
   ]
  },
  {
   "cell_type": "code",
   "execution_count": 70,
   "id": "6b4be288-c961-497d-a4db-9484349359e2",
   "metadata": {},
   "outputs": [],
   "source": [
    "index_filters = tiledb.FilterList([tiledb.ZstdFilter(level=16)])\n",
    "dims = [tiledb.Dim(f\"R{i}\", domain=(0, 8), dtype=\"uint8\", tile=1, filters=index_filters) for i in range(1, 16)]\n",
    "dim0 = tiledb.Dim(\"R0\", tile=None, dtype=\"ascii\", filters=index_filters)\n",
    "dims.insert(0, dim0)\n",
    "cell_freq_attributes = [tiledb.Attr(\"region_code\", dtype=str, filters=[tiledb.ZstdFilter(level=16)]), tiledb.Attr(\"count\", dtype=\"uint64\", filters=[tiledb.ZstdFilter(level=16)])]\n",
    "domain = tiledb.Domain(*dims)\n",
    "schema = tiledb.ArraySchema(domain=domain, sparse=True, attrs=cell_freq_attributes, cell_order=\"row-major\", tile_order=\"row-major\", capacity=100_000,allows_duplicates=True)"
   ]
  },
  {
   "cell_type": "code",
   "execution_count": 71,
   "id": "ffdcc1af-2020-4f9d-8354-b2df11465ba7",
   "metadata": {},
   "outputs": [],
   "source": [
    "with tiledb.scope_ctx(ctx):\n",
    "    tiledb.Array.create(soundings_cell_density_sparse_array_uri_15, schema)"
   ]
  },
  {
   "cell_type": "code",
   "execution_count": 72,
   "id": "e44ce62f-df8f-4a3d-aff3-ba470299f8bf",
   "metadata": {},
   "outputs": [
    {
     "data": {
      "text/plain": [
       "37177"
      ]
     },
     "execution_count": 72,
     "metadata": {},
     "output_type": "execute_result"
    }
   ],
   "source": [
    "with tiledb.open(soundings_cell_density_array_uri_15, ctx=ctx) as ds:\n",
    "    df = ds.df[:]\n",
    "    \n",
    "write_sparse_rhealpix_chunked(df, soundings_cell_density_sparse_array_uri_15, ctx, chunks=1000000)\n",
    "\n",
    "del df\n",
    "gc.collect()"
   ]
  },
  {
   "cell_type": "code",
   "execution_count": 73,
   "id": "2830c882-6167-455e-b3b7-544b50b41a6d",
   "metadata": {},
   "outputs": [
    {
     "data": {
      "text/plain": [
       "127"
      ]
     },
     "execution_count": 73,
     "metadata": {},
     "output_type": "execute_result"
    }
   ],
   "source": [
    "with tiledb.open(soundings_cell_density_array_uri_15, ctx=ctx) as ds:\n",
    "    df = ds.df[:]\n",
    "\n",
    "res12_df = reduce_resoltion(df, resolution=12, chunks=1000000)\n",
    "\n",
    "del df\n",
    "gc.collect()"
   ]
  },
  {
   "cell_type": "code",
   "execution_count": 74,
   "id": "a4320587-efce-4f8d-ae81-e20e812cd96d",
   "metadata": {},
   "outputs": [
    {
     "data": {
      "text/plain": [
       "16677792"
      ]
     },
     "execution_count": 74,
     "metadata": {},
     "output_type": "execute_result"
    }
   ],
   "source": [
    "res12_df[\"count\"].sum()"
   ]
  },
  {
   "cell_type": "code",
   "execution_count": null,
   "id": "8bdca098-db6b-4f45-aa38-5d7431310ef5",
   "metadata": {},
   "outputs": [],
   "source": []
  },
  {
   "cell_type": "code",
   "execution_count": 75,
   "id": "9050a5d9-58ea-4d73-acd3-38192b7f7685",
   "metadata": {},
   "outputs": [],
   "source": [
    "with tiledb.scope_ctx(ctx):\n",
    "    tiledb.Array.create(res12_out_uri_sparse, schema)"
   ]
  },
  {
   "cell_type": "code",
   "execution_count": 76,
   "id": "b8b8d3a5-a796-422a-aa28-7f80eeff8e4b",
   "metadata": {},
   "outputs": [],
   "source": [
    "write_sparse_rhealpix_chunked(res12_df, res12_out_uri_sparse, ctx, chunks=100000)"
   ]
  },
  {
   "cell_type": "code",
   "execution_count": 77,
   "id": "e85e24f7-fa5f-4057-a6da-ec59cbaa397f",
   "metadata": {},
   "outputs": [],
   "source": [
    "write_chunked(res12_df, res12_out_uri_dense, ctx, 100000)"
   ]
  },
  {
   "cell_type": "code",
   "execution_count": null,
   "id": "8f67f810-8907-4390-b5b6-4ea81a9cd6f4",
   "metadata": {},
   "outputs": [],
   "source": []
  },
  {
   "cell_type": "code",
   "execution_count": 78,
   "id": "558ab753-af2a-4f2c-bd89-9a2b9750c7bd",
   "metadata": {},
   "outputs": [],
   "source": [
    "res12_df[\"geometry\"] = rhealpix.rhealpix_geo_boundary(res12_df.region_code.values)"
   ]
  },
  {
   "cell_type": "code",
   "execution_count": 79,
   "id": "69cf8459-a146-4d71-9d15-1a79986ae348",
   "metadata": {},
   "outputs": [],
   "source": [
    "gdf = geopandas.GeoDataFrame(res12_df, crs=\"epsg:4326\")"
   ]
  },
  {
   "cell_type": "code",
   "execution_count": 80,
   "id": "b5729c33-f00d-4a31-87af-a7ab648ab9f5",
   "metadata": {},
   "outputs": [
    {
     "data": {
      "text/html": [
       "<div>\n",
       "<style scoped>\n",
       "    .dataframe tbody tr th:only-of-type {\n",
       "        vertical-align: middle;\n",
       "    }\n",
       "\n",
       "    .dataframe tbody tr th {\n",
       "        vertical-align: top;\n",
       "    }\n",
       "\n",
       "    .dataframe thead th {\n",
       "        text-align: right;\n",
       "    }\n",
       "</style>\n",
       "<table border=\"1\" class=\"dataframe\">\n",
       "  <thead>\n",
       "    <tr style=\"text-align: right;\">\n",
       "      <th></th>\n",
       "      <th>region_code</th>\n",
       "      <th>count</th>\n",
       "      <th>geometry</th>\n",
       "    </tr>\n",
       "  </thead>\n",
       "  <tbody>\n",
       "    <tr>\n",
       "      <th>0</th>\n",
       "      <td>R785882555282</td>\n",
       "      <td>1</td>\n",
       "      <td>POLYGON ((149.99983 -37.90878, 150.00000 -37.9...</td>\n",
       "    </tr>\n",
       "    <tr>\n",
       "      <th>1</th>\n",
       "      <td>R785882555285</td>\n",
       "      <td>2</td>\n",
       "      <td>POLYGON ((149.99983 -37.90897, 150.00000 -37.9...</td>\n",
       "    </tr>\n",
       "    <tr>\n",
       "      <th>2</th>\n",
       "      <td>R785882555288</td>\n",
       "      <td>1</td>\n",
       "      <td>POLYGON ((149.99983 -37.90915, 150.00000 -37.9...</td>\n",
       "    </tr>\n",
       "    <tr>\n",
       "      <th>3</th>\n",
       "      <td>R785882555522</td>\n",
       "      <td>5</td>\n",
       "      <td>POLYGON ((149.99983 -37.90933, 150.00000 -37.9...</td>\n",
       "    </tr>\n",
       "    <tr>\n",
       "      <th>4</th>\n",
       "      <td>R785882555525</td>\n",
       "      <td>4</td>\n",
       "      <td>POLYGON ((149.99983 -37.90951, 150.00000 -37.9...</td>\n",
       "    </tr>\n",
       "    <tr>\n",
       "      <th>...</th>\n",
       "      <td>...</td>\n",
       "      <td>...</td>\n",
       "      <td>...</td>\n",
       "    </tr>\n",
       "    <tr>\n",
       "      <th>4032631</th>\n",
       "      <td>S422426446233</td>\n",
       "      <td>11</td>\n",
       "      <td>POLYGON ((-90.00281 -75.90987, -90.00225 -75.9...</td>\n",
       "    </tr>\n",
       "    <tr>\n",
       "      <th>4032632</th>\n",
       "      <td>S422426446236</td>\n",
       "      <td>10</td>\n",
       "      <td>POLYGON ((-90.00225 -75.91004, -90.00168 -75.9...</td>\n",
       "    </tr>\n",
       "    <tr>\n",
       "      <th>4032633</th>\n",
       "      <td>S422426446260</td>\n",
       "      <td>10</td>\n",
       "      <td>POLYGON ((-90.00112 -75.91040, -90.00112 -75.9...</td>\n",
       "    </tr>\n",
       "    <tr>\n",
       "      <th>4032634</th>\n",
       "      <td>S422426446263</td>\n",
       "      <td>8</td>\n",
       "      <td>POLYGON ((-90.00112 -75.91040, -90.00056 -75.9...</td>\n",
       "    </tr>\n",
       "    <tr>\n",
       "      <th>4032635</th>\n",
       "      <td>S422426446266</td>\n",
       "      <td>4</td>\n",
       "      <td>POLYGON ((-90.00000 -75.91075, -90.00000 -75.9...</td>\n",
       "    </tr>\n",
       "  </tbody>\n",
       "</table>\n",
       "<p>4032636 rows × 3 columns</p>\n",
       "</div>"
      ],
      "text/plain": [
       "           region_code  count  \\\n",
       "0        R785882555282      1   \n",
       "1        R785882555285      2   \n",
       "2        R785882555288      1   \n",
       "3        R785882555522      5   \n",
       "4        R785882555525      4   \n",
       "...                ...    ...   \n",
       "4032631  S422426446233     11   \n",
       "4032632  S422426446236     10   \n",
       "4032633  S422426446260     10   \n",
       "4032634  S422426446263      8   \n",
       "4032635  S422426446266      4   \n",
       "\n",
       "                                                  geometry  \n",
       "0        POLYGON ((149.99983 -37.90878, 150.00000 -37.9...  \n",
       "1        POLYGON ((149.99983 -37.90897, 150.00000 -37.9...  \n",
       "2        POLYGON ((149.99983 -37.90915, 150.00000 -37.9...  \n",
       "3        POLYGON ((149.99983 -37.90933, 150.00000 -37.9...  \n",
       "4        POLYGON ((149.99983 -37.90951, 150.00000 -37.9...  \n",
       "...                                                    ...  \n",
       "4032631  POLYGON ((-90.00281 -75.90987, -90.00225 -75.9...  \n",
       "4032632  POLYGON ((-90.00225 -75.91004, -90.00168 -75.9...  \n",
       "4032633  POLYGON ((-90.00112 -75.91040, -90.00112 -75.9...  \n",
       "4032634  POLYGON ((-90.00112 -75.91040, -90.00056 -75.9...  \n",
       "4032635  POLYGON ((-90.00000 -75.91075, -90.00000 -75.9...  \n",
       "\n",
       "[4032636 rows x 3 columns]"
      ]
     },
     "execution_count": 80,
     "metadata": {},
     "output_type": "execute_result"
    }
   ],
   "source": [
    "gdf"
   ]
  },
  {
   "cell_type": "code",
   "execution_count": null,
   "id": "f5b949a7-2287-4c69-ad2f-40ada6c1ce50",
   "metadata": {},
   "outputs": [],
   "source": []
  },
  {
   "cell_type": "code",
   "execution_count": null,
   "id": "45e96a72-9ffe-4114-9f70-fd1dffa3a1dc",
   "metadata": {},
   "outputs": [],
   "source": []
  },
  {
   "cell_type": "code",
   "execution_count": 81,
   "id": "5e8c8316-60d8-4b98-a5ad-939a8b227e82",
   "metadata": {},
   "outputs": [],
   "source": [
    "with fiona.Env(session=AWSSession(aws_access_key_id=creds.access_key, aws_secret_access_key=creds.secret_key)):\n",
    "    gdf.to_file(soundings_cell_density_uri, driver=\"GeoJSONSeq\", coordinate_precision=11)"
   ]
  },
  {
   "cell_type": "code",
   "execution_count": null,
   "id": "d9760694-de91-42cd-94fb-2145b1830c40",
   "metadata": {},
   "outputs": [],
   "source": [
    "dissolved = geopandas.GeoDataFrame(geometry.dissolve(gdf), crs=\"epsg:4326\")"
   ]
  },
  {
   "cell_type": "code",
   "execution_count": null,
   "id": "63cf1d6e-3ea6-4ae9-b46c-be218d93176f",
   "metadata": {},
   "outputs": [],
   "source": [
    "with fiona.Env(session=AWSSession(aws_access_key_id=creds.access_key, aws_secret_access_key=creds.secret_key)):\n",
    "    dissolved.to_file(coverage_uri, driver=\"GeoJSONSeq\", coordinate_precision=11)"
   ]
  },
  {
   "cell_type": "code",
   "execution_count": null,
   "id": "d00647a5-ea38-4fc9-bfd7-aa51b3a80929",
   "metadata": {},
   "outputs": [],
   "source": []
  },
  {
   "cell_type": "code",
   "execution_count": null,
   "id": "a4022a27-1aaa-4600-9c51-2c9fd9fe3312",
   "metadata": {},
   "outputs": [],
   "source": [
    "(res12_df[\"count\"].max(), res12_df[\"count\"].min())"
   ]
  },
  {
   "cell_type": "code",
   "execution_count": null,
   "id": "2ff17590-cf32-4653-b568-16bc6241ec62",
   "metadata": {},
   "outputs": [],
   "source": []
  },
  {
   "cell_type": "code",
   "execution_count": null,
   "id": "4142f999-d684-4b59-8e18-1a3c04a68a7d",
   "metadata": {},
   "outputs": [],
   "source": []
  },
  {
   "cell_type": "code",
   "execution_count": null,
   "id": "fff9d9b4-2da2-4582-a684-2e24bc1c6be1",
   "metadata": {},
   "outputs": [],
   "source": [
    "dggs = rhealpix.RhealpixDGGS.from_ellipsoid()\n",
    "dggs.cell_width(12)"
   ]
  },
  {
   "cell_type": "code",
   "execution_count": null,
   "id": "38d3e970-2a07-4068-ad16-6188f65922ae",
   "metadata": {},
   "outputs": [],
   "source": [
    "area_ha = gdf.shape[0] * dggs.cell_width(12) **2 / 10000\n",
    "sonar_metadata[\"area_ha\"] = area_ha\n",
    "area_ha"
   ]
  },
  {
   "cell_type": "code",
   "execution_count": null,
   "id": "cb6c2105-5266-4b8f-a0cd-ceccbf4fc466",
   "metadata": {},
   "outputs": [],
   "source": []
  },
  {
   "cell_type": "code",
   "execution_count": null,
   "id": "4d7a1467-3b68-4c3e-9b0c-db5264754d2d",
   "metadata": {},
   "outputs": [],
   "source": []
  },
  {
   "cell_type": "code",
   "execution_count": null,
   "id": "71bf92d3-26df-4754-9215-1c15a175a7d2",
   "metadata": {},
   "outputs": [],
   "source": [
    "gdf2 = geopandas.GeoDataFrame({\"region_code\": gdf.region_code.str[0:10], \"count\": gdf[\"count\"]}).groupby([\"region_code\"])[\"count\"].agg(\"sum\").to_frame(\"count\").reset_index()"
   ]
  },
  {
   "cell_type": "code",
   "execution_count": null,
   "id": "5a02e5e2-4185-46f1-b750-4ad7705736ff",
   "metadata": {},
   "outputs": [],
   "source": [
    "(gdf2[\"count\"].max(), gdf2[\"count\"].min())"
   ]
  },
  {
   "cell_type": "code",
   "execution_count": null,
   "id": "0a3864a9-8bae-426a-bfb7-554d7a10f83c",
   "metadata": {},
   "outputs": [],
   "source": []
  },
  {
   "cell_type": "code",
   "execution_count": null,
   "id": "fdebb430-d857-40dd-babb-6e313b660779",
   "metadata": {},
   "outputs": [],
   "source": [
    "slices = []\n",
    "for geom in rhealpix.rhealpix_geo_boundary(gdf2.region_code.values, round_coords=False):\n",
    "    bounds = geom.bounds\n",
    "    slices.append((\n",
    "        slice(bounds[0], bounds[-2]),\n",
    "        slice(bounds[1], bounds[-1])\n",
    "    ))"
   ]
  },
  {
   "cell_type": "code",
   "execution_count": null,
   "id": "62ddb6af-fbe4-4e2f-a6e2-4d026cb2596f",
   "metadata": {},
   "outputs": [],
   "source": [
    "n_partitions = 12\n",
    "n_sub_partitions = 3\n",
    "blocks = scatter(slices, n_partitions)"
   ]
  },
  {
   "cell_type": "code",
   "execution_count": null,
   "id": "d24ee9c6-f843-4f83-a831-422a26040842",
   "metadata": {},
   "outputs": [],
   "source": [
    "len(blocks), len(blocks[0])"
   ]
  },
  {
   "cell_type": "code",
   "execution_count": null,
   "id": "2221203d-450f-4214-8c0a-2a060c80c629",
   "metadata": {},
   "outputs": [],
   "source": [
    "len(scatter(blocks[0], n_sub_partitions)[0])"
   ]
  },
  {
   "cell_type": "code",
   "execution_count": null,
   "id": "09fdc52d-e540-4428-856b-cae76a6a7664",
   "metadata": {},
   "outputs": [],
   "source": [
    "stats_attrs = [at for at in required_attributes if at not in [\"timestamp\", \"region_code\"]]\n",
    "stats_attrs.insert(0, \"Y\")\n",
    "stats_attrs.insert(0, \"X\")"
   ]
  },
  {
   "cell_type": "code",
   "execution_count": null,
   "id": "dee06619-6b8a-4f83-81fb-8a29f72acce6",
   "metadata": {},
   "outputs": [],
   "source": [
    "stats_results = []\n",
    "tasks_dict = {stat: [] for stat in stats_attrs}\n",
    "reduce_tasks = []\n",
    "\n",
    "for i, block in enumerate(blocks):\n",
    "    sub_tasks = []\n",
    "    sub_blocks = scatter(block, n_sub_partitions)\n",
    "\n",
    "    for si, sub_block in enumerate(sub_blocks):\n",
    "        for attribute in stats_attrs:\n",
    "            \n",
    "            if attribute in [\"X\", \"Y\"]:\n",
    "                schema = attribute\n",
    "            else:\n",
    "                schema = None\n",
    "\n",
    "            task_name = f\"block-{i}-sub_block-{si}-{attribute}\"\n",
    "            task = Delayed(\"sixy6e/basic_statistics_incremental\", name=task_name)(array_uri, config_dict, attribute, schema=schema, idxs=sub_block, summarise=False)\n",
    "\n",
    "            if len(tasks_dict[attribute]) > 1:\n",
    "                task.depends_on(tasks_dict[attribute][-1])\n",
    "\n",
    "            tasks_dict[attribute].append(task)\n",
    "\n",
    "for attribute in stats_attrs:\n",
    "    task_name = f\"reduce-attibute-{attribute}\"\n",
    "    reducer_task = Delayed(\"sixy6e/basic_statistics_reduce\", name=task_name)(tasks_dict[attribute], attribute)\n",
    "    reduce_tasks.append(reducer_task)\n",
    "\n",
    "collect_stats_task = Delayed(gather_stats, local=True, name=\"gather-stats\")(reduce_tasks)"
   ]
  },
  {
   "cell_type": "code",
   "execution_count": null,
   "id": "496a7e8e-2fb9-4306-b2e2-5acf4543ffd4",
   "metadata": {},
   "outputs": [],
   "source": [
    "stats_results = collect_stats_task.compute()"
   ]
  },
  {
   "cell_type": "code",
   "execution_count": null,
   "id": "cfb968b0-0866-4023-a8ac-b1d41c9dedb3",
   "metadata": {},
   "outputs": [],
   "source": [
    "crs_info = {\n",
    "    \"horizontal_datum\": \"epsg:4326\",\n",
    "    \"vertical_datum\": \"epsg:5714\",  # TODO******************************************\n",
    "}"
   ]
  },
  {
   "cell_type": "code",
   "execution_count": null,
   "id": "b2d4bdc5-2817-489b-b32e-f97a34a4c672",
   "metadata": {},
   "outputs": [],
   "source": [
    "with tiledb.open(array_uri, \"w\", ctx=ctx) as ds:\n",
    "    ds.meta[\"crs_info\"] = json.dumps(crs_info)\n",
    "    ds.meta[\"basic_statistics\"] = json.dumps(stats_results, cls=stac_metadata.Encoder)"
   ]
  },
  {
   "cell_type": "code",
   "execution_count": null,
   "id": "b85527c4-dce2-4c80-8690-76acf8fd1812",
   "metadata": {},
   "outputs": [],
   "source": [
    "with fs.open(asb_metadata_uri) as src:\n",
    "    asb_metadata = json.loads(src.read())"
   ]
  },
  {
   "cell_type": "code",
   "execution_count": null,
   "id": "bfe5ce58-d8f9-4955-86e6-96d70f3523f6",
   "metadata": {},
   "outputs": [],
   "source": [
    "dataset_metadata = stac_metadata.prepare(\n",
    "    uid,\n",
    "    sonar_metadata,\n",
    "    stats_results,\n",
    "    asb_metadata,\n",
    "    array_uri,\n",
    "    coverage_uri,\n",
    "    soundings_cell_density_uri,\n",
    "    creds.access_key,\n",
    "    creds.secret_key,\n",
    "    final_start_end_timestamps,\n",
    "    outdir_uri,\n",
    "    stac_md_uri,\n",
    ")"
   ]
  },
  {
   "cell_type": "code",
   "execution_count": null,
   "id": "d99c2688-55ce-407a-8a8c-277498b1e508",
   "metadata": {},
   "outputs": [],
   "source": [
    "tiledb.cloud.register_array(\n",
    "    uri=array_uri,\n",
    "    namespace=\"sixy6e\", # Optional, you may register it under your username, or one of your organizations\n",
    "    array_name=array_name,\n",
    "    description=asb_metadata[\"survey_general\"][\"abstract\"],  # Optional \n",
    "    access_credentials_name=\"AusSeabedGMRT-PL019\"\n",
    ")"
   ]
  },
  {
   "cell_type": "code",
   "execution_count": null,
   "id": "bad7df49-b08d-419a-b0f0-95e9e22876b1",
   "metadata": {},
   "outputs": [],
   "source": []
  },
  {
   "cell_type": "code",
   "execution_count": null,
   "id": "57e63d26-1442-449e-824d-c3ae6a2f3203",
   "metadata": {},
   "outputs": [],
   "source": []
  }
 ],
 "metadata": {
  "kernelspec": {
   "display_name": "Python 3",
   "language": "python",
   "name": "python3"
  },
  "language_info": {
   "codemirror_mode": {
    "name": "ipython",
    "version": 3
   },
   "file_extension": ".py",
   "mimetype": "text/x-python",
   "name": "python",
   "nbconvert_exporter": "python",
   "pygments_lexer": "ipython3",
   "version": "3.10.5"
  }
 },
 "nbformat": 4,
 "nbformat_minor": 5
}
