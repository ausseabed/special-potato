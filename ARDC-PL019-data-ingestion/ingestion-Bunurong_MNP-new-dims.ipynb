{
 "cells": [
  {
   "cell_type": "code",
   "execution_count": 1,
   "id": "ff426cfe-4e54-4b86-9e3e-7bfdeaae6068",
   "metadata": {},
   "outputs": [],
   "source": [
    "import boto3\n",
    "import io\n",
    "import urllib\n",
    "import s3fs\n",
    "import json\n",
    "from pathlib import Path\n",
    "import attr\n",
    "import numpy\n",
    "import tiledb\n",
    "import tiledb.cloud\n",
    "from tiledb.cloud.compute import DelayedArrayUDF, Delayed\n",
    "import pandas\n",
    "import geopandas\n",
    "import fiona\n",
    "from fiona.session import AWSSession\n",
    "import pystac\n",
    "from scipy.stats import skew, kurtosis\n",
    "import uuid\n",
    "from numba import jit\n",
    "import gc\n",
    "from vincenty import vincenty"
   ]
  },
  {
   "cell_type": "code",
   "execution_count": 2,
   "id": "55906efe-66b4-4edd-b1b2-acf8622fcb49",
   "metadata": {},
   "outputs": [],
   "source": [
    "import pystac\n",
    "from pystac.extensions.projection import ProjectionExtension\n",
    "from pystac.extensions.pointcloud import (\n",
    "PointcloudExtension,\n",
    "SchemaType,\n",
    "PhenomenologyType,\n",
    "Schema,\n",
    "Statistic,\n",
    ")"
   ]
  },
  {
   "cell_type": "code",
   "execution_count": 3,
   "id": "995ae892-7c26-4006-b425-00aedb2bec1b",
   "metadata": {},
   "outputs": [],
   "source": [
    "from reap_gsf import reap, data_model\n",
    "from bathy_datasets import rhealpix, storage, geometry, asb_spreadsheet,stac_metadata"
   ]
  },
  {
   "cell_type": "code",
   "execution_count": 4,
   "id": "4b98e8ee-f839-4a6e-9f6a-cdaccbea39b5",
   "metadata": {},
   "outputs": [],
   "source": [
    "session = boto3.Session()\n",
    "creds = session.get_credentials()"
   ]
  },
  {
   "cell_type": "code",
   "execution_count": 5,
   "id": "212811cf-142a-4cf7-a978-7cc026250696",
   "metadata": {},
   "outputs": [],
   "source": [
    "fs = s3fs.S3FileSystem(key=creds.access_key, secret=creds.secret_key, use_listings_cache=False)"
   ]
  },
  {
   "cell_type": "code",
   "execution_count": 6,
   "id": "f5225308-91f7-4b68-a0b4-75597341c973",
   "metadata": {},
   "outputs": [],
   "source": [
    "uid = uuid.uuid4()"
   ]
  },
  {
   "cell_type": "code",
   "execution_count": 7,
   "id": "248a4b7d-96c8-4158-a0e1-7f98df76e724",
   "metadata": {},
   "outputs": [],
   "source": [
    "survey_uri = \"s3://ausseabed-pl019-provided-data/DeakinUniversity/Bunurong_MNP/\"\n",
    "outdir_uri = \"s3://ausseabed-pl019-ingested-data/L2B/Bunurong_MNP/\"\n",
    "asb_metadata_uri = \"s3://ausseabed-pl019-provided-data/DeakinUniversity/Bunurong_MNP/metadata/spreadsheet-metadata.json\"\n",
    "survey_info_uri = \"s3://ausseabed-pl019-provided-data/DeakinUniversity/Bunurong_MNP/schema-info.json\""
   ]
  },
  {
   "cell_type": "code",
   "execution_count": 8,
   "id": "fcdf8628-92e9-4864-87cd-485d6ff1f213",
   "metadata": {},
   "outputs": [],
   "source": [
    "base_prefix = \"ga_ausseabed\"\n",
    "array_name = f\"{base_prefix}_{uid}_bathymetry\"\n",
    "array_uri = f\"{outdir_uri}{array_name}.tiledb\"\n",
    "tiledb_array_uri = f\"tiledb://sixy6e/{array_name}\"\n",
    "soundings_cell_density_uri = f\"{outdir_uri}{base_prefix}_{uid}_soundings-cell-density-resolution-12.geojson\"\n",
    "coverage_uri = f\"{outdir_uri}{base_prefix}_{uid}_coverage.geojson\"\n",
    "stac_md_uri = f\"{outdir_uri}{base_prefix}_{uid}_stac-metadata.geojson\""
   ]
  },
  {
   "cell_type": "code",
   "execution_count": 9,
   "id": "1478c1e2-70f9-4519-afb2-c42076d7c613",
   "metadata": {},
   "outputs": [],
   "source": [
    "soundings_cell_density_uri_15 = f\"{outdir_uri}{base_prefix}_{uid}_soundings-cell-density-resolution-15.geojson\"\n",
    "soundings_cell_density_array_uri_15 = f\"{outdir_uri}{base_prefix}_{uid}_soundings-cell-density-resolution-15.tiledb\"\n",
    "soundings_cell_density_sparse_array_uri_15 = f\"{outdir_uri}{base_prefix}_{uid}_soundings-cell-density-resolution-15-sparse-array.tiledb\""
   ]
  },
  {
   "cell_type": "code",
   "execution_count": 10,
   "id": "d18782f0-df64-48c3-9826-2030dfaa87a8",
   "metadata": {},
   "outputs": [],
   "source": [
    "res12_out_uri_sparse = f\"{outdir_uri}{base_prefix}_{uid}_soundings-cell-density-resolution-12-sparse-array.tiledb\"\n",
    "res12_out_uri_dense = f\"{outdir_uri}{base_prefix}_{uid}_soundings-cell-density-resolution-12-dense-array.tiledb\""
   ]
  },
  {
   "cell_type": "code",
   "execution_count": 11,
   "id": "f3fd295b-4c7c-463b-be50-7b4fd75e988e",
   "metadata": {},
   "outputs": [],
   "source": [
    "tmpdir = f\"{outdir_uri}{base_prefix}_{uid}_tmp/\""
   ]
  },
  {
   "cell_type": "code",
   "execution_count": 12,
   "id": "4914f8bf-6c3c-4155-a57d-a808101d9b07",
   "metadata": {},
   "outputs": [
    {
     "data": {
      "text/plain": [
       "'s3://ausseabed-pl019-ingested-data/L2B/Bunurong_MNP/ga_ausseabed_b156a91a-43f1-4ad3-ba5c-8641044acbca_tmp/'"
      ]
     },
     "execution_count": 12,
     "metadata": {},
     "output_type": "execute_result"
    }
   ],
   "source": [
    "tmpdir"
   ]
  },
  {
   "cell_type": "code",
   "execution_count": 13,
   "id": "cf9c1e24-ae72-4ef8-bb40-16b9d4116000",
   "metadata": {},
   "outputs": [
    {
     "data": {
      "text/plain": [
       "'s3://ausseabed-pl019-ingested-data/L2B/Bunurong_MNP/ga_ausseabed_b156a91a-43f1-4ad3-ba5c-8641044acbca_bathymetry.tiledb'"
      ]
     },
     "execution_count": 13,
     "metadata": {},
     "output_type": "execute_result"
    }
   ],
   "source": [
    "array_uri"
   ]
  },
  {
   "cell_type": "code",
   "execution_count": 14,
   "id": "df2776e2-b7db-4674-8d23-27bb1374dfe1",
   "metadata": {},
   "outputs": [],
   "source": [
    "def get_sonar_metadata(json_uri):\n",
    "    \"\"\"\n",
    "    Temporary func for pulling metadata from a sample GSF file.\n",
    "    \"\"\"\n",
    "    with fs.open(json_uri) as src:\n",
    "        md = json.loads(src.read())\n",
    "    stream_task = Delayed(\"sixy6e/retrieve_stream\", name=\"retrieve\")(md[\"gsf_uri\"], creds.access_key, creds.secret_key)\n",
    "    dataframe_task = Delayed(\"sixy6e/decode_gsf\", name=\"decode\", image_name=\"3.7-geo\")(stream_task, slice(10))\n",
    "    df, finfo = dataframe_task.compute()\n",
    "    sonar_metadata = finfo[3].record(0).read(stream_task.result()[0])\n",
    "    history = attr.asdict(finfo[6].record(0).read(stream_task.result()[0]))\n",
    "    for key, value in history.items():\n",
    "        sonar_metadata[key] = value\n",
    "    return sonar_metadata\n",
    "\n",
    "\n",
    "def reduce_region_codes_timestamps(results):\n",
    "    \"\"\"\n",
    "    The reduce part of the map-reduce construct for handling the region_code counts.\n",
    "    Combine all the region_code counts then summarise the results.\n",
    "    \"\"\"\n",
    "    region_codes = [i[0] for i in results]\n",
    "    timestamps = [i[1] for i in results]\n",
    "    df = pandas.concat(region_codes)\n",
    "    cell_count = df.groupby([\"region_code\"])[\"count\"].agg(\"sum\").to_frame(\"count\").reset_index()\n",
    "    \n",
    "    timestamps_df = pandas.DataFrame(\n",
    "        {\n",
    "            \"start_datetime\": [i[0] for i in timestamps],\n",
    "            \"end_datetime\": [i[1] for i in timestamps],\n",
    "        }\n",
    "    )\n",
    "\n",
    "    start_end_timestamp = [\n",
    "        timestamps_df.start_datetime.min().to_pydatetime(),\n",
    "        timestamps_df.end_datetime.max().to_pydatetime(),\n",
    "    ]\n",
    "\n",
    "    return cell_count, start_end_timestamp\n",
    "\n",
    "\n",
    "def reduce_region_codes(region_codes):\n",
    "    \"\"\"\n",
    "    The reduce part of the map-reduce construct for handling the region_code counts.\n",
    "    Combine all the region_code counts then summarise the results.\n",
    "    \"\"\"\n",
    "    df = pandas.concat(region_codes)\n",
    "    cell_count = df.groupby([\"region_code\"])[\"count\"].agg(\"sum\").to_frame(\"count\").reset_index()\n",
    "\n",
    "    return cell_count\n",
    "\n",
    "\n",
    "def reduce_timestamps(timestamps):\n",
    "    \"\"\"\n",
    "    The reduce part of the map-reduce construct for handling the region_code counts.\n",
    "    Combine all the region_code counts then summarise the results.\n",
    "    \"\"\"\n",
    "    timestamps_df = pandas.DataFrame(\n",
    "        {\n",
    "            \"start_datetime\": [i[0] for i in timestamps],\n",
    "            \"end_datetime\": [i[1] for i in timestamps],\n",
    "        }\n",
    "    )\n",
    "\n",
    "    start_end_timestamp = [\n",
    "        timestamps_df.start_datetime.min().to_pydatetime(),\n",
    "        timestamps_df.end_datetime.max().to_pydatetime(),\n",
    "    ]\n",
    "\n",
    "    return start_end_timestamp\n",
    "\n",
    "\n",
    "def gather_stats(results):\n",
    "    \"\"\"\n",
    "    Gather the results from all the stats tasks and\n",
    "    combine into a single dict.\n",
    "    \"\"\"\n",
    "    data = {}\n",
    "    for item in results:\n",
    "        for key in item:\n",
    "            data[key] = item[key]\n",
    "    return data"
   ]
  },
  {
   "cell_type": "code",
   "execution_count": 15,
   "id": "37d88186-afd5-4a2e-bd2b-f9a3e154d79b",
   "metadata": {},
   "outputs": [],
   "source": [
    "def retrieve_stream(uri, access_key, skey):\n",
    "    \"\"\"\n",
    "    Not testing the creation of the stream object at this point.\n",
    "    But for testing, we also need to keep the download to occur only\n",
    "    once.\n",
    "    \"\"\"\n",
    "    session = boto3.Session(aws_access_key_id=access_key, aws_secret_access_key=skey)\n",
    "    dev_resource = session.resource(\"s3\")\n",
    "    uri = urllib.parse.urlparse(uri)\n",
    "    obj = dev_resource.Object(bucket_name=uri.netloc, key=uri.path[1:])\n",
    "    stream = io.BytesIO(obj.get()[\"Body\"].read())\n",
    "    return stream, obj.content_length\n",
    "\n",
    "\n",
    "def append_ping_dataframe(dataframe, array_uri, access_key, skey):\n",
    "    \"\"\"Append the ping dataframe read from a GSF file.\"\"\"\n",
    "    config = tiledb.Config(\n",
    "        {\"vfs.s3.aws_access_key_id\": access_key, \"vfs.s3.aws_secret_access_key\": skey}\n",
    "    )\n",
    "    ctx = tiledb.Ctx(config=config)\n",
    "    kwargs = {\n",
    "        \"mode\": \"append\",\n",
    "        \"sparse\": True,\n",
    "        \"ctx\": ctx,\n",
    "    }\n",
    "\n",
    "    tiledb.dataframe_.from_pandas(array_uri, dataframe, **kwargs)\n",
    "\n",
    "\n",
    "def write_ping_beam_dims_dataframe(dataframe, array_uri, access_key, skey):\n",
    "    \"\"\"\n",
    "    Write the ping dataframe to a TileDB using a dense ping-beam dimensional\n",
    "    axes.\n",
    "    \"\"\"\n",
    "    config = tiledb.Config(\n",
    "        {\"vfs.s3.aws_access_key_id\": access_key, \"vfs.s3.aws_secret_access_key\": skey}\n",
    "    )\n",
    "    ctx = tiledb.Ctx(config=config)\n",
    "\n",
    "    ping_start_idx = int(dataframe.ping_number.min())\n",
    "    ping_end_idx = int(dataframe.ping_number.max()) + 1\n",
    "\n",
    "    col_info = tiledb.dataframe_._get_column_infos(dataframe, None, None)\n",
    "    data_dict, _nanull = tiledb.dataframe_._df_to_np_arrays(dataframe, col_info, None)\n",
    "\n",
    "    with tiledb.open(array_uri, \"w\", ctx=ctx) as ds:\n",
    "        ds[ping_start_idx:ping_end_idx, :] = data_dict\n",
    "\n",
    "\n",
    "def ingest_gsf_slice(\n",
    "    file_record,\n",
    "    stream,\n",
    "    access_key,\n",
    "    skey,\n",
    "    array_uri,\n",
    "    idx=slice(None),\n",
    "    cell_frequency=False,\n",
    "    ping_beam_dims=False\n",
    "):\n",
    "    \"\"\"\n",
    "    General steps:\n",
    "    Extract the ping data.\n",
    "    Calculate the rHEALPIX code.\n",
    "    Summarise the rHEALPIX codes (frequency count).\n",
    "    Get timestamps of first and last pings.\n",
    "    Write the ping data to a TileDB array.\n",
    "    res = [df.groupby([\"key\"])[\"key\"].agg(\"count\").to_frame(\"count\").reset_index() for i in range(3)]\n",
    "    df2 = pandas.concat(res)\n",
    "    df2.groupby([\"key\"])[\"count\"].agg(\"sum\")\n",
    "    \"\"\"\n",
    "    swath_pings = data_model.SwathBathymetryPing.from_records(file_record, stream, idx)\n",
    "    swath_pings.ping_dataframe[\"region_code\"] = rhealpix.rhealpix_code(\n",
    "        swath_pings.ping_dataframe.X, swath_pings.ping_dataframe.Y, 15\n",
    "    )\n",
    "\n",
    "    # frequency of dggs cells\n",
    "    if cell_frequency:\n",
    "        cell_count = (\n",
    "            swath_pings.ping_dataframe.groupby([\"region_code\"])[\"region_code\"]\n",
    "            .agg(\"count\")\n",
    "            .to_frame(\"count\")\n",
    "            .reset_index()\n",
    "        )\n",
    "\n",
    "        start_end_time = [\n",
    "            swath_pings.ping_dataframe.timestamp.min().to_pydatetime(),\n",
    "            swath_pings.ping_dataframe.timestamp.max().to_pydatetime(),\n",
    "        ]\n",
    "\n",
    "    else:\n",
    "        cell_count = None\n",
    "        start_end_time = None\n",
    "\n",
    "    # write to tiledb array\n",
    "    if ping_beam_dims:\n",
    "        write_ping_beam_dims_dataframe(swath_pings.ping_dataframe, array_uri, access_key, skey)\n",
    "    else:\n",
    "        append_ping_dataframe(swath_pings.ping_dataframe, array_uri, access_key, skey)\n",
    "\n",
    "    # append_ping_dataframe(swath_pings.ping_dataframe, array_uri, access_key, skey)\n",
    "\n",
    "    return cell_count, start_end_time\n",
    "\n",
    "\n",
    "def ingest_gsf_slices(gsf_uri, access_key, skey, array_uri, slices, cell_frequency=False, ping_beam_dims=False):\n",
    "    \"\"\"\n",
    "    Ingest a list of ping slices from a given GSF file.\n",
    "    \"\"\"\n",
    "    stream, stream_length = retrieve_stream(gsf_uri, access_key, skey)\n",
    "    finfo = reap.file_info(stream, stream_length)\n",
    "    ping_file_record = finfo[1]\n",
    "\n",
    "    cell_counts = []\n",
    "    start_end_timestamps = []\n",
    "\n",
    "    for idx in slices:\n",
    "        count, start_end_time = ingest_gsf_slice(\n",
    "            ping_file_record, stream, access_key, skey, array_uri, idx, cell_frequency, ping_beam_dims\n",
    "        )\n",
    "        cell_counts.append(count)\n",
    "        start_end_timestamps.append(start_end_time)\n",
    "\n",
    "    if cell_frequency:\n",
    "        # aggreate the ping slices and calculate the cell counts\n",
    "        concatenated = pandas.concat(cell_counts)\n",
    "        cell_count = (\n",
    "            concatenated.groupby([\"region_code\"])[\"count\"]\n",
    "            .agg(\"sum\")\n",
    "            .to_frame(\"count\")\n",
    "            .reset_index()\n",
    "        )\n",
    "\n",
    "        # aggregate the min and max timestamps, then find the min max timestamps\n",
    "        timestamps_df = pandas.DataFrame(\n",
    "            {\n",
    "                \"start_datetime\": [i[0] for i in start_end_timestamps],\n",
    "                \"end_datetime\": [i[1] for i in start_end_timestamps],\n",
    "            }\n",
    "        )\n",
    "\n",
    "        start_end_timestamp = [\n",
    "            timestamps_df.start_datetime.min().to_pydatetime(),\n",
    "            timestamps_df.end_datetime.max().to_pydatetime(),\n",
    "        ]\n",
    "\n",
    "    else:\n",
    "        cell_count = None\n",
    "        start_end_timestamp = None\n",
    "\n",
    "    return cell_count, start_end_timestamp"
   ]
  },
  {
   "cell_type": "code",
   "execution_count": 16,
   "id": "9be764a7-18c4-4429-93bb-42a46477838d",
   "metadata": {},
   "outputs": [],
   "source": [
    "def dummy_reducer(results):\n",
    "    return len(results)\n",
    "\n",
    "def scatter(iterable, n):\n",
    "    \"\"\"\n",
    "    Evenly scatters an interable by `n` blocks.\n",
    "    Sourced from:\n",
    "    http://stackoverflow.com/questions/2130016/splitting-a-list-of-arbitrary-size-into-only-roughly-n-equal-parts\n",
    "\n",
    "    :param iterable:\n",
    "        An iterable or preferably a 1D list or array.\n",
    "\n",
    "    :param n:\n",
    "        An integer indicating how many blocks to create.\n",
    "\n",
    "    :return:\n",
    "        A `list` consisting of `n` blocks of roughly equal size, each\n",
    "        containing elements from `iterable`.\n",
    "    \"\"\"\n",
    "\n",
    "    q, r = len(iterable) // n, len(iterable) % n\n",
    "    res = (iterable[i * q + min(i, r) : (i + 1) * q + min(i + 1, r)] for i in range(n))\n",
    "    return list(res)"
   ]
  },
  {
   "cell_type": "code",
   "execution_count": 17,
   "id": "4d3a2f7a",
   "metadata": {},
   "outputs": [],
   "source": [
    "def cell_frequency(array_uri, cell_frequency_uri, access_key, skey):\n",
    "    \"\"\"\n",
    "    Calculate the frequency distirbution of each region code (cell count).\n",
    "    Result is written to a tiledb array.\n",
    "    \"\"\"\n",
    "    config = tiledb.Config(\n",
    "        {\"vfs.s3.aws_access_key_id\": access_key, \"vfs.s3.aws_secret_access_key\": skey}\n",
    "    )\n",
    "    ctx = tiledb.Ctx(config=config)\n",
    "    kwargs = {\n",
    "        \"sparse\": False,\n",
    "        \"column_types\": {\n",
    "            \"region_code\": str,\n",
    "            \"count\": numpy.uint64,\n",
    "        },\n",
    "        \"ctx\": ctx,\n",
    "    }\n",
    "\n",
    "    with tiledb.open(array_uri, ctx=ctx) as ds:\n",
    "        query = ds.query(attrs=[\"region_code\"], coords=False)\n",
    "        df = query.df[:]\n",
    "\n",
    "    frequency_df = (\n",
    "        df.groupby([\"region_code\"])[\"region_code\"]\n",
    "        .agg(\"count\")\n",
    "        .to_frame(\"count\")\n",
    "        .reset_index()\n",
    "    )\n",
    "\n",
    "    tiledb.dataframe_.from_pandas(cell_frequency_uri, frequency_df, **kwargs)\n",
    "\n",
    "\n",
    "def start_end_timestamps(array_uri, access_key, skey):\n",
    "    \"\"\"\n",
    "    Find the min/max of the timestamp attribute.\n",
    "    \"\"\"\n",
    "    config = tiledb.Config(\n",
    "        {\"vfs.s3.aws_access_key_id\": access_key, \"vfs.s3.aws_secret_access_key\": skey}\n",
    "    )\n",
    "    ctx = tiledb.Ctx(config=config)\n",
    "\n",
    "    with tiledb.open(array_uri, ctx=ctx) as ds:\n",
    "        query = ds.query(attrs=[\"timestamp\"], coords=False)\n",
    "        df = query.df[:]\n",
    "\n",
    "    start_end_time = [\n",
    "        df.timestamp.min().to_pydatetime(),\n",
    "        df.timestamp.max().to_pydatetime(),\n",
    "    ]\n",
    "\n",
    "    return start_end_time"
   ]
  },
  {
   "cell_type": "code",
   "execution_count": 18,
   "id": "a43fc141-11e0-4faa-88b0-b47820681119",
   "metadata": {},
   "outputs": [],
   "source": [
    "def ingest_gsfs_singular(files, processing_node_limit, ping_slice_step, slices_per_node, array_uris, cell_freq_uris, local=False, ping_beam_dims=False):\n",
    "    \"\"\"\n",
    "    Prototype ingester. Multi-file method. Each GSF will have a corresponding TileDB array.\n",
    "    After which all TileDB arrays will be merged into 1.\n",
    "    \"\"\"\n",
    "\n",
    "    node_counter = 0\n",
    "    tasks = []\n",
    "    tasks_dict = {n: [] for n in range(processing_node_limit)}\n",
    "    files_dict = {fname: [] for fname in files}\n",
    "    cell_frequency_tasks = []\n",
    "    # timestamps_tasks = []\n",
    "\n",
    "    for enumi, pathname in enumerate(files):\n",
    "        metadata_pathname = pathname.replace(\".gsf\", \".json\")\n",
    "        base_name = Path(pathname).stem\n",
    "        with fs.open(metadata_pathname) as src:\n",
    "            gsf_metadata = json.loads(src.read())\n",
    "\n",
    "        ping_count = gsf_metadata[\"file_record_types\"][\"GSF_SWATH_BATHYMETRY_PING\"][\"record_count\"]\n",
    "\n",
    "        slices = [slice(start, start+ping_slice_step) for start in numpy.arange(0, ping_count, ping_slice_step)]\n",
    "        slice_chunks = [slices[i:i+slices_per_node] for i in range(0, len(slices), slices_per_node)]\n",
    "\n",
    "        array_uri = array_uris[enumi]\n",
    "        cell_freq_uri = cell_freq_uris[enumi]\n",
    "\n",
    "        for slice_chunk in slice_chunks:\n",
    "            start_idx = slice_chunk[0].start\n",
    "            end_idx = slice_chunk[-1].stop\n",
    "            task_name = f\"{base_name}-{start_idx}-{end_idx}-{node_counter}\"\n",
    "            \n",
    "            if local:\n",
    "                task = Delayed(ingest_gsf_slices, name=task_name, local=True)(gsf_metadata[\"gsf_uri\"], creds.access_key, creds.secret_key, array_uri, slice_chunk, cell_frequency=False, ping_beam_dims=ping_beam_dims)\n",
    "            else:\n",
    "                task = Delayed(\"sixy6e/ingest_gsf_slices\", name=task_name, image_name=\"3.7-geo\", timeout=1800)(gsf_metadata[\"gsf_uri\"], creds.access_key, creds.secret_key, array_uri, slice_chunk, cell_frequency=False, ping_beam_dims=ping_beam_dims)\n",
    "\n",
    "            if len(tasks_dict[node_counter]):\n",
    "                task.depends_on(tasks_dict[node_counter][-1])\n",
    "\n",
    "            tasks.append(task)\n",
    "            tasks_dict[node_counter].append(task)\n",
    "            node_counter += 1\n",
    "\n",
    "            files_dict[pathname].append(task)\n",
    "\n",
    "            if node_counter == processing_node_limit:\n",
    "                node_counter = 0\n",
    "\n",
    "        if local:\n",
    "            cell_freq_task = Delayed(cell_frequency, name=f\"{base_name}-cell-frequency\", local=True)(array_uri, cell_freq_uri, creds.access_key, creds.secret_key)\n",
    "            # timestamp_task = Delayed(start_end_timestamps, name=f\"{base_name}-start-end-timestamps\", local=True)(array_uri, creds.access_key, creds.secret_key)\n",
    "        else:\n",
    "             cell_freq_task = Delayed(\"sixy6e/cell_frequency\", name=f\"{base_name}-cell-frequency\")(array_uri, cell_freq_uri, creds.access_key, creds.secret_key)\n",
    "            #timestamp_task = Delayed(\"sixy6e/start_end_timestamps\", name=f\"{base_name}-start-end-timestamps\")(array_uri, creds.access_key, creds.secret_key)\n",
    "        \n",
    "        for dep in files_dict[pathname]:\n",
    "            cell_freq_task.depends_on(dep)\n",
    "\n",
    "\n",
    "        #timestamp_task = Delayed(\"sixy6e/start_end_timestamps\", name=f\"{base_name}-start-end-timestamps\")(array_uri, creds.access_key, creds.secret_key)\n",
    "        # timestamp_task.depends_on(cell_freq_task)\n",
    "\n",
    "        cell_frequency_tasks.append(cell_freq_task)\n",
    "        # timestamps_tasks.append(timestamp_task)\n",
    "\n",
    "\n",
    "    # reduce_task = Delayed(reduce_timestamps, name=\"reduce-timestamps\", local=True)(timestamps_tasks)\n",
    "    reduce_task = Delayed(dummy_reducer, name=\"dummy-reducer\", local=True)(cell_frequency_tasks)\n",
    "    \n",
    "    return reduce_task"
   ]
  },
  {
   "cell_type": "code",
   "execution_count": 19,
   "id": "4745ee27-3467-4c1e-9b9f-918a41024aaf",
   "metadata": {},
   "outputs": [],
   "source": [
    "def load_and_concat(array_uris, ctx, out_uri=None):\n",
    "    def concat(array_uris, ctx):\n",
    "        data = []\n",
    "\n",
    "        for uri in array_uris:\n",
    "            with tiledb.open(uri, ctx=ctx) as ds:\n",
    "                data.append(ds.df[:])\n",
    "\n",
    "        concatenated = pandas.concat(data, copy=False)\n",
    "\n",
    "        return concatenated\n",
    "\n",
    "    concatenated = concat(array_uris, ctx)\n",
    "    summarised = concatenated.groupby([\"region_code\"])[\"count\"].agg(\"sum\").to_frame(\"count\").reset_index()\n",
    "    if out_uri is None:\n",
    "        return summarised\n",
    "    else:\n",
    "        write_chunked(summarised, out_uri, ctx, chunks=1000000)"
   ]
  },
  {
   "cell_type": "code",
   "execution_count": 20,
   "id": "7f1c38c7-335c-49a2-b714-3f0d2e4b5764",
   "metadata": {},
   "outputs": [],
   "source": [
    "@jit(nopython=True)\n",
    "def strtoint(s):\n",
    "    return ord(s) - 48\n",
    "\n",
    "@jit(nopython=True)\n",
    "def _unpack_code(region_codes: numpy.ndarray, ncodes, res):\n",
    "    resolutions = [str(f\"R{i}\") for i in range(res)]\n",
    "    unpacked = {\n",
    "        \"R1\": numpy.zeros(ncodes, dtype=\"uint8\"),\n",
    "        \"R2\": numpy.zeros(ncodes, dtype=\"uint8\"),\n",
    "        \"R3\": numpy.zeros(ncodes, dtype=\"uint8\"),\n",
    "        \"R4\": numpy.zeros(ncodes, dtype=\"uint8\"),\n",
    "        \"R5\": numpy.zeros(ncodes, dtype=\"uint8\"),\n",
    "        \"R6\": numpy.zeros(ncodes, dtype=\"uint8\"),\n",
    "        \"R7\": numpy.zeros(ncodes, dtype=\"uint8\"),\n",
    "        \"R8\": numpy.zeros(ncodes, dtype=\"uint8\"),\n",
    "        \"R9\": numpy.zeros(ncodes, dtype=\"uint8\"),\n",
    "        \"R10\": numpy.zeros(ncodes, dtype=\"uint8\"),\n",
    "        \"R11\": numpy.zeros(ncodes, dtype=\"uint8\"),\n",
    "        \"R12\": numpy.zeros(ncodes, dtype=\"uint8\"),\n",
    "        \"R13\": numpy.zeros(ncodes, dtype=\"uint8\"),\n",
    "        \"R14\": numpy.zeros(ncodes, dtype=\"uint8\"),\n",
    "        \"R15\": numpy.zeros(ncodes, dtype=\"uint8\"),\n",
    "    }\n",
    "    r0 = numpy.zeros(ncodes, dtype=\"<U1\")\n",
    "    for i in range(ncodes):\n",
    "        code = str(region_codes[i])\n",
    "        r0[i] = code[0]\n",
    "        for j in range(1, res):\n",
    "            unpacked[resolutions[j]][i] = strtoint(code[j])\n",
    "    return r0, unpacked"
   ]
  },
  {
   "cell_type": "code",
   "execution_count": 21,
   "id": "17e7753a-5f7b-4963-95b9-c2aa2d728214",
   "metadata": {},
   "outputs": [],
   "source": [
    "def unpack_code(region_codes: numpy.ndarray, dataframe=True):\n",
    "    res = len(region_codes[0])\n",
    "    region_codes = region_codes.astype(f\"<U{len(region_codes[0])}\")\n",
    "    r0, unpacked = _unpack_code(region_codes, region_codes.shape[0], res)\n",
    "    unpacked_dict = {\"R0\": r0}\n",
    "    for key in unpacked:\n",
    "        unpacked_dict[key] = unpacked[key]\n",
    "    if dataframe:\n",
    "        result = pandas.DataFrame(unpacked_dict)\n",
    "    else:\n",
    "        result = unpacked_dict\n",
    "    return result"
   ]
  },
  {
   "cell_type": "code",
   "execution_count": 22,
   "id": "161fa62a-ea3d-4276-8364-b843435a5e16",
   "metadata": {},
   "outputs": [],
   "source": [
    "def reduce_resoltion(df, resolution=12, chunks=10000):\n",
    "    def reduce_res(dataframe, resolution):\n",
    "        res = resolution + 1\n",
    "        reduced = pandas.DataFrame(\n",
    "            {\n",
    "                \"region_code\": dataframe.region_code.str[0:res],\n",
    "                \"count\": dataframe[\"count\"].values,\n",
    "            }\n",
    "        )\n",
    "\n",
    "        return reduced\n",
    "    \n",
    "    def group_res(dataframe):\n",
    "        return dataframe.groupby([\"region_code\"])[\"count\"].agg(\"sum\").to_frame(\"count\").reset_index()\n",
    "\n",
    "    idxs = [(start, start + chunks) for start in numpy.arange(0, df.shape[0], chunks)]\n",
    "    idx0 = idxs[0]\n",
    "    subset = df[idx0[0]:idx0[1]]\n",
    "    base_reduced = group_res(reduce_res(subset, resolution))\n",
    "\n",
    "    for idx in idxs[1:]:\n",
    "        subset = df[idx[0]:idx[1]]\n",
    "        reduced = reduce_res(subset, resolution)\n",
    "        concatenated = pandas.concat([base_reduced, reduced], copy=False)\n",
    "        base_reduced = group_res(concatenated)\n",
    "\n",
    "    return base_reduced"
   ]
  },
  {
   "cell_type": "code",
   "execution_count": 23,
   "id": "55a306bc-005d-4cae-adb8-ab832966c997",
   "metadata": {},
   "outputs": [],
   "source": [
    "def write_chunked(df, out_uri, ctx, chunks=10000):\n",
    "    idxs = [(start, start + chunks) for start in numpy.arange(0, df.shape[0], chunks)]\n",
    "    rows_written = 0\n",
    "    kwargs = {\n",
    "        \"sparse\": False,\n",
    "        \"column_types\": {\"region_code\": str, \"count\": numpy.uint64},\n",
    "        \"ctx\": ctx,\n",
    "    }\n",
    "    for idx in idxs:\n",
    "        subset = df[idx[0]:idx[1]]\n",
    "        kwargs[\"row_start_idx\"] = rows_written\n",
    "        tiledb.dataframe_.from_pandas(out_uri, subset, **kwargs)\n",
    "        kwargs[\"mode\"] = \"append\"\n",
    "        rows_written += len(subset)\n",
    "\n",
    "\n",
    "def write_sparse_rhealpix_chunked(df, out_uri, ctx, chunks=10000):\n",
    "    \"\"\"Requires the output array to have already been created.\"\"\"\n",
    "    idxs = [(start, start + chunks) for start in numpy.arange(0, df.shape[0], chunks)]\n",
    "    kwargs = {\n",
    "        \"mode\": \"append\",\n",
    "        \"sparse\": True,\n",
    "        \"ctx\": ctx,\n",
    "    }\n",
    "    for idx in idxs:\n",
    "        subset = df[idx[0]:idx[1]]\n",
    "        new_df = unpack_code(subset.region_code.values)\n",
    "        new_df[\"region_code\"] = subset.region_code.values\n",
    "        new_df[\"count\"] = subset[\"count\"].values\n",
    "        tiledb.dataframe_.from_pandas(out_uri, new_df, **kwargs)"
   ]
  },
  {
   "cell_type": "code",
   "execution_count": 24,
   "id": "80483ffa-c82a-4542-b7f8-67cff0ff5ca8",
   "metadata": {},
   "outputs": [],
   "source": [
    "def filter_empty_files(files):\n",
    "    \"\"\"\n",
    "    Filter out GSF's containing no Pings so we don't attempt to process them.\n",
    "    \"\"\"\n",
    "    empty_files = []\n",
    "    non_empty_files = []\n",
    "\n",
    "    for pathname in files:\n",
    "        metadata_pathname = pathname.replace(\".gsf\", \".json\")\n",
    "        base_name = Path(pathname).stem\n",
    "        with fs.open(metadata_pathname) as src:\n",
    "            gsf_metadata = json.loads(src.read())\n",
    "\n",
    "        ping_count = gsf_metadata[\"file_record_types\"][\"GSF_SWATH_BATHYMETRY_PING\"][\"record_count\"]\n",
    "        if ping_count == 0:\n",
    "            empty_files.append(pathname)\n",
    "        else:\n",
    "            non_empty_files.append(pathname)\n",
    "\n",
    "    return non_empty_files, empty_files\n",
    "\n",
    "\n",
    "def filter_large_files(files, size_limit_mb):\n",
    "    \"\"\"\n",
    "    Filter out GSF's that are large than size_limit_mb so that they're processed locally.\n",
    "    \"\"\"\n",
    "    manageable_files = []\n",
    "    large_files = []\n",
    "\n",
    "    for pathname in files:\n",
    "        metadata_pathname = pathname.replace(\".gsf\", \".json\")\n",
    "        base_name = Path(pathname).stem\n",
    "        with fs.open(metadata_pathname) as src:\n",
    "            gsf_metadata = json.loads(src.read())\n",
    "\n",
    "        # filter large files before hand, so we can still pass them through here but process locally\n",
    "        if (gsf_metadata[\"size\"] / 1024 / 1024) > size_limit_mb:\n",
    "            large_files.append(pathname)\n",
    "        else:\n",
    "            manageable_files.append(pathname)\n",
    "\n",
    "    return manageable_files, large_files"
   ]
  },
  {
   "cell_type": "code",
   "execution_count": 25,
   "id": "096bcc67-7e1c-4fd4-97d2-d1118bffd87e",
   "metadata": {},
   "outputs": [],
   "source": [
    "def combine_tiledbs(array_uris, out_array_uri, access_key, skey):\n",
    "    config = tiledb.Config(\n",
    "        {\"vfs.s3.aws_access_key_id\": access_key, \"vfs.s3.aws_secret_access_key\": skey}\n",
    "    )\n",
    "    ctx = tiledb.Ctx(config=config)\n",
    "\n",
    "    for array_uri in array_uris:\n",
    "        with tiledb.open(array_uri, ctx=ctx) as ds:\n",
    "            df = ds.df[:]\n",
    "\n",
    "        append_ping_dataframe(df, out_array_uri, access_key, skey)"
   ]
  },
  {
   "cell_type": "code",
   "execution_count": null,
   "id": "e92da958-d5b7-442a-a798-cfaece48c1c3",
   "metadata": {},
   "outputs": [],
   "source": []
  },
  {
   "cell_type": "code",
   "execution_count": null,
   "id": "a2ea41d7-add1-4a14-872b-0ab53b804763",
   "metadata": {},
   "outputs": [],
   "source": []
  },
  {
   "cell_type": "code",
   "execution_count": 26,
   "id": "bb2522fb-acf1-49a1-a2ce-f24bc7b7d468",
   "metadata": {},
   "outputs": [],
   "source": [
    "with fs.open(survey_info_uri) as src:\n",
    "    survey_info = json.loads(src.read())"
   ]
  },
  {
   "cell_type": "code",
   "execution_count": 27,
   "id": "20685ac8-4fc7-4a08-bcbf-f0051bc45c10",
   "metadata": {},
   "outputs": [],
   "source": [
    "#required_attributes = survey_info[\"schemas\"][0]\n",
    "# this is temporary. better to have it defined internally. or programmatically derived as a union of all schemas from all pings\n",
    "required_attributes = [\n",
    "    # \"X\",\n",
    "    # \"Y\",\n",
    "    \"Z\",\n",
    "    \"across_track\",\n",
    "    \"along_track\",\n",
    "    \"beam_angle\",\n",
    "    \"beam_angle_forward\",\n",
    "    \"beam_flags\",\n",
    "    #\"beam_number\",\n",
    "    \"centre_beam\",\n",
    "    \"course\",\n",
    "    \"depth_corrector\",\n",
    "    \"gps_tide_corrector\",\n",
    "    \"heading\",\n",
    "    \"heave\",\n",
    "    \"height\",\n",
    "    \"horizontal_error\",\n",
    "    \"ping_flags\",\n",
    "    \"pitch\",\n",
    "    \"roll\",\n",
    "    \"sector_number\",\n",
    "    \"separation\",\n",
    "    \"speed\",\n",
    "    \"tide_corrector\",\n",
    "    \"timestamp\",\n",
    "    \"travel_time\",\n",
    "    \"vertical_error\",\n",
    "    \"region_code\",\n",
    "]"
   ]
  },
  {
   "cell_type": "code",
   "execution_count": 28,
   "id": "eb72799e-7146-41d3-95fb-e07812a22d08",
   "metadata": {},
   "outputs": [],
   "source": [
    "config = tiledb.Config(\n",
    "        {\"vfs.s3.aws_access_key_id\": creds.access_key, \"vfs.s3.aws_secret_access_key\": creds.secret_key}\n",
    "    )\n",
    "config_dict = config.dict()\n",
    "ctx = tiledb.Ctx(config=config)"
   ]
  },
  {
   "cell_type": "code",
   "execution_count": null,
   "id": "2a688555-71a1-4bf5-a08f-096aab89e4e3",
   "metadata": {},
   "outputs": [],
   "source": []
  },
  {
   "cell_type": "code",
   "execution_count": 35,
   "id": "fb528ccb-f4a6-4fc4-8fe5-a8e1a6199546",
   "metadata": {},
   "outputs": [
    {
     "data": {
      "text/plain": [
       "180"
      ]
     },
     "execution_count": 35,
     "metadata": {},
     "output_type": "execute_result"
    }
   ],
   "source": [
    "files = fs.glob(survey_uri + \"**.gsf\")\n",
    "len(files)"
   ]
  },
  {
   "cell_type": "code",
   "execution_count": 36,
   "id": "cd2421f1-63d3-4642-8579-6bef200ee46e",
   "metadata": {},
   "outputs": [
    {
     "data": {
      "text/plain": [
       "(174, 6)"
      ]
     },
     "execution_count": 36,
     "metadata": {},
     "output_type": "execute_result"
    }
   ],
   "source": [
    "# filter and empty files\n",
    "non_empty_files, empty_files = filter_empty_files(files)\n",
    "len(non_empty_files), len(empty_files)"
   ]
  },
  {
   "cell_type": "code",
   "execution_count": null,
   "id": "44c1731c-0395-40ec-8d74-0d244da88c2b",
   "metadata": {},
   "outputs": [],
   "source": []
  },
  {
   "cell_type": "code",
   "execution_count": null,
   "id": "b4443b36-dcce-4dd6-91e1-df5b0bf53fac",
   "metadata": {},
   "outputs": [],
   "source": []
  },
  {
   "cell_type": "code",
   "execution_count": null,
   "id": "dc9c43ea-e6b0-40b8-87a2-a364b6c8212b",
   "metadata": {},
   "outputs": [],
   "source": []
  },
  {
   "cell_type": "code",
   "execution_count": 22,
   "id": "bec5ec73-34d7-433f-bc73-3288e815e741",
   "metadata": {},
   "outputs": [],
   "source": [
    "with fs.open(files[0].replace(\".gsf\", \".json\")) as src:\n",
    "    sample_md = json.loads(src.read())"
   ]
  },
  {
   "cell_type": "code",
   "execution_count": 26,
   "id": "f7d9d18f-7cf6-467d-9053-166886403819",
   "metadata": {},
   "outputs": [
    {
     "data": {
      "text/plain": [
       "278"
      ]
     },
     "execution_count": 26,
     "metadata": {},
     "output_type": "execute_result"
    }
   ],
   "source": [
    "sample_md[\"file_record_types\"][\"GSF_SWATH_BATHYMETRY_PING\"][\"record_count\"]"
   ]
  },
  {
   "cell_type": "code",
   "execution_count": 27,
   "id": "3482f435-e4e9-41eb-bce1-15a0a007eb00",
   "metadata": {},
   "outputs": [],
   "source": [
    "pings = []"
   ]
  },
  {
   "cell_type": "code",
   "execution_count": 29,
   "id": "c5b7bcb7-24c8-4c32-bb24-3573f03e7b26",
   "metadata": {},
   "outputs": [],
   "source": [
    "for uri_name in files:\n",
    "    with fs.open(uri_name.replace(\".gsf\", \".json\")) as src:\n",
    "        gsf_md = json.loads(src.read())\n",
    "        pings.append(gsf_md[\"file_record_types\"][\"GSF_SWATH_BATHYMETRY_PING\"][\"record_count\"])"
   ]
  },
  {
   "cell_type": "code",
   "execution_count": 30,
   "id": "d4a714da-3463-47a2-bd1e-78d3822d25d9",
   "metadata": {},
   "outputs": [],
   "source": [
    "pings_np = numpy.array(pings)"
   ]
  },
  {
   "cell_type": "code",
   "execution_count": 31,
   "id": "190a0d1b-8882-4469-9c9c-dd3b2420f59e",
   "metadata": {},
   "outputs": [
    {
     "data": {
      "text/plain": [
       "41846"
      ]
     },
     "execution_count": 31,
     "metadata": {},
     "output_type": "execute_result"
    }
   ],
   "source": [
    "pings_np.max()"
   ]
  },
  {
   "cell_type": "code",
   "execution_count": 32,
   "id": "1679f808-f9b1-4f3a-b915-4ed65c185783",
   "metadata": {},
   "outputs": [
    {
     "data": {
      "text/plain": [
       "13"
      ]
     },
     "execution_count": 32,
     "metadata": {},
     "output_type": "execute_result"
    }
   ],
   "source": [
    "pings_np.argmax()"
   ]
  },
  {
   "cell_type": "code",
   "execution_count": 33,
   "id": "298163c4-2c8c-4aea-a6fd-b22fcc8154bd",
   "metadata": {},
   "outputs": [],
   "source": [
    "import matplotlib.pyplot as plt"
   ]
  },
  {
   "cell_type": "code",
   "execution_count": 65,
   "id": "d4bcccce-6c57-49fc-a9e5-42fe89a06a92",
   "metadata": {},
   "outputs": [
    {
     "data": {
      "text/plain": [
       "[<matplotlib.lines.Line2D at 0x7f9d84e20510>]"
      ]
     },
     "execution_count": 65,
     "metadata": {},
     "output_type": "execute_result"
    },
    {
     "data": {
      "image/png": "[encoded data removed]",
      "text/plain": [
       "<Figure size 432x288 with 1 Axes>"
      ]
     },
     "metadata": {
      "needs_background": "light"
     },
     "output_type": "display_data"
    }
   ],
   "source": [
    "plt.plot(pings2_np)"
   ]
  },
  {
   "cell_type": "code",
   "execution_count": 35,
   "id": "0295d730-1f7b-4215-becd-77964919be94",
   "metadata": {},
   "outputs": [
    {
     "data": {
      "text/plain": [
       "0"
      ]
     },
     "execution_count": 35,
     "metadata": {},
     "output_type": "execute_result"
    }
   ],
   "source": [
    "pings_np.min()"
   ]
  },
  {
   "cell_type": "code",
   "execution_count": null,
   "id": "33dc4861-56d0-4a1d-b481-2c0d11ea62a2",
   "metadata": {},
   "outputs": [],
   "source": []
  },
  {
   "cell_type": "code",
   "execution_count": null,
   "id": "966c952f-a534-47c9-a428-78bff0b302c3",
   "metadata": {},
   "outputs": [],
   "source": []
  },
  {
   "cell_type": "code",
   "execution_count": null,
   "id": "b46e983d-e30a-4628-a6bd-c16ebdac98d1",
   "metadata": {},
   "outputs": [],
   "source": []
  },
  {
   "cell_type": "code",
   "execution_count": 27,
   "id": "72237103-18d3-4fd6-8579-93513379d06f",
   "metadata": {},
   "outputs": [],
   "source": [
    "#storage.create_mbes_array(array_uri, required_attributes, ctx)"
   ]
  },
  {
   "cell_type": "code",
   "execution_count": null,
   "id": "5fa94687-da57-465f-8eff-c57bab492538",
   "metadata": {},
   "outputs": [],
   "source": []
  },
  {
   "cell_type": "code",
   "execution_count": null,
   "id": "d9d9c519-b8c2-405a-8644-11cec5b77ebb",
   "metadata": {},
   "outputs": [],
   "source": []
  },
  {
   "cell_type": "code",
   "execution_count": 28,
   "id": "c147ea03-ec23-4607-8042-6686b0585a4f",
   "metadata": {},
   "outputs": [
    {
     "data": {
      "text/plain": [
       "64"
      ]
     },
     "execution_count": 28,
     "metadata": {},
     "output_type": "execute_result"
    }
   ],
   "source": [
    "#files = fs.glob(survey_uri + \"**.gsf\")\n",
    "#len(files)"
   ]
  },
  {
   "cell_type": "code",
   "execution_count": 59,
   "id": "f6814ad2-dd22-48c0-a3f5-7226011c75f6",
   "metadata": {},
   "outputs": [],
   "source": [
    "def process_pings(fname, creds, req_attrs, outdir, ctx):\n",
    "    uri = f\"s3://{fname}\"\n",
    "    pathname = Path(fname)\n",
    "    stream, stream_length = retrieve_stream(uri, creds.access_key, creds.secret_key)\n",
    "    finfo = reap.file_info(stream, stream_length)\n",
    "    dataframes = []\n",
    "    for i in range(finfo[1].record_count):\n",
    "        idx = slice(i, i+1)\n",
    "        swath_ping = data_model.SwathBathymetryPing.from_records(finfo[1], stream, idx=idx)\n",
    "        swath_ping.ping_dataframe[\"ping_number\"] = i\n",
    "        dataframes.append(swath_ping.ping_dataframe)\n",
    "        \n",
    "    df = pandas.concat(dataframes)\n",
    "    df[\"region_code\"] = rhealpix.rhealpix_code(df.X.values, df.Y.values, 15)\n",
    "    \n",
    "    dom = ping_beam_domain(beam_tile_size=df.beam_number.max()+1, ping_domain_upper=df.ping_number.max(), beam_domain_upper=df.beam_number.max())\n",
    "    attribs = mbes_attrs(req_attrs)\n",
    "    schema = tiledb.ArraySchema(domain=dom, sparse=False, attrs=attribs, cell_order=\"row-major\", tile_order=\"row-major\", allows_duplicates=False)\n",
    "    \n",
    "    out_uri = outdir + pathname.stem + \"/\" + pathname.with_suffix(\".tiledb\").name\n",
    "    with tiledb.scope_ctx(ctx):\n",
    "        tiledb.Array.create(out_uri, schema)\n",
    "        \n",
    "    data_dict = {col: df[col].values for col in df.columns if col not in [\"ping_number\", \"beam_number\"]}\n",
    "    with tiledb.open(out_uri, \"w\", ctx=ctx) as outds:\n",
    "        outds[:, :] = data_dict\n",
    "\n",
    "    #return df"
   ]
  },
  {
   "cell_type": "code",
   "execution_count": 55,
   "id": "331a0582-649d-42f6-a64c-60639bf2318e",
   "metadata": {},
   "outputs": [],
   "source": [
    "def mbes_attrs(required_attributes=None):\n",
    "    \"\"\"Create the mbes attributes\"\"\"\n",
    "    if required_attributes is None:\n",
    "        required_attributes = []\n",
    "\n",
    "    attribs = [\n",
    "        tiledb.Attr(\"X\", dtype=numpy.float64, filters=[tiledb.ZstdFilter(level=16)]),\n",
    "        tiledb.Attr(\"Y\", dtype=numpy.float64, filters=[tiledb.ZstdFilter(level=16)]),\n",
    "        tiledb.Attr(\n",
    "            \"Z\", dtype=numpy.float32, filters=[tiledb.ZstdFilter(level=16)]\n",
    "        ),\n",
    "        tiledb.Attr(\n",
    "            \"timestamp\", dtype=\"datetime64[ns]\", filters=[tiledb.ZstdFilter(level=16)]\n",
    "        ),  # PDAL doesn't handle native datetimes. if requiring PDAL use numpy.int64\n",
    "        tiledb.Attr(\n",
    "            \"across_track\", dtype=numpy.float32, filters=[tiledb.ZstdFilter(level=16)]\n",
    "        ),\n",
    "        tiledb.Attr(\n",
    "            \"along_track\", dtype=numpy.float32, filters=[tiledb.ZstdFilter(level=16)]\n",
    "        ),\n",
    "        tiledb.Attr(\n",
    "            \"travel_time\", dtype=numpy.float32, filters=[tiledb.ZstdFilter(level=16)]\n",
    "        ),\n",
    "        tiledb.Attr(\n",
    "            \"beam_angle\", dtype=numpy.float32, filters=[tiledb.ZstdFilter(level=16)]\n",
    "        ),\n",
    "        tiledb.Attr(\n",
    "            \"mean_cal_amplitude\",\n",
    "            dtype=numpy.float32,\n",
    "            filters=[tiledb.ZstdFilter(level=16)],\n",
    "        ),\n",
    "        tiledb.Attr(\n",
    "            \"beam_angle_forward\",\n",
    "            dtype=numpy.float32,\n",
    "            filters=[tiledb.ZstdFilter(level=16)],\n",
    "        ),\n",
    "        tiledb.Attr(\n",
    "            \"vertical_error\", dtype=numpy.float32, filters=[tiledb.ZstdFilter(level=16)]\n",
    "        ),\n",
    "        tiledb.Attr(\n",
    "            \"horizontal_error\",\n",
    "            dtype=numpy.float32,\n",
    "            filters=[tiledb.ZstdFilter(level=16)],\n",
    "        ),\n",
    "        tiledb.Attr(\n",
    "            \"sector_number\",\n",
    "            dtype=numpy.uint8,\n",
    "            filters=[tiledb.RleFilter(), tiledb.ZstdFilter(level=16)],\n",
    "        ),\n",
    "        tiledb.Attr(\n",
    "            \"beam_flags\",\n",
    "            dtype=numpy.uint8,\n",
    "            filters=[tiledb.RleFilter(), tiledb.ZstdFilter(level=16)],\n",
    "        ),\n",
    "        tiledb.Attr(\n",
    "            \"ping_flags\",\n",
    "            dtype=numpy.uint8,\n",
    "            filters=[tiledb.RleFilter(), tiledb.ZstdFilter(level=16)],\n",
    "        ),\n",
    "        tiledb.Attr(\n",
    "            \"tide_corrector\", dtype=numpy.float32, filters=[tiledb.ZstdFilter(level=16)]\n",
    "        ),\n",
    "        tiledb.Attr(\n",
    "            \"depth_corrector\",\n",
    "            dtype=numpy.float32,\n",
    "            filters=[tiledb.ZstdFilter(level=16)],\n",
    "        ),\n",
    "        tiledb.Attr(\n",
    "            \"heading\", dtype=numpy.float32, filters=[tiledb.ZstdFilter(level=16)]\n",
    "        ),\n",
    "        tiledb.Attr(\n",
    "            \"pitch\", dtype=numpy.float32, filters=[tiledb.ZstdFilter(level=16)]\n",
    "        ),\n",
    "        tiledb.Attr(\"roll\", dtype=numpy.float32, filters=[tiledb.ZstdFilter(level=16)]),\n",
    "        tiledb.Attr(\n",
    "            \"heave\", dtype=numpy.float32, filters=[tiledb.ZstdFilter(level=16)]\n",
    "        ),\n",
    "        tiledb.Attr(\n",
    "            \"course\", dtype=numpy.float32, filters=[tiledb.ZstdFilter(level=16)]\n",
    "        ),\n",
    "        tiledb.Attr(\n",
    "            \"speed\", dtype=numpy.float32, filters=[tiledb.ZstdFilter(level=16)]\n",
    "        ),\n",
    "        tiledb.Attr(\n",
    "            \"height\", dtype=numpy.float32, filters=[tiledb.ZstdFilter(level=16)]\n",
    "        ),\n",
    "        tiledb.Attr(\n",
    "            \"separation\", dtype=numpy.float32, filters=[tiledb.ZstdFilter(level=16)]\n",
    "        ),\n",
    "        tiledb.Attr(\n",
    "            \"gps_tide_corrector\",\n",
    "            dtype=numpy.float32,\n",
    "            filters=[tiledb.ZstdFilter(level=16)],\n",
    "        ),\n",
    "        tiledb.Attr(\n",
    "            \"centre_beam\", dtype=numpy.uint8, filters=[tiledb.RleFilter(), tiledb.ZstdFilter(level=16)]\n",
    "        ),\n",
    "        tiledb.Attr(\n",
    "            \"beam_number\", dtype=numpy.uint16, filters=[tiledb.ZstdFilter(level=16)]\n",
    "        ),\n",
    "        tiledb.Attr(\n",
    "            \"region_code\", dtype=str, filters=[tiledb.ZstdFilter(level=16)]\n",
    "        ),\n",
    "    ]\n",
    "\n",
    "    attributes = [at for at in attribs if at.name in required_attributes]\n",
    "\n",
    "    return attributes"
   ]
  },
  {
   "cell_type": "code",
   "execution_count": null,
   "id": "e319eacd-1cf4-49c3-a602-5ba60da4d45d",
   "metadata": {},
   "outputs": [],
   "source": []
  },
  {
   "cell_type": "code",
   "execution_count": 31,
   "id": "605d93fa-2534-44d5-80af-31984371d5cd",
   "metadata": {},
   "outputs": [
    {
     "data": {
      "text/plain": [
       "(174, 6)"
      ]
     },
     "execution_count": 31,
     "metadata": {},
     "output_type": "execute_result"
    }
   ],
   "source": [
    "# filter and empty files\n",
    "non_empty_files, empty_files = filter_empty_files(files)\n",
    "len(non_empty_files), len(empty_files)"
   ]
  },
  {
   "cell_type": "code",
   "execution_count": 32,
   "id": "18368a3f-b2c3-4362-bb5c-ac12f48a6cfd",
   "metadata": {},
   "outputs": [
    {
     "data": {
      "text/plain": [
       "'0000_20170614_002956_Yolla'"
      ]
     },
     "execution_count": 32,
     "metadata": {},
     "output_type": "execute_result"
    }
   ],
   "source": [
    "Path(non_empty_files[0]).stem"
   ]
  },
  {
   "cell_type": "code",
   "execution_count": 33,
   "id": "84ffe619-c13d-4070-acf6-453f75f95fcf",
   "metadata": {},
   "outputs": [
    {
     "data": {
      "text/plain": [
       "'ausseabed-pl019-provided-data/DeakinUniversity/Bunurong_MNP/gsf/0000_20170614_002956_Yolla.gsf'"
      ]
     },
     "execution_count": 33,
     "metadata": {},
     "output_type": "execute_result"
    }
   ],
   "source": [
    "non_empty_files[0]"
   ]
  },
  {
   "cell_type": "code",
   "execution_count": 36,
   "id": "349ea70d-208f-4229-83ea-a5bd280be158",
   "metadata": {},
   "outputs": [],
   "source": [
    "stream, stream_length = retrieve_stream(f\"s3://{non_empty_files[0]}\", creds.access_key, creds.secret_key)\n",
    "finfo = reap.file_info(stream, stream_length)\n",
    "record = finfo[1].record(0)\n",
    "ping_hdr, scl_factors, ping_df = record.read(stream)"
   ]
  },
  {
   "cell_type": "code",
   "execution_count": 37,
   "id": "ee3d2b4b-7485-4b4f-b7e8-44c2e3a38917",
   "metadata": {},
   "outputs": [
    {
     "data": {
      "text/plain": [
       "PingHeader(timestamp=datetime.datetime(2017, 6, 14, 0, 29, 56, 287000, tzinfo=datetime.timezone.utc), longitude=145.6353681, latitude=-38.6790482, num_beams=400, center_beam=205, ping_flags=0, reserved=0, tide_corrector=-2.23, depth_corrector=99.99, heading=345.0, pitch=1.27, roll=-4.14, heave=0.4, course=340.78, speed=4.81, height=0.0, separation=0.0, gps_tide_corrector=0.0)"
      ]
     },
     "execution_count": 37,
     "metadata": {},
     "output_type": "execute_result"
    }
   ],
   "source": [
    "ping_hdr"
   ]
  },
  {
   "cell_type": "code",
   "execution_count": null,
   "id": "ebd6336b-1a40-49bc-86f3-0d84209050cc",
   "metadata": {},
   "outputs": [],
   "source": []
  },
  {
   "cell_type": "code",
   "execution_count": 38,
   "id": "081a5427-bf41-4b7a-ba93-5c3ce1dec0e7",
   "metadata": {},
   "outputs": [
    {
     "name": "stdout",
     "output_type": "stream",
     "text": [
      "Help on function create_ping_beam_schema in module bathy_datasets.storage:\n",
      "\n",
      "create_ping_beam_schema(required_attributes, ping_tile_size=10, beam_tile_size=400, ping_domain_upper=1000000000, beam_domain_upper=1000000000)\n",
      "    Create an array schema using ping and beam as the dimensional axes.\n",
      "    The ping and beam array schema is dense, just like a 2D grid, and\n",
      "    we're not allowing duplicates.\n",
      "    A problem will occur when a beam is suddenly missing. eg all previous\n",
      "    pings have 100 beams, then all of a sudden we have only 98 beams.\n",
      "    We'll have isssues in writes as we're expecting to write a full block\n",
      "    based on the beam domain.\n",
      "\n"
     ]
    }
   ],
   "source": [
    "help(storage.create_ping_beam_schema)"
   ]
  },
  {
   "cell_type": "code",
   "execution_count": 39,
   "id": "40283694-d460-4a94-998c-a46d766bb5e7",
   "metadata": {},
   "outputs": [
    {
     "name": "stdout",
     "output_type": "stream",
     "text": [
      "Help on function create_mbes_array in module bathy_datasets.storage:\n",
      "\n",
      "create_mbes_array(array_uri, schema, ctx=None)\n",
      "    Create the TileDB array.\n",
      "\n"
     ]
    }
   ],
   "source": [
    "help(storage.create_mbes_array)"
   ]
  },
  {
   "cell_type": "code",
   "execution_count": 29,
   "id": "a50ce6f2-4b52-4f55-bf02-00c4b4338497",
   "metadata": {},
   "outputs": [],
   "source": [
    "def create_ping_beam_dim_arrays(pathnames, outdir, ctx, required_attributes):\n",
    "    akey = ctx.config()[\"vfs.s3.aws_access_key_id\"]\n",
    "    skey = ctx.config()[\"vfs.s3.aws_secret_access_key\"]\n",
    "    array_uris = []\n",
    "    cell_freq_array_uris = []\n",
    "    for fname in pathnames:\n",
    "        uri = f\"s3://{fname}\"\n",
    "        pth = Path(fname)\n",
    "        basename = pth.stem\n",
    "        # md_uri = fname.replace(\".gsf\", \".json\")\n",
    "        # with fs.open(md_uri) as src:\n",
    "        #     md_gsf = json.loads(src.read())\n",
    "        # ping_count = md_gsf[\"file_record_types\"][\"GSF_SWATH_BATHYMETRY_PING\"][\"record_count\"]\n",
    "        stream, stream_length = retrieve_stream(uri, akey, skey)\n",
    "        finfo = reap.file_info(stream, stream_length)\n",
    "        record = finfo[1].record(0)\n",
    "        ping_hdr, scl_factors, ping_df = record.read(stream)\n",
    "        schema = storage.create_ping_beam_schema(required_attributes,\n",
    "                                                 beam_tile_size=ping_hdr.num_beams,\n",
    "                                                 ping_domain_upper=finfo[1].record_count-1,\n",
    "                                                 beam_domain_upper=ping_hdr.num_beams-1)\n",
    "        dataset_id = uuid.uuid4()\n",
    "        out_uri = outdir + basename + \"/\" + f\"{base_prefix}_{dataset_id}_bathymetry.tiledb\"\n",
    "        freq_out_uri = outdir + basename + \"/\" + f\"{base_prefix}_{dataset_id}_soundings-cell-density-resolution-15.tiledb\"\n",
    "        storage.create_mbes_array(out_uri, schema, ctx=ctx)\n",
    "        array_uris.append(out_uri)\n",
    "        cell_freq_array_uris.append(freq_out_uri)\n",
    "    return array_uris, cell_freq_array_uris"
   ]
  },
  {
   "cell_type": "code",
   "execution_count": 30,
   "id": "52939a0d-c97e-4682-88a4-437b073907bd",
   "metadata": {},
   "outputs": [
    {
     "data": {
      "text/plain": [
       "'s3://ausseabed-pl019-ingested-data/L2B/Bunurong_MNP/'"
      ]
     },
     "execution_count": 30,
     "metadata": {},
     "output_type": "execute_result"
    }
   ],
   "source": [
    "outdir_uri"
   ]
  },
  {
   "cell_type": "code",
   "execution_count": 30,
   "id": "19e10e59-e7ec-4398-bcf3-249ee7946084",
   "metadata": {},
   "outputs": [
    {
     "ename": "NameError",
     "evalue": "name 'non_empty_files' is not defined",
     "output_type": "error",
     "traceback": [
      "\u001b[0;31m---------------------------------------------------------------------------\u001b[0m",
      "\u001b[0;31mNameError\u001b[0m                                 Traceback (most recent call last)",
      "\u001b[0;32m/tmp/ipykernel_1269/1448110717.py\u001b[0m in \u001b[0;36m<module>\u001b[0;34m\u001b[0m\n\u001b[1;32m      1\u001b[0m \u001b[0;31m# filter large files\u001b[0m\u001b[0;34m\u001b[0m\u001b[0;34m\u001b[0m\u001b[0;34m\u001b[0m\u001b[0m\n\u001b[1;32m      2\u001b[0m \u001b[0msize_limit_mb\u001b[0m \u001b[0;34m=\u001b[0m \u001b[0;36m200\u001b[0m\u001b[0;34m\u001b[0m\u001b[0;34m\u001b[0m\u001b[0m\n\u001b[0;32m----> 3\u001b[0;31m \u001b[0mmanageable_files\u001b[0m\u001b[0;34m,\u001b[0m \u001b[0mlarge_files\u001b[0m \u001b[0;34m=\u001b[0m \u001b[0mfilter_large_files\u001b[0m\u001b[0;34m(\u001b[0m\u001b[0mnon_empty_files\u001b[0m\u001b[0;34m,\u001b[0m \u001b[0msize_limit_mb\u001b[0m\u001b[0;34m)\u001b[0m\u001b[0;34m\u001b[0m\u001b[0;34m\u001b[0m\u001b[0m\n\u001b[0m\u001b[1;32m      4\u001b[0m \u001b[0mlen\u001b[0m\u001b[0;34m(\u001b[0m\u001b[0mmanageable_files\u001b[0m\u001b[0;34m)\u001b[0m\u001b[0;34m,\u001b[0m \u001b[0mlen\u001b[0m\u001b[0;34m(\u001b[0m\u001b[0mlarge_files\u001b[0m\u001b[0;34m)\u001b[0m\u001b[0;34m\u001b[0m\u001b[0;34m\u001b[0m\u001b[0m\n",
      "\u001b[0;31mNameError\u001b[0m: name 'non_empty_files' is not defined"
     ]
    }
   ],
   "source": [
    "# filter large files\n",
    "size_limit_mb = 200\n",
    "manageable_files, large_files = filter_large_files(non_empty_files, size_limit_mb)\n",
    "len(manageable_files), len(large_files)"
   ]
  },
  {
   "cell_type": "code",
   "execution_count": 30,
   "id": "958da565-3163-4f04-8243-b3c02967fad0",
   "metadata": {},
   "outputs": [],
   "source": [
    "outdir_uri2 = \"s3://ausseabed-pl019-ingested-data/L2B/Bunurong_MNP/tmp-proc/\""
   ]
  },
  {
   "cell_type": "code",
   "execution_count": null,
   "id": "6ac62016-20b4-4e24-a2fa-65a07c0fd551",
   "metadata": {},
   "outputs": [],
   "source": []
  },
  {
   "cell_type": "code",
   "execution_count": 72,
   "id": "c84076d0-dd57-420b-8f7a-f78ea87ae271",
   "metadata": {},
   "outputs": [],
   "source": [
    "#out_array_uris, cell_freq_array_uris = create_ping_beam_dim_arrays(non_empty_files, outdir_uri, ctx, required_attributes)"
   ]
  },
  {
   "cell_type": "code",
   "execution_count": 60,
   "id": "a143cc10-8630-4e2d-9b48-0e18e4e90994",
   "metadata": {},
   "outputs": [],
   "source": [
    "out_array_uris, cell_freq_array_uris = create_ping_beam_dim_arrays(manageable_files, outdir_uri, ctx, required_attributes)"
   ]
  },
  {
   "cell_type": "code",
   "execution_count": 39,
   "id": "cd0af6ef-4d82-45fb-ba2d-99f8e6e0f7cb",
   "metadata": {},
   "outputs": [],
   "source": [
    "out_array_uris2, cell_freq_array_uris2 = create_ping_beam_dim_arrays(large_files, outdir_uri2, ctx, required_attributes)"
   ]
  },
  {
   "cell_type": "code",
   "execution_count": 61,
   "id": "1df6decc-c22f-4de8-bda3-5878cf18fad9",
   "metadata": {},
   "outputs": [
    {
     "name": "stdout",
     "output_type": "stream",
     "text": [
      "114 114\n"
     ]
    }
   ],
   "source": [
    "print(len(out_array_uris), len(cell_freq_array_uris))"
   ]
  },
  {
   "cell_type": "code",
   "execution_count": 62,
   "id": "82aa9bb7-eabc-47ce-b42e-d99df05cd6c9",
   "metadata": {},
   "outputs": [
    {
     "name": "stdout",
     "output_type": "stream",
     "text": [
      "s3://ausseabed-pl019-ingested-data/L2B/Bunurong_MNP/0000_20170614_002956_Yolla/ga_ausseabed_08592919-7b4b-41ff-940c-4c6e6b7fed6c_bathymetry.tiledb \n",
      " s3://ausseabed-pl019-ingested-data/L2B/Bunurong_MNP/0000_20170614_002956_Yolla/ga_ausseabed_08592919-7b4b-41ff-940c-4c6e6b7fed6c_soundings-cell-density-resolution-15.tiledb\n"
     ]
    }
   ],
   "source": [
    "print(out_array_uris[0], '\\n', cell_freq_array_uris[0])"
   ]
  },
  {
   "cell_type": "code",
   "execution_count": 40,
   "id": "8bfc7eff-1c21-4f4f-89e8-d3c243f4bf9b",
   "metadata": {},
   "outputs": [
    {
     "name": "stdout",
     "output_type": "stream",
     "text": [
      "s3://ausseabed-pl019-ingested-data/L2B/Bunurong_MNP/tmp-proc/0000_20170920_223522_ShipName/ga_ausseabed_564e047b-3060-44c6-895e-f74a363a6671_bathymetry.tiledb \n",
      " s3://ausseabed-pl019-ingested-data/L2B/Bunurong_MNP/tmp-proc/0000_20170920_223522_ShipName/ga_ausseabed_564e047b-3060-44c6-895e-f74a363a6671_soundings-cell-density-resolution-15.tiledb\n"
     ]
    }
   ],
   "source": [
    "print(out_array_uris2[0], '\\n', cell_freq_array_uris2[0])"
   ]
  },
  {
   "cell_type": "code",
   "execution_count": null,
   "id": "49386d9b-c2c2-4b1c-a72f-15c5ecf3233a",
   "metadata": {},
   "outputs": [],
   "source": []
  },
  {
   "cell_type": "code",
   "execution_count": null,
   "id": "c2c002e0-d7dd-4447-aced-f8906d19bb92",
   "metadata": {},
   "outputs": [],
   "source": []
  },
  {
   "cell_type": "code",
   "execution_count": 75,
   "id": "56ed728c-721b-405d-8db4-15d3ef304bf3",
   "metadata": {},
   "outputs": [],
   "source": [
    "files_df = pandas.DataFrame({\"gsf_uri\": non_empty_files, \"bathy_uri\": out_array_uris, \"freq_uri\": cell_freq_array_uris})"
   ]
  },
  {
   "cell_type": "code",
   "execution_count": 76,
   "id": "f792ea00-dbd1-479e-bb57-fab01e4e5239",
   "metadata": {},
   "outputs": [],
   "source": [
    "files_out_uri = \"s3://ausseabed-pl019-ingested-data/L2B/tmp/bunurong_files-take3.tiledb\""
   ]
  },
  {
   "cell_type": "code",
   "execution_count": 77,
   "id": "f8ca1467-5f71-4d69-a24b-297f48c578aa",
   "metadata": {},
   "outputs": [],
   "source": [
    "tiledb.dataframe_.from_pandas(files_out_uri, files_df, ctx=ctx, sparse=False, attr_filters=\n",
    "                              {\n",
    "                                  \"gsf_uri\": [tiledb.ZstdFilter()],\n",
    "                                  \"bathy_uri\": [tiledb.ZstdFilter()],\n",
    "                                  \"freq_uri\": [tiledb.ZstdFilter()],\n",
    "                              }\n",
    "                             )"
   ]
  },
  {
   "cell_type": "code",
   "execution_count": 66,
   "id": "e2426ddf-20a2-470e-a090-24dbb667f2d7",
   "metadata": {},
   "outputs": [
    {
     "name": "stdout",
     "output_type": "stream",
     "text": [
      "hello world\n"
     ]
    }
   ],
   "source": [
    "print(\"hello world\")"
   ]
  },
  {
   "cell_type": "code",
   "execution_count": 32,
   "id": "d37dde80-4bed-4a25-be99-3d505a5adb96",
   "metadata": {},
   "outputs": [
    {
     "data": {
      "text/plain": [
       "['ausseabed-pl019-ingested-data/L2B/tmp/bunurong_files-take2.tiledb',\n",
       " 'ausseabed-pl019-ingested-data/L2B/tmp/bunurong_files-take3.tiledb',\n",
       " 'ausseabed-pl019-ingested-data/L2B/tmp/bunurong_files.tiledb',\n",
       " 'ausseabed-pl019-ingested-data/L2B/tmp/bunurong_large-files.tiledb']"
      ]
     },
     "execution_count": 32,
     "metadata": {},
     "output_type": "execute_result"
    }
   ],
   "source": [
    "fs.ls(\"s3://ausseabed-pl019-ingested-data/L2B/tmp/\")"
   ]
  },
  {
   "cell_type": "code",
   "execution_count": 31,
   "id": "9980c08e-8817-460f-a8e8-bbf941fc5f4e",
   "metadata": {},
   "outputs": [],
   "source": [
    "with tiledb.open(\"s3://ausseabed-pl019-ingested-data/L2B/tmp/bunurong_large-files.tiledb\", ctx=ctx) as ds:\n",
    "    files_df = ds.df[:]"
   ]
  },
  {
   "cell_type": "code",
   "execution_count": 38,
   "id": "ebccb9e5-328e-4be9-abc4-a2db0ca61529",
   "metadata": {},
   "outputs": [
    {
     "data": {
      "text/plain": [
       "Index(['gsf_uri', 'bathy_uri', 'freq_uri'], dtype='object')"
      ]
     },
     "execution_count": 38,
     "metadata": {},
     "output_type": "execute_result"
    }
   ],
   "source": [
    "files_df.columns"
   ]
  },
  {
   "cell_type": "code",
   "execution_count": 36,
   "id": "0ec899ab-fe77-4f6d-a8ec-c0d7d3c5a26a",
   "metadata": {},
   "outputs": [
    {
     "data": {
      "text/plain": [
       "['s3://ausseabed-pl019-ingested-data/L2B/Bunurong_MNP/tmp-proc/0000_20170920_223522_ShipName/ga_ausseabed_564e047b-3060-44c6-895e-f74a363a6671_bathymetry.tiledb',\n",
       " 's3://ausseabed-pl019-ingested-data/L2B/Bunurong_MNP/tmp-proc/0001_20170614_003215_Yolla/ga_ausseabed_64fe9b18-bd1e-4ada-8039-f4ae4f0c90ae_bathymetry.tiledb',\n",
       " 's3://ausseabed-pl019-ingested-data/L2B/Bunurong_MNP/tmp-proc/0001_20170920_225638_ShipName/ga_ausseabed_6243973d-1844-465c-ba21-d82429cd45a3_bathymetry.tiledb',\n",
       " 's3://ausseabed-pl019-ingested-data/L2B/Bunurong_MNP/tmp-proc/0002_20170614_010215_Yolla/ga_ausseabed_00c3eb69-60fc-4e28-aa82-61ade1035f91_bathymetry.tiledb',\n",
       " 's3://ausseabed-pl019-ingested-data/L2B/Bunurong_MNP/tmp-proc/0002_20170920_231907_ShipName/ga_ausseabed_3afb786c-e58c-42ee-bf02-0f464b535e53_bathymetry.tiledb',\n",
       " 's3://ausseabed-pl019-ingested-data/L2B/Bunurong_MNP/tmp-proc/0003_20170614_013215_Yolla/ga_ausseabed_b9006e76-bbaa-40ea-876b-d33db4bfd26e_bathymetry.tiledb',\n",
       " 's3://ausseabed-pl019-ingested-data/L2B/Bunurong_MNP/tmp-proc/0003_20170920_234044_ShipName/ga_ausseabed_3e1cae60-3c85-4621-a416-5ad64b0a2e91_bathymetry.tiledb',\n",
       " 's3://ausseabed-pl019-ingested-data/L2B/Bunurong_MNP/tmp-proc/0003_20170922_013636_ShipName/ga_ausseabed_51067068-ff34-44c7-8645-a90bf0732225_bathymetry.tiledb',\n",
       " 's3://ausseabed-pl019-ingested-data/L2B/Bunurong_MNP/tmp-proc/0004_20170614_020215_Yolla/ga_ausseabed_0f2e7f76-4f0f-45a0-ad72-46c58c64c1b2_bathymetry.tiledb',\n",
       " 's3://ausseabed-pl019-ingested-data/L2B/Bunurong_MNP/tmp-proc/0004_20170921_000311_ShipName/ga_ausseabed_943ecf2b-8cbf-4313-86cc-6e705b022145_bathymetry.tiledb',\n",
       " 's3://ausseabed-pl019-ingested-data/L2B/Bunurong_MNP/tmp-proc/0005_20170614_023215_Yolla/ga_ausseabed_1631bcf4-dbc0-4fb6-86c7-09a5f072f939_bathymetry.tiledb',\n",
       " 's3://ausseabed-pl019-ingested-data/L2B/Bunurong_MNP/tmp-proc/0005_20170921_002435_ShipName/ga_ausseabed_a7b63c2a-74a0-4141-9595-ce48f6abb52e_bathymetry.tiledb',\n",
       " 's3://ausseabed-pl019-ingested-data/L2B/Bunurong_MNP/tmp-proc/0005_20170922_022303_ShipName/ga_ausseabed_a479e703-18f7-492e-903a-517ca9c70580_bathymetry.tiledb',\n",
       " 's3://ausseabed-pl019-ingested-data/L2B/Bunurong_MNP/tmp-proc/0006_20170614_025626_Yolla/ga_ausseabed_d6e34e9c-ac90-4591-b62c-f6ba37ddc4ea_bathymetry.tiledb',\n",
       " 's3://ausseabed-pl019-ingested-data/L2B/Bunurong_MNP/tmp-proc/0006_20170921_004724_ShipName/ga_ausseabed_cc90ed69-61a2-40fb-946d-3715b03417d4_bathymetry.tiledb',\n",
       " 's3://ausseabed-pl019-ingested-data/L2B/Bunurong_MNP/tmp-proc/0007_20170614_031929_Yolla/ga_ausseabed_fc8e99b6-c167-4126-8178-faa543f89d75_bathymetry.tiledb',\n",
       " 's3://ausseabed-pl019-ingested-data/L2B/Bunurong_MNP/tmp-proc/0007_20170921_010904_ShipName/ga_ausseabed_57dd1be4-c9d6-4e5a-ab7a-29ef94899794_bathymetry.tiledb',\n",
       " 's3://ausseabed-pl019-ingested-data/L2B/Bunurong_MNP/tmp-proc/0008_20170614_034308_Yolla/ga_ausseabed_cbf0ab49-2078-4f93-bfae-705f6a397388_bathymetry.tiledb',\n",
       " 's3://ausseabed-pl019-ingested-data/L2B/Bunurong_MNP/tmp-proc/0008_20170921_013237_ShipName/ga_ausseabed_28bdc6af-19ed-4fdb-9d54-81cf772926e6_bathymetry.tiledb',\n",
       " 's3://ausseabed-pl019-ingested-data/L2B/Bunurong_MNP/tmp-proc/0009_20170614_040402_Yolla/ga_ausseabed_937ff5ea-6b42-4caa-8f21-7fe1f9f1f986_bathymetry.tiledb',\n",
       " 's3://ausseabed-pl019-ingested-data/L2B/Bunurong_MNP/tmp-proc/0009_20170921_015456_ShipName/ga_ausseabed_9bf2fc16-5aaf-4101-b232-fadfbb33da03_bathymetry.tiledb',\n",
       " 's3://ausseabed-pl019-ingested-data/L2B/Bunurong_MNP/tmp-proc/0010_20170614_042736_Yolla/ga_ausseabed_e283e2c2-61b3-40c7-a020-bd76e806536b_bathymetry.tiledb',\n",
       " 's3://ausseabed-pl019-ingested-data/L2B/Bunurong_MNP/tmp-proc/0010_20170921_021756_ShipName/ga_ausseabed_235a842f-077f-4868-bdb0-02dbdb050eb5_bathymetry.tiledb',\n",
       " 's3://ausseabed-pl019-ingested-data/L2B/Bunurong_MNP/tmp-proc/0011_20170614_044946_Yolla/ga_ausseabed_5df385e8-b7c8-46b9-a0d7-cca000479919_bathymetry.tiledb',\n",
       " 's3://ausseabed-pl019-ingested-data/L2B/Bunurong_MNP/tmp-proc/0011_20170921_024031_ShipName/ga_ausseabed_c6cd5b15-7b3d-4fc7-b339-e096de085b80_bathymetry.tiledb',\n",
       " 's3://ausseabed-pl019-ingested-data/L2B/Bunurong_MNP/tmp-proc/0012_20170614_051402_Yolla/ga_ausseabed_3c2b0aa1-d94d-49a7-8e5b-1c337eb7a3fa_bathymetry.tiledb',\n",
       " 's3://ausseabed-pl019-ingested-data/L2B/Bunurong_MNP/tmp-proc/0012_20170921_030309_ShipName/ga_ausseabed_81404cb0-8289-4dcf-8490-b93455bd33bd_bathymetry.tiledb',\n",
       " 's3://ausseabed-pl019-ingested-data/L2B/Bunurong_MNP/tmp-proc/0013_20170614_053526_Yolla/ga_ausseabed_cc143927-69a1-4d33-85e9-e40fe1f704dc_bathymetry.tiledb',\n",
       " 's3://ausseabed-pl019-ingested-data/L2B/Bunurong_MNP/tmp-proc/0013_20170921_032428_ShipName/ga_ausseabed_4fab3b4f-a97c-486f-a011-111809b09891_bathymetry.tiledb',\n",
       " 's3://ausseabed-pl019-ingested-data/L2B/Bunurong_MNP/tmp-proc/0014_20170614_055822_Yolla/ga_ausseabed_0d330a5a-c47d-4799-b6f0-7e87e43adda9_bathymetry.tiledb',\n",
       " 's3://ausseabed-pl019-ingested-data/L2B/Bunurong_MNP/tmp-proc/0014_20170921_034632_ShipName/ga_ausseabed_090edbfd-46e6-4831-a83e-a7ed447843e3_bathymetry.tiledb',\n",
       " 's3://ausseabed-pl019-ingested-data/L2B/Bunurong_MNP/tmp-proc/0015_20170614_062023_Yolla/ga_ausseabed_c34cd24c-dc6d-4c9f-b4a8-667340bf4fda_bathymetry.tiledb',\n",
       " 's3://ausseabed-pl019-ingested-data/L2B/Bunurong_MNP/tmp-proc/0015_20170921_040758_ShipName/ga_ausseabed_dd0816fd-ef5b-4364-b15e-4bb3ed94a9d1_bathymetry.tiledb',\n",
       " 's3://ausseabed-pl019-ingested-data/L2B/Bunurong_MNP/tmp-proc/0016_20170614_064201_Yolla/ga_ausseabed_4009de4a-7d07-4c6d-a55c-99e19c105013_bathymetry.tiledb',\n",
       " 's3://ausseabed-pl019-ingested-data/L2B/Bunurong_MNP/tmp-proc/0017_20170614_070855_Yolla/ga_ausseabed_2c44a397-1c3c-4df3-8509-502f18ae2174_bathymetry.tiledb',\n",
       " 's3://ausseabed-pl019-ingested-data/L2B/Bunurong_MNP/tmp-proc/0018_20170922_035234_ShipName/ga_ausseabed_c230323a-e66c-43fd-8977-d52015e5efa8_bathymetry.tiledb',\n",
       " 's3://ausseabed-pl019-ingested-data/L2B/Bunurong_MNP/tmp-proc/0019_20170921_044920_ShipName/ga_ausseabed_8c623154-b86a-4e97-8636-969b925a3900_bathymetry.tiledb',\n",
       " 's3://ausseabed-pl019-ingested-data/L2B/Bunurong_MNP/tmp-proc/0020_20170614_221947_Yolla/ga_ausseabed_2d84ba94-5b9f-486e-8b09-ae1fe775e260_bathymetry.tiledb',\n",
       " 's3://ausseabed-pl019-ingested-data/L2B/Bunurong_MNP/tmp-proc/0021_20170614_224139_Yolla/ga_ausseabed_7645547a-7b49-4460-8134-c0b9c6eafd65_bathymetry.tiledb',\n",
       " 's3://ausseabed-pl019-ingested-data/L2B/Bunurong_MNP/tmp-proc/0022_20170614_230259_Yolla/ga_ausseabed_3f6448a4-5780-47d6-b629-6cee2b906716_bathymetry.tiledb',\n",
       " 's3://ausseabed-pl019-ingested-data/L2B/Bunurong_MNP/tmp-proc/0023_20170614_232454_Yolla/ga_ausseabed_2fe682da-cfe5-4e29-b754-d8d0ca8b0847_bathymetry.tiledb',\n",
       " 's3://ausseabed-pl019-ingested-data/L2B/Bunurong_MNP/tmp-proc/0024_20170614_234736_Yolla/ga_ausseabed_80db4d1e-8ef5-453f-91ab-a83b7dd3346a_bathymetry.tiledb',\n",
       " 's3://ausseabed-pl019-ingested-data/L2B/Bunurong_MNP/tmp-proc/0025_20170615_000826_Yolla/ga_ausseabed_3af1afdb-aa22-4fd5-9991-a6d73aca78d2_bathymetry.tiledb',\n",
       " 's3://ausseabed-pl019-ingested-data/L2B/Bunurong_MNP/tmp-proc/0027_20170615_003238_Yolla/ga_ausseabed_1d5e31ca-129c-44a9-80a6-26b72e79fae2_bathymetry.tiledb',\n",
       " 's3://ausseabed-pl019-ingested-data/L2B/Bunurong_MNP/tmp-proc/0028_20170615_005357_Yolla/ga_ausseabed_f94c5813-3524-43a9-bf1a-7a36c9c8cb02_bathymetry.tiledb',\n",
       " 's3://ausseabed-pl019-ingested-data/L2B/Bunurong_MNP/tmp-proc/0029_20170615_011707_Yolla/ga_ausseabed_b0550644-39ec-42b1-9b55-fd6053faf3a6_bathymetry.tiledb',\n",
       " 's3://ausseabed-pl019-ingested-data/L2B/Bunurong_MNP/tmp-proc/0030_20170615_014244_Yolla/ga_ausseabed_daf73199-2b32-4ddc-a80a-8bf9ae7d7a4e_bathymetry.tiledb',\n",
       " 's3://ausseabed-pl019-ingested-data/L2B/Bunurong_MNP/tmp-proc/0031_20170615_020941_Yolla/ga_ausseabed_7fc8e131-933f-4d8a-89e2-95c7b543399a_bathymetry.tiledb',\n",
       " 's3://ausseabed-pl019-ingested-data/L2B/Bunurong_MNP/tmp-proc/0032_20170615_024517_Yolla/ga_ausseabed_ec191fee-d30a-47f0-8959-9351df96117f_bathymetry.tiledb',\n",
       " 's3://ausseabed-pl019-ingested-data/L2B/Bunurong_MNP/tmp-proc/0040_20170615_042913_Yolla/ga_ausseabed_56241fee-66be-440c-b9b0-5ea29adb1e00_bathymetry.tiledb',\n",
       " 's3://ausseabed-pl019-ingested-data/L2B/Bunurong_MNP/tmp-proc/0042_20170615_051255_Yolla/ga_ausseabed_5717e904-4428-4e92-86fa-34888017ba15_bathymetry.tiledb',\n",
       " 's3://ausseabed-pl019-ingested-data/L2B/Bunurong_MNP/tmp-proc/0043_20170921_074730_ShipName/ga_ausseabed_97496071-a29e-478e-a28d-348d6d136341_bathymetry.tiledb',\n",
       " 's3://ausseabed-pl019-ingested-data/L2B/Bunurong_MNP/tmp-proc/0044_20170615_055746_Yolla/ga_ausseabed_0648ae95-0431-4c83-aa8b-34da1ed09ce6_bathymetry.tiledb',\n",
       " 's3://ausseabed-pl019-ingested-data/L2B/Bunurong_MNP/tmp-proc/0044_20170921_075810_ShipName/ga_ausseabed_457b2af0-8892-41ef-9933-442b6f5a226f_bathymetry.tiledb',\n",
       " 's3://ausseabed-pl019-ingested-data/L2B/Bunurong_MNP/tmp-proc/0047_20170921_082108_ShipName/ga_ausseabed_d8ad098b-b687-4c4f-9fd3-6fa7144ef4db_bathymetry.tiledb',\n",
       " 's3://ausseabed-pl019-ingested-data/L2B/Bunurong_MNP/tmp-proc/0048_20170921_083409_ShipName/ga_ausseabed_6efddf42-852e-45c4-bf25-93f5c7237963_bathymetry.tiledb',\n",
       " 's3://ausseabed-pl019-ingested-data/L2B/Bunurong_MNP/tmp-proc/0049_20170921_084609_ShipName/ga_ausseabed_95a630f5-ef75-4147-a05d-423bea5f0d67_bathymetry.tiledb',\n",
       " 's3://ausseabed-pl019-ingested-data/L2B/Bunurong_MNP/tmp-proc/0051_20170921_090445_ShipName/ga_ausseabed_718d80d1-c050-4c42-a2fa-5c0b5b059a05_bathymetry.tiledb',\n",
       " 's3://ausseabed-pl019-ingested-data/L2B/Bunurong_MNP/tmp-proc/0053_20170921_220429_ShipName/ga_ausseabed_b30f6378-38ad-46cf-b4ce-aebfeca739ef_bathymetry.tiledb',\n",
       " 's3://ausseabed-pl019-ingested-data/L2B/Bunurong_MNP/tmp-proc/0079_20170616_081628_Yolla/ga_ausseabed_91bfc8bf-f70d-4a3d-a4cb-90622e5e021a_bathymetry.tiledb']"
      ]
     },
     "execution_count": 36,
     "metadata": {},
     "output_type": "execute_result"
    }
   ],
   "source": [
    "files_df[\"bathy_uri\"].tolist()"
   ]
  },
  {
   "cell_type": "code",
   "execution_count": 39,
   "id": "ede9a648-2df1-41d1-affb-ed0b896d115b",
   "metadata": {},
   "outputs": [
    {
     "data": {
      "text/plain": [
       "Index(['gsf_uri', 'bathy_uri', 'freq_uri'], dtype='object')"
      ]
     },
     "execution_count": 39,
     "metadata": {},
     "output_type": "execute_result"
    }
   ],
   "source": [
    "files_df.columns"
   ]
  },
  {
   "cell_type": "code",
   "execution_count": null,
   "id": "3fb5495a-6e09-4cc5-a748-85478072f978",
   "metadata": {},
   "outputs": [],
   "source": []
  },
  {
   "cell_type": "code",
   "execution_count": 40,
   "id": "5e90ca8d-f006-4931-a167-43179bdb7004",
   "metadata": {},
   "outputs": [],
   "source": [
    "# trying smaller files"
   ]
  },
  {
   "cell_type": "code",
   "execution_count": 41,
   "id": "50637ca3-060b-4d50-8f7f-d42ebcfef065",
   "metadata": {},
   "outputs": [],
   "source": [
    "processing_node_limit = 14\n",
    "ping_slice_step = 10000\n",
    "slices_per_node = 4"
   ]
  },
  {
   "cell_type": "code",
   "execution_count": 64,
   "id": "c4258b5e-df1b-40e6-af38-fede6c2a88ba",
   "metadata": {},
   "outputs": [],
   "source": [
    "test_reduce_task = ingest_gsfs_singular(manageable_files, processing_node_limit, ping_slice_step, slices_per_node, out_array_uris, cell_freq_array_uris, True, True)"
   ]
  },
  {
   "cell_type": "code",
   "execution_count": 65,
   "id": "36a1eb52-9f03-48d3-9f07-d18b3fa05146",
   "metadata": {},
   "outputs": [
    {
     "name": "stderr",
     "output_type": "stream",
     "text": [
      "/opt/conda/lib/python3.7/site-packages/ipykernel_launcher.py:109: ResourceWarning: unclosed <ssl.SSLSocket fd=194, family=AddressFamily.AF_INET, type=SocketKind.SOCK_STREAM, proto=6, laddr=('10.40.187.210', 53352), raddr=('52.216.9.51', 443)>\n",
      "ResourceWarning: Enable tracemalloc to get the object allocation traceback\n"
     ]
    }
   ],
   "source": [
    "test_result = test_reduce_task.compute()"
   ]
  },
  {
   "cell_type": "code",
   "execution_count": null,
   "id": "4cb7df67-f5bb-4780-9b41-5a81e7561014",
   "metadata": {},
   "outputs": [],
   "source": []
  },
  {
   "cell_type": "code",
   "execution_count": 32,
   "id": "96e248af-4476-49a1-aff3-114720b68ae4",
   "metadata": {},
   "outputs": [],
   "source": [
    "large_files = files_df[\"gsf_uri\"].to_list()\n",
    "out_array_uris2 = files_df[\"bathy_uri\"].to_list()\n",
    "cell_freq_array_uris2 = files_df[\"freq_uri\"].to_list()"
   ]
  },
  {
   "cell_type": "code",
   "execution_count": null,
   "id": "1b244f7e-7b01-40b0-a92c-02b3d9a70e3e",
   "metadata": {},
   "outputs": [],
   "source": []
  },
  {
   "cell_type": "code",
   "execution_count": 43,
   "id": "fb282c49-b5b2-470d-9646-82d4b5bb70ed",
   "metadata": {},
   "outputs": [],
   "source": [
    "# look at one largeish file and get an idea of time taken for each stage"
   ]
  },
  {
   "cell_type": "code",
   "execution_count": 33,
   "id": "f2b34465-25d5-4862-adaa-2cb7fc688c5e",
   "metadata": {},
   "outputs": [],
   "source": [
    "import datetime"
   ]
  },
  {
   "cell_type": "code",
   "execution_count": 46,
   "id": "334bdb56-1221-4083-ba9b-71270923c34d",
   "metadata": {},
   "outputs": [
    {
     "name": "stdout",
     "output_type": "stream",
     "text": [
      "0:00:08.114820\n",
      "0:00:00.434887\n",
      "0:00:08.549707\n"
     ]
    }
   ],
   "source": [
    "st = datetime.datetime.now()\n",
    "stream, stream_length = retrieve_stream(f\"s3://{blocks_large_files[1][0]}\", creds.access_key, creds.secret_key)\n",
    "mt = datetime.datetime.now()\n",
    "print(mt - st)\n",
    "finfo = reap.file_info(stream, stream_length)\n",
    "#record = finfo[1].record(0)\n",
    "#ping_hdr, scl_factors, ping_df = record.read(stream)\n",
    "et = datetime.datetime.now()\n",
    "print(et - mt)\n",
    "print(et - st)\n",
    "#print(finfo)"
   ]
  },
  {
   "cell_type": "code",
   "execution_count": 48,
   "id": "063b7d86-601f-40c9-a661-021173e4d16f",
   "metadata": {},
   "outputs": [
    {
     "name": "stdout",
     "output_type": "stream",
     "text": [
      "FileRecordIndex(record_type=<RecordTypes.GSF_SWATH_BATHYMETRY_PING: 2>, record_count=18952)\n"
     ]
    }
   ],
   "source": [
    "print(finfo[1])"
   ]
  },
  {
   "cell_type": "code",
   "execution_count": 53,
   "id": "6787fe52-539f-4647-bd6e-1a9f9adaad91",
   "metadata": {},
   "outputs": [
    {
     "name": "stdout",
     "output_type": "stream",
     "text": [
      "0:01:49.776920\n"
     ]
    }
   ],
   "source": [
    "st = datetime.datetime.now()\n",
    "swth = data_model.SwathBathymetryPing.from_records(finfo[1], stream, idx=slice(6000, 8000))\n",
    "et = datetime.datetime.now()\n",
    "print(et - st)"
   ]
  },
  {
   "cell_type": "code",
   "execution_count": null,
   "id": "a210b424-4010-4a00-8315-4fd5065a3836",
   "metadata": {},
   "outputs": [],
   "source": []
  },
  {
   "cell_type": "code",
   "execution_count": 57,
   "id": "4aa5cd6e-17a6-4c09-8806-30da3c46e759",
   "metadata": {},
   "outputs": [],
   "source": [
    "processing_node_limit = 30\n",
    "ping_slice_step = 2000\n",
    "slices_per_node = 2"
   ]
  },
  {
   "cell_type": "code",
   "execution_count": 62,
   "id": "8293c199-3c6d-4a1a-af8b-ab1d80e5133e",
   "metadata": {},
   "outputs": [],
   "source": [
    "test_gsf_file = [blocks_large_files[1][0]]\n",
    "test_bathy_file = [blocks_bathy_array_files[1][0]]\n",
    "test_freq_file = [blocks_freq_array_files[1][0]]"
   ]
  },
  {
   "cell_type": "code",
   "execution_count": 58,
   "id": "4cafc5af-b3c8-4e48-b68c-3467f212e54f",
   "metadata": {},
   "outputs": [],
   "source": [
    "test_reduce_task = ingest_gsfs_singular(test_gsf_file, processing_node_limit, ping_slice_step, slices_per_node, test_bathy_file, test_freq_file, True, True)"
   ]
  },
  {
   "cell_type": "code",
   "execution_count": 60,
   "id": "16874ca0-47c5-432b-8b37-577a37172319",
   "metadata": {},
   "outputs": [
    {
     "data": {
      "application/vnd.jupyter.widget-view+json": {
       "model_id": "298692eaade54ff79692246060545a96",
       "version_major": 2,
       "version_minor": 0
      },
      "text/plain": [
       "Visualize(value='{\"nodes\": [\"0c8dfcf4-60d6-4b07-8e48-744330dc1963\", \"0b88c206-964a-4ff5-91b4-2aa70452ca3b\", \"5…"
      ]
     },
     "metadata": {},
     "output_type": "display_data"
    }
   ],
   "source": [
    "test_reduce_task.visualize()"
   ]
  },
  {
   "cell_type": "code",
   "execution_count": 61,
   "id": "fdcf7e95-3366-4b76-8f4d-daf4ff8a3f11",
   "metadata": {},
   "outputs": [
    {
     "ename": "CancelledError",
     "evalue": "Parent node failed",
     "output_type": "error",
     "traceback": [
      "\u001b[0;31m---------------------------------------------------------------------------\u001b[0m",
      "\u001b[0;31mCancelledError\u001b[0m                            Traceback (most recent call last)",
      "\u001b[0;32m/tmp/ipykernel_1269/2113224960.py\u001b[0m in \u001b[0;36m<module>\u001b[0;34m\u001b[0m\n\u001b[1;32m      1\u001b[0m \u001b[0mst\u001b[0m \u001b[0;34m=\u001b[0m \u001b[0mdatetime\u001b[0m\u001b[0;34m.\u001b[0m\u001b[0mdatetime\u001b[0m\u001b[0;34m.\u001b[0m\u001b[0mnow\u001b[0m\u001b[0;34m(\u001b[0m\u001b[0;34m)\u001b[0m\u001b[0;34m\u001b[0m\u001b[0;34m\u001b[0m\u001b[0m\n\u001b[0;32m----> 2\u001b[0;31m \u001b[0mtest_reduce_task\u001b[0m\u001b[0;34m.\u001b[0m\u001b[0mcompute\u001b[0m\u001b[0;34m(\u001b[0m\u001b[0;34m)\u001b[0m\u001b[0;34m\u001b[0m\u001b[0;34m\u001b[0m\u001b[0m\n\u001b[0m\u001b[1;32m      3\u001b[0m \u001b[0met\u001b[0m \u001b[0;34m=\u001b[0m \u001b[0mdatetime\u001b[0m\u001b[0;34m.\u001b[0m\u001b[0mdatetime\u001b[0m\u001b[0;34m.\u001b[0m\u001b[0mnow\u001b[0m\u001b[0;34m(\u001b[0m\u001b[0;34m)\u001b[0m\u001b[0;34m\u001b[0m\u001b[0;34m\u001b[0m\u001b[0m\n\u001b[1;32m      4\u001b[0m \u001b[0mprint\u001b[0m\u001b[0;34m(\u001b[0m\u001b[0met\u001b[0m \u001b[0;34m-\u001b[0m \u001b[0mst\u001b[0m\u001b[0;34m)\u001b[0m\u001b[0;34m\u001b[0m\u001b[0;34m\u001b[0m\u001b[0m\n",
      "\u001b[0;32m/opt/conda/lib/python3.7/site-packages/tiledb/cloud/compute/delayed.py\u001b[0m in \u001b[0;36mcompute\u001b[0;34m(self, namespace, name)\u001b[0m\n\u001b[1;32m     56\u001b[0m \u001b[0;34m\u001b[0m\u001b[0m\n\u001b[1;32m     57\u001b[0m         \u001b[0mself\u001b[0m\u001b[0;34m.\u001b[0m\u001b[0mdag\u001b[0m\u001b[0;34m.\u001b[0m\u001b[0mcompute\u001b[0m\u001b[0;34m(\u001b[0m\u001b[0;34m)\u001b[0m\u001b[0;34m\u001b[0m\u001b[0;34m\u001b[0m\u001b[0m\n\u001b[0;32m---> 58\u001b[0;31m         \u001b[0;32mreturn\u001b[0m \u001b[0mself\u001b[0m\u001b[0;34m.\u001b[0m\u001b[0mresult\u001b[0m\u001b[0;34m(\u001b[0m\u001b[0mself\u001b[0m\u001b[0;34m.\u001b[0m\u001b[0mtimeout\u001b[0m\u001b[0;34m)\u001b[0m\u001b[0;34m\u001b[0m\u001b[0;34m\u001b[0m\u001b[0m\n\u001b[0m\u001b[1;32m     59\u001b[0m \u001b[0;34m\u001b[0m\u001b[0m\n\u001b[1;32m     60\u001b[0m     \u001b[0;32mdef\u001b[0m \u001b[0m__set_all_parent_nodes_same_dag\u001b[0m\u001b[0;34m(\u001b[0m\u001b[0mself\u001b[0m\u001b[0;34m,\u001b[0m \u001b[0mdag\u001b[0m\u001b[0;34m)\u001b[0m\u001b[0;34m:\u001b[0m\u001b[0;34m\u001b[0m\u001b[0;34m\u001b[0m\u001b[0m\n",
      "\u001b[0;32m/opt/conda/lib/python3.7/site-packages/tiledb/cloud/dag/dag.py\u001b[0m in \u001b[0;36mresult\u001b[0;34m(self, timeout)\u001b[0m\n\u001b[1;32m    206\u001b[0m             \u001b[0mto_raise\u001b[0m \u001b[0;34m=\u001b[0m \u001b[0mself\u001b[0m\u001b[0;34m.\u001b[0m\u001b[0m_error\u001b[0m\u001b[0;34m(\u001b[0m\u001b[0;34m)\u001b[0m\u001b[0;34m\u001b[0m\u001b[0;34m\u001b[0m\u001b[0m\n\u001b[1;32m    207\u001b[0m             \u001b[0;32mif\u001b[0m \u001b[0mto_raise\u001b[0m\u001b[0;34m:\u001b[0m\u001b[0;34m\u001b[0m\u001b[0;34m\u001b[0m\u001b[0m\n\u001b[0;32m--> 208\u001b[0;31m                 \u001b[0;32mraise\u001b[0m \u001b[0mto_raise\u001b[0m\u001b[0;34m\u001b[0m\u001b[0;34m\u001b[0m\u001b[0m\n\u001b[0m\u001b[1;32m    209\u001b[0m             \u001b[0mresult\u001b[0m \u001b[0;34m=\u001b[0m \u001b[0mself\u001b[0m\u001b[0;34m.\u001b[0m\u001b[0m_result\u001b[0m\u001b[0;34m\u001b[0m\u001b[0;34m\u001b[0m\u001b[0m\n\u001b[1;32m    210\u001b[0m         \u001b[0;32massert\u001b[0m \u001b[0mresult\u001b[0m\u001b[0;34m\u001b[0m\u001b[0;34m\u001b[0m\u001b[0m\n",
      "\u001b[0;31mCancelledError\u001b[0m: Parent node failed"
     ]
    }
   ],
   "source": [
    "st = datetime.datetime.now()\n",
    "test_reduce_task.compute()\n",
    "et = datetime.datetime.now()\n",
    "print(et - st)"
   ]
  },
  {
   "cell_type": "code",
   "execution_count": 72,
   "id": "88c72d58-3cec-445b-b860-922662cfa278",
   "metadata": {},
   "outputs": [
    {
     "data": {
      "text/plain": [
       "('s3://ausseabed-pl019-ingested-data/L2B/Bunurong_MNP/tmp-proc/0005_20170922_022303_ShipName/ga_ausseabed_a479e703-18f7-492e-903a-517ca9c70580_bathymetry.tiledb',\n",
       " 's3://ausseabed-pl019-ingested-data/L2B/Bunurong_MNP/tmp-proc/0001_20170614_003215_Yolla/ga_ausseabed_64fe9b18-bd1e-4ada-8039-f4ae4f0c90ae_soundings-cell-density-resolution-15.tiledb')"
      ]
     },
     "execution_count": 72,
     "metadata": {},
     "output_type": "execute_result"
    }
   ],
   "source": [
    "test_reduce_task.args[0][0].args[0:2]"
   ]
  },
  {
   "cell_type": "code",
   "execution_count": 73,
   "id": "02a7adf3-2d0e-41dd-84a5-9f5cd8b705eb",
   "metadata": {},
   "outputs": [
    {
     "data": {
      "text/plain": [
       "['s3://ausseabed-pl019-ingested-data/L2B/Bunurong_MNP/tmp-proc/0005_20170922_022303_ShipName/ga_ausseabed_a479e703-18f7-492e-903a-517ca9c70580_soundings-cell-density-resolution-15.tiledb']"
      ]
     },
     "execution_count": 73,
     "metadata": {},
     "output_type": "execute_result"
    }
   ],
   "source": [
    "test_freq_file"
   ]
  },
  {
   "cell_type": "code",
   "execution_count": 76,
   "id": "8b819803-2bec-474b-a48a-2b23fe05eaac",
   "metadata": {},
   "outputs": [],
   "source": [
    "cell_freq_task = Delayed(\"sixy6e/cell_frequency\", name=\"redo-cell-frequency\")(\n",
    "    's3://ausseabed-pl019-ingested-data/L2B/Bunurong_MNP/tmp-proc/0005_20170922_022303_ShipName/ga_ausseabed_a479e703-18f7-492e-903a-517ca9c70580_bathymetry.tiledb',\n",
    "    test_freq_file[0],\n",
    "    creds.access_key,\n",
    "    creds.secret_key\n",
    ")"
   ]
  },
  {
   "cell_type": "code",
   "execution_count": 77,
   "id": "c51e0294-8d51-47ba-83c3-f44e50b6bc4b",
   "metadata": {},
   "outputs": [],
   "source": [
    "cell_freq_task.compute()"
   ]
  },
  {
   "cell_type": "code",
   "execution_count": 98,
   "id": "d27c7427-9f83-4968-8b88-7becf0834f73",
   "metadata": {},
   "outputs": [
    {
     "data": {
      "text/plain": [
       "12"
      ]
     },
     "execution_count": 98,
     "metadata": {},
     "output_type": "execute_result"
    }
   ],
   "source": [
    "len(blocks_large_files[1])"
   ]
  },
  {
   "cell_type": "code",
   "execution_count": 119,
   "id": "a347b7f7-ea25-4c73-b0f8-06c8b7536ee1",
   "metadata": {},
   "outputs": [],
   "source": [
    "lid = 11\n",
    "test_gsf_file = [blocks_large_files[1][lid]]\n",
    "test_bathy_file = [blocks_bathy_array_files[1][lid]]\n",
    "test_freq_file = [blocks_freq_array_files[1][lid]]"
   ]
  },
  {
   "cell_type": "code",
   "execution_count": 120,
   "id": "0c71e744-f6ab-4ff8-aed6-6628bdc000ab",
   "metadata": {},
   "outputs": [],
   "source": [
    "test_reduce_task = ingest_gsfs_singular(test_gsf_file, processing_node_limit, ping_slice_step, slices_per_node, test_bathy_file, test_freq_file, True, True)"
   ]
  },
  {
   "cell_type": "code",
   "execution_count": 121,
   "id": "1d822d64-4d7f-43f5-a641-f5b685afd7fa",
   "metadata": {},
   "outputs": [
    {
     "data": {
      "application/vnd.jupyter.widget-view+json": {
       "model_id": "577a86da1466454c962002543eda065d",
       "version_major": 2,
       "version_minor": 0
      },
      "text/plain": [
       "Visualize(value='{\"nodes\": [\"699d4cae-e9ff-46f5-ad7b-a7003cf1106d\", \"6cb142bf-b5c7-490b-899d-7765840aeac6\", \"7…"
      ]
     },
     "metadata": {},
     "output_type": "display_data"
    }
   ],
   "source": [
    "test_reduce_task.visualize()"
   ]
  },
  {
   "cell_type": "code",
   "execution_count": 122,
   "id": "3f63c899-3e18-47dc-a676-189fde09680b",
   "metadata": {},
   "outputs": [
    {
     "name": "stdout",
     "output_type": "stream",
     "text": [
      "0:07:48.818668\n"
     ]
    }
   ],
   "source": [
    "st = datetime.datetime.now()\n",
    "test_reduce_task.compute()\n",
    "et = datetime.datetime.now()\n",
    "print(et - st)"
   ]
  },
  {
   "cell_type": "code",
   "execution_count": null,
   "id": "3d5d9694-34d8-40a1-b789-f2e393507b3b",
   "metadata": {},
   "outputs": [],
   "source": []
  },
  {
   "cell_type": "code",
   "execution_count": 37,
   "id": "5f86fa26-cef6-434e-932e-57325e49087e",
   "metadata": {},
   "outputs": [
    {
     "data": {
      "text/plain": [
       "'ausseabed-pl019-provided-data/DeakinUniversity/Bunurong_MNP/gsf/0011_20170921_024031_ShipName.gsf'"
      ]
     },
     "execution_count": 37,
     "metadata": {},
     "output_type": "execute_result"
    }
   ],
   "source": [
    "blocks_large_files[2][0]"
   ]
  },
  {
   "cell_type": "code",
   "execution_count": 38,
   "id": "5701a10b-d360-4fb4-aace-966cf589c850",
   "metadata": {},
   "outputs": [
    {
     "data": {
      "text/plain": [
       "['ausseabed-pl019-ingested-data/L2B/Bunurong_MNP/tmp-proc/0011_20170921_024031_ShipName/ga_ausseabed_c6cd5b15-7b3d-4fc7-b339-e096de085b80_bathymetry.tiledb/__schema']"
      ]
     },
     "execution_count": 38,
     "metadata": {},
     "output_type": "execute_result"
    }
   ],
   "source": [
    "fs.ls(blocks_bathy_array_files[2][0])"
   ]
  },
  {
   "cell_type": "code",
   "execution_count": null,
   "id": "33657cd4-57e1-40f9-94c3-916423a49e3e",
   "metadata": {},
   "outputs": [],
   "source": []
  },
  {
   "cell_type": "code",
   "execution_count": 36,
   "id": "54b939fa-9e2b-444d-9faf-9bdbde1f4562",
   "metadata": {},
   "outputs": [],
   "source": [
    "processing_node_limit = 30\n",
    "ping_slice_step = 2000\n",
    "slices_per_node = 2"
   ]
  },
  {
   "cell_type": "code",
   "execution_count": 47,
   "id": "887a3785-99fa-4d16-a901-db2325555789",
   "metadata": {},
   "outputs": [],
   "source": [
    "test_reduce_task = ingest_gsfs_singular(blocks_large_files[4], processing_node_limit, ping_slice_step, slices_per_node, blocks_bathy_array_files[4], blocks_freq_array_files[4], True, True)"
   ]
  },
  {
   "cell_type": "code",
   "execution_count": 48,
   "id": "4d81ac9d-38b2-4d21-8602-e4c06a7db801",
   "metadata": {},
   "outputs": [
    {
     "name": "stderr",
     "output_type": "stream",
     "text": [
      "/opt/conda/lib/python3.7/site-packages/ipywidgets/widgets/widget.py:477: DeprecationWarning: Passing unrecognized arguments to super(Visualize).__init__(data='{\"nodes\": [\"fc98c42f-5237-4f84-8490-97e9e9bc45a9\", \"5c1d961a-ca34-4ab3-81b6-31cae5cb9225\", \"2dc50294-e134-406a-be4b-ed73f1a8ad89\", \"0e0d91f4-6f38-40a8-b8ec-016171888018\", \"e1a84461-f8bf-4ff6-b7fb-3db000d08a74\", \"a7544e0d-05d3-44a5-8c49-826a63748fbd\", \"a4c8cf2f-5ba4-4e42-9c99-149261c9c02f\", \"68285c78-d202-48e0-9366-4df3eeb63b9a\", \"d3e0c89e-1662-4be2-86f2-62088efeef5a\", \"745aaa8c-ad75-481d-a804-128e12c4e512\", \"f41920da-d94d-4be0-b174-f7bd52caf17c\", \"95262f4b-2f0a-47d0-b267-90e72e5ab7ce\", \"770f0151-4bef-4370-a2fc-adf7e2d33a76\", \"ca939158-9424-4cdd-8341-4877c2eea55e\", \"bed44dac-c9c4-4dee-9481-cf2e47159829\", \"75878da6-44e5-4653-abe8-802f4774dd26\", \"7cbd66f7-2c55-41cf-be8c-563d0d627cfd\", \"ebb66716-17f5-4d8d-aff2-80523033bd72\", \"ae7b31fe-df48-45d9-80ab-d2b4e88012ad\", \"753a9562-34e1-4193-bbc4-503cc66864ac\", \"71c57507-15d6-4068-a696-18cbcb5a8c6d\", \"d617ae79-ebad-4ef3-80c4-f4355163d2a0\", \"6ca33125-253a-4f4c-a7fc-eb63d4811e6e\", \"6d40e1f8-c15c-4a13-a199-db42f288801a\", \"46956d4c-772e-4849-9391-a78abfc99b32\", \"a610540c-fb5b-4ffa-a8f7-e92ce5cb8a51\", \"b4b3514a-48f0-4e82-9cac-3713b7e0f1a1\", \"702256ac-fd81-446a-bfab-9da5ba93901c\", \"76e30409-b5c8-4847-b514-e65e57105f94\", \"28715e51-2e84-4d46-9490-cc82ac32bc8e\", \"1dec8b3f-d846-4e14-8cc1-4ca0ab96238d\", \"674b91c6-a41e-42e6-b32b-fee46059ab9f\", \"9966a26b-bf61-49f7-b9ab-d12acdcd8f33\", \"ee9fc9d9-86cb-49ad-b98e-c4e52f451631\", \"78c9e7c7-a4c4-46b2-8776-d7497565ca99\", \"e778e584-45ab-44c9-81de-e4275068e87b\", \"03f06ede-1170-4835-b37d-9153ee3f0f48\", \"e0a0f664-d109-4023-a0a2-4218a7e3a961\", \"6ca06d08-525d-4eec-9a2e-b9516bcc6eb5\", \"df668499-3530-4b17-8429-365e0a2e3eb7\", \"4bfb75fc-a1e5-4da0-8221-9b01fc8c0c15\", \"4816d221-d217-4f79-a8c3-5fee943b4739\", \"52d5bb73-3829-4562-9b55-bfda96046fb1\", \"ea348e6f-d8f6-4596-94be-1ecbae2601f5\", \"b3127d17-5fd5-4329-8818-4d3778ad5ea5\", \"d46c8035-4e75-4aab-bbf8-2e741ff76641\", \"b6ee3fab-1904-409e-9e8d-71355cfc522b\", \"c6ce2686-ae63-4b68-bffb-e9507df638fb\", \"aa199001-a78d-4b89-addc-96ad1a0afaf9\", \"332e6782-9ae3-4c86-b35d-ddef6df9c055\", \"b8a1cc37-0fda-47c9-b9a7-4d88392a3082\", \"9febcb22-b7f7-4a68-8e74-2b6de2591d07\", \"929cf99e-a285-4b57-89c3-7bd82e64d02d\", \"4956eebe-d4c5-4641-8d8d-e5b2972fb524\", \"cb40a3a0-8c5d-4c9b-841d-56d0aa488d06\", \"5dbb1853-929d-407f-b535-c60423672c67\", \"c94986de-e154-4796-bf18-6fb792b1b962\", \"4f3eaf0b-f398-4a2a-a6f7-dfb6dd31ac8e\", \"f076c7d3-64da-4c27-8c0c-315a92fd6849\", \"af2c042c-08b2-43e9-a60f-32892954f7a1\", \"a0f645a3-b47a-4ea3-b3b9-e8c24bad788d\"], \"edges\": [[\"5c1d961a-ca34-4ab3-81b6-31cae5cb9225\", \"fc98c42f-5237-4f84-8490-97e9e9bc45a9\"], [\"2dc50294-e134-406a-be4b-ed73f1a8ad89\", \"5c1d961a-ca34-4ab3-81b6-31cae5cb9225\"], [\"2dc50294-e134-406a-be4b-ed73f1a8ad89\", \"0e0d91f4-6f38-40a8-b8ec-016171888018\"], [\"0e0d91f4-6f38-40a8-b8ec-016171888018\", \"e1a84461-f8bf-4ff6-b7fb-3db000d08a74\"], [\"e1a84461-f8bf-4ff6-b7fb-3db000d08a74\", \"fc98c42f-5237-4f84-8490-97e9e9bc45a9\"], [\"a7544e0d-05d3-44a5-8c49-826a63748fbd\", \"e1a84461-f8bf-4ff6-b7fb-3db000d08a74\"], [\"a4c8cf2f-5ba4-4e42-9c99-149261c9c02f\", \"e1a84461-f8bf-4ff6-b7fb-3db000d08a74\"], [\"68285c78-d202-48e0-9366-4df3eeb63b9a\", \"5c1d961a-ca34-4ab3-81b6-31cae5cb9225\"], [\"68285c78-d202-48e0-9366-4df3eeb63b9a\", \"a4c8cf2f-5ba4-4e42-9c99-149261c9c02f\"], [\"d3e0c89e-1662-4be2-86f2-62088efeef5a\", \"e1a84461-f8bf-4ff6-b7fb-3db000d08a74\"], [\"745aaa8c-ad75-481d-a804-128e12c4e512\", \"5c1d961a-ca34-4ab3-81b6-31cae5cb9225\"], [\"745aaa8c-ad75-481d-a804-128e12c4e512\", \"d3e0c89e-1662-4be2-86f2-62088efeef5a\"], [\"f41920da-d94d-4be0-b174-f7bd52caf17c\", \"fc98c42f-5237-4f84-8490-97e9e9bc45a9\"], [\"95262f4b-2f0a-47d0-b267-90e72e5ab7ce\", \"f41920da-d94d-4be0-b174-f7bd52caf17c\"], [\"95262f4b-2f0a-47d0-b267-90e72e5ab7ce\", \"770f0151-4bef-4370-a2fc-adf7e2d33a76\"], [\"770f0151-4bef-4370-a2fc-adf7e2d33a76\", \"ca939158-9424-4cdd-8341-4877c2eea55e\"], [\"ca939158-9424-4cdd-8341-4877c2eea55e\", \"fc98c42f-5237-4f84-8490-97e9e9bc45a9\"], [\"bed44dac-c9c4-4dee-9481-cf2e47159829\", \"ca939158-9424-4cdd-8341-4877c2eea55e\"], [\"75878da6-44e5-4653-abe8-802f4774dd26\", \"f41920da-d94d-4be0-b174-f7bd52caf17c\"], [\"75878da6-44e5-4653-abe8-802f4774dd26\", \"bed44dac-c9c4-4dee-9481-cf2e47159829\"], [\"7cbd66f7-2c55-41cf-be8c-563d0d627cfd\", \"ca939158-9424-4cdd-8341-4877c2eea55e\"], [\"ebb66716-17f5-4d8d-aff2-80523033bd72\", \"f41920da-d94d-4be0-b174-f7bd52caf17c\"], [\"ebb66716-17f5-4d8d-aff2-80523033bd72\", \"7cbd66f7-2c55-41cf-be8c-563d0d627cfd\"], [\"ae7b31fe-df48-45d9-80ab-d2b4e88012ad\", \"ca939158-9424-4cdd-8341-4877c2eea55e\"], [\"753a9562-34e1-4193-bbc4-503cc66864ac\", \"71c57507-15d6-4068-a696-18cbcb5a8c6d\"], [\"753a9562-34e1-4193-bbc4-503cc66864ac\", \"ae7b31fe-df48-45d9-80ab-d2b4e88012ad\"], [\"71c57507-15d6-4068-a696-18cbcb5a8c6d\", \"fc98c42f-5237-4f84-8490-97e9e9bc45a9\"], [\"d617ae79-ebad-4ef3-80c4-f4355163d2a0\", \"71c57507-15d6-4068-a696-18cbcb5a8c6d\"], [\"d617ae79-ebad-4ef3-80c4-f4355163d2a0\", \"6ca33125-253a-4f4c-a7fc-eb63d4811e6e\"], [\"6ca33125-253a-4f4c-a7fc-eb63d4811e6e\", \"6d40e1f8-c15c-4a13-a199-db42f288801a\"], [\"6d40e1f8-c15c-4a13-a199-db42f288801a\", \"fc98c42f-5237-4f84-8490-97e9e9bc45a9\"], [\"46956d4c-772e-4849-9391-a78abfc99b32\", \"6d40e1f8-c15c-4a13-a199-db42f288801a\"], [\"a610540c-fb5b-4ffa-a8f7-e92ce5cb8a51\", \"71c57507-15d6-4068-a696-18cbcb5a8c6d\"], [\"a610540c-fb5b-4ffa-a8f7-e92ce5cb8a51\", \"46956d4c-772e-4849-9391-a78abfc99b32\"], [\"b4b3514a-48f0-4e82-9cac-3713b7e0f1a1\", \"6d40e1f8-c15c-4a13-a199-db42f288801a\"], [\"702256ac-fd81-446a-bfab-9da5ba93901c\", \"76e30409-b5c8-4847-b514-e65e57105f94\"], [\"702256ac-fd81-446a-bfab-9da5ba93901c\", \"b4b3514a-48f0-4e82-9cac-3713b7e0f1a1\"], [\"76e30409-b5c8-4847-b514-e65e57105f94\", \"fc98c42f-5237-4f84-8490-97e9e9bc45a9\"], [\"28715e51-2e84-4d46-9490-cc82ac32bc8e\", \"76e30409-b5c8-4847-b514-e65e57105f94\"], [\"28715e51-2e84-4d46-9490-cc82ac32bc8e\", \"1dec8b3f-d846-4e14-8cc1-4ca0ab96238d\"], [\"1dec8b3f-d846-4e14-8cc1-4ca0ab96238d\", \"6d40e1f8-c15c-4a13-a199-db42f288801a\"], [\"674b91c6-a41e-42e6-b32b-fee46059ab9f\", \"76e30409-b5c8-4847-b514-e65e57105f94\"], [\"674b91c6-a41e-42e6-b32b-fee46059ab9f\", \"9966a26b-bf61-49f7-b9ab-d12acdcd8f33\"], [\"9966a26b-bf61-49f7-b9ab-d12acdcd8f33\", \"6d40e1f8-c15c-4a13-a199-db42f288801a\"], [\"ee9fc9d9-86cb-49ad-b98e-c4e52f451631\", \"76e30409-b5c8-4847-b514-e65e57105f94\"], [\"ee9fc9d9-86cb-49ad-b98e-c4e52f451631\", \"78c9e7c7-a4c4-46b2-8776-d7497565ca99\"], [\"78c9e7c7-a4c4-46b2-8776-d7497565ca99\", \"6d40e1f8-c15c-4a13-a199-db42f288801a\"], [\"e778e584-45ab-44c9-81de-e4275068e87b\", \"76e30409-b5c8-4847-b514-e65e57105f94\"], [\"e778e584-45ab-44c9-81de-e4275068e87b\", \"03f06ede-1170-4835-b37d-9153ee3f0f48\"], [\"03f06ede-1170-4835-b37d-9153ee3f0f48\", \"6d40e1f8-c15c-4a13-a199-db42f288801a\"], [\"e0a0f664-d109-4023-a0a2-4218a7e3a961\", \"fc98c42f-5237-4f84-8490-97e9e9bc45a9\"], [\"6ca06d08-525d-4eec-9a2e-b9516bcc6eb5\", \"e0a0f664-d109-4023-a0a2-4218a7e3a961\"], [\"6ca06d08-525d-4eec-9a2e-b9516bcc6eb5\", \"df668499-3530-4b17-8429-365e0a2e3eb7\"], [\"df668499-3530-4b17-8429-365e0a2e3eb7\", \"4bfb75fc-a1e5-4da0-8221-9b01fc8c0c15\"], [\"4bfb75fc-a1e5-4da0-8221-9b01fc8c0c15\", \"fc98c42f-5237-4f84-8490-97e9e9bc45a9\"], [\"4816d221-d217-4f79-a8c3-5fee943b4739\", \"4bfb75fc-a1e5-4da0-8221-9b01fc8c0c15\"], [\"52d5bb73-3829-4562-9b55-bfda96046fb1\", \"e0a0f664-d109-4023-a0a2-4218a7e3a961\"], [\"52d5bb73-3829-4562-9b55-bfda96046fb1\", \"4816d221-d217-4f79-a8c3-5fee943b4739\"], [\"ea348e6f-d8f6-4596-94be-1ecbae2601f5\", \"4bfb75fc-a1e5-4da0-8221-9b01fc8c0c15\"], [\"b3127d17-5fd5-4329-8818-4d3778ad5ea5\", \"e0a0f664-d109-4023-a0a2-4218a7e3a961\"], [\"b3127d17-5fd5-4329-8818-4d3778ad5ea5\", \"ea348e6f-d8f6-4596-94be-1ecbae2601f5\"], [\"d46c8035-4e75-4aab-bbf8-2e741ff76641\", \"4bfb75fc-a1e5-4da0-8221-9b01fc8c0c15\"], [\"b6ee3fab-1904-409e-9e8d-71355cfc522b\", \"c6ce2686-ae63-4b68-bffb-e9507df638fb\"], [\"b6ee3fab-1904-409e-9e8d-71355cfc522b\", \"d46c8035-4e75-4aab-bbf8-2e741ff76641\"], [\"c6ce2686-ae63-4b68-bffb-e9507df638fb\", \"fc98c42f-5237-4f84-8490-97e9e9bc45a9\"], [\"aa199001-a78d-4b89-addc-96ad1a0afaf9\", \"c6ce2686-ae63-4b68-bffb-e9507df638fb\"], [\"332e6782-9ae3-4c86-b35d-ddef6df9c055\", \"c6ce2686-ae63-4b68-bffb-e9507df638fb\"], [\"b8a1cc37-0fda-47c9-b9a7-4d88392a3082\", \"c6ce2686-ae63-4b68-bffb-e9507df638fb\"], [\"9febcb22-b7f7-4a68-8e74-2b6de2591d07\", \"fc98c42f-5237-4f84-8490-97e9e9bc45a9\"], [\"929cf99e-a285-4b57-89c3-7bd82e64d02d\", \"9febcb22-b7f7-4a68-8e74-2b6de2591d07\"], [\"4956eebe-d4c5-4641-8d8d-e5b2972fb524\", \"9febcb22-b7f7-4a68-8e74-2b6de2591d07\"], [\"cb40a3a0-8c5d-4c9b-841d-56d0aa488d06\", \"9febcb22-b7f7-4a68-8e74-2b6de2591d07\"], [\"5dbb1853-929d-407f-b535-c60423672c67\", \"9febcb22-b7f7-4a68-8e74-2b6de2591d07\"], [\"c94986de-e154-4796-bf18-6fb792b1b962\", \"fc98c42f-5237-4f84-8490-97e9e9bc45a9\"], [\"4f3eaf0b-f398-4a2a-a6f7-dfb6dd31ac8e\", \"c94986de-e154-4796-bf18-6fb792b1b962\"], [\"f076c7d3-64da-4c27-8c0c-315a92fd6849\", \"c94986de-e154-4796-bf18-6fb792b1b962\"], [\"af2c042c-08b2-43e9-a60f-32892954f7a1\", \"c94986de-e154-4796-bf18-6fb792b1b962\"], [\"a0f645a3-b47a-4ea3-b3b9-e8c24bad788d\", \"c94986de-e154-4796-bf18-6fb792b1b962\"]], \"node_details\": {\"fc98c42f-5237-4f84-8490-97e9e9bc45a9\": {\"name\": \"dummy-reducer\", \"status\": \"Not Started\"}, \"5c1d961a-ca34-4ab3-81b6-31cae5cb9225\": {\"name\": \"0032_20170615_024517_Yolla-cell-frequency\", \"status\": \"Not Started\"}, \"2dc50294-e134-406a-be4b-ed73f1a8ad89\": {\"name\": \"0032_20170615_024517_Yolla-0-4000-0\", \"status\": \"Not Started\"}, \"0e0d91f4-6f38-40a8-b8ec-016171888018\": {\"name\": \"0049_20170921_084609_ShipName-4000-8000-0\", \"status\": \"Not Started\"}, \"e1a84461-f8bf-4ff6-b7fb-3db000d08a74\": {\"name\": \"0049_20170921_084609_ShipName-cell-frequency\", \"status\": \"Not Started\"}, \"a7544e0d-05d3-44a5-8c49-826a63748fbd\": {\"name\": \"0049_20170921_084609_ShipName-0-4000-29\", \"status\": \"Not Started\"}, \"a4c8cf2f-5ba4-4e42-9c99-149261c9c02f\": {\"name\": \"0049_20170921_084609_ShipName-8000-12000-1\", \"status\": \"Not Started\"}, \"68285c78-d202-48e0-9366-4df3eeb63b9a\": {\"name\": \"0032_20170615_024517_Yolla-4000-8000-1\", \"status\": \"Not Started\"}, \"d3e0c89e-1662-4be2-86f2-62088efeef5a\": {\"name\": \"0049_20170921_084609_ShipName-12000-16000-2\", \"status\": \"Not Started\"}, \"745aaa8c-ad75-481d-a804-128e12c4e512\": {\"name\": \"0032_20170615_024517_Yolla-8000-10000-2\", \"status\": \"Not Started\"}, \"f41920da-d94d-4be0-b174-f7bd52caf17c\": {\"name\": \"0040_20170615_042913_Yolla-cell-frequency\", \"status\": \"Not Started\"}, \"95262f4b-2f0a-47d0-b267-90e72e5ab7ce\": {\"name\": \"0040_20170615_042913_Yolla-0-4000-3\", \"status\": \"Not Started\"}, \"770f0151-4bef-4370-a2fc-adf7e2d33a76\": {\"name\": \"0051_20170921_090445_ShipName-0-4000-3\", \"status\": \"Not Started\"}, \"ca939158-9424-4cdd-8341-4877c2eea55e\": {\"name\": \"0051_20170921_090445_ShipName-cell-frequency\", \"status\": \"Not Started\"}, \"bed44dac-c9c4-4dee-9481-cf2e47159829\": {\"name\": \"0051_20170921_090445_ShipName-4000-8000-4\", \"status\": \"Not Started\"}, \"75878da6-44e5-4653-abe8-802f4774dd26\": {\"name\": \"0040_20170615_042913_Yolla-4000-8000-4\", \"status\": \"Not Started\"}, \"7cbd66f7-2c55-41cf-be8c-563d0d627cfd\": {\"name\": \"0051_20170921_090445_ShipName-8000-12000-5\", \"status\": \"Not Started\"}, \"ebb66716-17f5-4d8d-aff2-80523033bd72\": {\"name\": \"0040_20170615_042913_Yolla-8000-10000-5\", \"status\": \"Not Started\"}, \"ae7b31fe-df48-45d9-80ab-d2b4e88012ad\": {\"name\": \"0051_20170921_090445_ShipName-12000-14000-6\", \"status\": \"Not Started\"}, \"753a9562-34e1-4193-bbc4-503cc66864ac\": {\"name\": \"0042_20170615_051255_Yolla-0-4000-6\", \"status\": \"Not Started\"}, \"71c57507-15d6-4068-a696-18cbcb5a8c6d\": {\"name\": \"0042_20170615_051255_Yolla-cell-frequency\", \"status\": \"Not Started\"}, \"d617ae79-ebad-4ef3-80c4-f4355163d2a0\": {\"name\": \"0042_20170615_051255_Yolla-4000-8000-7\", \"status\": \"Not Started\"}, \"6ca33125-253a-4f4c-a7fc-eb63d4811e6e\": {\"name\": \"0053_20170921_220429_ShipName-0-4000-7\", \"status\": \"Not Started\"}, \"6d40e1f8-c15c-4a13-a199-db42f288801a\": {\"name\": \"0053_20170921_220429_ShipName-cell-frequency\", \"status\": \"Not Started\"}, \"46956d4c-772e-4849-9391-a78abfc99b32\": {\"name\": \"0053_20170921_220429_ShipName-4000-8000-8\", \"status\": \"Not Started\"}, \"a610540c-fb5b-4ffa-a8f7-e92ce5cb8a51\": {\"name\": \"0042_20170615_051255_Yolla-8000-10000-8\", \"status\": \"Not Started\"}, \"b4b3514a-48f0-4e82-9cac-3713b7e0f1a1\": {\"name\": \"0053_20170921_220429_ShipName-8000-12000-9\", \"status\": \"Not Started\"}, \"702256ac-fd81-446a-bfab-9da5ba93901c\": {\"name\": \"0043_20170921_074730_ShipName-0-4000-9\", \"status\": \"Not Started\"}, \"76e30409-b5c8-4847-b514-e65e57105f94\": {\"name\": \"0043_20170921_074730_ShipName-cell-frequency\", \"status\": \"Not Started\"}, \"28715e51-2e84-4d46-9490-cc82ac32bc8e\": {\"name\": \"0043_20170921_074730_ShipName-4000-8000-10\", \"status\": \"Not Started\"}, \"1dec8b3f-d846-4e14-8cc1-4ca0ab96238d\": {\"name\": \"0053_20170921_220429_ShipName-12000-16000-10\", \"status\": \"Not Started\"}, \"674b91c6-a41e-42e6-b32b-fee46059ab9f\": {\"name\": \"0043_20170921_074730_ShipName-8000-12000-11\", \"status\": \"Not Started\"}, \"9966a26b-bf61-49f7-b9ab-d12acdcd8f33\": {\"name\": \"0053_20170921_220429_ShipName-16000-20000-11\", \"status\": \"Not Started\"}, \"ee9fc9d9-86cb-49ad-b98e-c4e52f451631\": {\"name\": \"0043_20170921_074730_ShipName-12000-16000-12\", \"status\": \"Not Started\"}, \"78c9e7c7-a4c4-46b2-8776-d7497565ca99\": {\"name\": \"0053_20170921_220429_ShipName-20000-24000-12\", \"status\": \"Not Started\"}, \"e778e584-45ab-44c9-81de-e4275068e87b\": {\"name\": \"0043_20170921_074730_ShipName-16000-18000-13\", \"status\": \"Not Started\"}, \"03f06ede-1170-4835-b37d-9153ee3f0f48\": {\"name\": \"0053_20170921_220429_ShipName-24000-28000-13\", \"status\": \"Not Started\"}, \"e0a0f664-d109-4023-a0a2-4218a7e3a961\": {\"name\": \"0044_20170615_055746_Yolla-cell-frequency\", \"status\": \"Not Started\"}, \"6ca06d08-525d-4eec-9a2e-b9516bcc6eb5\": {\"name\": \"0044_20170615_055746_Yolla-0-4000-14\", \"status\": \"Not Started\"}, \"df668499-3530-4b17-8429-365e0a2e3eb7\": {\"name\": \"0079_20170616_081628_Yolla-0-4000-14\", \"status\": \"Not Started\"}, \"4bfb75fc-a1e5-4da0-8221-9b01fc8c0c15\": {\"name\": \"0079_20170616_081628_Yolla-cell-frequency\", \"status\": \"Not Started\"}, \"4816d221-d217-4f79-a8c3-5fee943b4739\": {\"name\": \"0079_20170616_081628_Yolla-4000-8000-15\", \"status\": \"Not Started\"}, \"52d5bb73-3829-4562-9b55-bfda96046fb1\": {\"name\": \"0044_20170615_055746_Yolla-4000-8000-15\", \"status\": \"Not Started\"}, \"ea348e6f-d8f6-4596-94be-1ecbae2601f5\": {\"name\": \"0079_20170616_081628_Yolla-8000-12000-16\", \"status\": \"Not Started\"}, \"b3127d17-5fd5-4329-8818-4d3778ad5ea5\": {\"name\": \"0044_20170615_055746_Yolla-8000-10000-16\", \"status\": \"Not Started\"}, \"d46c8035-4e75-4aab-bbf8-2e741ff76641\": {\"name\": \"0079_20170616_081628_Yolla-12000-16000-17\", \"status\": \"Not Started\"}, \"b6ee3fab-1904-409e-9e8d-71355cfc522b\": {\"name\": \"0044_20170921_075810_ShipName-0-4000-17\", \"status\": \"Not Started\"}, \"c6ce2686-ae63-4b68-bffb-e9507df638fb\": {\"name\": \"0044_20170921_075810_ShipName-cell-frequency\", \"status\": \"Not Started\"}, \"aa199001-a78d-4b89-addc-96ad1a0afaf9\": {\"name\": \"0044_20170921_075810_ShipName-4000-8000-18\", \"status\": \"Not Started\"}, \"332e6782-9ae3-4c86-b35d-ddef6df9c055\": {\"name\": \"0044_20170921_075810_ShipName-8000-12000-19\", \"status\": \"Not Started\"}, \"b8a1cc37-0fda-47c9-b9a7-4d88392a3082\": {\"name\": \"0044_20170921_075810_ShipName-12000-16000-20\", \"status\": \"Not Started\"}, \"9febcb22-b7f7-4a68-8e74-2b6de2591d07\": {\"name\": \"0047_20170921_082108_ShipName-cell-frequency\", \"status\": \"Not Started\"}, \"929cf99e-a285-4b57-89c3-7bd82e64d02d\": {\"name\": \"0047_20170921_082108_ShipName-0-4000-21\", \"status\": \"Not Started\"}, \"4956eebe-d4c5-4641-8d8d-e5b2972fb524\": {\"name\": \"0047_20170921_082108_ShipName-4000-8000-22\", \"status\": \"Not Started\"}, \"cb40a3a0-8c5d-4c9b-841d-56d0aa488d06\": {\"name\": \"0047_20170921_082108_ShipName-8000-12000-23\", \"status\": \"Not Started\"}, \"5dbb1853-929d-407f-b535-c60423672c67\": {\"name\": \"0047_20170921_082108_ShipName-12000-16000-24\", \"status\": \"Not Started\"}, \"c94986de-e154-4796-bf18-6fb792b1b962\": {\"name\": \"0048_20170921_083409_ShipName-cell-frequency\", \"status\": \"Not Started\"}, \"4f3eaf0b-f398-4a2a-a6f7-dfb6dd31ac8e\": {\"name\": \"0048_20170921_083409_ShipName-0-4000-25\", \"status\": \"Not Started\"}, \"f076c7d3-64da-4c27-8c0c-315a92fd6849\": {\"name\": \"0048_20170921_083409_ShipName-4000-8000-26\", \"status\": \"Not Started\"}, \"af2c042c-08b2-43e9-a60f-32892954f7a1\": {\"name\": \"0048_20170921_083409_ShipName-8000-12000-27\", \"status\": \"Not Started\"}, \"a0f645a3-b47a-4ea3-b3b9-e8c24bad788d\": {\"name\": \"0048_20170921_083409_ShipName-12000-16000-28\", \"status\": \"Not Started\"}}, \"positions\": {\"fc98c42f-5237-4f84-8490-97e9e9bc45a9\": [6052.5, 18.0], \"5c1d961a-ca34-4ab3-81b6-31cae5cb9225\": [1353.5, 162.0], \"2dc50294-e134-406a-be4b-ed73f1a8ad89\": [393.48, 234.0], \"0e0d91f4-6f38-40a8-b8ec-016171888018\": [188.48, 162.0], \"e1a84461-f8bf-4ff6-b7fb-3db000d08a74\": [979.48, 90.0], \"a7544e0d-05d3-44a5-8c49-826a63748fbd\": [979.48, 162.0], \"a4c8cf2f-5ba4-4e42-9c99-149261c9c02f\": [588.48, 162.0], \"68285c78-d202-48e0-9366-4df3eeb63b9a\": [1148.5, 234.0], \"d3e0c89e-1662-4be2-86f2-62088efeef5a\": [1744.5, 162.0], \"745aaa8c-ad75-481d-a804-128e12c4e512\": [1730.5, 234.0], \"f41920da-d94d-4be0-b174-f7bd52caf17c\": [2504.5, 162.0], \"95262f4b-2f0a-47d0-b267-90e72e5ab7ce\": [2325.5, 234.0], \"770f0151-4bef-4370-a2fc-adf7e2d33a76\": [2135.5, 162.0], \"ca939158-9424-4cdd-8341-4877c2eea55e\": [3286.5, 90.0], \"bed44dac-c9c4-4dee-9481-cf2e47159829\": [2886.5, 162.0], \"75878da6-44e5-4653-abe8-802f4774dd26\": [2682.5, 234.0], \"7cbd66f7-2c55-41cf-be8c-563d0d627cfd\": [3286.5, 162.0], \"ebb66716-17f5-4d8d-aff2-80523033bd72\": [3166.5, 234.0], \"ae7b31fe-df48-45d9-80ab-d2b4e88012ad\": [3695.5, 162.0], \"753a9562-34e1-4193-bbc4-503cc66864ac\": [3717.5, 234.0], \"71c57507-15d6-4068-a696-18cbcb5a8c6d\": [4086.5, 162.0], \"d617ae79-ebad-4ef3-80c4-f4355163d2a0\": [4270.5, 234.0], \"6ca33125-253a-4f4c-a7fc-eb63d4811e6e\": [4455.5, 162.0], \"6d40e1f8-c15c-4a13-a199-db42f288801a\": [5790.5, 90.0], \"46956d4c-772e-4849-9391-a78abfc99b32\": [4837.5, 162.0], \"a610540c-fb5b-4ffa-a8f7-e92ce5cb8a51\": [4735.5, 234.0], \"b4b3514a-48f0-4e82-9cac-3713b7e0f1a1\": [5659.5, 162.0], \"702256ac-fd81-446a-bfab-9da5ba93901c\": [5672.5, 234.0], \"76e30409-b5c8-4847-b514-e65e57105f94\": [6486.5, 162.0], \"28715e51-2e84-4d46-9490-cc82ac32bc8e\": [6074.5, 234.0], \"1dec8b3f-d846-4e14-8cc1-4ca0ab96238d\": [6072.5, 162.0], \"674b91c6-a41e-42e6-b32b-fee46059ab9f\": [6693.5, 234.0], \"9966a26b-bf61-49f7-b9ab-d12acdcd8f33\": [6900.5, 162.0], \"ee9fc9d9-86cb-49ad-b98e-c4e52f451631\": [7217.5, 234.0], \"78c9e7c7-a4c4-46b2-8776-d7497565ca99\": [7322.5, 162.0], \"e778e584-45ab-44c9-81de-e4275068e87b\": [5261.5, 234.0], \"03f06ede-1170-4835-b37d-9153ee3f0f48\": [5246.5, 162.0], \"e0a0f664-d109-4023-a0a2-4218a7e3a961\": [8058.5, 162.0], \"6ca06d08-525d-4eec-9a2e-b9516bcc6eb5\": [7703.5, 234.0], \"df668499-3530-4b17-8429-365e0a2e3eb7\": [7703.5, 162.0], \"4bfb75fc-a1e5-4da0-8221-9b01fc8c0c15\": [8426.5, 90.0], \"4816d221-d217-4f79-a8c3-5fee943b4739\": [8426.5, 162.0], \"52d5bb73-3829-4562-9b55-bfda96046fb1\": [8150.5, 234.0], \"ea348e6f-d8f6-4596-94be-1ecbae2601f5\": [8798.5, 162.0], \"b3127d17-5fd5-4329-8818-4d3778ad5ea5\": [8614.5, 234.0], \"d46c8035-4e75-4aab-bbf8-2e741ff76641\": [9178.5, 162.0], \"b6ee3fab-1904-409e-9e8d-71355cfc522b\": [9178.5, 234.0], \"c6ce2686-ae63-4b68-bffb-e9507df638fb\": [9574.5, 162.0], \"aa199001-a78d-4b89-addc-96ad1a0afaf9\": [9569.5, 234.0], \"332e6782-9ae3-4c86-b35d-ddef6df9c055\": [9978.5, 234.0], \"b8a1cc37-0fda-47c9-b9a7-4d88392a3082\": [10396.0, 234.0], \"9febcb22-b7f7-4a68-8e74-2b6de2591d07\": [10388.0, 90.0], \"929cf99e-a285-4b57-89c3-7bd82e64d02d\": [10388.0, 162.0], \"4956eebe-d4c5-4641-8d8d-e5b2972fb524\": [10779.0, 162.0], \"cb40a3a0-8c5d-4c9b-841d-56d0aa488d06\": [11188.0, 162.0], \"5dbb1853-929d-407f-b535-c60423672c67\": [9988.5, 162.0], \"c94986de-e154-4796-bf18-6fb792b1b962\": [12006.0, 90.0], \"4f3eaf0b-f398-4a2a-a6f7-dfb6dd31ac8e\": [12006.0, 162.0], \"f076c7d3-64da-4c27-8c0c-315a92fd6849\": [12397.0, 162.0], \"af2c042c-08b2-43e9-a60f-32892954f7a1\": [12806.0, 162.0], \"a0f645a3-b47a-4ea3-b3b9-e8c24bad788d\": [11606.0, 162.0]}}').\n",
      "object.__init__() takes exactly one argument (the instance to initialize)\n",
      "This is deprecated in traitlets 4.2.This error will be raised in a future release of traitlets.\n",
      "  super(Widget, self).__init__(**kwargs)\n"
     ]
    },
    {
     "data": {
      "application/vnd.jupyter.widget-view+json": {
       "model_id": "a0e2fb93d5f24ea2b43469975df1d43c",
       "version_major": 2,
       "version_minor": 0
      },
      "text/plain": [
       "Visualize(value='{\"nodes\": [\"fc98c42f-5237-4f84-8490-97e9e9bc45a9\", \"5c1d961a-ca34-4ab3-81b6-31cae5cb9225\", \"2…"
      ]
     },
     "metadata": {},
     "output_type": "display_data"
    }
   ],
   "source": [
    "test_reduce_task.visualize()"
   ]
  },
  {
   "cell_type": "code",
   "execution_count": 49,
   "id": "aca31a88-3cbb-495b-8284-d96f491fb62f",
   "metadata": {},
   "outputs": [
    {
     "name": "stderr",
     "output_type": "stream",
     "text": [
      "sys:1: ResourceWarning: unclosed socket <zmq.Socket(zmq.PUSH) at 0x7f7bd8b4efa0>\n",
      "ResourceWarning: Enable tracemalloc to get the object allocation traceback\n",
      "sys:1: ResourceWarning: unclosed socket <zmq.Socket(zmq.PUSH) at 0x7f7bdadf9e50>\n",
      "ResourceWarning: Enable tracemalloc to get the object allocation traceback\n",
      "sys:1: ResourceWarning: unclosed socket <zmq.Socket(zmq.PUSH) at 0x7f7be0df7210>\n",
      "ResourceWarning: Enable tracemalloc to get the object allocation traceback\n",
      "sys:1: ResourceWarning: unclosed socket <zmq.Socket(zmq.PUSH) at 0x7f7bc017abb0>\n",
      "ResourceWarning: Enable tracemalloc to get the object allocation traceback\n",
      "sys:1: ResourceWarning: unclosed socket <zmq.Socket(zmq.PUSH) at 0x7f7bc017ad70>\n",
      "ResourceWarning: Enable tracemalloc to get the object allocation traceback\n",
      "sys:1: ResourceWarning: unclosed socket <zmq.Socket(zmq.PUSH) at 0x7f7be007d910>\n",
      "ResourceWarning: Enable tracemalloc to get the object allocation traceback\n",
      "sys:1: ResourceWarning: unclosed socket <zmq.Socket(zmq.PUSH) at 0x7f7c083f6910>\n",
      "ResourceWarning: Enable tracemalloc to get the object allocation traceback\n",
      "sys:1: ResourceWarning: unclosed socket <zmq.Socket(zmq.PUSH) at 0x7f7bda9e5050>\n",
      "ResourceWarning: Enable tracemalloc to get the object allocation traceback\n",
      "sys:1: ResourceWarning: unclosed socket <zmq.Socket(zmq.PUSH) at 0x7f7c54079fa0>\n",
      "ResourceWarning: Enable tracemalloc to get the object allocation traceback\n",
      "sys:1: ResourceWarning: unclosed socket <zmq.Socket(zmq.PUSH) at 0x7f7be0173a60>\n",
      "ResourceWarning: Enable tracemalloc to get the object allocation traceback\n",
      "sys:1: ResourceWarning: unclosed socket <zmq.Socket(zmq.PUSH) at 0x7f7bc0236600>\n",
      "ResourceWarning: Enable tracemalloc to get the object allocation traceback\n",
      "sys:1: ResourceWarning: unclosed socket <zmq.Socket(zmq.PUSH) at 0x7f7bdadf9ad0>\n",
      "ResourceWarning: Enable tracemalloc to get the object allocation traceback\n",
      "sys:1: ResourceWarning: unclosed socket <zmq.Socket(zmq.PUSH) at 0x7f7bc01ed670>\n",
      "ResourceWarning: Enable tracemalloc to get the object allocation traceback\n",
      "sys:1: ResourceWarning: unclosed socket <zmq.Socket(zmq.PUSH) at 0x7f7c747893d0>\n",
      "ResourceWarning: Enable tracemalloc to get the object allocation traceback\n",
      "sys:1: ResourceWarning: unclosed socket <zmq.Socket(zmq.PUSH) at 0x7f7bdae71de0>\n",
      "ResourceWarning: Enable tracemalloc to get the object allocation traceback\n",
      "sys:1: ResourceWarning: unclosed socket <zmq.Socket(zmq.PUSH) at 0x7f7be27e8210>\n",
      "ResourceWarning: Enable tracemalloc to get the object allocation traceback\n",
      "sys:1: ResourceWarning: unclosed socket <zmq.Socket(zmq.PUSH) at 0x7f7be35b2750>\n",
      "ResourceWarning: Enable tracemalloc to get the object allocation traceback\n",
      "sys:1: ResourceWarning: unclosed socket <zmq.Socket(zmq.PUSH) at 0x7f7be307bf30>\n",
      "ResourceWarning: Enable tracemalloc to get the object allocation traceback\n",
      "sys:1: ResourceWarning: unclosed socket <zmq.Socket(zmq.PUSH) at 0x7f7bd2f58750>\n",
      "ResourceWarning: Enable tracemalloc to get the object allocation traceback\n",
      "sys:1: ResourceWarning: unclosed socket <zmq.Socket(zmq.PUSH) at 0x7f7c54079c20>\n",
      "ResourceWarning: Enable tracemalloc to get the object allocation traceback\n",
      "sys:1: ResourceWarning: unclosed socket <zmq.Socket(zmq.PUSH) at 0x7f7be8063d00>\n",
      "ResourceWarning: Enable tracemalloc to get the object allocation traceback\n",
      "sys:1: ResourceWarning: unclosed socket <zmq.Socket(zmq.PUSH) at 0x7f7bd2f58590>\n",
      "ResourceWarning: Enable tracemalloc to get the object allocation traceback\n",
      "sys:1: ResourceWarning: unclosed socket <zmq.Socket(zmq.PUSH) at 0x7f7c403bb130>\n",
      "ResourceWarning: Enable tracemalloc to get the object allocation traceback\n",
      "sys:1: ResourceWarning: unclosed socket <zmq.Socket(zmq.PUSH) at 0x7f7be007d830>\n",
      "ResourceWarning: Enable tracemalloc to get the object allocation traceback\n",
      "sys:1: ResourceWarning: unclosed socket <zmq.Socket(zmq.PUSH) at 0x7f7be007d360>\n",
      "ResourceWarning: Enable tracemalloc to get the object allocation traceback\n",
      "sys:1: ResourceWarning: unclosed socket <zmq.Socket(zmq.PUSH) at 0x7f7be27e8ad0>\n",
      "ResourceWarning: Enable tracemalloc to get the object allocation traceback\n",
      "sys:1: ResourceWarning: unclosed socket <zmq.Socket(zmq.PUSH) at 0x7f7c1032d130>\n",
      "ResourceWarning: Enable tracemalloc to get the object allocation traceback\n",
      "sys:1: ResourceWarning: unclosed socket <zmq.Socket(zmq.PUSH) at 0x7f7bdadf96e0>\n",
      "ResourceWarning: Enable tracemalloc to get the object allocation traceback\n",
      "sys:1: ResourceWarning: unclosed socket <zmq.Socket(zmq.PUSH) at 0x7f7c4048d280>\n",
      "ResourceWarning: Enable tracemalloc to get the object allocation traceback\n",
      "sys:1: ResourceWarning: unclosed socket <zmq.Socket(zmq.PUSH) at 0x7f7bda1b6d00>\n",
      "ResourceWarning: Enable tracemalloc to get the object allocation traceback\n",
      "sys:1: ResourceWarning: unclosed socket <zmq.Socket(zmq.PUSH) at 0x7f7c54079e50>\n",
      "ResourceWarning: Enable tracemalloc to get the object allocation traceback\n",
      "sys:1: ResourceWarning: unclosed socket <zmq.Socket(zmq.PUSH) at 0x7f7be201a600>\n",
      "ResourceWarning: Enable tracemalloc to get the object allocation traceback\n",
      "sys:1: ResourceWarning: unclosed socket <zmq.Socket(zmq.PUSH) at 0x7f7bc017a600>\n",
      "ResourceWarning: Enable tracemalloc to get the object allocation traceback\n",
      "sys:1: ResourceWarning: unclosed socket <zmq.Socket(zmq.PUSH) at 0x7f7bd3484f30>\n",
      "ResourceWarning: Enable tracemalloc to get the object allocation traceback\n",
      "sys:1: ResourceWarning: unclosed socket <zmq.Socket(zmq.PUSH) at 0x7f7bdadf9830>\n",
      "ResourceWarning: Enable tracemalloc to get the object allocation traceback\n",
      "sys:1: ResourceWarning: unclosed socket <zmq.Socket(zmq.PUSH) at 0x7f7bd34f7a60>\n",
      "ResourceWarning: Enable tracemalloc to get the object allocation traceback\n",
      "sys:1: ResourceWarning: unclosed socket <zmq.Socket(zmq.PUSH) at 0x7f7c2822f1a0>\n",
      "ResourceWarning: Enable tracemalloc to get the object allocation traceback\n",
      "sys:1: ResourceWarning: unclosed socket <zmq.Socket(zmq.PUSH) at 0x7f7be28a5bb0>\n",
      "ResourceWarning: Enable tracemalloc to get the object allocation traceback\n",
      "sys:1: ResourceWarning: unclosed socket <zmq.Socket(zmq.PUSH) at 0x7f7bd37ce8a0>\n",
      "ResourceWarning: Enable tracemalloc to get the object allocation traceback\n",
      "sys:1: ResourceWarning: unclosed socket <zmq.Socket(zmq.PUSH) at 0x7f7be201abb0>\n",
      "ResourceWarning: Enable tracemalloc to get the object allocation traceback\n",
      "sys:1: ResourceWarning: unclosed socket <zmq.Socket(zmq.PUSH) at 0x7f7be201a590>\n",
      "ResourceWarning: Enable tracemalloc to get the object allocation traceback\n",
      "sys:1: ResourceWarning: unclosed socket <zmq.Socket(zmq.PUSH) at 0x7f7c282d3980>\n",
      "ResourceWarning: Enable tracemalloc to get the object allocation traceback\n",
      "sys:1: ResourceWarning: unclosed socket <zmq.Socket(zmq.PUSH) at 0x7f7c282d3a60>\n",
      "ResourceWarning: Enable tracemalloc to get the object allocation traceback\n",
      "sys:1: ResourceWarning: unclosed socket <zmq.Socket(zmq.PUSH) at 0x7f7be1c964b0>\n",
      "ResourceWarning: Enable tracemalloc to get the object allocation traceback\n",
      "sys:1: ResourceWarning: unclosed socket <zmq.Socket(zmq.PUSH) at 0x7f7be27e8d00>\n",
      "ResourceWarning: Enable tracemalloc to get the object allocation traceback\n",
      "sys:1: ResourceWarning: unclosed socket <zmq.Socket(zmq.PUSH) at 0x7f7bd37ce210>\n",
      "ResourceWarning: Enable tracemalloc to get the object allocation traceback\n",
      "sys:1: ResourceWarning: unclosed socket <zmq.Socket(zmq.PUSH) at 0x7f7bdadf9bb0>\n",
      "ResourceWarning: Enable tracemalloc to get the object allocation traceback\n",
      "sys:1: ResourceWarning: unclosed socket <zmq.Socket(zmq.PUSH) at 0x7f7c759e0de0>\n",
      "ResourceWarning: Enable tracemalloc to get the object allocation traceback\n",
      "sys:1: ResourceWarning: unclosed socket <zmq.Socket(zmq.PUSH) at 0x7f7be27e84b0>\n",
      "ResourceWarning: Enable tracemalloc to get the object allocation traceback\n",
      "sys:1: ResourceWarning: unclosed socket <zmq.Socket(zmq.PUSH) at 0x7f7c56ba5590>\n",
      "ResourceWarning: Enable tracemalloc to get the object allocation traceback\n",
      "sys:1: ResourceWarning: unclosed socket <zmq.Socket(zmq.PUSH) at 0x7f7be00f4ec0>\n",
      "ResourceWarning: Enable tracemalloc to get the object allocation traceback\n",
      "sys:1: ResourceWarning: unclosed socket <zmq.Socket(zmq.PUSH) at 0x7f7bc017a1a0>\n",
      "ResourceWarning: Enable tracemalloc to get the object allocation traceback\n",
      "sys:1: ResourceWarning: unclosed socket <zmq.Socket(zmq.PUSH) at 0x7f7be145c830>\n",
      "ResourceWarning: Enable tracemalloc to get the object allocation traceback\n",
      "sys:1: ResourceWarning: unclosed socket <zmq.Socket(zmq.PUSH) at 0x7f7be0fe12f0>\n",
      "ResourceWarning: Enable tracemalloc to get the object allocation traceback\n",
      "sys:1: ResourceWarning: unclosed socket <zmq.Socket(zmq.PUSH) at 0x7f7be00f4e50>\n",
      "ResourceWarning: Enable tracemalloc to get the object allocation traceback\n",
      "sys:1: ResourceWarning: unclosed socket <zmq.Socket(zmq.PUSH) at 0x7f7bdac14520>\n",
      "ResourceWarning: Enable tracemalloc to get the object allocation traceback\n",
      "sys:1: ResourceWarning: unclosed socket <zmq.Socket(zmq.PUSH) at 0x7f7be09fe440>\n",
      "ResourceWarning: Enable tracemalloc to get the object allocation traceback\n",
      "sys:1: ResourceWarning: unclosed socket <zmq.Socket(zmq.PUSH) at 0x7f7c74a28ec0>\n",
      "ResourceWarning: Enable tracemalloc to get the object allocation traceback\n",
      "sys:1: ResourceWarning: unclosed socket <zmq.Socket(zmq.PUSH) at 0x7f7be28a5b40>\n",
      "ResourceWarning: Enable tracemalloc to get the object allocation traceback\n",
      "sys:1: ResourceWarning: unclosed socket <zmq.Socket(zmq.PUSH) at 0x7f7be3f5afa0>\n",
      "ResourceWarning: Enable tracemalloc to get the object allocation traceback\n",
      "sys:1: ResourceWarning: unclosed socket <zmq.Socket(zmq.PUSH) at 0x7f7be27e8d70>\n",
      "ResourceWarning: Enable tracemalloc to get the object allocation traceback\n",
      "sys:1: ResourceWarning: unclosed socket <zmq.Socket(zmq.PUSH) at 0x7f7be09fe520>\n",
      "ResourceWarning: Enable tracemalloc to get the object allocation traceback\n",
      "sys:1: ResourceWarning: unclosed socket <zmq.Socket(zmq.PUSH) at 0x7f7bd3e6ec20>\n",
      "ResourceWarning: Enable tracemalloc to get the object allocation traceback\n",
      "sys:1: ResourceWarning: unclosed socket <zmq.Socket(zmq.PUSH) at 0x7f7bda325b40>\n",
      "ResourceWarning: Enable tracemalloc to get the object allocation traceback\n",
      "sys:1: ResourceWarning: unclosed socket <zmq.Socket(zmq.PUSH) at 0x7f7bd3e6e9f0>\n",
      "ResourceWarning: Enable tracemalloc to get the object allocation traceback\n",
      "sys:1: ResourceWarning: unclosed socket <zmq.Socket(zmq.PUSH) at 0x7f7bdadf9d70>\n",
      "ResourceWarning: Enable tracemalloc to get the object allocation traceback\n",
      "sys:1: ResourceWarning: unclosed socket <zmq.Socket(zmq.PUSH) at 0x7f7bd3198de0>\n",
      "ResourceWarning: Enable tracemalloc to get the object allocation traceback\n",
      "sys:1: ResourceWarning: unclosed socket <zmq.Socket(zmq.PUSH) at 0x7f7be0df77c0>\n",
      "ResourceWarning: Enable tracemalloc to get the object allocation traceback\n",
      "sys:1: ResourceWarning: unclosed socket <zmq.Socket(zmq.PUSH) at 0x7f7be28a5e50>\n",
      "ResourceWarning: Enable tracemalloc to get the object allocation traceback\n",
      "/opt/conda/lib/python3.7/site-packages/ipykernel_launcher.py:109: ResourceWarning: unclosed <ssl.SSLSocket fd=82, family=AddressFamily.AF_INET, type=SocketKind.SOCK_STREAM, proto=6, laddr=('10.40.140.37', 41716), raddr=('52.217.139.41', 443)>\n",
      "ResourceWarning: Enable tracemalloc to get the object allocation traceback\n",
      "/opt/conda/lib/python3.7/site-packages/ipykernel_launcher.py:109: ResourceWarning: unclosed <ssl.SSLSocket fd=102, family=AddressFamily.AF_INET, type=SocketKind.SOCK_STREAM, proto=6, laddr=('10.40.140.37', 41736), raddr=('52.217.139.41', 443)>\n",
      "ResourceWarning: Enable tracemalloc to get the object allocation traceback\n",
      "/opt/conda/lib/python3.7/site-packages/ipykernel_launcher.py:109: ResourceWarning: unclosed <ssl.SSLSocket fd=92, family=AddressFamily.AF_INET, type=SocketKind.SOCK_STREAM, proto=6, laddr=('10.40.140.37', 41750), raddr=('52.217.139.41', 443)>\n",
      "ResourceWarning: Enable tracemalloc to get the object allocation traceback\n",
      "/opt/conda/lib/python3.7/site-packages/ipykernel_launcher.py:109: ResourceWarning: unclosed <ssl.SSLSocket fd=86, family=AddressFamily.AF_INET, type=SocketKind.SOCK_STREAM, proto=6, laddr=('10.40.140.37', 41730), raddr=('52.217.139.41', 443)>\n",
      "ResourceWarning: Enable tracemalloc to get the object allocation traceback\n",
      "/opt/conda/lib/python3.7/site-packages/ipykernel_launcher.py:109: ResourceWarning: unclosed <ssl.SSLSocket fd=100, family=AddressFamily.AF_INET, type=SocketKind.SOCK_STREAM, proto=6, laddr=('10.40.140.37', 41734), raddr=('52.217.139.41', 443)>\n",
      "ResourceWarning: Enable tracemalloc to get the object allocation traceback\n",
      "/opt/conda/lib/python3.7/site-packages/ipykernel_launcher.py:109: ResourceWarning: unclosed <ssl.SSLSocket fd=87, family=AddressFamily.AF_INET, type=SocketKind.SOCK_STREAM, proto=6, laddr=('10.40.140.37', 41722), raddr=('52.217.139.41', 443)>\n",
      "ResourceWarning: Enable tracemalloc to get the object allocation traceback\n",
      "/opt/conda/lib/python3.7/site-packages/ipykernel_launcher.py:109: ResourceWarning: unclosed <ssl.SSLSocket fd=105, family=AddressFamily.AF_INET, type=SocketKind.SOCK_STREAM, proto=6, laddr=('10.40.140.37', 41740), raddr=('52.217.139.41', 443)>\n",
      "ResourceWarning: Enable tracemalloc to get the object allocation traceback\n",
      "/opt/conda/lib/python3.7/site-packages/ipykernel_launcher.py:109: ResourceWarning: unclosed <ssl.SSLSocket fd=95, family=AddressFamily.AF_INET, type=SocketKind.SOCK_STREAM, proto=6, laddr=('10.40.140.37', 41724), raddr=('52.217.139.41', 443)>\n",
      "ResourceWarning: Enable tracemalloc to get the object allocation traceback\n",
      "/opt/conda/lib/python3.7/site-packages/ipykernel_launcher.py:109: ResourceWarning: unclosed <ssl.SSLSocket fd=107, family=AddressFamily.AF_INET, type=SocketKind.SOCK_STREAM, proto=6, laddr=('10.40.140.37', 41776), raddr=('52.217.139.41', 443)>\n",
      "ResourceWarning: Enable tracemalloc to get the object allocation traceback\n",
      "/opt/conda/lib/python3.7/site-packages/ipykernel_launcher.py:109: ResourceWarning: unclosed <ssl.SSLSocket fd=84, family=AddressFamily.AF_INET, type=SocketKind.SOCK_STREAM, proto=6, laddr=('10.40.140.37', 41742), raddr=('52.217.139.41', 443)>\n",
      "ResourceWarning: Enable tracemalloc to get the object allocation traceback\n",
      "/opt/conda/lib/python3.7/site-packages/ipykernel_launcher.py:109: ResourceWarning: unclosed <ssl.SSLSocket fd=104, family=AddressFamily.AF_INET, type=SocketKind.SOCK_STREAM, proto=6, laddr=('10.40.140.37', 41774), raddr=('52.217.139.41', 443)>\n",
      "ResourceWarning: Enable tracemalloc to get the object allocation traceback\n",
      "/opt/conda/lib/python3.7/site-packages/ipykernel_launcher.py:109: ResourceWarning: unclosed <ssl.SSLSocket fd=98, family=AddressFamily.AF_INET, type=SocketKind.SOCK_STREAM, proto=6, laddr=('10.40.140.37', 41746), raddr=('52.217.139.41', 443)>\n",
      "ResourceWarning: Enable tracemalloc to get the object allocation traceback\n",
      "/opt/conda/lib/python3.7/site-packages/ipykernel_launcher.py:109: ResourceWarning: unclosed <ssl.SSLSocket fd=97, family=AddressFamily.AF_INET, type=SocketKind.SOCK_STREAM, proto=6, laddr=('10.40.140.37', 41766), raddr=('52.217.139.41', 443)>\n",
      "ResourceWarning: Enable tracemalloc to get the object allocation traceback\n",
      "/opt/conda/lib/python3.7/site-packages/ipykernel_launcher.py:109: ResourceWarning: unclosed <ssl.SSLSocket fd=83, family=AddressFamily.AF_INET, type=SocketKind.SOCK_STREAM, proto=6, laddr=('10.40.140.37', 41748), raddr=('52.217.139.41', 443)>\n",
      "ResourceWarning: Enable tracemalloc to get the object allocation traceback\n",
      "/opt/conda/lib/python3.7/site-packages/ipykernel_launcher.py:109: ResourceWarning: unclosed <ssl.SSLSocket fd=103, family=AddressFamily.AF_INET, type=SocketKind.SOCK_STREAM, proto=6, laddr=('10.40.140.37', 41772), raddr=('52.217.139.41', 443)>\n",
      "ResourceWarning: Enable tracemalloc to get the object allocation traceback\n",
      "/opt/conda/lib/python3.7/site-packages/ipykernel_launcher.py:109: ResourceWarning: unclosed <ssl.SSLSocket fd=101, family=AddressFamily.AF_INET, type=SocketKind.SOCK_STREAM, proto=6, laddr=('10.40.140.37', 41770), raddr=('52.217.139.41', 443)>\n",
      "ResourceWarning: Enable tracemalloc to get the object allocation traceback\n",
      "/opt/conda/lib/python3.7/site-packages/ipykernel_launcher.py:109: ResourceWarning: unclosed <ssl.SSLSocket fd=106, family=AddressFamily.AF_INET, type=SocketKind.SOCK_STREAM, proto=6, laddr=('10.40.140.37', 41744), raddr=('52.217.139.41', 443)>\n",
      "ResourceWarning: Enable tracemalloc to get the object allocation traceback\n",
      "/opt/conda/lib/python3.7/site-packages/ipykernel_launcher.py:109: ResourceWarning: unclosed <ssl.SSLSocket fd=104, family=AddressFamily.AF_INET, type=SocketKind.SOCK_STREAM, proto=6, laddr=('10.40.140.37', 47194), raddr=('52.216.113.115', 443)>\n",
      "ResourceWarning: Enable tracemalloc to get the object allocation traceback\n",
      "/opt/conda/lib/python3.7/site-packages/ipykernel_launcher.py:109: ResourceWarning: unclosed <ssl.SSLSocket fd=91, family=AddressFamily.AF_INET, type=SocketKind.SOCK_STREAM, proto=6, laddr=('10.40.140.37', 41726), raddr=('52.217.139.41', 443)>\n",
      "ResourceWarning: Enable tracemalloc to get the object allocation traceback\n",
      "/opt/conda/lib/python3.7/site-packages/ipykernel_launcher.py:109: ResourceWarning: unclosed <ssl.SSLSocket fd=88, family=AddressFamily.AF_INET, type=SocketKind.SOCK_STREAM, proto=6, laddr=('10.40.140.37', 41752), raddr=('52.217.139.41', 443)>\n",
      "ResourceWarning: Enable tracemalloc to get the object allocation traceback\n",
      "/opt/conda/lib/python3.7/site-packages/ipykernel_launcher.py:109: ResourceWarning: unclosed <ssl.SSLSocket fd=89, family=AddressFamily.AF_INET, type=SocketKind.SOCK_STREAM, proto=6, laddr=('10.40.140.37', 41758), raddr=('52.217.139.41', 443)>\n",
      "ResourceWarning: Enable tracemalloc to get the object allocation traceback\n",
      "/opt/conda/lib/python3.7/site-packages/ipykernel_launcher.py:109: ResourceWarning: unclosed <ssl.SSLSocket fd=89, family=AddressFamily.AF_INET, type=SocketKind.SOCK_STREAM, proto=6, laddr=('10.40.140.37', 44484), raddr=('52.217.175.9', 443)>\n",
      "ResourceWarning: Enable tracemalloc to get the object allocation traceback\n",
      "/opt/conda/lib/python3.7/site-packages/ipykernel_launcher.py:109: ResourceWarning: unclosed <ssl.SSLSocket fd=81, family=AddressFamily.AF_INET, type=SocketKind.SOCK_STREAM, proto=6, laddr=('10.40.140.37', 52680), raddr=('52.217.196.113', 443)>\n",
      "ResourceWarning: Enable tracemalloc to get the object allocation traceback\n",
      "/opt/conda/lib/python3.7/site-packages/ipykernel_launcher.py:109: ResourceWarning: unclosed <ssl.SSLSocket fd=81, family=AddressFamily.AF_INET, type=SocketKind.SOCK_STREAM, proto=6, laddr=('10.40.140.37', 52722), raddr=('52.217.196.113', 443)>\n",
      "ResourceWarning: Enable tracemalloc to get the object allocation traceback\n",
      "/opt/conda/lib/python3.7/site-packages/ipykernel_launcher.py:109: ResourceWarning: unclosed <ssl.SSLSocket fd=81, family=AddressFamily.AF_INET, type=SocketKind.SOCK_STREAM, proto=6, laddr=('10.40.140.37', 52728), raddr=('52.217.196.113', 443)>\n",
      "ResourceWarning: Enable tracemalloc to get the object allocation traceback\n",
      "/opt/conda/lib/python3.7/site-packages/ipykernel_launcher.py:109: ResourceWarning: unclosed <ssl.SSLSocket fd=81, family=AddressFamily.AF_INET, type=SocketKind.SOCK_STREAM, proto=6, laddr=('10.40.140.37', 45508), raddr=('52.216.96.179', 443)>\n",
      "ResourceWarning: Enable tracemalloc to get the object allocation traceback\n",
      "/opt/conda/lib/python3.7/site-packages/ipykernel_launcher.py:109: ResourceWarning: unclosed <ssl.SSLSocket fd=81, family=AddressFamily.AF_INET, type=SocketKind.SOCK_STREAM, proto=6, laddr=('10.40.140.37', 45516), raddr=('52.216.96.179', 443)>\n",
      "ResourceWarning: Enable tracemalloc to get the object allocation traceback\n",
      "/opt/conda/lib/python3.7/site-packages/ipykernel_launcher.py:109: ResourceWarning: unclosed <ssl.SSLSocket fd=81, family=AddressFamily.AF_INET, type=SocketKind.SOCK_STREAM, proto=6, laddr=('10.40.140.37', 53530), raddr=('52.217.108.12', 443)>\n",
      "ResourceWarning: Enable tracemalloc to get the object allocation traceback\n",
      "/opt/conda/lib/python3.7/site-packages/ipykernel_launcher.py:109: ResourceWarning: unclosed <ssl.SSLSocket fd=81, family=AddressFamily.AF_INET, type=SocketKind.SOCK_STREAM, proto=6, laddr=('10.40.140.37', 39604), raddr=('52.217.131.249', 443)>\n",
      "ResourceWarning: Enable tracemalloc to get the object allocation traceback\n",
      "/opt/conda/lib/python3.7/site-packages/ipykernel_launcher.py:109: ResourceWarning: unclosed <ssl.SSLSocket fd=81, family=AddressFamily.AF_INET, type=SocketKind.SOCK_STREAM, proto=6, laddr=('10.40.140.37', 39614), raddr=('52.217.131.249', 443)>\n",
      "ResourceWarning: Enable tracemalloc to get the object allocation traceback\n",
      "/opt/conda/lib/python3.7/site-packages/ipykernel_launcher.py:109: ResourceWarning: unclosed <ssl.SSLSocket fd=114, family=AddressFamily.AF_INET, type=SocketKind.SOCK_STREAM, proto=6, laddr=('10.40.140.37', 46340), raddr=('52.217.90.132', 443)>\n",
      "ResourceWarning: Enable tracemalloc to get the object allocation traceback\n",
      "/opt/conda/lib/python3.7/site-packages/ipykernel_launcher.py:109: ResourceWarning: unclosed <ssl.SSLSocket fd=116, family=AddressFamily.AF_INET, type=SocketKind.SOCK_STREAM, proto=6, laddr=('10.40.140.37', 47712), raddr=('52.217.84.252', 443)>\n",
      "ResourceWarning: Enable tracemalloc to get the object allocation traceback\n",
      "/opt/conda/lib/python3.7/site-packages/ipykernel_launcher.py:109: ResourceWarning: unclosed <ssl.SSLSocket fd=168, family=AddressFamily.AF_INET, type=SocketKind.SOCK_STREAM, proto=6, laddr=('10.40.140.37', 46816), raddr=('54.231.170.1', 443)>\n",
      "ResourceWarning: Enable tracemalloc to get the object allocation traceback\n",
      "/opt/conda/lib/python3.7/site-packages/ipykernel_launcher.py:109: ResourceWarning: unclosed <ssl.SSLSocket fd=141, family=AddressFamily.AF_INET, type=SocketKind.SOCK_STREAM, proto=6, laddr=('10.40.140.37', 46800), raddr=('54.231.170.1', 443)>\n",
      "ResourceWarning: Enable tracemalloc to get the object allocation traceback\n",
      "/opt/conda/lib/python3.7/site-packages/ipykernel_launcher.py:109: ResourceWarning: unclosed <ssl.SSLSocket fd=126, family=AddressFamily.AF_INET, type=SocketKind.SOCK_STREAM, proto=6, laddr=('10.40.140.37', 46794), raddr=('54.231.170.1', 443)>\n",
      "ResourceWarning: Enable tracemalloc to get the object allocation traceback\n",
      "/opt/conda/lib/python3.7/site-packages/ipykernel_launcher.py:109: ResourceWarning: unclosed <ssl.SSLSocket fd=179, family=AddressFamily.AF_INET, type=SocketKind.SOCK_STREAM, proto=6, laddr=('10.40.140.37', 50280), raddr=('52.217.86.28', 443)>\n",
      "ResourceWarning: Enable tracemalloc to get the object allocation traceback\n",
      "/opt/conda/lib/python3.7/site-packages/ipykernel_launcher.py:109: ResourceWarning: unclosed <ssl.SSLSocket fd=175, family=AddressFamily.AF_INET, type=SocketKind.SOCK_STREAM, proto=6, laddr=('10.40.140.37', 50296), raddr=('52.217.86.28', 443)>\n",
      "ResourceWarning: Enable tracemalloc to get the object allocation traceback\n",
      "/opt/conda/lib/python3.7/site-packages/ipykernel_launcher.py:109: ResourceWarning: unclosed <ssl.SSLSocket fd=180, family=AddressFamily.AF_INET, type=SocketKind.SOCK_STREAM, proto=6, laddr=('10.40.140.37', 56574), raddr=('52.216.32.113', 443)>\n",
      "ResourceWarning: Enable tracemalloc to get the object allocation traceback\n",
      "/opt/conda/lib/python3.7/site-packages/ipykernel_launcher.py:109: ResourceWarning: unclosed <ssl.SSLSocket fd=123, family=AddressFamily.AF_INET, type=SocketKind.SOCK_STREAM, proto=6, laddr=('10.40.140.37', 43048), raddr=('52.217.230.73', 443)>\n",
      "ResourceWarning: Enable tracemalloc to get the object allocation traceback\n",
      "/opt/conda/lib/python3.7/site-packages/ipykernel_launcher.py:109: ResourceWarning: unclosed <ssl.SSLSocket fd=138, family=AddressFamily.AF_INET, type=SocketKind.SOCK_STREAM, proto=6, laddr=('10.40.140.37', 45728), raddr=('54.231.131.161', 443)>\n",
      "ResourceWarning: Enable tracemalloc to get the object allocation traceback\n",
      "/opt/conda/lib/python3.7/site-packages/ipykernel_launcher.py:109: ResourceWarning: unclosed <ssl.SSLSocket fd=245, family=AddressFamily.AF_INET, type=SocketKind.SOCK_STREAM, proto=6, laddr=('10.40.140.37', 55110), raddr=('52.217.131.81', 443)>\n",
      "ResourceWarning: Enable tracemalloc to get the object allocation traceback\n",
      "/opt/conda/lib/python3.7/site-packages/ipykernel_launcher.py:109: ResourceWarning: unclosed <ssl.SSLSocket fd=128, family=AddressFamily.AF_INET, type=SocketKind.SOCK_STREAM, proto=6, laddr=('10.40.140.37', 43050), raddr=('52.217.230.73', 443)>\n",
      "ResourceWarning: Enable tracemalloc to get the object allocation traceback\n",
      "/opt/conda/lib/python3.7/site-packages/ipykernel_launcher.py:109: ResourceWarning: unclosed <ssl.SSLSocket fd=142, family=AddressFamily.AF_INET, type=SocketKind.SOCK_STREAM, proto=6, laddr=('10.40.140.37', 43100), raddr=('52.217.230.73', 443)>\n",
      "ResourceWarning: Enable tracemalloc to get the object allocation traceback\n",
      "/opt/conda/lib/python3.7/site-packages/ipykernel_launcher.py:109: ResourceWarning: unclosed <ssl.SSLSocket fd=134, family=AddressFamily.AF_INET, type=SocketKind.SOCK_STREAM, proto=6, laddr=('10.40.140.37', 45740), raddr=('54.231.131.161', 443)>\n",
      "ResourceWarning: Enable tracemalloc to get the object allocation traceback\n",
      "/opt/conda/lib/python3.7/site-packages/ipykernel_launcher.py:109: ResourceWarning: unclosed <ssl.SSLSocket fd=218, family=AddressFamily.AF_INET, type=SocketKind.SOCK_STREAM, proto=6, laddr=('10.40.140.37', 48274), raddr=('54.231.128.81', 443)>\n",
      "ResourceWarning: Enable tracemalloc to get the object allocation traceback\n"
     ]
    },
    {
     "name": "stdout",
     "output_type": "stream",
     "text": [
      "2:01:33.614436\n"
     ]
    }
   ],
   "source": [
    "st = datetime.datetime.now()\n",
    "test_reduce_task.compute()\n",
    "et = datetime.datetime.now()\n",
    "print(et - st)"
   ]
  },
  {
   "cell_type": "code",
   "execution_count": null,
   "id": "55e89c1b-3a91-4e2c-af30-b3aa66b3b667",
   "metadata": {},
   "outputs": [],
   "source": []
  },
  {
   "cell_type": "code",
   "execution_count": 52,
   "id": "d442c6d6-0501-4316-b620-bf6e2f4c803c",
   "metadata": {},
   "outputs": [
    {
     "data": {
      "text/plain": [
       "301.79942321777344"
      ]
     },
     "execution_count": 52,
     "metadata": {},
     "output_type": "execute_result"
    }
   ],
   "source": [
    "stream_length / 1024 / 1024"
   ]
  },
  {
   "cell_type": "code",
   "execution_count": null,
   "id": "44664afd-17dd-47b9-ab60-d062c7773372",
   "metadata": {},
   "outputs": [],
   "source": []
  },
  {
   "cell_type": "code",
   "execution_count": null,
   "id": "2fc6e8f6-1110-434d-a504-99be76e13434",
   "metadata": {},
   "outputs": [],
   "source": []
  },
  {
   "cell_type": "code",
   "execution_count": null,
   "id": "d8c3b542-e4f5-46b6-a226-bd79bb095fb9",
   "metadata": {},
   "outputs": [],
   "source": [
    "    "
   ]
  },
  {
   "cell_type": "code",
   "execution_count": null,
   "id": "cf380d20-abbb-4614-ba09-682d4abe79de",
   "metadata": {},
   "outputs": [],
   "source": []
  },
  {
   "cell_type": "code",
   "execution_count": null,
   "id": "b2ff8106-6095-4639-ab55-5c836e00534c",
   "metadata": {},
   "outputs": [],
   "source": []
  },
  {
   "cell_type": "code",
   "execution_count": null,
   "id": "e4836da3-5a01-444f-888b-366d08cc7258",
   "metadata": {},
   "outputs": [],
   "source": []
  },
  {
   "cell_type": "code",
   "execution_count": null,
   "id": "571be9b7-cd51-4209-8856-33bd33ed9efa",
   "metadata": {},
   "outputs": [],
   "source": []
  },
  {
   "cell_type": "code",
   "execution_count": 39,
   "id": "3793903c-0bc1-4fe4-89e6-3257e47ee2ca",
   "metadata": {},
   "outputs": [],
   "source": [
    "def test_reducer_dum(a=10):\n",
    "    tasks = []\n",
    "    for i in range(a):\n",
    "        data = numpy.random.randint(0, 256, (1000))\n",
    "        task = Delayed(numpy.mean, name=f\"mean-{i}\", local=True)(data)\n",
    "        tasks.append(task)\n",
    "    return Delayed(dummy_reducer, name=\"summarise\", local=True)(tasks)"
   ]
  },
  {
   "cell_type": "code",
   "execution_count": 40,
   "id": "eef215e9-1a2d-4d81-9610-67a2322200f3",
   "metadata": {},
   "outputs": [],
   "source": [
    "test_reduct = test_reducer_dum()"
   ]
  },
  {
   "cell_type": "code",
   "execution_count": 41,
   "id": "e5997bd1-31db-4048-aeab-cca15f1be3e6",
   "metadata": {},
   "outputs": [
    {
     "data": {
      "text/plain": [
       "10"
      ]
     },
     "execution_count": 41,
     "metadata": {},
     "output_type": "execute_result"
    }
   ],
   "source": [
    "test_reduct.compute()"
   ]
  },
  {
   "cell_type": "code",
   "execution_count": null,
   "id": "5ec30700-dcb8-442c-8a9b-209c59a3cfbf",
   "metadata": {},
   "outputs": [],
   "source": [
    "dummy_reducer"
   ]
  },
  {
   "cell_type": "code",
   "execution_count": null,
   "id": "128f0bde-0805-40ae-b099-eab436c0a1f4",
   "metadata": {},
   "outputs": [],
   "source": []
  },
  {
   "cell_type": "code",
   "execution_count": 31,
   "id": "a1d16350-ba16-41cb-812d-530ee1bd0816",
   "metadata": {},
   "outputs": [
    {
     "data": {
      "text/plain": [
       "'s3://ausseabed-pl019-ingested-data/L2B/Bunurong_MNP/'"
      ]
     },
     "execution_count": 31,
     "metadata": {},
     "output_type": "execute_result"
    }
   ],
   "source": [
    "outdir_uri"
   ]
  },
  {
   "cell_type": "code",
   "execution_count": 32,
   "id": "f48a58ec-d391-4f2b-8b98-edb987a3b87e",
   "metadata": {},
   "outputs": [],
   "source": [
    "bathy_tdbs = fs.glob(outdir_uri + \"**_bathymetry.tiledb\")"
   ]
  },
  {
   "cell_type": "code",
   "execution_count": 33,
   "id": "52ec3533-d7d4-4d55-a1e1-3050779c78ea",
   "metadata": {},
   "outputs": [
    {
     "data": {
      "text/plain": [
       "174"
      ]
     },
     "execution_count": 33,
     "metadata": {},
     "output_type": "execute_result"
    }
   ],
   "source": [
    "len(bathy_tdbs)"
   ]
  },
  {
   "cell_type": "code",
   "execution_count": 34,
   "id": "92d18ed8-c01f-4701-b38e-5104149cf4d3",
   "metadata": {},
   "outputs": [
    {
     "data": {
      "text/plain": [
       "'ausseabed-pl019-ingested-data/L2B/Bunurong_MNP/0000_20170614_002956_Yolla/ga_ausseabed_08592919-7b4b-41ff-940c-4c6e6b7fed6c_bathymetry.tiledb'"
      ]
     },
     "execution_count": 34,
     "metadata": {},
     "output_type": "execute_result"
    }
   ],
   "source": [
    "bathy_tdbs[0]"
   ]
  },
  {
   "cell_type": "code",
   "execution_count": 37,
   "id": "5b720a4f-b155-47a0-885a-a7722938e6f8",
   "metadata": {},
   "outputs": [
    {
     "data": {
      "text/plain": [
       "'ausseabed-pl019-provided-data/DeakinUniversity/Bunurong_MNP/gsf/0000_20170614_002956_Yolla.gsf'"
      ]
     },
     "execution_count": 37,
     "metadata": {},
     "output_type": "execute_result"
    }
   ],
   "source": [
    "non_empty_files[0]"
   ]
  },
  {
   "cell_type": "code",
   "execution_count": 40,
   "id": "e9388f31-c27d-449b-9f89-4e050030e9c7",
   "metadata": {},
   "outputs": [
    {
     "data": {
      "text/plain": [
       "True"
      ]
     },
     "execution_count": 40,
     "metadata": {},
     "output_type": "execute_result"
    }
   ],
   "source": [
    "Path(bathy_tdbs[0]).parent.name == Path(non_empty_files[0]).stem"
   ]
  },
  {
   "cell_type": "code",
   "execution_count": 74,
   "id": "c2dd0b08-056b-4244-83ff-e76df4da69bf",
   "metadata": {},
   "outputs": [
    {
     "data": {
      "text/plain": [
       "PosixPath('ausseabed-pl019-ingested-data/L2B/Bunurong_MNP/0000_20170614_002956_Yolla')"
      ]
     },
     "execution_count": 74,
     "metadata": {},
     "output_type": "execute_result"
    }
   ],
   "source": [
    "Path(bathy_tdbs[0]).parent"
   ]
  },
  {
   "cell_type": "code",
   "execution_count": 77,
   "id": "af74c330-c696-4916-9009-54df295631fc",
   "metadata": {},
   "outputs": [
    {
     "data": {
      "text/plain": [
       "'ga_ausseabed_08592919-7b4b-41ff-940c-4c6e6b7fed6c_bathymetry'"
      ]
     },
     "execution_count": 77,
     "metadata": {},
     "output_type": "execute_result"
    }
   ],
   "source": [
    "Path(bathy_tdbs[0]).stem"
   ]
  },
  {
   "cell_type": "code",
   "execution_count": 43,
   "id": "32714fbd-cbe2-414b-b488-bddf63181b00",
   "metadata": {},
   "outputs": [],
   "source": [
    "matched = []\n",
    "mismatched = []\n",
    "for i, val in enumerate(bathy_tdbs):\n",
    "    if Path(bathy_tdbs[i]).parent.name == Path(non_empty_files[i]).stem:\n",
    "        matched.append((bathy_tdbs[i], non_empty_files[i]))\n",
    "    else:\n",
    "        mismatched.append((bathy_tdbs[i], non_empty_files[i]))"
   ]
  },
  {
   "cell_type": "code",
   "execution_count": 44,
   "id": "f7a4c52b-07fb-4fd0-9dbf-b20074274edf",
   "metadata": {},
   "outputs": [
    {
     "data": {
      "text/plain": [
       "0"
      ]
     },
     "execution_count": 44,
     "metadata": {},
     "output_type": "execute_result"
    }
   ],
   "source": [
    "len(mismatched)"
   ]
  },
  {
   "cell_type": "code",
   "execution_count": 49,
   "id": "4ebde2ec-8dfe-43e5-b871-cecb12f37a49",
   "metadata": {},
   "outputs": [],
   "source": [
    "bathy_pth = bathy_tdbs[0]"
   ]
  },
  {
   "cell_type": "code",
   "execution_count": 52,
   "id": "cc51fc90-2fcb-4e89-91a9-a2e853b106c9",
   "metadata": {},
   "outputs": [
    {
     "data": {
      "text/plain": [
       "'s3://ausseabed-pl019-ingested-data/L2B/Bunurong_MNP/0000_20170614_002956_Yolla/ga_ausseabed_08592919-7b4b-41ff-940c-4c6e6b7fed6c_soundings-cell-density-resolution-12.geojson'"
      ]
     },
     "execution_count": 52,
     "metadata": {},
     "output_type": "execute_result"
    }
   ],
   "source": [
    "f\"s3://{bathy_pth.replace('bathymetry.tiledb', 'soundings-cell-density-resolution-12.geojson')}\""
   ]
  },
  {
   "cell_type": "code",
   "execution_count": null,
   "id": "b2f9970b-cea5-4cd1-a873-f4f3368e9917",
   "metadata": {},
   "outputs": [],
   "source": []
  },
  {
   "cell_type": "code",
   "execution_count": 45,
   "id": "59f92514-af40-4f6c-8e00-20623340b3f0",
   "metadata": {},
   "outputs": [],
   "source": [
    "with fs.open(asb_metadata_uri) as src:\n",
    "    asb_metadata = json.loads(src.read())"
   ]
  },
  {
   "cell_type": "code",
   "execution_count": 78,
   "id": "10fa429f-a26e-4f1b-945f-b62f219e7afd",
   "metadata": {},
   "outputs": [],
   "source": [
    "def convert_density(density_gdf, soundings_cell_density_uri, creds):\n",
    "    with fiona.Env(session=AWSSession(aws_access_key_id=creds.access_key, aws_secret_access_key=creds.secret_key)):\n",
    "        density_gdf.to_file(soundings_cell_density_uri, driver=\"GeoJSONSeq\", coordinate_precision=11)"
   ]
  },
  {
   "cell_type": "code",
   "execution_count": 90,
   "id": "d8bea68f-6bed-4b19-ae43-9d33a36896b2",
   "metadata": {},
   "outputs": [],
   "source": [
    "def track_length(bathy_tdb_uri, ctx):\n",
    "    with tiledb.open(bathy_tdb_uri, ctx=ctx) as ds:\n",
    "        df = ds.df[:]\n",
    "    subs = df[df.centre_beam != 0]\n",
    "    x = subs.X.values\n",
    "    y = subs.Y.values\n",
    "    dist = []\n",
    "    for i in range(1, x.shape[0]):\n",
    "        dist.append(vincenty((y[i-1], x[i-1]), (y[i], x[i])))\n",
    "    return numpy.sum(dist)"
   ]
  },
  {
   "cell_type": "code",
   "execution_count": 61,
   "id": "621551ee-79d9-4e15-ac9e-ae586f628752",
   "metadata": {},
   "outputs": [],
   "source": [
    "def sonar_md(tdb_gsf_uris, creds):\n",
    "    md = []\n",
    "    for bathy_pth, gsf_pth in tdb_gsf_uris:\n",
    "        json_uri = gsf_pth.replace(\".gsf\", \".json\")\n",
    "        sonar_metadata = get_sonar_metadata2(json_uri, creds)\n",
    "        md.append(sonar_metadata)\n",
    "    return md"
   ]
  },
  {
   "cell_type": "code",
   "execution_count": 63,
   "id": "93908161-9a6b-4485-a9ae-f530bf7a69d6",
   "metadata": {},
   "outputs": [],
   "source": [
    "def get_sonar_metadata2(json_uri, creds):\n",
    "    \"\"\"\n",
    "    Temporary func for pulling metadata from a sample GSF file.\n",
    "    \"\"\"\n",
    "    with fs.open(json_uri) as src:\n",
    "        md = json.loads(src.read())\n",
    "    #stream_task = Delayed(\"sixy6e/retrieve_stream\", name=\"retrieve\")(md[\"gsf_uri\"], creds.access_key, creds.secret_key)\n",
    "    #dataframe_task = Delayed(\"sixy6e/decode_gsf\", name=\"decode\", image_name=\"3.7-geo\")(stream_task, slice(10))\n",
    "    stream, stream_length = retrieve_stream(md[\"gsf_uri\"], creds.access_key, creds.secret_key)\n",
    "    #df, finfo = dataframe_task.compute()\n",
    "    finfo = reap.file_info(stream, stream_length)\n",
    "    sonar_metadata = finfo[3].record(0).read(stream)\n",
    "    history = attr.asdict(finfo[6].record(0).read(stream))\n",
    "    for key, value in history.items():\n",
    "        sonar_metadata[key] = value\n",
    "    return sonar_metadata"
   ]
  },
  {
   "cell_type": "code",
   "execution_count": 64,
   "id": "147bc361-5d05-4be1-b345-42dc2385da38",
   "metadata": {},
   "outputs": [],
   "source": [
    "sonar_md_all = sonar_md(matched, creds)"
   ]
  },
  {
   "cell_type": "code",
   "execution_count": 65,
   "id": "6c4d6125-f7c5-4d35-aaa8-43236914ef7d",
   "metadata": {},
   "outputs": [
    {
     "data": {
      "text/plain": [
       "174"
      ]
     },
     "execution_count": 65,
     "metadata": {},
     "output_type": "execute_result"
    }
   ],
   "source": [
    "len(sonar_md_all)"
   ]
  },
  {
   "cell_type": "code",
   "execution_count": null,
   "id": "51ba28eb-da65-42be-b828-db2cfd033650",
   "metadata": {},
   "outputs": [],
   "source": [
    "stats_results = []\n",
    "tasks_dict = {stat: [] for stat in stats_attrs}\n",
    "reduce_tasks = []\n",
    "\n",
    "for i, block in enumerate(blocks):\n",
    "    sub_tasks = []\n",
    "    sub_blocks = scatter(block, n_sub_partitions)\n",
    "\n",
    "    for si, sub_block in enumerate(sub_blocks):\n",
    "        for attribute in stats_attrs:\n",
    "            \n",
    "            if attribute in [\"X\", \"Y\"]:\n",
    "                schema = attribute\n",
    "            else:\n",
    "                schema = None\n",
    "\n",
    "            task_name = f\"block-{i}-sub_block-{si}-{attribute}\"\n",
    "            task = Delayed(\"sixy6e/basic_statistics\", name=task_name)(array_uri, config_dict, attribute, schema=schema, idxs=sub_block, summarise=False)\n",
    "\n",
    "            if len(tasks_dict[attribute]) > 1:\n",
    "                task.depends_on(tasks_dict[attribute][-1])\n",
    "\n",
    "            tasks_dict[attribute].append(task)\n",
    "\n",
    "for attribute in stats_attrs:\n",
    "    task_name = f\"reduce-attibute-{attribute}\"\n",
    "    reducer_task = Delayed(\"sixy6e/basic_statistics_reduce\", name=task_name)(tasks_dict[attribute], attribute)\n",
    "    reduce_tasks.append(reducer_task)\n",
    "\n",
    "collect_stats_task = Delayed(gather_stats, local=True, name=\"gather-stats\")(reduce_tasks)"
   ]
  },
  {
   "cell_type": "code",
   "execution_count": 95,
   "id": "26d97ecb-f4d7-4095-8a7c-f778fcab2da9",
   "metadata": {},
   "outputs": [],
   "source": [
    "from scipy import stats"
   ]
  },
  {
   "cell_type": "code",
   "execution_count": 92,
   "id": "70bec24b-b13a-40de-8be9-0ea9ead9df01",
   "metadata": {},
   "outputs": [],
   "source": [
    "def basic_statistics(data):\n",
    "    \"\"\"\n",
    "    Calculate basic statistics.\n",
    "    Stats calculated:\n",
    "        * minimum\n",
    "        * maximum\n",
    "        * count\n",
    "        * total/sum\n",
    "        * mean\n",
    "        * variance\n",
    "        * standard deviation\n",
    "        * skewness\n",
    "        * kurtosis\n",
    "    \"\"\"\n",
    "    #data_attr = data[attribute]\n",
    "\n",
    "    result = {\n",
    "            \"minimum\": numpy.nanmin(data),\n",
    "            \"maximum\": numpy.nanmax(data),\n",
    "            \"count\": data.shape[0],\n",
    "            \"total\": numpy.nansum(data),\n",
    "            \"mean\": numpy.nanmean(data),\n",
    "            \"variance\": numpy.nanvar(data, ddof=1),  # unbiased sample\n",
    "            \"stddev\": numpy.nanstd(data, ddof=1),  # unbiased sample\n",
    "            \"skewness\": stats.skew(data, nan_policy=\"omit\"),\n",
    "            \"kurtosis\": stats.kurtosis(data, nan_policy=\"omit\"),\n",
    "    }\n",
    "\n",
    "    return result"
   ]
  },
  {
   "cell_type": "code",
   "execution_count": 73,
   "id": "0a82dece-3e9d-4ff8-ad17-aa3b678b6def",
   "metadata": {},
   "outputs": [],
   "source": [
    "def start_end_timestamps(df):\n",
    "    \"\"\"\n",
    "    Find the min/max of the timestamp attribute.\n",
    "    \"\"\"\n",
    "    start_end_time = [\n",
    "        df.timestamp.min().to_pydatetime(),\n",
    "        df.timestamp.max().to_pydatetime(),\n",
    "    ]\n",
    "\n",
    "    return start_end_time"
   ]
  },
  {
   "cell_type": "code",
   "execution_count": 70,
   "id": "c80ea05f-d634-4dea-94a7-3014ece35ca8",
   "metadata": {},
   "outputs": [],
   "source": [
    "stats_attrs = [at for at in required_attributes if at not in [\"timestamp\", \"region_code\"]]\n",
    "stats_attrs.insert(0, \"Y\")\n",
    "stats_attrs.insert(0, \"X\")\n",
    "stats_attrs.insert(0, \"beam_number\")\n",
    "stats_attrs.insert(0, \"ping_number\")"
   ]
  },
  {
   "cell_type": "code",
   "execution_count": 71,
   "id": "a8d591ab-a4d8-4fa5-a1ab-e7b726068e6b",
   "metadata": {},
   "outputs": [
    {
     "data": {
      "text/plain": [
       "['ping_number',\n",
       " 'beam_number',\n",
       " 'X',\n",
       " 'Y',\n",
       " 'Z',\n",
       " 'across_track',\n",
       " 'along_track',\n",
       " 'beam_angle',\n",
       " 'beam_angle_forward',\n",
       " 'beam_flags',\n",
       " 'centre_beam',\n",
       " 'course',\n",
       " 'depth_corrector',\n",
       " 'gps_tide_corrector',\n",
       " 'heading',\n",
       " 'heave',\n",
       " 'height',\n",
       " 'horizontal_error',\n",
       " 'ping_flags',\n",
       " 'pitch',\n",
       " 'roll',\n",
       " 'sector_number',\n",
       " 'separation',\n",
       " 'speed',\n",
       " 'tide_corrector',\n",
       " 'travel_time',\n",
       " 'vertical_error']"
      ]
     },
     "execution_count": 71,
     "metadata": {},
     "output_type": "execute_result"
    }
   ],
   "source": [
    "stats_attrs"
   ]
  },
  {
   "cell_type": "code",
   "execution_count": 72,
   "id": "82167ce0-7ca9-4f6b-85ac-1cb0e5101fd4",
   "metadata": {},
   "outputs": [
    {
     "data": {
      "text/plain": [
       "27"
      ]
     },
     "execution_count": 72,
     "metadata": {},
     "output_type": "execute_result"
    }
   ],
   "source": [
    "len(stats_attrs)"
   ]
  },
  {
   "cell_type": "code",
   "execution_count": 75,
   "id": "52ab457e-d839-4ce0-8672-d11b2548ef13",
   "metadata": {},
   "outputs": [
    {
     "data": {
      "text/plain": [
       "{'survey_general': {'survey_title': 'Bunurong Marine National Park Survey',\n",
       "  'survey_id': 'Bunurong Marine National Park Survey',\n",
       "  'abstract': 'The Bunurong Marine National Park bathymetry survey was acquired by Deakin University Marine Mapping lab onboard the M/V Yolla over 5 days in 2017 (14/06-16/06, 21/09-22/09) using a Kongsberg EM2040c. This survey was part of a Parks Victoria project to better understand the habitats and associated biodiversity of Bunurong MNP.',\n",
       "  'lineage': 'The Bunurong Marine National Park bathymetry survey was acquired by Deakin University Marine Mapping lab onboard the M/V Yolla over 5 days in 2017 (14/06-16/06, 21/09-22/09) using a Kongsberg EM2040c. The data were processed using CARIS 9.3 and CARIS 11.3 and the following processing steps were\\nperformed.\\n1. Import into CARIS\\n2. Post-process POS MV data in POSPAC 8.3\\n3. Apply SBETS to data in CARIS (SmartBase Solution)\\n4. Georeferenced bathymetry and computed TPU\\n5. Generated a CUBE surface and filted by the CUBE surface   \\n6. Manually removed any erroneous soundings that were not\\neliminated using CUBE (e.g., dense sounding clouds around sonar\\nhead due to bubbles)',\n",
       "  'data_collected': ['Bathymetry', 'Backscatter'],\n",
       "  'keywords': ['AusSeabed', ' Marine', ' ']},\n",
       " 'survey_citation': {'data_owner': 'Deakin University',\n",
       "  'custodian': 'Geoscience Australia',\n",
       "  'point_of_contact/principal_investigator': 'Daniel Ierodiaconou',\n",
       "  'point_of_contact/principal_investigator_-_contact_details': 'iero@deakin.edu.au',\n",
       "  'collecting_entity': 'Deakin University',\n",
       "  'attribution_citation': 'Ierodiaconou, D. and Young, M.A. 2017. Deakin University Bunurong Marine National Park Multibeam Survey 2017.',\n",
       "  'legal_constraints_licence': 'Creative Commons — Attribution 4.0 International — CC BY 4.0',\n",
       "  'access_constraints': 'As per Licence',\n",
       "  'use_constraints': 'As per Licence',\n",
       "  'country_data_ownership': 'Australia'},\n",
       " 'survey_details': {'start_location': 'Newhaven, Phillip Island, Victoria',\n",
       "  'end_location': 'Newhaven, Phillip Island, Victoria',\n",
       "  'start_datetime': '2017-06-14T00:00:00',\n",
       "  'end_datetime': '2017-09-22T00:00:00',\n",
       "  'survey_area_general': 'Bunurong Marine National Park off Victoria',\n",
       "  'sea_areas': ['Southern Ocean', 'Southern Ocean'],\n",
       "  'bounding_box_coordinates': 'Min X: 375082.682823396\\nMax Y: 5719973.70231887\\nMax X: 389964.682823396\\nMin Y: 5711835.70231887',\n",
       "  'coordinate_reference_system_bounding_box': 'WGS 84 UTM Zone 55 S ',\n",
       "  'coordinate_reference_system_survey_data': 'WGS 84 UTM Zone 55 S ',\n",
       "  'horizontal_datum': 'WGS84',\n",
       "  'vertical_datum': 'Ellipsoid',\n",
       "  'coordinate_epoch': 'June 14 2017 - September 22 2017'},\n",
       " 'survey_technical': {'platform_class': 'Research Vessel',\n",
       "  'platform_name': 'M/V Yolla',\n",
       "  'geometries': 'Attach separately - Optional Highly recommended'},\n",
       " 'bathymetry_general': {'abstract': 'The Bunurong Marine National Park bathymetry survey was acquired by Deakin University Marine Mapping lab onboard the M/V Yolla over 5 days in 2017 (14/06-16/06, 21/09-22/09) using a Kongsberg EM2040c. This survey was part of a Parks Victoria project to better understand the habitats and associated biodiversity of Bunurong MNP.',\n",
       "  'lineage': 'The Bunurong Marine National Park bathymetry survey was acquired by Deakin University Marine Mapping lab onboard the M/V Yolla over 5 days in 2017 (14/06-16/06, 21/09-22/09) using a Kongsberg EM2040c. The data were processed using CARIS 9.3 and CARIS 11.3 and the following processing steps were\\nperformed.\\n1. Import into CARIS\\n2. Post-process POS MV data in POSPAC 8.3\\n3. Apply SBETS to data in CARIS (SmartBase Solution)\\n4. Georeferenced bathymetry and computed TPU\\n5. Generated a CUBE surface and filted by the CUBE surface   \\n6. Manually removed any erroneous soundings that were not\\neliminated using CUBE (e.g., dense sounding clouds around sonar\\nhead due to bubbles)',\n",
       "  'data_collected': ['Bathymetry', 'Backscatter'],\n",
       "  'keywords': ['AusSeabed', ' Marine', ' ']},\n",
       " 'bathymetry_citation': {'data_owner': 'Deakin University',\n",
       "  'custodian': 'Geoscience Australia',\n",
       "  'point_of_contact/principal_investigator': 'Daniel Ierodiaconou',\n",
       "  'point_of_contact/principal_investigator_-_contact_details': 'iero@deakin.edu.au',\n",
       "  'collecting_entity': 'Deakin University',\n",
       "  'attribution_citation': 'Ierodiaconou, D. and Young, M.A. 2017. Deakin University Bunurong Marine National Park Multibeam Survey 2017.',\n",
       "  'legal_constraints_licence': 'Creative Commons — Attribution 4.0 International — CC BY 4.0',\n",
       "  'access_constraints': 'As per Licence',\n",
       "  'use_constraints': 'As per Licence',\n",
       "  'country_data_ownership': 'Australia'},\n",
       " 'bathymetry_details': {'start_location': 'Newhaven, Phillip Island, Victoria',\n",
       "  'end_location': 'Newhaven, Phillip Island, Victoria',\n",
       "  'start_datetime': '2017-06-14T00:00:00',\n",
       "  'end_datetime': '2017-09-22T00:00:00',\n",
       "  'survey_area_general': 'Bunurong Marine National Park off Victoria',\n",
       "  'sea_areas': 'Southern Ocean',\n",
       "  'bounding_box_coordinates': 'Min X: 375082.682823396\\nMax Y: 5719973.70231887\\nMax X: 389964.682823396\\nMin Y: 5711835.70231887',\n",
       "  'coordinate_reference_system_bounding_box': 'WGS 84 UTM Zone 55 S ',\n",
       "  'coordinate_reference_system_bathy_data': 'WGS 84 UTM Zone 55 S ',\n",
       "  'horizontal_datum': 'WGS84',\n",
       "  'vertical_datum': 'Ellipsoid',\n",
       "  'coordinate_epoch': 'June 14 2017 - September 22 2017'},\n",
       " 'bathymetry_technical': {'platform_speed': '1.5-3',\n",
       "  'platform__speed_units': 'm/s',\n",
       "  'instrument_type': 'Multi-beam echosounder',\n",
       "  'sensor_type': 'Kongsberg EM2040c',\n",
       "  'year_of_installation': 2013,\n",
       "  'sensor_parameter': 'Frequency',\n",
       "  'nominal_sensor_value': 300,\n",
       "  'sensor_uom': 'kHz',\n",
       "  'geometries': 'Attach separately - Optional but Highly recommended'}}"
      ]
     },
     "execution_count": 75,
     "metadata": {},
     "output_type": "execute_result"
    }
   ],
   "source": [
    "asb_metadata"
   ]
  },
  {
   "cell_type": "code",
   "execution_count": 76,
   "id": "a7bf6565-8010-42dc-8e7b-ade36e2d3ea6",
   "metadata": {},
   "outputs": [],
   "source": [
    "crs_info = {\n",
    "    \"horizontal_datum\": \"epsg:4326\",\n",
    "    \"vertical_datum\": \"epsg:4326\",  # TODO******************************************\n",
    "}"
   ]
  },
  {
   "cell_type": "code",
   "execution_count": 93,
   "id": "f6b5162c-782d-4683-a24f-0d0936262d9e",
   "metadata": {},
   "outputs": [],
   "source": [
    "def produce_datasets(tdb_gsf_uris, asb_metadata, sonar_md_all, ctx, creds):\n",
    "    # for bathy_pth, gsf_pth in tdb_gsf_uris:\n",
    "    for i, val in enumerate(tdb_gsf_uris):\n",
    "        bathy_pth, gsf_pth = val\n",
    "        json_uri = gsf_pth.replace(\".gsf\", \".json\")\n",
    "        bathy_path = Path(bathy_pth)\n",
    "        uid = uuid.UUID(bathy_path.stem.split(\"_\")[2])\n",
    "        #sonar_metadata = get_sonar_metadata(json_uri)  # may present memory issues\n",
    "        sonar_metadata = sonar_md_all[i]\n",
    "        \n",
    "        tdb_density_uri = f's3://{bathy_pth.replace(\"bathymetry\", \"soundings-cell-density-resolution-15\")}'\n",
    "        soundings_cell_density_uri = f's3://{bathy_pth.replace(\"bathymetry.tiledb\", \"soundings-cell-density-resolution-12.geojson\")}'\n",
    "        coverage_uri = f's3://{bathy_pth.replace(\"bathymetry.tiledb\", \"coverage.geojson\")}'\n",
    "        stac_md_uri = f's3://{bathy_pth.replace(\"bathymetry.tiledb\", \"stac-metadata.geojson\")}'\n",
    "        array_uri = f\"s3://{bathy_pth}\"\n",
    "        outdir_uri = f\"s3://{bathy_path.parent}\"\n",
    "        array_name = bathy_path.stem\n",
    "        \n",
    "        with tiledb.open(tdb_density_uri, ctx=ctx) as density_ds:\n",
    "            density_df = density_ds.df[:]\n",
    "        \n",
    "        res12_df = reduce_resoltion(density_df, resolution=12, chunks=1000000)\n",
    "        res12_df[\"geometry\"] = rhealpix.rhealpix_geo_boundary(res12_df.region_code.values)\n",
    "        gdf = geopandas.GeoDataFrame(res12_df, crs=\"epsg:4326\")\n",
    "\n",
    "        dggs = rhealpix.RhealpixDGGS.from_ellipsoid()\n",
    "        area_ha = gdf.shape[0] * dggs.cell_width(12) **2 / 10000\n",
    "        sonar_metadata[\"area_ha\"] = area_ha\n",
    "        length = track_length(array_uri, ctx)\n",
    "        sonar_metadata[\"track_length_km\"] = length\n",
    "        \n",
    "        with fiona.Env(session=AWSSession(aws_access_key_id=creds.access_key, aws_secret_access_key=creds.secret_key)):\n",
    "            gdf.to_file(soundings_cell_density_uri, driver=\"GeoJSONSeq\", coordinate_precision=11)\n",
    "        \n",
    "        dissolved = geopandas.GeoDataFrame(geometry.dissolve(gdf), crs=\"epsg:4326\")\n",
    "        \n",
    "        with fiona.Env(session=AWSSession(aws_access_key_id=creds.access_key, aws_secret_access_key=creds.secret_key)):\n",
    "            dissolved.to_file(coverage_uri, driver=\"GeoJSONSeq\", coordinate_precision=11)\n",
    "        \n",
    "        with tiledb.open(array_uri, ctx=ctx) as ds:\n",
    "            df = ds.df[:]\n",
    "\n",
    "        stats_results = {}\n",
    "        for stat_name in stats_attrs:\n",
    "            stats_results[stat_name] = basic_statistics(df[stat_name].values)\n",
    "\n",
    "        final_start_end_timestamps = start_end_timestamps(df)\n",
    "        with tiledb.open(array_uri, \"w\", ctx=ctx) as ds:\n",
    "            ds.meta[\"crs_info\"] = json.dumps(crs_info)\n",
    "            ds.meta[\"basic_statistics\"] = json.dumps(stats_results, cls=stac_metadata.Encoder)\n",
    "\n",
    "        dataset_metadata = stac_metadata.prepare(\n",
    "            uid,\n",
    "            sonar_metadata,\n",
    "            stats_results,\n",
    "            asb_metadata,\n",
    "            array_uri,\n",
    "            coverage_uri,\n",
    "            soundings_cell_density_uri,\n",
    "            creds.access_key,\n",
    "            creds.secret_key,\n",
    "            final_start_end_timestamps,\n",
    "            outdir_uri,\n",
    "            stac_md_uri,\n",
    "        )\n",
    "\n",
    "        tiledb.cloud.register_array(\n",
    "            uri=array_uri,\n",
    "            namespace=\"sixy6e\", # Optional, you may register it under your username, or one of your organizations\n",
    "            array_name=array_name,\n",
    "            description=asb_metadata[\"survey_general\"][\"abstract\"],  # Optional \n",
    "            access_credentials_name=\"AusSeabedGMRT-PL019\"\n",
    "        )\n",
    "    return"
   ]
  },
  {
   "cell_type": "code",
   "execution_count": null,
   "id": "9f99bb55-e259-489a-82a7-04838b800df2",
   "metadata": {},
   "outputs": [],
   "source": []
  },
  {
   "cell_type": "code",
   "execution_count": null,
   "id": "44cd0099-b9c7-442f-9cce-1a9b4ea8c284",
   "metadata": {},
   "outputs": [],
   "source": [
    "stats_attrs = [at for at in required_attributes if at not in [\"timestamp\", \"region_code\"]]\n",
    "stats_attrs.insert(0, \"Y\")\n",
    "stats_attrs.insert(0, \"X\")"
   ]
  },
  {
   "cell_type": "code",
   "execution_count": null,
   "id": "2529acf5-7cee-4bd8-978a-ebe0ddbc2736",
   "metadata": {},
   "outputs": [],
   "source": []
  },
  {
   "cell_type": "code",
   "execution_count": 80,
   "id": "549f1b7e-3172-45ce-be9d-ab8cffcb60a8",
   "metadata": {},
   "outputs": [
    {
     "data": {
      "text/plain": [
       "[('ausseabed-pl019-ingested-data/L2B/Bunurong_MNP/0000_20170614_002956_Yolla/ga_ausseabed_08592919-7b4b-41ff-940c-4c6e6b7fed6c_bathymetry.tiledb',\n",
       "  'ausseabed-pl019-provided-data/DeakinUniversity/Bunurong_MNP/gsf/0000_20170614_002956_Yolla.gsf'),\n",
       " ('ausseabed-pl019-ingested-data/L2B/Bunurong_MNP/0000_20170920_223522_ShipName/ga_ausseabed_564e047b-3060-44c6-895e-f74a363a6671_bathymetry.tiledb',\n",
       "  'ausseabed-pl019-provided-data/DeakinUniversity/Bunurong_MNP/gsf/0000_20170920_223522_ShipName.gsf'),\n",
       " ('ausseabed-pl019-ingested-data/L2B/Bunurong_MNP/0000_20170922_004517_ShipName/ga_ausseabed_465dd7b8-081e-4530-a84a-8a32137facfd_bathymetry.tiledb',\n",
       "  'ausseabed-pl019-provided-data/DeakinUniversity/Bunurong_MNP/gsf/0000_20170922_004517_ShipName.gsf'),\n",
       " ('ausseabed-pl019-ingested-data/L2B/Bunurong_MNP/0000_20170922_011320_ShipName/ga_ausseabed_09601051-7ffd-4489-9ff0-0a47d54ee73e_bathymetry.tiledb',\n",
       "  'ausseabed-pl019-provided-data/DeakinUniversity/Bunurong_MNP/gsf/0000_20170922_011320_ShipName.gsf'),\n",
       " ('ausseabed-pl019-ingested-data/L2B/Bunurong_MNP/0001_20170614_003215_Yolla/ga_ausseabed_64fe9b18-bd1e-4ada-8039-f4ae4f0c90ae_bathymetry.tiledb',\n",
       "  'ausseabed-pl019-provided-data/DeakinUniversity/Bunurong_MNP/gsf/0001_20170614_003215_Yolla.gsf')]"
      ]
     },
     "execution_count": 80,
     "metadata": {},
     "output_type": "execute_result"
    }
   ],
   "source": [
    "matched[0:5]"
   ]
  },
  {
   "cell_type": "code",
   "execution_count": 97,
   "id": "c16fc8e4-a43d-4770-8465-7142dd041410",
   "metadata": {},
   "outputs": [
    {
     "name": "stderr",
     "output_type": "stream",
     "text": [
      "/opt/conda/lib/python3.7/site-packages/geopandas/_vectorized.py:142: ShapelyDeprecationWarning: __len__ for multi-part geometries is deprecated and will be removed in Shapely 2.0. Check the length of the `geoms` property instead to get the  number of parts of a multi-part geometry.\n",
      "  aout[:] = out\n",
      "/opt/conda/lib/python3.7/site-packages/geopandas/_vectorized.py:142: ShapelyDeprecationWarning: __len__ for multi-part geometries is deprecated and will be removed in Shapely 2.0. Check the length of the `geoms` property instead to get the  number of parts of a multi-part geometry.\n",
      "  aout[:] = out\n",
      "/opt/conda/lib/python3.7/site-packages/geopandas/_vectorized.py:142: ShapelyDeprecationWarning: __len__ for multi-part geometries is deprecated and will be removed in Shapely 2.0. Check the length of the `geoms` property instead to get the  number of parts of a multi-part geometry.\n",
      "  aout[:] = out\n",
      "/opt/conda/lib/python3.7/site-packages/geopandas/_vectorized.py:142: ShapelyDeprecationWarning: __len__ for multi-part geometries is deprecated and will be removed in Shapely 2.0. Check the length of the `geoms` property instead to get the  number of parts of a multi-part geometry.\n",
      "  aout[:] = out\n",
      "/opt/conda/lib/python3.7/site-packages/geopandas/_vectorized.py:142: ShapelyDeprecationWarning: __len__ for multi-part geometries is deprecated and will be removed in Shapely 2.0. Check the length of the `geoms` property instead to get the  number of parts of a multi-part geometry.\n",
      "  aout[:] = out\n",
      "/opt/conda/lib/python3.7/site-packages/geopandas/_vectorized.py:142: ShapelyDeprecationWarning: __len__ for multi-part geometries is deprecated and will be removed in Shapely 2.0. Check the length of the `geoms` property instead to get the  number of parts of a multi-part geometry.\n",
      "  aout[:] = out\n",
      "/opt/conda/lib/python3.7/site-packages/geopandas/_vectorized.py:142: ShapelyDeprecationWarning: __len__ for multi-part geometries is deprecated and will be removed in Shapely 2.0. Check the length of the `geoms` property instead to get the  number of parts of a multi-part geometry.\n",
      "  aout[:] = out\n",
      "/opt/conda/lib/python3.7/site-packages/geopandas/_vectorized.py:142: ShapelyDeprecationWarning: __len__ for multi-part geometries is deprecated and will be removed in Shapely 2.0. Check the length of the `geoms` property instead to get the  number of parts of a multi-part geometry.\n",
      "  aout[:] = out\n",
      "/opt/conda/lib/python3.7/site-packages/geopandas/_vectorized.py:142: ShapelyDeprecationWarning: __len__ for multi-part geometries is deprecated and will be removed in Shapely 2.0. Check the length of the `geoms` property instead to get the  number of parts of a multi-part geometry.\n",
      "  aout[:] = out\n",
      "/opt/conda/lib/python3.7/site-packages/geopandas/_vectorized.py:142: ShapelyDeprecationWarning: __len__ for multi-part geometries is deprecated and will be removed in Shapely 2.0. Check the length of the `geoms` property instead to get the  number of parts of a multi-part geometry.\n",
      "  aout[:] = out\n",
      "/opt/conda/lib/python3.7/site-packages/geopandas/_vectorized.py:142: ShapelyDeprecationWarning: __len__ for multi-part geometries is deprecated and will be removed in Shapely 2.0. Check the length of the `geoms` property instead to get the  number of parts of a multi-part geometry.\n",
      "  aout[:] = out\n",
      "/opt/conda/lib/python3.7/site-packages/geopandas/_vectorized.py:142: ShapelyDeprecationWarning: __len__ for multi-part geometries is deprecated and will be removed in Shapely 2.0. Check the length of the `geoms` property instead to get the  number of parts of a multi-part geometry.\n",
      "  aout[:] = out\n",
      "/opt/conda/lib/python3.7/site-packages/geopandas/_vectorized.py:142: ShapelyDeprecationWarning: __len__ for multi-part geometries is deprecated and will be removed in Shapely 2.0. Check the length of the `geoms` property instead to get the  number of parts of a multi-part geometry.\n",
      "  aout[:] = out\n",
      "/opt/conda/lib/python3.7/site-packages/geopandas/_vectorized.py:142: ShapelyDeprecationWarning: __len__ for multi-part geometries is deprecated and will be removed in Shapely 2.0. Check the length of the `geoms` property instead to get the  number of parts of a multi-part geometry.\n",
      "  aout[:] = out\n",
      "/opt/conda/lib/python3.7/site-packages/geopandas/_vectorized.py:142: ShapelyDeprecationWarning: __len__ for multi-part geometries is deprecated and will be removed in Shapely 2.0. Check the length of the `geoms` property instead to get the  number of parts of a multi-part geometry.\n",
      "  aout[:] = out\n",
      "/opt/conda/lib/python3.7/site-packages/geopandas/_vectorized.py:142: ShapelyDeprecationWarning: __len__ for multi-part geometries is deprecated and will be removed in Shapely 2.0. Check the length of the `geoms` property instead to get the  number of parts of a multi-part geometry.\n",
      "  aout[:] = out\n",
      "/opt/conda/lib/python3.7/site-packages/geopandas/_vectorized.py:142: ShapelyDeprecationWarning: __len__ for multi-part geometries is deprecated and will be removed in Shapely 2.0. Check the length of the `geoms` property instead to get the  number of parts of a multi-part geometry.\n",
      "  aout[:] = out\n",
      "/opt/conda/lib/python3.7/site-packages/geopandas/_vectorized.py:142: ShapelyDeprecationWarning: __len__ for multi-part geometries is deprecated and will be removed in Shapely 2.0. Check the length of the `geoms` property instead to get the  number of parts of a multi-part geometry.\n",
      "  aout[:] = out\n",
      "/opt/conda/lib/python3.7/site-packages/geopandas/_vectorized.py:142: ShapelyDeprecationWarning: __len__ for multi-part geometries is deprecated and will be removed in Shapely 2.0. Check the length of the `geoms` property instead to get the  number of parts of a multi-part geometry.\n",
      "  aout[:] = out\n",
      "/opt/conda/lib/python3.7/site-packages/geopandas/_vectorized.py:142: ShapelyDeprecationWarning: __len__ for multi-part geometries is deprecated and will be removed in Shapely 2.0. Check the length of the `geoms` property instead to get the  number of parts of a multi-part geometry.\n",
      "  aout[:] = out\n",
      "/opt/conda/lib/python3.7/site-packages/geopandas/_vectorized.py:142: ShapelyDeprecationWarning: __len__ for multi-part geometries is deprecated and will be removed in Shapely 2.0. Check the length of the `geoms` property instead to get the  number of parts of a multi-part geometry.\n",
      "  aout[:] = out\n",
      "/opt/conda/lib/python3.7/site-packages/geopandas/_vectorized.py:142: ShapelyDeprecationWarning: __len__ for multi-part geometries is deprecated and will be removed in Shapely 2.0. Check the length of the `geoms` property instead to get the  number of parts of a multi-part geometry.\n",
      "  aout[:] = out\n",
      "/opt/conda/lib/python3.7/site-packages/geopandas/_vectorized.py:142: ShapelyDeprecationWarning: __len__ for multi-part geometries is deprecated and will be removed in Shapely 2.0. Check the length of the `geoms` property instead to get the  number of parts of a multi-part geometry.\n",
      "  aout[:] = out\n",
      "/opt/conda/lib/python3.7/site-packages/geopandas/_vectorized.py:142: ShapelyDeprecationWarning: __len__ for multi-part geometries is deprecated and will be removed in Shapely 2.0. Check the length of the `geoms` property instead to get the  number of parts of a multi-part geometry.\n",
      "  aout[:] = out\n",
      "/opt/conda/lib/python3.7/site-packages/geopandas/_vectorized.py:142: ShapelyDeprecationWarning: __len__ for multi-part geometries is deprecated and will be removed in Shapely 2.0. Check the length of the `geoms` property instead to get the  number of parts of a multi-part geometry.\n",
      "  aout[:] = out\n",
      "/opt/conda/lib/python3.7/site-packages/geopandas/_vectorized.py:142: ShapelyDeprecationWarning: __len__ for multi-part geometries is deprecated and will be removed in Shapely 2.0. Check the length of the `geoms` property instead to get the  number of parts of a multi-part geometry.\n",
      "  aout[:] = out\n",
      "/opt/conda/lib/python3.7/site-packages/geopandas/_vectorized.py:142: ShapelyDeprecationWarning: __len__ for multi-part geometries is deprecated and will be removed in Shapely 2.0. Check the length of the `geoms` property instead to get the  number of parts of a multi-part geometry.\n",
      "  aout[:] = out\n",
      "/opt/conda/lib/python3.7/site-packages/geopandas/_vectorized.py:142: ShapelyDeprecationWarning: __len__ for multi-part geometries is deprecated and will be removed in Shapely 2.0. Check the length of the `geoms` property instead to get the  number of parts of a multi-part geometry.\n",
      "  aout[:] = out\n",
      "/opt/conda/lib/python3.7/site-packages/geopandas/_vectorized.py:142: ShapelyDeprecationWarning: __len__ for multi-part geometries is deprecated and will be removed in Shapely 2.0. Check the length of the `geoms` property instead to get the  number of parts of a multi-part geometry.\n",
      "  aout[:] = out\n",
      "/opt/conda/lib/python3.7/site-packages/geopandas/_vectorized.py:142: ShapelyDeprecationWarning: __len__ for multi-part geometries is deprecated and will be removed in Shapely 2.0. Check the length of the `geoms` property instead to get the  number of parts of a multi-part geometry.\n",
      "  aout[:] = out\n",
      "/opt/conda/lib/python3.7/site-packages/geopandas/_vectorized.py:142: ShapelyDeprecationWarning: __len__ for multi-part geometries is deprecated and will be removed in Shapely 2.0. Check the length of the `geoms` property instead to get the  number of parts of a multi-part geometry.\n",
      "  aout[:] = out\n",
      "/opt/conda/lib/python3.7/site-packages/geopandas/_vectorized.py:142: ShapelyDeprecationWarning: __len__ for multi-part geometries is deprecated and will be removed in Shapely 2.0. Check the length of the `geoms` property instead to get the  number of parts of a multi-part geometry.\n",
      "  aout[:] = out\n",
      "/opt/conda/lib/python3.7/site-packages/geopandas/_vectorized.py:142: ShapelyDeprecationWarning: __len__ for multi-part geometries is deprecated and will be removed in Shapely 2.0. Check the length of the `geoms` property instead to get the  number of parts of a multi-part geometry.\n",
      "  aout[:] = out\n",
      "/opt/conda/lib/python3.7/site-packages/geopandas/_vectorized.py:142: ShapelyDeprecationWarning: __len__ for multi-part geometries is deprecated and will be removed in Shapely 2.0. Check the length of the `geoms` property instead to get the  number of parts of a multi-part geometry.\n",
      "  aout[:] = out\n",
      "/opt/conda/lib/python3.7/site-packages/geopandas/_vectorized.py:142: ShapelyDeprecationWarning: __len__ for multi-part geometries is deprecated and will be removed in Shapely 2.0. Check the length of the `geoms` property instead to get the  number of parts of a multi-part geometry.\n",
      "  aout[:] = out\n",
      "/opt/conda/lib/python3.7/site-packages/geopandas/_vectorized.py:142: ShapelyDeprecationWarning: __len__ for multi-part geometries is deprecated and will be removed in Shapely 2.0. Check the length of the `geoms` property instead to get the  number of parts of a multi-part geometry.\n",
      "  aout[:] = out\n",
      "/opt/conda/lib/python3.7/site-packages/geopandas/_vectorized.py:142: ShapelyDeprecationWarning: __len__ for multi-part geometries is deprecated and will be removed in Shapely 2.0. Check the length of the `geoms` property instead to get the  number of parts of a multi-part geometry.\n",
      "  aout[:] = out\n",
      "/opt/conda/lib/python3.7/site-packages/geopandas/_vectorized.py:142: ShapelyDeprecationWarning: __len__ for multi-part geometries is deprecated and will be removed in Shapely 2.0. Check the length of the `geoms` property instead to get the  number of parts of a multi-part geometry.\n",
      "  aout[:] = out\n",
      "/opt/conda/lib/python3.7/site-packages/geopandas/_vectorized.py:142: ShapelyDeprecationWarning: __len__ for multi-part geometries is deprecated and will be removed in Shapely 2.0. Check the length of the `geoms` property instead to get the  number of parts of a multi-part geometry.\n",
      "  aout[:] = out\n",
      "/opt/conda/lib/python3.7/site-packages/geopandas/_vectorized.py:142: ShapelyDeprecationWarning: __len__ for multi-part geometries is deprecated and will be removed in Shapely 2.0. Check the length of the `geoms` property instead to get the  number of parts of a multi-part geometry.\n",
      "  aout[:] = out\n",
      "/opt/conda/lib/python3.7/site-packages/geopandas/_vectorized.py:142: ShapelyDeprecationWarning: __len__ for multi-part geometries is deprecated and will be removed in Shapely 2.0. Check the length of the `geoms` property instead to get the  number of parts of a multi-part geometry.\n",
      "  aout[:] = out\n",
      "/opt/conda/lib/python3.7/site-packages/geopandas/_vectorized.py:142: ShapelyDeprecationWarning: __len__ for multi-part geometries is deprecated and will be removed in Shapely 2.0. Check the length of the `geoms` property instead to get the  number of parts of a multi-part geometry.\n",
      "  aout[:] = out\n",
      "/opt/conda/lib/python3.7/site-packages/geopandas/_vectorized.py:142: ShapelyDeprecationWarning: __len__ for multi-part geometries is deprecated and will be removed in Shapely 2.0. Check the length of the `geoms` property instead to get the  number of parts of a multi-part geometry.\n",
      "  aout[:] = out\n",
      "/opt/conda/lib/python3.7/site-packages/geopandas/_vectorized.py:142: ShapelyDeprecationWarning: __len__ for multi-part geometries is deprecated and will be removed in Shapely 2.0. Check the length of the `geoms` property instead to get the  number of parts of a multi-part geometry.\n",
      "  aout[:] = out\n",
      "/opt/conda/lib/python3.7/site-packages/geopandas/_vectorized.py:142: ShapelyDeprecationWarning: __len__ for multi-part geometries is deprecated and will be removed in Shapely 2.0. Check the length of the `geoms` property instead to get the  number of parts of a multi-part geometry.\n",
      "  aout[:] = out\n",
      "/opt/conda/lib/python3.7/site-packages/geopandas/_vectorized.py:142: ShapelyDeprecationWarning: __len__ for multi-part geometries is deprecated and will be removed in Shapely 2.0. Check the length of the `geoms` property instead to get the  number of parts of a multi-part geometry.\n",
      "  aout[:] = out\n",
      "/opt/conda/lib/python3.7/site-packages/geopandas/_vectorized.py:142: ShapelyDeprecationWarning: __len__ for multi-part geometries is deprecated and will be removed in Shapely 2.0. Check the length of the `geoms` property instead to get the  number of parts of a multi-part geometry.\n",
      "  aout[:] = out\n",
      "/opt/conda/lib/python3.7/site-packages/geopandas/_vectorized.py:142: ShapelyDeprecationWarning: __len__ for multi-part geometries is deprecated and will be removed in Shapely 2.0. Check the length of the `geoms` property instead to get the  number of parts of a multi-part geometry.\n",
      "  aout[:] = out\n",
      "/opt/conda/lib/python3.7/site-packages/geopandas/_vectorized.py:142: ShapelyDeprecationWarning: __len__ for multi-part geometries is deprecated and will be removed in Shapely 2.0. Check the length of the `geoms` property instead to get the  number of parts of a multi-part geometry.\n",
      "  aout[:] = out\n",
      "/opt/conda/lib/python3.7/site-packages/geopandas/_vectorized.py:142: ShapelyDeprecationWarning: __len__ for multi-part geometries is deprecated and will be removed in Shapely 2.0. Check the length of the `geoms` property instead to get the  number of parts of a multi-part geometry.\n",
      "  aout[:] = out\n",
      "/opt/conda/lib/python3.7/site-packages/geopandas/_vectorized.py:142: ShapelyDeprecationWarning: __len__ for multi-part geometries is deprecated and will be removed in Shapely 2.0. Check the length of the `geoms` property instead to get the  number of parts of a multi-part geometry.\n",
      "  aout[:] = out\n",
      "/opt/conda/lib/python3.7/site-packages/geopandas/_vectorized.py:142: ShapelyDeprecationWarning: __len__ for multi-part geometries is deprecated and will be removed in Shapely 2.0. Check the length of the `geoms` property instead to get the  number of parts of a multi-part geometry.\n",
      "  aout[:] = out\n",
      "/opt/conda/lib/python3.7/site-packages/geopandas/_vectorized.py:142: ShapelyDeprecationWarning: __len__ for multi-part geometries is deprecated and will be removed in Shapely 2.0. Check the length of the `geoms` property instead to get the  number of parts of a multi-part geometry.\n",
      "  aout[:] = out\n",
      "/opt/conda/lib/python3.7/site-packages/geopandas/_vectorized.py:142: ShapelyDeprecationWarning: __len__ for multi-part geometries is deprecated and will be removed in Shapely 2.0. Check the length of the `geoms` property instead to get the  number of parts of a multi-part geometry.\n",
      "  aout[:] = out\n",
      "/opt/conda/lib/python3.7/site-packages/geopandas/_vectorized.py:142: ShapelyDeprecationWarning: __len__ for multi-part geometries is deprecated and will be removed in Shapely 2.0. Check the length of the `geoms` property instead to get the  number of parts of a multi-part geometry.\n",
      "  aout[:] = out\n",
      "/opt/conda/lib/python3.7/site-packages/geopandas/_vectorized.py:142: ShapelyDeprecationWarning: __len__ for multi-part geometries is deprecated and will be removed in Shapely 2.0. Check the length of the `geoms` property instead to get the  number of parts of a multi-part geometry.\n",
      "  aout[:] = out\n",
      "/opt/conda/lib/python3.7/site-packages/geopandas/_vectorized.py:142: ShapelyDeprecationWarning: __len__ for multi-part geometries is deprecated and will be removed in Shapely 2.0. Check the length of the `geoms` property instead to get the  number of parts of a multi-part geometry.\n",
      "  aout[:] = out\n",
      "/opt/conda/lib/python3.7/site-packages/geopandas/_vectorized.py:142: ShapelyDeprecationWarning: __len__ for multi-part geometries is deprecated and will be removed in Shapely 2.0. Check the length of the `geoms` property instead to get the  number of parts of a multi-part geometry.\n",
      "  aout[:] = out\n",
      "/opt/conda/lib/python3.7/site-packages/geopandas/_vectorized.py:142: ShapelyDeprecationWarning: __len__ for multi-part geometries is deprecated and will be removed in Shapely 2.0. Check the length of the `geoms` property instead to get the  number of parts of a multi-part geometry.\n",
      "  aout[:] = out\n",
      "/opt/conda/lib/python3.7/site-packages/geopandas/_vectorized.py:142: ShapelyDeprecationWarning: __len__ for multi-part geometries is deprecated and will be removed in Shapely 2.0. Check the length of the `geoms` property instead to get the  number of parts of a multi-part geometry.\n",
      "  aout[:] = out\n",
      "/opt/conda/lib/python3.7/site-packages/geopandas/_vectorized.py:142: ShapelyDeprecationWarning: __len__ for multi-part geometries is deprecated and will be removed in Shapely 2.0. Check the length of the `geoms` property instead to get the  number of parts of a multi-part geometry.\n",
      "  aout[:] = out\n",
      "/opt/conda/lib/python3.7/site-packages/geopandas/_vectorized.py:142: ShapelyDeprecationWarning: __len__ for multi-part geometries is deprecated and will be removed in Shapely 2.0. Check the length of the `geoms` property instead to get the  number of parts of a multi-part geometry.\n",
      "  aout[:] = out\n",
      "/opt/conda/lib/python3.7/site-packages/geopandas/_vectorized.py:142: ShapelyDeprecationWarning: __len__ for multi-part geometries is deprecated and will be removed in Shapely 2.0. Check the length of the `geoms` property instead to get the  number of parts of a multi-part geometry.\n",
      "  aout[:] = out\n",
      "/opt/conda/lib/python3.7/site-packages/geopandas/_vectorized.py:142: ShapelyDeprecationWarning: __len__ for multi-part geometries is deprecated and will be removed in Shapely 2.0. Check the length of the `geoms` property instead to get the  number of parts of a multi-part geometry.\n",
      "  aout[:] = out\n",
      "/opt/conda/lib/python3.7/site-packages/geopandas/_vectorized.py:142: ShapelyDeprecationWarning: __len__ for multi-part geometries is deprecated and will be removed in Shapely 2.0. Check the length of the `geoms` property instead to get the  number of parts of a multi-part geometry.\n",
      "  aout[:] = out\n",
      "/opt/conda/lib/python3.7/site-packages/geopandas/_vectorized.py:142: ShapelyDeprecationWarning: __len__ for multi-part geometries is deprecated and will be removed in Shapely 2.0. Check the length of the `geoms` property instead to get the  number of parts of a multi-part geometry.\n",
      "  aout[:] = out\n",
      "/opt/conda/lib/python3.7/site-packages/geopandas/_vectorized.py:142: ShapelyDeprecationWarning: __len__ for multi-part geometries is deprecated and will be removed in Shapely 2.0. Check the length of the `geoms` property instead to get the  number of parts of a multi-part geometry.\n",
      "  aout[:] = out\n",
      "/opt/conda/lib/python3.7/site-packages/geopandas/_vectorized.py:142: ShapelyDeprecationWarning: __len__ for multi-part geometries is deprecated and will be removed in Shapely 2.0. Check the length of the `geoms` property instead to get the  number of parts of a multi-part geometry.\n",
      "  aout[:] = out\n",
      "/opt/conda/lib/python3.7/site-packages/geopandas/_vectorized.py:142: ShapelyDeprecationWarning: __len__ for multi-part geometries is deprecated and will be removed in Shapely 2.0. Check the length of the `geoms` property instead to get the  number of parts of a multi-part geometry.\n",
      "  aout[:] = out\n",
      "/opt/conda/lib/python3.7/site-packages/geopandas/_vectorized.py:142: ShapelyDeprecationWarning: __len__ for multi-part geometries is deprecated and will be removed in Shapely 2.0. Check the length of the `geoms` property instead to get the  number of parts of a multi-part geometry.\n",
      "  aout[:] = out\n",
      "/opt/conda/lib/python3.7/site-packages/geopandas/_vectorized.py:142: ShapelyDeprecationWarning: __len__ for multi-part geometries is deprecated and will be removed in Shapely 2.0. Check the length of the `geoms` property instead to get the  number of parts of a multi-part geometry.\n",
      "  aout[:] = out\n",
      "/opt/conda/lib/python3.7/site-packages/geopandas/_vectorized.py:142: ShapelyDeprecationWarning: __len__ for multi-part geometries is deprecated and will be removed in Shapely 2.0. Check the length of the `geoms` property instead to get the  number of parts of a multi-part geometry.\n",
      "  aout[:] = out\n",
      "/opt/conda/lib/python3.7/site-packages/geopandas/_vectorized.py:142: ShapelyDeprecationWarning: __len__ for multi-part geometries is deprecated and will be removed in Shapely 2.0. Check the length of the `geoms` property instead to get the  number of parts of a multi-part geometry.\n",
      "  aout[:] = out\n",
      "/opt/conda/lib/python3.7/site-packages/geopandas/_vectorized.py:142: ShapelyDeprecationWarning: __len__ for multi-part geometries is deprecated and will be removed in Shapely 2.0. Check the length of the `geoms` property instead to get the  number of parts of a multi-part geometry.\n",
      "  aout[:] = out\n",
      "/opt/conda/lib/python3.7/site-packages/geopandas/_vectorized.py:142: ShapelyDeprecationWarning: __len__ for multi-part geometries is deprecated and will be removed in Shapely 2.0. Check the length of the `geoms` property instead to get the  number of parts of a multi-part geometry.\n",
      "  aout[:] = out\n",
      "/opt/conda/lib/python3.7/site-packages/geopandas/_vectorized.py:142: ShapelyDeprecationWarning: __len__ for multi-part geometries is deprecated and will be removed in Shapely 2.0. Check the length of the `geoms` property instead to get the  number of parts of a multi-part geometry.\n",
      "  aout[:] = out\n",
      "/opt/conda/lib/python3.7/site-packages/geopandas/_vectorized.py:142: ShapelyDeprecationWarning: __len__ for multi-part geometries is deprecated and will be removed in Shapely 2.0. Check the length of the `geoms` property instead to get the  number of parts of a multi-part geometry.\n",
      "  aout[:] = out\n",
      "/opt/conda/lib/python3.7/site-packages/geopandas/_vectorized.py:142: ShapelyDeprecationWarning: __len__ for multi-part geometries is deprecated and will be removed in Shapely 2.0. Check the length of the `geoms` property instead to get the  number of parts of a multi-part geometry.\n",
      "  aout[:] = out\n",
      "/opt/conda/lib/python3.7/site-packages/geopandas/_vectorized.py:142: ShapelyDeprecationWarning: __len__ for multi-part geometries is deprecated and will be removed in Shapely 2.0. Check the length of the `geoms` property instead to get the  number of parts of a multi-part geometry.\n",
      "  aout[:] = out\n",
      "/opt/conda/lib/python3.7/site-packages/geopandas/_vectorized.py:142: ShapelyDeprecationWarning: __len__ for multi-part geometries is deprecated and will be removed in Shapely 2.0. Check the length of the `geoms` property instead to get the  number of parts of a multi-part geometry.\n",
      "  aout[:] = out\n",
      "/opt/conda/lib/python3.7/site-packages/geopandas/_vectorized.py:142: ShapelyDeprecationWarning: __len__ for multi-part geometries is deprecated and will be removed in Shapely 2.0. Check the length of the `geoms` property instead to get the  number of parts of a multi-part geometry.\n",
      "  aout[:] = out\n",
      "/opt/conda/lib/python3.7/site-packages/geopandas/_vectorized.py:142: ShapelyDeprecationWarning: __len__ for multi-part geometries is deprecated and will be removed in Shapely 2.0. Check the length of the `geoms` property instead to get the  number of parts of a multi-part geometry.\n",
      "  aout[:] = out\n",
      "/opt/conda/lib/python3.7/site-packages/geopandas/_vectorized.py:142: ShapelyDeprecationWarning: __len__ for multi-part geometries is deprecated and will be removed in Shapely 2.0. Check the length of the `geoms` property instead to get the  number of parts of a multi-part geometry.\n",
      "  aout[:] = out\n",
      "/opt/conda/lib/python3.7/site-packages/geopandas/_vectorized.py:142: ShapelyDeprecationWarning: __len__ for multi-part geometries is deprecated and will be removed in Shapely 2.0. Check the length of the `geoms` property instead to get the  number of parts of a multi-part geometry.\n",
      "  aout[:] = out\n",
      "/opt/conda/lib/python3.7/site-packages/geopandas/_vectorized.py:142: ShapelyDeprecationWarning: __len__ for multi-part geometries is deprecated and will be removed in Shapely 2.0. Check the length of the `geoms` property instead to get the  number of parts of a multi-part geometry.\n",
      "  aout[:] = out\n",
      "/opt/conda/lib/python3.7/site-packages/geopandas/_vectorized.py:142: ShapelyDeprecationWarning: __len__ for multi-part geometries is deprecated and will be removed in Shapely 2.0. Check the length of the `geoms` property instead to get the  number of parts of a multi-part geometry.\n",
      "  aout[:] = out\n",
      "/opt/conda/lib/python3.7/site-packages/geopandas/_vectorized.py:142: ShapelyDeprecationWarning: __len__ for multi-part geometries is deprecated and will be removed in Shapely 2.0. Check the length of the `geoms` property instead to get the  number of parts of a multi-part geometry.\n",
      "  aout[:] = out\n",
      "/opt/conda/lib/python3.7/site-packages/geopandas/_vectorized.py:142: ShapelyDeprecationWarning: __len__ for multi-part geometries is deprecated and will be removed in Shapely 2.0. Check the length of the `geoms` property instead to get the  number of parts of a multi-part geometry.\n",
      "  aout[:] = out\n",
      "/opt/conda/lib/python3.7/site-packages/geopandas/_vectorized.py:142: ShapelyDeprecationWarning: __len__ for multi-part geometries is deprecated and will be removed in Shapely 2.0. Check the length of the `geoms` property instead to get the  number of parts of a multi-part geometry.\n",
      "  aout[:] = out\n",
      "/opt/conda/lib/python3.7/site-packages/geopandas/_vectorized.py:142: ShapelyDeprecationWarning: __len__ for multi-part geometries is deprecated and will be removed in Shapely 2.0. Check the length of the `geoms` property instead to get the  number of parts of a multi-part geometry.\n",
      "  aout[:] = out\n",
      "/opt/conda/lib/python3.7/site-packages/geopandas/_vectorized.py:142: ShapelyDeprecationWarning: __len__ for multi-part geometries is deprecated and will be removed in Shapely 2.0. Check the length of the `geoms` property instead to get the  number of parts of a multi-part geometry.\n",
      "  aout[:] = out\n",
      "/opt/conda/lib/python3.7/site-packages/geopandas/_vectorized.py:142: ShapelyDeprecationWarning: __len__ for multi-part geometries is deprecated and will be removed in Shapely 2.0. Check the length of the `geoms` property instead to get the  number of parts of a multi-part geometry.\n",
      "  aout[:] = out\n",
      "/opt/conda/lib/python3.7/site-packages/geopandas/_vectorized.py:142: ShapelyDeprecationWarning: __len__ for multi-part geometries is deprecated and will be removed in Shapely 2.0. Check the length of the `geoms` property instead to get the  number of parts of a multi-part geometry.\n",
      "  aout[:] = out\n",
      "/opt/conda/lib/python3.7/site-packages/geopandas/_vectorized.py:142: ShapelyDeprecationWarning: __len__ for multi-part geometries is deprecated and will be removed in Shapely 2.0. Check the length of the `geoms` property instead to get the  number of parts of a multi-part geometry.\n",
      "  aout[:] = out\n",
      "/opt/conda/lib/python3.7/site-packages/geopandas/_vectorized.py:142: ShapelyDeprecationWarning: __len__ for multi-part geometries is deprecated and will be removed in Shapely 2.0. Check the length of the `geoms` property instead to get the  number of parts of a multi-part geometry.\n",
      "  aout[:] = out\n",
      "/opt/conda/lib/python3.7/site-packages/geopandas/_vectorized.py:142: ShapelyDeprecationWarning: __len__ for multi-part geometries is deprecated and will be removed in Shapely 2.0. Check the length of the `geoms` property instead to get the  number of parts of a multi-part geometry.\n",
      "  aout[:] = out\n",
      "/opt/conda/lib/python3.7/site-packages/geopandas/_vectorized.py:142: ShapelyDeprecationWarning: __len__ for multi-part geometries is deprecated and will be removed in Shapely 2.0. Check the length of the `geoms` property instead to get the  number of parts of a multi-part geometry.\n",
      "  aout[:] = out\n",
      "/opt/conda/lib/python3.7/site-packages/geopandas/_vectorized.py:142: ShapelyDeprecationWarning: __len__ for multi-part geometries is deprecated and will be removed in Shapely 2.0. Check the length of the `geoms` property instead to get the  number of parts of a multi-part geometry.\n",
      "  aout[:] = out\n",
      "/opt/conda/lib/python3.7/site-packages/geopandas/_vectorized.py:142: ShapelyDeprecationWarning: __len__ for multi-part geometries is deprecated and will be removed in Shapely 2.0. Check the length of the `geoms` property instead to get the  number of parts of a multi-part geometry.\n",
      "  aout[:] = out\n",
      "/opt/conda/lib/python3.7/site-packages/geopandas/_vectorized.py:142: ShapelyDeprecationWarning: __len__ for multi-part geometries is deprecated and will be removed in Shapely 2.0. Check the length of the `geoms` property instead to get the  number of parts of a multi-part geometry.\n",
      "  aout[:] = out\n",
      "/opt/conda/lib/python3.7/site-packages/geopandas/_vectorized.py:142: ShapelyDeprecationWarning: __len__ for multi-part geometries is deprecated and will be removed in Shapely 2.0. Check the length of the `geoms` property instead to get the  number of parts of a multi-part geometry.\n",
      "  aout[:] = out\n",
      "/opt/conda/lib/python3.7/site-packages/geopandas/_vectorized.py:142: ShapelyDeprecationWarning: __len__ for multi-part geometries is deprecated and will be removed in Shapely 2.0. Check the length of the `geoms` property instead to get the  number of parts of a multi-part geometry.\n",
      "  aout[:] = out\n",
      "/opt/conda/lib/python3.7/site-packages/geopandas/_vectorized.py:142: ShapelyDeprecationWarning: __len__ for multi-part geometries is deprecated and will be removed in Shapely 2.0. Check the length of the `geoms` property instead to get the  number of parts of a multi-part geometry.\n",
      "  aout[:] = out\n",
      "/opt/conda/lib/python3.7/site-packages/geopandas/_vectorized.py:142: ShapelyDeprecationWarning: __len__ for multi-part geometries is deprecated and will be removed in Shapely 2.0. Check the length of the `geoms` property instead to get the  number of parts of a multi-part geometry.\n",
      "  aout[:] = out\n",
      "/opt/conda/lib/python3.7/site-packages/geopandas/_vectorized.py:142: ShapelyDeprecationWarning: __len__ for multi-part geometries is deprecated and will be removed in Shapely 2.0. Check the length of the `geoms` property instead to get the  number of parts of a multi-part geometry.\n",
      "  aout[:] = out\n",
      "/opt/conda/lib/python3.7/site-packages/geopandas/_vectorized.py:142: ShapelyDeprecationWarning: __len__ for multi-part geometries is deprecated and will be removed in Shapely 2.0. Check the length of the `geoms` property instead to get the  number of parts of a multi-part geometry.\n",
      "  aout[:] = out\n",
      "/opt/conda/lib/python3.7/site-packages/geopandas/_vectorized.py:142: ShapelyDeprecationWarning: __len__ for multi-part geometries is deprecated and will be removed in Shapely 2.0. Check the length of the `geoms` property instead to get the  number of parts of a multi-part geometry.\n",
      "  aout[:] = out\n",
      "/opt/conda/lib/python3.7/site-packages/geopandas/_vectorized.py:142: ShapelyDeprecationWarning: __len__ for multi-part geometries is deprecated and will be removed in Shapely 2.0. Check the length of the `geoms` property instead to get the  number of parts of a multi-part geometry.\n",
      "  aout[:] = out\n",
      "/opt/conda/lib/python3.7/site-packages/geopandas/_vectorized.py:142: ShapelyDeprecationWarning: __len__ for multi-part geometries is deprecated and will be removed in Shapely 2.0. Check the length of the `geoms` property instead to get the  number of parts of a multi-part geometry.\n",
      "  aout[:] = out\n",
      "/opt/conda/lib/python3.7/site-packages/geopandas/_vectorized.py:142: ShapelyDeprecationWarning: __len__ for multi-part geometries is deprecated and will be removed in Shapely 2.0. Check the length of the `geoms` property instead to get the  number of parts of a multi-part geometry.\n",
      "  aout[:] = out\n",
      "/opt/conda/lib/python3.7/site-packages/geopandas/_vectorized.py:142: ShapelyDeprecationWarning: __len__ for multi-part geometries is deprecated and will be removed in Shapely 2.0. Check the length of the `geoms` property instead to get the  number of parts of a multi-part geometry.\n",
      "  aout[:] = out\n",
      "/opt/conda/lib/python3.7/site-packages/geopandas/_vectorized.py:142: ShapelyDeprecationWarning: __len__ for multi-part geometries is deprecated and will be removed in Shapely 2.0. Check the length of the `geoms` property instead to get the  number of parts of a multi-part geometry.\n",
      "  aout[:] = out\n",
      "/opt/conda/lib/python3.7/site-packages/geopandas/_vectorized.py:142: ShapelyDeprecationWarning: __len__ for multi-part geometries is deprecated and will be removed in Shapely 2.0. Check the length of the `geoms` property instead to get the  number of parts of a multi-part geometry.\n",
      "  aout[:] = out\n",
      "/opt/conda/lib/python3.7/site-packages/geopandas/_vectorized.py:142: ShapelyDeprecationWarning: __len__ for multi-part geometries is deprecated and will be removed in Shapely 2.0. Check the length of the `geoms` property instead to get the  number of parts of a multi-part geometry.\n",
      "  aout[:] = out\n",
      "/opt/conda/lib/python3.7/site-packages/geopandas/_vectorized.py:142: ShapelyDeprecationWarning: __len__ for multi-part geometries is deprecated and will be removed in Shapely 2.0. Check the length of the `geoms` property instead to get the  number of parts of a multi-part geometry.\n",
      "  aout[:] = out\n",
      "/opt/conda/lib/python3.7/site-packages/geopandas/_vectorized.py:142: ShapelyDeprecationWarning: __len__ for multi-part geometries is deprecated and will be removed in Shapely 2.0. Check the length of the `geoms` property instead to get the  number of parts of a multi-part geometry.\n",
      "  aout[:] = out\n",
      "/opt/conda/lib/python3.7/site-packages/geopandas/_vectorized.py:142: ShapelyDeprecationWarning: __len__ for multi-part geometries is deprecated and will be removed in Shapely 2.0. Check the length of the `geoms` property instead to get the  number of parts of a multi-part geometry.\n",
      "  aout[:] = out\n",
      "/opt/conda/lib/python3.7/site-packages/geopandas/_vectorized.py:142: ShapelyDeprecationWarning: __len__ for multi-part geometries is deprecated and will be removed in Shapely 2.0. Check the length of the `geoms` property instead to get the  number of parts of a multi-part geometry.\n",
      "  aout[:] = out\n",
      "/opt/conda/lib/python3.7/site-packages/geopandas/_vectorized.py:142: ShapelyDeprecationWarning: __len__ for multi-part geometries is deprecated and will be removed in Shapely 2.0. Check the length of the `geoms` property instead to get the  number of parts of a multi-part geometry.\n",
      "  aout[:] = out\n",
      "/opt/conda/lib/python3.7/site-packages/geopandas/_vectorized.py:142: ShapelyDeprecationWarning: __len__ for multi-part geometries is deprecated and will be removed in Shapely 2.0. Check the length of the `geoms` property instead to get the  number of parts of a multi-part geometry.\n",
      "  aout[:] = out\n",
      "/opt/conda/lib/python3.7/site-packages/geopandas/_vectorized.py:142: ShapelyDeprecationWarning: __len__ for multi-part geometries is deprecated and will be removed in Shapely 2.0. Check the length of the `geoms` property instead to get the  number of parts of a multi-part geometry.\n",
      "  aout[:] = out\n",
      "/opt/conda/lib/python3.7/site-packages/geopandas/_vectorized.py:142: ShapelyDeprecationWarning: __len__ for multi-part geometries is deprecated and will be removed in Shapely 2.0. Check the length of the `geoms` property instead to get the  number of parts of a multi-part geometry.\n",
      "  aout[:] = out\n"
     ]
    }
   ],
   "source": [
    "produce_datasets(matched[3:], asb_metadata, sonar_md_all[3:], ctx, creds)"
   ]
  },
  {
   "cell_type": "code",
   "execution_count": null,
   "id": "40db921e-009b-4729-8c37-c60fd547a199",
   "metadata": {},
   "outputs": [],
   "source": []
  },
  {
   "cell_type": "code",
   "execution_count": null,
   "id": "79509559-afc8-494d-aa81-b01a4c73f0f0",
   "metadata": {},
   "outputs": [],
   "source": []
  },
  {
   "cell_type": "code",
   "execution_count": 44,
   "id": "5e769bbf-1e96-42ae-b616-7337eb816846",
   "metadata": {},
   "outputs": [
    {
     "name": "stdout",
     "output_type": "stream",
     "text": [
      "ArraySchema(\n",
      "  domain=Domain(*[\n",
      "    Dim(name='ping_number', domain=(0, 5925), tile=10, dtype='uint64', filters=FilterList([PositiveDeltaFilter(window=-1), RleFilter(), ZstdFilter(level=16), ])),\n",
      "    Dim(name='beam_number', domain=(0, 399), tile=400, dtype='uint64', filters=FilterList([ByteShuffleFilter(), RleFilter(), ZstdFilter(level=16), ])),\n",
      "  ]),\n",
      "  attrs=[\n",
      "    Attr(name='X', dtype='float64', var=False, nullable=False, filters=FilterList([ZstdFilter(level=16), ])),\n",
      "    Attr(name='Y', dtype='float64', var=False, nullable=False, filters=FilterList([ZstdFilter(level=16), ])),\n",
      "    Attr(name='Z', dtype='float32', var=False, nullable=False, filters=FilterList([ZstdFilter(level=16), ])),\n",
      "    Attr(name='timestamp', dtype='datetime64[ns]', var=False, nullable=False, filters=FilterList([ZstdFilter(level=16), ])),\n",
      "    Attr(name='across_track', dtype='float32', var=False, nullable=False, filters=FilterList([ZstdFilter(level=16), ])),\n",
      "    Attr(name='along_track', dtype='float32', var=False, nullable=False, filters=FilterList([ZstdFilter(level=16), ])),\n",
      "    Attr(name='travel_time', dtype='float32', var=False, nullable=False, filters=FilterList([ZstdFilter(level=16), ])),\n",
      "    Attr(name='beam_angle', dtype='float32', var=False, nullable=False, filters=FilterList([ZstdFilter(level=16), ])),\n",
      "    Attr(name='beam_angle_forward', dtype='float32', var=False, nullable=False, filters=FilterList([ZstdFilter(level=16), ])),\n",
      "    Attr(name='vertical_error', dtype='float32', var=False, nullable=False, filters=FilterList([ZstdFilter(level=16), ])),\n",
      "    Attr(name='horizontal_error', dtype='float32', var=False, nullable=False, filters=FilterList([ZstdFilter(level=16), ])),\n",
      "    Attr(name='sector_number', dtype='uint8', var=False, nullable=False, filters=FilterList([RleFilter(), ZstdFilter(level=16), ])),\n",
      "    Attr(name='beam_flags', dtype='uint8', var=False, nullable=False, filters=FilterList([RleFilter(), ZstdFilter(level=16), ])),\n",
      "    Attr(name='ping_flags', dtype='uint8', var=False, nullable=False, filters=FilterList([RleFilter(), ZstdFilter(level=16), ])),\n",
      "    Attr(name='tide_corrector', dtype='float32', var=False, nullable=False, filters=FilterList([ZstdFilter(level=16), ])),\n",
      "    Attr(name='depth_corrector', dtype='float32', var=False, nullable=False, filters=FilterList([ZstdFilter(level=16), ])),\n",
      "    Attr(name='heading', dtype='float32', var=False, nullable=False, filters=FilterList([ZstdFilter(level=16), ])),\n",
      "    Attr(name='pitch', dtype='float32', var=False, nullable=False, filters=FilterList([ZstdFilter(level=16), ])),\n",
      "    Attr(name='roll', dtype='float32', var=False, nullable=False, filters=FilterList([ZstdFilter(level=16), ])),\n",
      "    Attr(name='heave', dtype='float32', var=False, nullable=False, filters=FilterList([ZstdFilter(level=16), ])),\n",
      "    Attr(name='course', dtype='float32', var=False, nullable=False, filters=FilterList([ZstdFilter(level=16), ])),\n",
      "    Attr(name='speed', dtype='float32', var=False, nullable=False, filters=FilterList([ZstdFilter(level=16), ])),\n",
      "    Attr(name='height', dtype='float32', var=False, nullable=False, filters=FilterList([ZstdFilter(level=16), ])),\n",
      "    Attr(name='separation', dtype='float32', var=False, nullable=False, filters=FilterList([ZstdFilter(level=16), ])),\n",
      "    Attr(name='gps_tide_corrector', dtype='float32', var=False, nullable=False, filters=FilterList([ZstdFilter(level=16), ])),\n",
      "    Attr(name='centre_beam', dtype='uint8', var=False, nullable=False, filters=FilterList([RleFilter(), ZstdFilter(level=16), ])),\n",
      "    Attr(name='region_code', dtype='<U0', var=True, nullable=False, filters=FilterList([ZstdFilter(level=16), ])),\n",
      "  ],\n",
      "  cell_order='row-major',\n",
      "  tile_order='row-major',\n",
      "  capacity=100000,\n",
      "  sparse=False,\n",
      ")\n",
      "\n"
     ]
    }
   ],
   "source": [
    "test_uri = \"s3://ausseabed-pl019-ingested-data/L2B/Bunurong_MNP/0002_20170922_013002_ShipName/ga_ausseabed_f7daffc9-a94d-467d-b104-04b3a4327239_bathymetry.tiledb/\"\n",
    "with tiledb.open(test_uri, ctx=ctx) as test_ds:\n",
    "    print(test_ds.schema)"
   ]
  },
  {
   "cell_type": "code",
   "execution_count": null,
   "id": "71cc5d72-b763-4925-9d88-d4bae3ea7264",
   "metadata": {},
   "outputs": [],
   "source": []
  },
  {
   "cell_type": "code",
   "execution_count": null,
   "id": "7d77232a-e4ae-491f-b394-e7c9597e13e8",
   "metadata": {},
   "outputs": [],
   "source": []
  },
  {
   "cell_type": "code",
   "execution_count": 40,
   "id": "4c17635c-abe2-4f16-855e-fac19ef032ef",
   "metadata": {},
   "outputs": [
    {
     "data": {
      "text/plain": [
       "'s3://ausseabed-pl019-provided-data/DeakinUniversity/Bunurong_MNP/gsf/0000_20170614_002956_Yolla.gsf'"
      ]
     },
     "execution_count": 40,
     "metadata": {},
     "output_type": "execute_result"
    }
   ],
   "source": [
    "f\"s3://{non_empty_files[0]}\""
   ]
  },
  {
   "cell_type": "code",
   "execution_count": 42,
   "id": "e8bad207-cedd-4fc5-9f1d-298d60490b7e",
   "metadata": {},
   "outputs": [],
   "source": [
    "stream, stream_length = retrieve_stream(f\"s3://{non_empty_files[0]}\", creds.access_key, creds.secret_key)"
   ]
  },
  {
   "cell_type": "code",
   "execution_count": 43,
   "id": "ed549420-0425-4c28-a2df-0e4cdcd8272f",
   "metadata": {},
   "outputs": [
    {
     "data": {
      "text/plain": [
       "5382464"
      ]
     },
     "execution_count": 43,
     "metadata": {},
     "output_type": "execute_result"
    }
   ],
   "source": [
    "stream_length"
   ]
  },
  {
   "cell_type": "code",
   "execution_count": 44,
   "id": "108a3251-a245-471a-976c-df30ccf1e846",
   "metadata": {},
   "outputs": [],
   "source": [
    "finfo = reap.file_info(stream, stream_length)"
   ]
  },
  {
   "cell_type": "code",
   "execution_count": 45,
   "id": "0c670472-5dbc-4a09-9136-7743c1c0c74b",
   "metadata": {},
   "outputs": [
    {
     "data": {
      "text/plain": [
       "[FileRecordIndex(record_type=<RecordTypes.GSF_HEADER: 1>, record_count=1),\n",
       " FileRecordIndex(record_type=<RecordTypes.GSF_SWATH_BATHYMETRY_PING: 2>, record_count=278),\n",
       " FileRecordIndex(record_type=<RecordTypes.GSF_SOUND_VELOCITY_PROFILE: 3>, record_count=1),\n",
       " FileRecordIndex(record_type=<RecordTypes.GSF_PROCESSING_PARAMETERS: 4>, record_count=1),\n",
       " FileRecordIndex(record_type=<RecordTypes.GSF_SENSOR_PARAMETERS: 5>, record_count=0),\n",
       " FileRecordIndex(record_type=<RecordTypes.GSF_COMMENT: 6>, record_count=3),\n",
       " FileRecordIndex(record_type=<RecordTypes.GSF_HISTORY: 7>, record_count=1),\n",
       " FileRecordIndex(record_type=<RecordTypes.GSF_NAVIGATION_ERROR: 8>, record_count=0),\n",
       " FileRecordIndex(record_type=<RecordTypes.GSF_SWATH_BATHY_SUMMARY: 9>, record_count=1),\n",
       " FileRecordIndex(record_type=<RecordTypes.GSF_SINGLE_BEAM_PING: 10>, record_count=0),\n",
       " FileRecordIndex(record_type=<RecordTypes.GSF_HV_NAVIGATION_ERROR: 11>, record_count=0),\n",
       " FileRecordIndex(record_type=<RecordTypes.GSF_ATTITUDE: 12>, record_count=269)]"
      ]
     },
     "execution_count": 45,
     "metadata": {},
     "output_type": "execute_result"
    }
   ],
   "source": [
    "finfo"
   ]
  },
  {
   "cell_type": "code",
   "execution_count": 47,
   "id": "b97fb8cf-a75f-42d7-bbd4-c579f4383aec",
   "metadata": {},
   "outputs": [],
   "source": [
    "ping_df = process_pings(non_empty_files[0], creds, \"\")"
   ]
  },
  {
   "cell_type": "code",
   "execution_count": 48,
   "id": "fbffb8d4-4a1e-478b-9cc6-08a1938e212b",
   "metadata": {},
   "outputs": [
    {
     "data": {
      "text/html": [
       "<div>\n",
       "<style scoped>\n",
       "    .dataframe tbody tr th:only-of-type {\n",
       "        vertical-align: middle;\n",
       "    }\n",
       "\n",
       "    .dataframe tbody tr th {\n",
       "        vertical-align: top;\n",
       "    }\n",
       "\n",
       "    .dataframe thead th {\n",
       "        text-align: right;\n",
       "    }\n",
       "</style>\n",
       "<table border=\"1\" class=\"dataframe\">\n",
       "  <thead>\n",
       "    <tr style=\"text-align: right;\">\n",
       "      <th></th>\n",
       "      <th>X</th>\n",
       "      <th>Y</th>\n",
       "      <th>Z</th>\n",
       "      <th>across_track</th>\n",
       "      <th>along_track</th>\n",
       "      <th>beam_angle</th>\n",
       "      <th>beam_angle_forward</th>\n",
       "      <th>beam_flags</th>\n",
       "      <th>beam_number</th>\n",
       "      <th>centre_beam</th>\n",
       "      <th>...</th>\n",
       "      <th>roll</th>\n",
       "      <th>sector_number</th>\n",
       "      <th>separation</th>\n",
       "      <th>speed</th>\n",
       "      <th>tide_corrector</th>\n",
       "      <th>timestamp</th>\n",
       "      <th>travel_time</th>\n",
       "      <th>vertical_error</th>\n",
       "      <th>ping_number</th>\n",
       "      <th>region_code</th>\n",
       "    </tr>\n",
       "  </thead>\n",
       "  <tbody>\n",
       "    <tr>\n",
       "      <th>0</th>\n",
       "      <td>145.635012</td>\n",
       "      <td>-38.679122</td>\n",
       "      <td>13.443</td>\n",
       "      <td>-32.046001</td>\n",
       "      <td>0.0686</td>\n",
       "      <td>68.750000</td>\n",
       "      <td>90.926666</td>\n",
       "      <td>1</td>\n",
       "      <td>0</td>\n",
       "      <td>0</td>\n",
       "      <td>...</td>\n",
       "      <td>-4.14</td>\n",
       "      <td>0.0</td>\n",
       "      <td>0.0</td>\n",
       "      <td>4.81</td>\n",
       "      <td>-2.23</td>\n",
       "      <td>2017-06-14 00:29:56.287</td>\n",
       "      <td>0.04709</td>\n",
       "      <td>0.104</td>\n",
       "      <td>0</td>\n",
       "      <td>R787230185107377</td>\n",
       "    </tr>\n",
       "    <tr>\n",
       "      <th>1</th>\n",
       "      <td>145.635014</td>\n",
       "      <td>-38.679122</td>\n",
       "      <td>13.447</td>\n",
       "      <td>-31.882000</td>\n",
       "      <td>0.0642</td>\n",
       "      <td>68.629997</td>\n",
       "      <td>90.926666</td>\n",
       "      <td>1</td>\n",
       "      <td>1</td>\n",
       "      <td>0</td>\n",
       "      <td>...</td>\n",
       "      <td>-4.14</td>\n",
       "      <td>0.0</td>\n",
       "      <td>0.0</td>\n",
       "      <td>4.81</td>\n",
       "      <td>-2.23</td>\n",
       "      <td>2017-06-14 00:29:56.287</td>\n",
       "      <td>0.04690</td>\n",
       "      <td>0.104</td>\n",
       "      <td>0</td>\n",
       "      <td>R787230185107378</td>\n",
       "    </tr>\n",
       "    <tr>\n",
       "      <th>2</th>\n",
       "      <td>145.635016</td>\n",
       "      <td>-38.679122</td>\n",
       "      <td>13.444</td>\n",
       "      <td>-31.721001</td>\n",
       "      <td>0.0672</td>\n",
       "      <td>68.519997</td>\n",
       "      <td>90.926666</td>\n",
       "      <td>1</td>\n",
       "      <td>2</td>\n",
       "      <td>0</td>\n",
       "      <td>...</td>\n",
       "      <td>-4.14</td>\n",
       "      <td>0.0</td>\n",
       "      <td>0.0</td>\n",
       "      <td>4.81</td>\n",
       "      <td>-2.23</td>\n",
       "      <td>2017-06-14 00:29:56.287</td>\n",
       "      <td>0.04671</td>\n",
       "      <td>0.104</td>\n",
       "      <td>0</td>\n",
       "      <td>R787230185107378</td>\n",
       "    </tr>\n",
       "    <tr>\n",
       "      <th>3</th>\n",
       "      <td>145.635018</td>\n",
       "      <td>-38.679121</td>\n",
       "      <td>13.441</td>\n",
       "      <td>-31.562000</td>\n",
       "      <td>0.0641</td>\n",
       "      <td>68.410004</td>\n",
       "      <td>90.926666</td>\n",
       "      <td>1</td>\n",
       "      <td>3</td>\n",
       "      <td>0</td>\n",
       "      <td>...</td>\n",
       "      <td>-4.14</td>\n",
       "      <td>0.0</td>\n",
       "      <td>0.0</td>\n",
       "      <td>4.81</td>\n",
       "      <td>-2.23</td>\n",
       "      <td>2017-06-14 00:29:56.287</td>\n",
       "      <td>0.04651</td>\n",
       "      <td>0.104</td>\n",
       "      <td>0</td>\n",
       "      <td>R787230185107378</td>\n",
       "    </tr>\n",
       "    <tr>\n",
       "      <th>4</th>\n",
       "      <td>145.635019</td>\n",
       "      <td>-38.679121</td>\n",
       "      <td>13.444</td>\n",
       "      <td>-31.396999</td>\n",
       "      <td>0.0658</td>\n",
       "      <td>68.290001</td>\n",
       "      <td>90.926666</td>\n",
       "      <td>1</td>\n",
       "      <td>4</td>\n",
       "      <td>0</td>\n",
       "      <td>...</td>\n",
       "      <td>-4.14</td>\n",
       "      <td>0.0</td>\n",
       "      <td>0.0</td>\n",
       "      <td>4.81</td>\n",
       "      <td>-2.23</td>\n",
       "      <td>2017-06-14 00:29:56.287</td>\n",
       "      <td>0.04632</td>\n",
       "      <td>0.104</td>\n",
       "      <td>0</td>\n",
       "      <td>R787230185107386</td>\n",
       "    </tr>\n",
       "    <tr>\n",
       "      <th>...</th>\n",
       "      <td>...</td>\n",
       "      <td>...</td>\n",
       "      <td>...</td>\n",
       "      <td>...</td>\n",
       "      <td>...</td>\n",
       "      <td>...</td>\n",
       "      <td>...</td>\n",
       "      <td>...</td>\n",
       "      <td>...</td>\n",
       "      <td>...</td>\n",
       "      <td>...</td>\n",
       "      <td>...</td>\n",
       "      <td>...</td>\n",
       "      <td>...</td>\n",
       "      <td>...</td>\n",
       "      <td>...</td>\n",
       "      <td>...</td>\n",
       "      <td>...</td>\n",
       "      <td>...</td>\n",
       "      <td>...</td>\n",
       "      <td>...</td>\n",
       "    </tr>\n",
       "    <tr>\n",
       "      <th>395</th>\n",
       "      <td>145.635507</td>\n",
       "      <td>-38.678471</td>\n",
       "      <td>13.014</td>\n",
       "      <td>30.000000</td>\n",
       "      <td>-0.8348</td>\n",
       "      <td>-61.090000</td>\n",
       "      <td>89.849998</td>\n",
       "      <td>0</td>\n",
       "      <td>395</td>\n",
       "      <td>0</td>\n",
       "      <td>...</td>\n",
       "      <td>-2.79</td>\n",
       "      <td>0.0</td>\n",
       "      <td>0.0</td>\n",
       "      <td>5.00</td>\n",
       "      <td>-1.95</td>\n",
       "      <td>2017-06-14 00:30:17.643</td>\n",
       "      <td>0.04434</td>\n",
       "      <td>0.102</td>\n",
       "      <td>277</td>\n",
       "      <td>R787230182777032</td>\n",
       "    </tr>\n",
       "    <tr>\n",
       "      <th>396</th>\n",
       "      <td>145.635509</td>\n",
       "      <td>-38.678470</td>\n",
       "      <td>13.034</td>\n",
       "      <td>30.200001</td>\n",
       "      <td>-0.8377</td>\n",
       "      <td>-61.209999</td>\n",
       "      <td>89.849998</td>\n",
       "      <td>0</td>\n",
       "      <td>396</td>\n",
       "      <td>0</td>\n",
       "      <td>...</td>\n",
       "      <td>-2.79</td>\n",
       "      <td>0.0</td>\n",
       "      <td>0.0</td>\n",
       "      <td>5.00</td>\n",
       "      <td>-1.95</td>\n",
       "      <td>2017-06-14 00:30:17.643</td>\n",
       "      <td>0.04459</td>\n",
       "      <td>0.102</td>\n",
       "      <td>277</td>\n",
       "      <td>R787230182777040</td>\n",
       "    </tr>\n",
       "    <tr>\n",
       "      <th>397</th>\n",
       "      <td>145.635511</td>\n",
       "      <td>-38.678469</td>\n",
       "      <td>13.073</td>\n",
       "      <td>30.430000</td>\n",
       "      <td>-0.8467</td>\n",
       "      <td>-61.317501</td>\n",
       "      <td>89.849998</td>\n",
       "      <td>0</td>\n",
       "      <td>397</td>\n",
       "      <td>0</td>\n",
       "      <td>...</td>\n",
       "      <td>-2.79</td>\n",
       "      <td>0.0</td>\n",
       "      <td>0.0</td>\n",
       "      <td>5.00</td>\n",
       "      <td>-1.95</td>\n",
       "      <td>2017-06-14 00:30:17.643</td>\n",
       "      <td>0.04489</td>\n",
       "      <td>0.102</td>\n",
       "      <td>277</td>\n",
       "      <td>R787230182777040</td>\n",
       "    </tr>\n",
       "    <tr>\n",
       "      <th>398</th>\n",
       "      <td>145.635512</td>\n",
       "      <td>-38.678469</td>\n",
       "      <td>13.033</td>\n",
       "      <td>30.501112</td>\n",
       "      <td>-0.8431</td>\n",
       "      <td>-61.432499</td>\n",
       "      <td>89.849998</td>\n",
       "      <td>0</td>\n",
       "      <td>398</td>\n",
       "      <td>0</td>\n",
       "      <td>...</td>\n",
       "      <td>-2.79</td>\n",
       "      <td>0.0</td>\n",
       "      <td>0.0</td>\n",
       "      <td>5.00</td>\n",
       "      <td>-1.95</td>\n",
       "      <td>2017-06-14 00:30:17.643</td>\n",
       "      <td>0.04495</td>\n",
       "      <td>0.102</td>\n",
       "      <td>277</td>\n",
       "      <td>R787230182777040</td>\n",
       "    </tr>\n",
       "    <tr>\n",
       "      <th>399</th>\n",
       "      <td>145.635514</td>\n",
       "      <td>-38.678468</td>\n",
       "      <td>13.062</td>\n",
       "      <td>30.709999</td>\n",
       "      <td>-0.8500</td>\n",
       "      <td>-61.542500</td>\n",
       "      <td>89.849998</td>\n",
       "      <td>0</td>\n",
       "      <td>399</td>\n",
       "      <td>0</td>\n",
       "      <td>...</td>\n",
       "      <td>-2.79</td>\n",
       "      <td>0.0</td>\n",
       "      <td>0.0</td>\n",
       "      <td>5.00</td>\n",
       "      <td>-1.95</td>\n",
       "      <td>2017-06-14 00:30:17.643</td>\n",
       "      <td>0.04522</td>\n",
       "      <td>0.102</td>\n",
       "      <td>277</td>\n",
       "      <td>R787230182777016</td>\n",
       "    </tr>\n",
       "  </tbody>\n",
       "</table>\n",
       "<p>111200 rows × 29 columns</p>\n",
       "</div>"
      ],
      "text/plain": [
       "              X          Y       Z  across_track  along_track  beam_angle  \\\n",
       "0    145.635012 -38.679122  13.443    -32.046001       0.0686   68.750000   \n",
       "1    145.635014 -38.679122  13.447    -31.882000       0.0642   68.629997   \n",
       "2    145.635016 -38.679122  13.444    -31.721001       0.0672   68.519997   \n",
       "3    145.635018 -38.679121  13.441    -31.562000       0.0641   68.410004   \n",
       "4    145.635019 -38.679121  13.444    -31.396999       0.0658   68.290001   \n",
       "..          ...        ...     ...           ...          ...         ...   \n",
       "395  145.635507 -38.678471  13.014     30.000000      -0.8348  -61.090000   \n",
       "396  145.635509 -38.678470  13.034     30.200001      -0.8377  -61.209999   \n",
       "397  145.635511 -38.678469  13.073     30.430000      -0.8467  -61.317501   \n",
       "398  145.635512 -38.678469  13.033     30.501112      -0.8431  -61.432499   \n",
       "399  145.635514 -38.678468  13.062     30.709999      -0.8500  -61.542500   \n",
       "\n",
       "     beam_angle_forward  beam_flags  beam_number  centre_beam  ...  roll  \\\n",
       "0             90.926666           1            0            0  ... -4.14   \n",
       "1             90.926666           1            1            0  ... -4.14   \n",
       "2             90.926666           1            2            0  ... -4.14   \n",
       "3             90.926666           1            3            0  ... -4.14   \n",
       "4             90.926666           1            4            0  ... -4.14   \n",
       "..                  ...         ...          ...          ...  ...   ...   \n",
       "395           89.849998           0          395            0  ... -2.79   \n",
       "396           89.849998           0          396            0  ... -2.79   \n",
       "397           89.849998           0          397            0  ... -2.79   \n",
       "398           89.849998           0          398            0  ... -2.79   \n",
       "399           89.849998           0          399            0  ... -2.79   \n",
       "\n",
       "     sector_number  separation  speed  tide_corrector               timestamp  \\\n",
       "0              0.0         0.0   4.81           -2.23 2017-06-14 00:29:56.287   \n",
       "1              0.0         0.0   4.81           -2.23 2017-06-14 00:29:56.287   \n",
       "2              0.0         0.0   4.81           -2.23 2017-06-14 00:29:56.287   \n",
       "3              0.0         0.0   4.81           -2.23 2017-06-14 00:29:56.287   \n",
       "4              0.0         0.0   4.81           -2.23 2017-06-14 00:29:56.287   \n",
       "..             ...         ...    ...             ...                     ...   \n",
       "395            0.0         0.0   5.00           -1.95 2017-06-14 00:30:17.643   \n",
       "396            0.0         0.0   5.00           -1.95 2017-06-14 00:30:17.643   \n",
       "397            0.0         0.0   5.00           -1.95 2017-06-14 00:30:17.643   \n",
       "398            0.0         0.0   5.00           -1.95 2017-06-14 00:30:17.643   \n",
       "399            0.0         0.0   5.00           -1.95 2017-06-14 00:30:17.643   \n",
       "\n",
       "     travel_time  vertical_error  ping_number       region_code  \n",
       "0        0.04709           0.104            0  R787230185107377  \n",
       "1        0.04690           0.104            0  R787230185107378  \n",
       "2        0.04671           0.104            0  R787230185107378  \n",
       "3        0.04651           0.104            0  R787230185107378  \n",
       "4        0.04632           0.104            0  R787230185107386  \n",
       "..           ...             ...          ...               ...  \n",
       "395      0.04434           0.102          277  R787230182777032  \n",
       "396      0.04459           0.102          277  R787230182777040  \n",
       "397      0.04489           0.102          277  R787230182777040  \n",
       "398      0.04495           0.102          277  R787230182777040  \n",
       "399      0.04522           0.102          277  R787230182777016  \n",
       "\n",
       "[111200 rows x 29 columns]"
      ]
     },
     "execution_count": 48,
     "metadata": {},
     "output_type": "execute_result"
    }
   ],
   "source": [
    "ping_df"
   ]
  },
  {
   "cell_type": "code",
   "execution_count": 49,
   "id": "6e9e0f56-1d75-49db-b05c-cceaac0967a6",
   "metadata": {},
   "outputs": [],
   "source": [
    "def ping_beam_domain(ping_tile_size=10, beam_tile_size=400, ping_domain_upper=1_000_000_000, beam_domain_upper=1_000_000_000):\n",
    "    \"\"\"Set the array domain using ping and beam numbers as the axes.\"\"\"\n",
    "    ping_dim = tiledb.Dim(\n",
    "        \"ping_number\",\n",
    "        domain=(0, ping_domain_upper),\n",
    "        tile=ping_tile_size,\n",
    "        dtype=numpy.uint64,\n",
    "        filters=[\n",
    "            tiledb.PositiveDeltaFilter(),\n",
    "            tiledb.RleFilter(),\n",
    "            tiledb.ZstdFilter(level=16),\n",
    "        ],\n",
    "    )\n",
    "\n",
    "    beam_dim = tiledb.Dim(\n",
    "        \"beam_number\",\n",
    "        domain=(0, beam_domain_upper),\n",
    "        tile=beam_tile_size,\n",
    "        dtype=numpy.uint64,\n",
    "        filters=[\n",
    "            tiledb.ByteShuffleFilter(),\n",
    "            tiledb.RleFilter(),\n",
    "            tiledb.ZstdFilter(level=16),\n",
    "        ],\n",
    "    )\n",
    "\n",
    "    domain = tiledb.Domain(ping_dim, beam_dim)\n",
    "\n",
    "    return domain"
   ]
  },
  {
   "cell_type": "code",
   "execution_count": 50,
   "id": "0b186acb-64a3-44c4-8a3d-d9dfa2ab971f",
   "metadata": {},
   "outputs": [
    {
     "data": {
      "text/plain": [
       "277"
      ]
     },
     "execution_count": 50,
     "metadata": {},
     "output_type": "execute_result"
    }
   ],
   "source": [
    "ping_df.ping_number.max()"
   ]
  },
  {
   "cell_type": "code",
   "execution_count": 51,
   "id": "064d9f51-3162-45f5-8a7d-0d948a401724",
   "metadata": {},
   "outputs": [
    {
     "data": {
      "text/plain": [
       "399"
      ]
     },
     "execution_count": 51,
     "metadata": {},
     "output_type": "execute_result"
    }
   ],
   "source": [
    "ping_df.beam_number.max()"
   ]
  },
  {
   "cell_type": "code",
   "execution_count": null,
   "id": "e2aa260c-2e5e-4310-8546-8233c4296a18",
   "metadata": {},
   "outputs": [],
   "source": []
  },
  {
   "cell_type": "code",
   "execution_count": 61,
   "id": "6ec5f8b1-d1ea-4702-8613-a3ff3226f657",
   "metadata": {},
   "outputs": [],
   "source": [
    "pings2 = []\n",
    "for uri_name in non_empty_files:\n",
    "    with fs.open(uri_name.replace(\".gsf\", \".json\")) as src:\n",
    "        gsf_md = json.loads(src.read())\n",
    "        pings2.append(gsf_md[\"file_record_types\"][\"GSF_SWATH_BATHYMETRY_PING\"][\"record_count\"])"
   ]
  },
  {
   "cell_type": "code",
   "execution_count": 62,
   "id": "7ea6c9ce-fce3-4f8b-91f9-12a4ac5a1afc",
   "metadata": {},
   "outputs": [],
   "source": [
    "pings2_np = numpy.array(pings2)"
   ]
  },
  {
   "cell_type": "code",
   "execution_count": 63,
   "id": "e9c4fe70-78fa-4669-b526-ccdf2ae44cf2",
   "metadata": {},
   "outputs": [
    {
     "data": {
      "text/plain": [
       "13"
      ]
     },
     "execution_count": 63,
     "metadata": {},
     "output_type": "execute_result"
    }
   ],
   "source": [
    "pings2_np.argmax()"
   ]
  },
  {
   "cell_type": "code",
   "execution_count": 64,
   "id": "1704f38f-4006-4a8d-a3cb-fd3764e12910",
   "metadata": {},
   "outputs": [
    {
     "data": {
      "text/plain": [
       "(174,)"
      ]
     },
     "execution_count": 64,
     "metadata": {},
     "output_type": "execute_result"
    }
   ],
   "source": [
    "pings2_np.shape"
   ]
  },
  {
   "cell_type": "code",
   "execution_count": 66,
   "id": "88b98e39-447e-43f5-bf43-6403b3695bcd",
   "metadata": {},
   "outputs": [
    {
     "data": {
      "text/plain": [
       "93"
      ]
     },
     "execution_count": 66,
     "metadata": {},
     "output_type": "execute_result"
    }
   ],
   "source": [
    "pings2_np.min()"
   ]
  },
  {
   "cell_type": "code",
   "execution_count": 67,
   "id": "7a709531-cde7-4496-8829-b8621da66368",
   "metadata": {},
   "outputs": [
    {
     "data": {
      "text/plain": [
       "array([  278, 15328,   119, 10639, 13818, 16229,  6221,  7893, 15630,\n",
       "        5926, 14079, 16665, 37414, 41846, 16239,  9013, 18824, 17553,\n",
       "       18952, 14249, 16668,  6251, 14633, 18505,  6135, 12486, 17500,\n",
       "        6177, 13995, 18292,  6170, 11862, 18670,  5709, 13085, 19132,\n",
       "        5151, 11421, 18451,  4780, 12020, 19721,  4164, 11086, 19431,\n",
       "        3816, 10901, 19089,  3811, 10591, 10589,  7867, 10445,  9949,\n",
       "       11544,  4394,  6229, 17703,    93, 14781,  2999, 11234,  7601,\n",
       "        3552, 10865,  6240,  5724, 10857,  6076,   376, 10811,  7507,\n",
       "        9983,  7516, 10426,  8531,   409,  8109,  9757,  6656, 10188,\n",
       "        1418, 10313,   570, 11312,  7124,  9981,  6827,  8854,  6531,\n",
       "        7541,  7620,  8088,  6994,  7295,  8210,  6903,  7431,  6056,\n",
       "        7931,  8753,  6894,  7589,  8148,  8587,  7273,  7574, 16704,\n",
       "        8468, 15462,  7512,  7558,  7927,  7301,  7069, 15590,  7389,\n",
       "       14516,  6970, 15200,  6822,  8382,  7429, 13239,  6635,  8953,\n",
       "        7014, 26611,  6468,  8216,  6841,  8939,  6422,  8194,  6527,\n",
       "        8438,  6404,  8160,  6347,  8356,  6229,  8032,  5984,  8144,\n",
       "        6145,  8192,  5789,  8148,  6109,  7917,  5541,  4703,  5880,\n",
       "        1664,  5405,   804,  6411,  3144,  5793,  6315,  5487,  5390,\n",
       "        5947,  5382,  5670,  5313, 14337,  4219,  1416,  1301,  1389,\n",
       "        1133,  3681,  1595])"
      ]
     },
     "execution_count": 67,
     "metadata": {},
     "output_type": "execute_result"
    }
   ],
   "source": [
    "pings2_np"
   ]
  },
  {
   "cell_type": "code",
   "execution_count": null,
   "id": "e8838c8e-eecf-4670-9558-5b988d87979b",
   "metadata": {},
   "outputs": [],
   "source": []
  },
  {
   "cell_type": "code",
   "execution_count": null,
   "id": "54f02d6a-3035-463e-94f0-1bfd9a2c10e3",
   "metadata": {},
   "outputs": [],
   "source": []
  },
  {
   "cell_type": "code",
   "execution_count": 68,
   "id": "7769f6e1-c053-4266-a13b-85cfbeb94b42",
   "metadata": {},
   "outputs": [],
   "source": [
    "process_pings(non_empty_files[1], creds, required_attributes, outdir_uri, ctx)"
   ]
  },
  {
   "cell_type": "code",
   "execution_count": null,
   "id": "3391858d-5a50-4cfc-b68c-90cdb83aaa51",
   "metadata": {},
   "outputs": [],
   "source": []
  },
  {
   "cell_type": "code",
   "execution_count": null,
   "id": "905c34cc-9134-4134-98aa-ea7fe6a70d37",
   "metadata": {},
   "outputs": [],
   "source": []
  },
  {
   "cell_type": "code",
   "execution_count": 30,
   "id": "d5fdd489-0ad0-40f5-a782-83b111365576",
   "metadata": {},
   "outputs": [
    {
     "data": {
      "text/plain": [
       "(64, 0)"
      ]
     },
     "execution_count": 30,
     "metadata": {},
     "output_type": "execute_result"
    }
   ],
   "source": [
    "# filter large files\n",
    "size_limit_mb = 500\n",
    "manageable_files, large_files = filter_large_files(non_empty_files, size_limit_mb)\n",
    "len(manageable_files), len(large_files)"
   ]
  },
  {
   "cell_type": "code",
   "execution_count": null,
   "id": "8b0a311e-1704-48dc-b6ac-c2f59d8f4ede",
   "metadata": {},
   "outputs": [],
   "source": []
  },
  {
   "cell_type": "code",
   "execution_count": null,
   "id": "6da5e953-335c-424f-8265-45d4e4cb7927",
   "metadata": {},
   "outputs": [],
   "source": []
  },
  {
   "cell_type": "code",
   "execution_count": 31,
   "id": "42a45273-6691-4680-bd8d-241acfffe31d",
   "metadata": {},
   "outputs": [],
   "source": [
    "intermediate_bathy_uris = [tmpdir + \"bathymetry/\" + Path(fname).with_suffix(\".tiledb\").name for fname in manageable_files]\n",
    "intermediate_freq_uris = [tmpdir + \"cell-frequency/\" + Path(fname).stem + \".tiledb\" for fname in manageable_files]\n",
    "intermediate_bathy_large_uris = [tmpdir + \"bathymetry/\" + Path(fname).with_suffix(\".tiledb\").name for fname in large_files]\n",
    "intermediate_freq_large_uris = [tmpdir + \"cell-frequency/\" + Path(fname).stem + \".tiledb\" for fname in large_files]"
   ]
  },
  {
   "cell_type": "code",
   "execution_count": null,
   "id": "d1a66024-7965-44a4-8889-5036c69d239f",
   "metadata": {},
   "outputs": [],
   "source": []
  },
  {
   "cell_type": "code",
   "execution_count": null,
   "id": "edfa4a16-8781-4557-bc16-4ad91aa97a6c",
   "metadata": {},
   "outputs": [],
   "source": []
  },
  {
   "cell_type": "code",
   "execution_count": 32,
   "id": "fd20eb1b-89f9-4a2c-83b8-03a3fbf45c03",
   "metadata": {},
   "outputs": [],
   "source": [
    "# create the arrays to hold the bathymetry (required multi-node and multi-proc ingestion)\n",
    "for fname_uri in intermediate_bathy_uris:\n",
    "    storage.create_mbes_array(fname_uri, required_attributes, ctx)"
   ]
  },
  {
   "cell_type": "code",
   "execution_count": 33,
   "id": "04a9e611-b1dd-4821-8450-92bddac5e624",
   "metadata": {},
   "outputs": [],
   "source": [
    "for fname_uri in intermediate_bathy_large_uris:\n",
    "    storage.create_mbes_array(fname_uri, required_attributes, ctx)"
   ]
  },
  {
   "cell_type": "code",
   "execution_count": null,
   "id": "8a3e77a0-3844-4b9e-a12f-587e1140127e",
   "metadata": {},
   "outputs": [],
   "source": []
  },
  {
   "cell_type": "code",
   "execution_count": null,
   "id": "844c2626-4f59-4385-be77-47cfc6e674bb",
   "metadata": {},
   "outputs": [],
   "source": []
  },
  {
   "cell_type": "code",
   "execution_count": 34,
   "id": "d8267136-9aa3-420c-b261-a32c50441f93",
   "metadata": {},
   "outputs": [],
   "source": [
    "sonar_metadata = get_sonar_metadata(manageable_files[0].replace(\".gsf\", \".json\"))"
   ]
  },
  {
   "cell_type": "code",
   "execution_count": null,
   "id": "753a72aa-0f11-46ab-8f34-307928baab60",
   "metadata": {},
   "outputs": [],
   "source": []
  },
  {
   "cell_type": "code",
   "execution_count": null,
   "id": "31d7b8ad-b40c-4943-9dcf-4732b67801f5",
   "metadata": {},
   "outputs": [],
   "source": []
  },
  {
   "cell_type": "code",
   "execution_count": 36,
   "id": "c2326011-1030-4e0f-b5f4-50431e13bf3c",
   "metadata": {},
   "outputs": [
    {
     "data": {
      "text/plain": [
       "64"
      ]
     },
     "execution_count": 36,
     "metadata": {},
     "output_type": "execute_result"
    }
   ],
   "source": [
    "n_partitions = 1\n",
    "files_blocks = scatter(manageable_files, n_partitions)\n",
    "tmp_bathy_blocks = scatter(intermediate_bathy_uris, n_partitions)\n",
    "tmp_freq_blocks = scatter(intermediate_freq_uris, n_partitions)\n",
    "len(files_blocks[0])"
   ]
  },
  {
   "cell_type": "code",
   "execution_count": 37,
   "id": "cd4c87ef-92fc-4a7d-8731-1ccc950959db",
   "metadata": {},
   "outputs": [],
   "source": [
    "processing_node_limit = 40\n",
    "ping_slice_step = 2000\n",
    "slices_per_node = 4\n",
    "local_tasks_limit = 1\n",
    "local_ping_slice_step = 2000\n",
    "local_slices_per_task = 4"
   ]
  },
  {
   "cell_type": "code",
   "execution_count": null,
   "id": "d0113a62-ba50-4c0d-badf-c5a727ac1c06",
   "metadata": {},
   "outputs": [],
   "source": []
  },
  {
   "cell_type": "code",
   "execution_count": 38,
   "id": "78978853-98ce-4f4f-a62b-7c69d6652713",
   "metadata": {},
   "outputs": [],
   "source": [
    "# GSF processing"
   ]
  },
  {
   "cell_type": "code",
   "execution_count": 39,
   "id": "221df928-5eb4-43f0-9649-f60ca0da9dc1",
   "metadata": {},
   "outputs": [],
   "source": [
    "reduce_task0 = ingest_gsfs_singular(files_blocks[0], processing_node_limit, ping_slice_step, slices_per_node, tmp_bathy_blocks[0], tmp_freq_blocks[0])"
   ]
  },
  {
   "cell_type": "code",
   "execution_count": 40,
   "id": "a9733be6-1242-4116-8afa-d82234414ca3",
   "metadata": {},
   "outputs": [
    {
     "data": {
      "application/vnd.jupyter.widget-view+json": {
       "model_id": "d4fba5f26ebe4b80b73c0feadb2ff5f0",
       "version_major": 2,
       "version_minor": 0
      },
      "text/plain": [
       "Visualize(value='{\"nodes\": [\"f630c1b0-2303-4b35-bb26-e1ad208f37d5\", \"d962d54d-02fb-4cc9-bb5a-dd9e3b45d5ce\", \"9…"
      ]
     },
     "metadata": {},
     "output_type": "display_data"
    }
   ],
   "source": [
    "reduce_task0.visualize()"
   ]
  },
  {
   "cell_type": "code",
   "execution_count": 41,
   "id": "43300d3c-1a0d-4114-b5c7-61975436483d",
   "metadata": {},
   "outputs": [],
   "source": [
    "start_end_timestamps0 = reduce_task0.compute()"
   ]
  },
  {
   "cell_type": "code",
   "execution_count": 43,
   "id": "b3dad907-a45d-4a78-869b-368de4a406f3",
   "metadata": {},
   "outputs": [
    {
     "data": {
      "text/plain": [
       "[datetime.datetime(2015, 5, 10, 10, 5, 27, 51000),\n",
       " datetime.datetime(2015, 5, 13, 0, 5, 24, 400000)]"
      ]
     },
     "execution_count": 43,
     "metadata": {},
     "output_type": "execute_result"
    }
   ],
   "source": [
    "start_end_timestamps0"
   ]
  },
  {
   "cell_type": "code",
   "execution_count": null,
   "id": "87d872bd-9552-45d2-b864-4be24ad27a30",
   "metadata": {},
   "outputs": [],
   "source": []
  },
  {
   "cell_type": "code",
   "execution_count": null,
   "id": "d12b05a4",
   "metadata": {},
   "outputs": [],
   "source": [
    "unfinished_bathy_uris = []\n",
    "finished_uris = []\n",
    "unfinished_freq_uris = []\n",
    "unfinished_gsf_files = []\n",
    "for i, fname_uri in enumerate(intermediate_bathy_uris):\n",
    "    if fs.exists(intermediate_freq_uris[i]):\n",
    "        finished_uris.append(fname_uri)\n",
    "        continue\n",
    "    unfinished_bathy_uris.append(fname_uri)\n",
    "    unfinished_freq_uris.append(intermediate_freq_uris[i])\n",
    "    #unfinished_gsf_files.append(\"ausseabed-pl019-provided-data/CSIRO/IN2018_V04/GSF/em710/\" + Path(fname_uri).stem + \".gsf\")\n",
    "    # TODO s3://ausseabed-pl019-ingested-data/L2/0224_Bioview_SS012000/ has subdirs\n",
    "    fs.rm(fname_uri, recursive=True)\n",
    "    storage.create_mbes_array(fname_uri, required_attributes, ctx)"
   ]
  },
  {
   "cell_type": "code",
   "execution_count": null,
   "id": "05a2209e",
   "metadata": {},
   "outputs": [],
   "source": [
    "len(finished_uris)"
   ]
  },
  {
   "cell_type": "code",
   "execution_count": null,
   "id": "67ec8cb7",
   "metadata": {},
   "outputs": [],
   "source": [
    "unfinished_gsf_files[0]"
   ]
  },
  {
   "cell_type": "code",
   "execution_count": null,
   "id": "bc90e2cc",
   "metadata": {},
   "outputs": [],
   "source": [
    "unfinished_bathy_uris[0]"
   ]
  },
  {
   "cell_type": "code",
   "execution_count": null,
   "id": "6a586a46",
   "metadata": {},
   "outputs": [],
   "source": [
    "local_tasks_limit = 10\n",
    "local_ping_slice_step = 2000\n",
    "local_slices_per_task = 2"
   ]
  },
  {
   "cell_type": "code",
   "execution_count": null,
   "id": "4066b9e6",
   "metadata": {},
   "outputs": [],
   "source": [
    "reduce_task_unfinished = ingest_gsfs_singular(unfinished_gsf_files, local_tasks_limit, local_ping_slice_step, local_slices_per_task, unfinished_bathy_uris, unfinished_freq_uris, local=True)"
   ]
  },
  {
   "cell_type": "code",
   "execution_count": null,
   "id": "db66dfca",
   "metadata": {},
   "outputs": [],
   "source": [
    "start_end_timestamps_unfinished = reduce_task_unfinished.compute()"
   ]
  },
  {
   "cell_type": "code",
   "execution_count": null,
   "id": "bedf9b8c",
   "metadata": {},
   "outputs": [],
   "source": []
  },
  {
   "cell_type": "code",
   "execution_count": null,
   "id": "6999a8b3",
   "metadata": {},
   "outputs": [],
   "source": [
    "timestamps_blocks = scatter(intermediate_bathy_uris, 10)\n",
    "(len(timestamps_blocks[0]), len(timestamps_blocks[-1]))"
   ]
  },
  {
   "cell_type": "code",
   "execution_count": null,
   "id": "1ff5414a",
   "metadata": {},
   "outputs": [],
   "source": [
    "timestamps_collect = []"
   ]
  },
  {
   "cell_type": "code",
   "execution_count": null,
   "id": "fb1165a8",
   "metadata": {},
   "outputs": [],
   "source": [
    "for timestamps_block in timestamps_blocks:\n",
    "    timestamps_tasks = []\n",
    "    for uri_fname in timestamps_block:\n",
    "        base_name = Path(uri_fname).stem\n",
    "        #uri_fname = f\"s3://{fname}\"\n",
    "        timestamp_task = Delayed(\"sixy6e/start_end_timestamps\", name=f\"{base_name}-start-end-timestamps\")(uri_fname, creds.access_key, creds.secret_key)\n",
    "        timestamps_tasks.append(timestamp_task)\n",
    "\n",
    "\n",
    "    reduce_task = Delayed(reduce_timestamps, \"reduce-timestamps\", local=True)(timestamps_tasks)\n",
    "    timestamps_collect.append(reduce_task.compute())"
   ]
  },
  {
   "cell_type": "code",
   "execution_count": null,
   "id": "2ee87e54",
   "metadata": {},
   "outputs": [],
   "source": [
    "final_start_end_timestamps = reduce_timestamps(timestamps_collect)"
   ]
  },
  {
   "cell_type": "code",
   "execution_count": null,
   "id": "c32a5e1d",
   "metadata": {},
   "outputs": [],
   "source": [
    "final_start_end_timestamps"
   ]
  },
  {
   "cell_type": "code",
   "execution_count": null,
   "id": "c67ce3e1-3371-4e12-a82e-470507919e3f",
   "metadata": {},
   "outputs": [],
   "source": []
  },
  {
   "cell_type": "code",
   "execution_count": 45,
   "id": "0ef51f57-9124-4120-96a2-3b2bd859a3dd",
   "metadata": {},
   "outputs": [
    {
     "data": {
      "text/plain": [
       "8"
      ]
     },
     "execution_count": 45,
     "metadata": {},
     "output_type": "execute_result"
    }
   ],
   "source": [
    "bathy_blocks = scatter(intermediate_bathy_uris, 8)\n",
    "len(bathy_blocks[0])"
   ]
  },
  {
   "cell_type": "code",
   "execution_count": 46,
   "id": "ccfd6e3a-0a2c-408a-930d-81076adf06cd",
   "metadata": {},
   "outputs": [],
   "source": [
    "ingest_tasks = []\n",
    "for block_id, bblock in enumerate(bathy_blocks):\n",
    "    task = Delayed(combine_tiledbs, name=f\"ingesting-block-{block_id}\", local=True)(bblock, array_uri, creds.access_key, creds.secret_key)\n",
    "    ingest_tasks.append(task)\n",
    "\n",
    "dummy_reducer = Delayed(dummy_reducer, name=\"dummy-reducer-ingester\", local=True)(ingest_tasks)"
   ]
  },
  {
   "cell_type": "code",
   "execution_count": 47,
   "id": "64222bbd-4f51-40c1-ab55-b0cde37766af",
   "metadata": {},
   "outputs": [],
   "source": [
    "ingested_result = dummy_reducer.compute()"
   ]
  },
  {
   "cell_type": "code",
   "execution_count": null,
   "id": "1007f375-3f33-42e4-8001-31893d1d908a",
   "metadata": {},
   "outputs": [],
   "source": []
  },
  {
   "cell_type": "code",
   "execution_count": null,
   "id": "deb1ddae-208e-422c-904c-567e9d8d3cf3",
   "metadata": {},
   "outputs": [],
   "source": []
  },
  {
   "cell_type": "code",
   "execution_count": 49,
   "id": "4d95d3b3-9e75-45ee-8d30-00121df238fa",
   "metadata": {},
   "outputs": [],
   "source": [
    "partitions = 5\n",
    "sub_partitions = 2"
   ]
  },
  {
   "cell_type": "code",
   "execution_count": 50,
   "id": "6f6ce6a4-fff9-4f9d-bf73-f2c41ea59e65",
   "metadata": {},
   "outputs": [
    {
     "data": {
      "text/plain": [
       "13"
      ]
     },
     "execution_count": 50,
     "metadata": {},
     "output_type": "execute_result"
    }
   ],
   "source": [
    "freq_blocks = scatter(intermediate_freq_uris, partitions)\n",
    "len(freq_blocks[0])"
   ]
  },
  {
   "cell_type": "code",
   "execution_count": 51,
   "id": "e225cde1-7a76-4db2-b0c0-b95f1f64ec99",
   "metadata": {},
   "outputs": [],
   "source": [
    "cell_freq_blocks_tmp_dir = tmpdir + \"cell-frequency-blocks-pass1/\""
   ]
  },
  {
   "cell_type": "code",
   "execution_count": 52,
   "id": "85c79f39-24c6-4eeb-b662-f10bef308c64",
   "metadata": {},
   "outputs": [],
   "source": [
    "tasks = []\n",
    "tasks_dict = {i: [] for i in range(partitions)}\n",
    "for i, freq_block in enumerate(freq_blocks):\n",
    "    sub_freq_blocks = scatter(freq_block, sub_partitions)\n",
    "    for j, sub_block in enumerate(sub_freq_blocks):\n",
    "        task_name = f\"combine-cell-freq_block-{i}_sub-block-{j}\"\n",
    "        out_uri = f\"{cell_freq_blocks_tmp_dir}cell-frequency-block-{i}-sub-block-{j}.tiledb\"\n",
    "        task = Delayed(load_and_concat, name=task_name, local=True)(sub_block, ctx, out_uri)\n",
    "        tasks.append(task)\n",
    "        if len(tasks_dict[i]):\n",
    "            task.depends_on(tasks_dict[i][-1])\n",
    "        tasks_dict[i].append(task)\n",
    "\n",
    "dummy_reducer = Delayed(dummy_reducer, name=\"dummy-reducer-ingester\", local=True)(tasks)"
   ]
  },
  {
   "cell_type": "code",
   "execution_count": 53,
   "id": "da27f0b4-5c81-4e5e-89c4-3943e7843114",
   "metadata": {},
   "outputs": [
    {
     "data": {
      "application/vnd.jupyter.widget-view+json": {
       "model_id": "aae06f98e64b4f34a0a88998216fd4d4",
       "version_major": 2,
       "version_minor": 0
      },
      "text/plain": [
       "Visualize(value='{\"nodes\": [\"9aa6794b-218b-48fb-b76a-d1175adc3158\", \"a4f7c298-4216-4b82-b6a3-378cd17f01ba\", \"2…"
      ]
     },
     "metadata": {},
     "output_type": "display_data"
    }
   ],
   "source": [
    "dummy_reducer.visualize()"
   ]
  },
  {
   "cell_type": "code",
   "execution_count": 54,
   "id": "8f6f6256-9f37-4fee-8cdf-d295e078515f",
   "metadata": {},
   "outputs": [],
   "source": [
    "freq_pass1_result = dummy_reducer.compute()"
   ]
  },
  {
   "cell_type": "code",
   "execution_count": null,
   "id": "6564386a-a6e1-4718-9210-b09796bd622a",
   "metadata": {},
   "outputs": [],
   "source": []
  },
  {
   "cell_type": "code",
   "execution_count": 55,
   "id": "3b468670-7eb7-4c70-bbf6-6a82df9b23ce",
   "metadata": {},
   "outputs": [
    {
     "data": {
      "text/plain": [
       "10"
      ]
     },
     "execution_count": 55,
     "metadata": {},
     "output_type": "execute_result"
    }
   ],
   "source": [
    "pass1_cell_freqs = fs.glob(cell_freq_blocks_tmp_dir + \"**.tiledb\")\n",
    "len(pass1_cell_freqs)"
   ]
  },
  {
   "cell_type": "code",
   "execution_count": null,
   "id": "c9286cbf-6051-4126-8a85-7f954db6635a",
   "metadata": {},
   "outputs": [],
   "source": []
  },
  {
   "cell_type": "code",
   "execution_count": 56,
   "id": "c40a5e29-4e10-4e37-b453-4d5c4be57307",
   "metadata": {},
   "outputs": [],
   "source": [
    "pass1_cell_freq_uris = [f\"s3://{fname}\" for fname in pass1_cell_freqs]"
   ]
  },
  {
   "cell_type": "code",
   "execution_count": 57,
   "id": "d43123fc-76ba-4b49-9e2c-4beca248f31d",
   "metadata": {},
   "outputs": [
    {
     "data": {
      "text/plain": [
       "[((0, 5777019),),\n",
       " ((0, 2232462),),\n",
       " ((0, 642704),),\n",
       " ((0, 376392),),\n",
       " ((0, 2428873),),\n",
       " ((0, 1204686),),\n",
       " ((0, 402589),),\n",
       " ((0, 549998),),\n",
       " ((0, 951183),),\n",
       " ((0, 2078189),)]"
      ]
     },
     "execution_count": 57,
     "metadata": {},
     "output_type": "execute_result"
    }
   ],
   "source": [
    "domains = []\n",
    "for p1_uri in pass1_cell_freq_uris:\n",
    "    with tiledb.open(p1_uri, ctx=ctx) as ds:\n",
    "        domains.append(ds.nonempty_domain())\n",
    "domains"
   ]
  },
  {
   "cell_type": "code",
   "execution_count": null,
   "id": "14f76a5f-b307-4ab5-9c0e-1ae33087370e",
   "metadata": {},
   "outputs": [],
   "source": []
  },
  {
   "cell_type": "code",
   "execution_count": 58,
   "id": "1b8017ea-391d-48bc-bf41-78e1ef3e2cbe",
   "metadata": {},
   "outputs": [],
   "source": [
    "partitions = 2\n",
    "sub_partitions = 1"
   ]
  },
  {
   "cell_type": "code",
   "execution_count": 59,
   "id": "4db77217-06b7-43aa-a878-91f102b702a3",
   "metadata": {},
   "outputs": [],
   "source": [
    "cell_freq_blocks_tmp_dir = tmpdir + \"cell-frequency-blocks-pass2/\""
   ]
  },
  {
   "cell_type": "code",
   "execution_count": 60,
   "id": "12a4c06a-959d-4a36-8c6c-bd09fb16694d",
   "metadata": {},
   "outputs": [],
   "source": [
    "freq_blocks = scatter(pass1_cell_freq_uris, partitions)"
   ]
  },
  {
   "cell_type": "code",
   "execution_count": 61,
   "id": "882bec90-fcfa-49b7-8ecc-d0c476ed0766",
   "metadata": {},
   "outputs": [
    {
     "data": {
      "text/plain": [
       "2"
      ]
     },
     "execution_count": 61,
     "metadata": {},
     "output_type": "execute_result"
    }
   ],
   "source": [
    "len(freq_blocks)"
   ]
  },
  {
   "cell_type": "code",
   "execution_count": 62,
   "id": "e0cb2063-5a7e-4148-85d2-3896e2daf085",
   "metadata": {},
   "outputs": [],
   "source": [
    "tasks = []\n",
    "tasks_dict = {i: [] for i in range(partitions)}\n",
    "for i, freq_block in enumerate(freq_blocks):\n",
    "    sub_freq_blocks = scatter(freq_block, sub_partitions)\n",
    "    for j, sub_block in enumerate(sub_freq_blocks):\n",
    "        task_name = f\"combine-cell-freq_block-{i}_sub-block-{j}\"\n",
    "        out_uri = f\"{cell_freq_blocks_tmp_dir}cell-frequency-block-{i}-sub-block-{j}.tiledb\"\n",
    "        task = Delayed(load_and_concat, name=task_name, local=True)(sub_block, ctx, out_uri)\n",
    "        tasks.append(task)\n",
    "        if len(tasks_dict[i]):\n",
    "            task.depends_on(tasks_dict[i][-1])\n",
    "        tasks_dict[i].append(task)\n",
    "\n",
    "dummy_reducer = Delayed(dummy_reducer, name=\"dummy-reducer-ingester\", local=True)(tasks)"
   ]
  },
  {
   "cell_type": "code",
   "execution_count": 63,
   "id": "25de1b0f-2840-4743-91b9-8d0a6dee7f4a",
   "metadata": {},
   "outputs": [],
   "source": [
    "freq_pass2_result = dummy_reducer.compute()"
   ]
  },
  {
   "cell_type": "code",
   "execution_count": null,
   "id": "171e2c90-3b2b-48c4-8b4b-effa540328f3",
   "metadata": {},
   "outputs": [],
   "source": []
  },
  {
   "cell_type": "code",
   "execution_count": 64,
   "id": "6c39dfa1-d354-4028-8d2d-d342ae85fd3d",
   "metadata": {},
   "outputs": [
    {
     "data": {
      "text/plain": [
       "2"
      ]
     },
     "execution_count": 64,
     "metadata": {},
     "output_type": "execute_result"
    }
   ],
   "source": [
    "pass2_cell_freqs = fs.glob(cell_freq_blocks_tmp_dir + \"**.tiledb\")\n",
    "len(pass2_cell_freqs)"
   ]
  },
  {
   "cell_type": "code",
   "execution_count": 67,
   "id": "a4ab4e52-12d4-4f7a-b6a2-c458fba7a101",
   "metadata": {},
   "outputs": [
    {
     "data": {
      "text/plain": [
       "2"
      ]
     },
     "execution_count": 67,
     "metadata": {},
     "output_type": "execute_result"
    }
   ],
   "source": [
    "pass2_cell_freq_uris = [f\"s3://{fname}\" for fname in pass2_cell_freqs]\n",
    "len(pass2_cell_freq_uris)"
   ]
  },
  {
   "cell_type": "code",
   "execution_count": 66,
   "id": "7ab6f60f-43ad-4339-be7f-67fcb10bf2e0",
   "metadata": {},
   "outputs": [
    {
     "data": {
      "text/plain": [
       "[((0, 11457454),), ((0, 5186649),)]"
      ]
     },
     "execution_count": 66,
     "metadata": {},
     "output_type": "execute_result"
    }
   ],
   "source": [
    "domains = []\n",
    "for p2_uri in pass2_cell_freq_uris:\n",
    "    with tiledb.open(p2_uri, ctx=ctx) as ds:\n",
    "        domains.append(ds.nonempty_domain())\n",
    "domains"
   ]
  },
  {
   "cell_type": "code",
   "execution_count": 69,
   "id": "ece7ada1-dfdb-4b3a-81fb-ba4b422d79f8",
   "metadata": {},
   "outputs": [],
   "source": [
    "load_and_concat(pass2_cell_freq_uris, ctx, soundings_cell_density_array_uri_15)"
   ]
  },
  {
   "cell_type": "code",
   "execution_count": null,
   "id": "fb568a16-7024-4443-8d89-42c6a646d915",
   "metadata": {},
   "outputs": [],
   "source": []
  },
  {
   "cell_type": "code",
   "execution_count": null,
   "id": "eb07ccc8-e4e7-46cd-ad82-6c9915e0dedd",
   "metadata": {},
   "outputs": [],
   "source": []
  },
  {
   "cell_type": "code",
   "execution_count": null,
   "id": "ec2eaec4-d53f-45df-ae96-f6fe25bbea35",
   "metadata": {},
   "outputs": [],
   "source": [
    "# sparse rhealpix version of cell frequency"
   ]
  },
  {
   "cell_type": "code",
   "execution_count": 70,
   "id": "6b4be288-c961-497d-a4db-9484349359e2",
   "metadata": {},
   "outputs": [],
   "source": [
    "index_filters = tiledb.FilterList([tiledb.ZstdFilter(level=16)])\n",
    "dims = [tiledb.Dim(f\"R{i}\", domain=(0, 8), dtype=\"uint8\", tile=1, filters=index_filters) for i in range(1, 16)]\n",
    "dim0 = tiledb.Dim(\"R0\", tile=None, dtype=\"ascii\", filters=index_filters)\n",
    "dims.insert(0, dim0)\n",
    "cell_freq_attributes = [tiledb.Attr(\"region_code\", dtype=str, filters=[tiledb.ZstdFilter(level=16)]), tiledb.Attr(\"count\", dtype=\"uint64\", filters=[tiledb.ZstdFilter(level=16)])]\n",
    "domain = tiledb.Domain(*dims)\n",
    "schema = tiledb.ArraySchema(domain=domain, sparse=True, attrs=cell_freq_attributes, cell_order=\"row-major\", tile_order=\"row-major\", capacity=100_000,allows_duplicates=True)"
   ]
  },
  {
   "cell_type": "code",
   "execution_count": 71,
   "id": "ffdcc1af-2020-4f9d-8354-b2df11465ba7",
   "metadata": {},
   "outputs": [],
   "source": [
    "with tiledb.scope_ctx(ctx):\n",
    "    tiledb.Array.create(soundings_cell_density_sparse_array_uri_15, schema)"
   ]
  },
  {
   "cell_type": "code",
   "execution_count": 72,
   "id": "e44ce62f-df8f-4a3d-aff3-ba470299f8bf",
   "metadata": {},
   "outputs": [
    {
     "data": {
      "text/plain": [
       "37177"
      ]
     },
     "execution_count": 72,
     "metadata": {},
     "output_type": "execute_result"
    }
   ],
   "source": [
    "with tiledb.open(soundings_cell_density_array_uri_15, ctx=ctx) as ds:\n",
    "    df = ds.df[:]\n",
    "    \n",
    "write_sparse_rhealpix_chunked(df, soundings_cell_density_sparse_array_uri_15, ctx, chunks=1000000)\n",
    "\n",
    "del df\n",
    "gc.collect()"
   ]
  },
  {
   "cell_type": "code",
   "execution_count": 73,
   "id": "2830c882-6167-455e-b3b7-544b50b41a6d",
   "metadata": {},
   "outputs": [
    {
     "data": {
      "text/plain": [
       "127"
      ]
     },
     "execution_count": 73,
     "metadata": {},
     "output_type": "execute_result"
    }
   ],
   "source": [
    "with tiledb.open(soundings_cell_density_array_uri_15, ctx=ctx) as ds:\n",
    "    df = ds.df[:]\n",
    "\n",
    "res12_df = reduce_resoltion(df, resolution=12, chunks=1000000)\n",
    "\n",
    "del df\n",
    "gc.collect()"
   ]
  },
  {
   "cell_type": "code",
   "execution_count": 74,
   "id": "a4320587-efce-4f8d-ae81-e20e812cd96d",
   "metadata": {},
   "outputs": [
    {
     "data": {
      "text/plain": [
       "16677792"
      ]
     },
     "execution_count": 74,
     "metadata": {},
     "output_type": "execute_result"
    }
   ],
   "source": [
    "res12_df[\"count\"].sum()"
   ]
  },
  {
   "cell_type": "code",
   "execution_count": null,
   "id": "8bdca098-db6b-4f45-aa38-5d7431310ef5",
   "metadata": {},
   "outputs": [],
   "source": []
  },
  {
   "cell_type": "code",
   "execution_count": 75,
   "id": "9050a5d9-58ea-4d73-acd3-38192b7f7685",
   "metadata": {},
   "outputs": [],
   "source": [
    "with tiledb.scope_ctx(ctx):\n",
    "    tiledb.Array.create(res12_out_uri_sparse, schema)"
   ]
  },
  {
   "cell_type": "code",
   "execution_count": 76,
   "id": "b8b8d3a5-a796-422a-aa28-7f80eeff8e4b",
   "metadata": {},
   "outputs": [],
   "source": [
    "write_sparse_rhealpix_chunked(res12_df, res12_out_uri_sparse, ctx, chunks=100000)"
   ]
  },
  {
   "cell_type": "code",
   "execution_count": 77,
   "id": "e85e24f7-fa5f-4057-a6da-ec59cbaa397f",
   "metadata": {},
   "outputs": [],
   "source": [
    "write_chunked(res12_df, res12_out_uri_dense, ctx, 100000)"
   ]
  },
  {
   "cell_type": "code",
   "execution_count": null,
   "id": "8f67f810-8907-4390-b5b6-4ea81a9cd6f4",
   "metadata": {},
   "outputs": [],
   "source": []
  },
  {
   "cell_type": "code",
   "execution_count": 78,
   "id": "558ab753-af2a-4f2c-bd89-9a2b9750c7bd",
   "metadata": {},
   "outputs": [],
   "source": [
    "res12_df[\"geometry\"] = rhealpix.rhealpix_geo_boundary(res12_df.region_code.values)"
   ]
  },
  {
   "cell_type": "code",
   "execution_count": 79,
   "id": "69cf8459-a146-4d71-9d15-1a79986ae348",
   "metadata": {},
   "outputs": [],
   "source": [
    "gdf = geopandas.GeoDataFrame(res12_df, crs=\"epsg:4326\")"
   ]
  },
  {
   "cell_type": "code",
   "execution_count": 80,
   "id": "b5729c33-f00d-4a31-87af-a7ab648ab9f5",
   "metadata": {},
   "outputs": [
    {
     "data": {
      "text/html": [
       "<div>\n",
       "<style scoped>\n",
       "    .dataframe tbody tr th:only-of-type {\n",
       "        vertical-align: middle;\n",
       "    }\n",
       "\n",
       "    .dataframe tbody tr th {\n",
       "        vertical-align: top;\n",
       "    }\n",
       "\n",
       "    .dataframe thead th {\n",
       "        text-align: right;\n",
       "    }\n",
       "</style>\n",
       "<table border=\"1\" class=\"dataframe\">\n",
       "  <thead>\n",
       "    <tr style=\"text-align: right;\">\n",
       "      <th></th>\n",
       "      <th>region_code</th>\n",
       "      <th>count</th>\n",
       "      <th>geometry</th>\n",
       "    </tr>\n",
       "  </thead>\n",
       "  <tbody>\n",
       "    <tr>\n",
       "      <th>0</th>\n",
       "      <td>R785882555282</td>\n",
       "      <td>1</td>\n",
       "      <td>POLYGON ((149.99983 -37.90878, 150.00000 -37.9...</td>\n",
       "    </tr>\n",
       "    <tr>\n",
       "      <th>1</th>\n",
       "      <td>R785882555285</td>\n",
       "      <td>2</td>\n",
       "      <td>POLYGON ((149.99983 -37.90897, 150.00000 -37.9...</td>\n",
       "    </tr>\n",
       "    <tr>\n",
       "      <th>2</th>\n",
       "      <td>R785882555288</td>\n",
       "      <td>1</td>\n",
       "      <td>POLYGON ((149.99983 -37.90915, 150.00000 -37.9...</td>\n",
       "    </tr>\n",
       "    <tr>\n",
       "      <th>3</th>\n",
       "      <td>R785882555522</td>\n",
       "      <td>5</td>\n",
       "      <td>POLYGON ((149.99983 -37.90933, 150.00000 -37.9...</td>\n",
       "    </tr>\n",
       "    <tr>\n",
       "      <th>4</th>\n",
       "      <td>R785882555525</td>\n",
       "      <td>4</td>\n",
       "      <td>POLYGON ((149.99983 -37.90951, 150.00000 -37.9...</td>\n",
       "    </tr>\n",
       "    <tr>\n",
       "      <th>...</th>\n",
       "      <td>...</td>\n",
       "      <td>...</td>\n",
       "      <td>...</td>\n",
       "    </tr>\n",
       "    <tr>\n",
       "      <th>4032631</th>\n",
       "      <td>S422426446233</td>\n",
       "      <td>11</td>\n",
       "      <td>POLYGON ((-90.00281 -75.90987, -90.00225 -75.9...</td>\n",
       "    </tr>\n",
       "    <tr>\n",
       "      <th>4032632</th>\n",
       "      <td>S422426446236</td>\n",
       "      <td>10</td>\n",
       "      <td>POLYGON ((-90.00225 -75.91004, -90.00168 -75.9...</td>\n",
       "    </tr>\n",
       "    <tr>\n",
       "      <th>4032633</th>\n",
       "      <td>S422426446260</td>\n",
       "      <td>10</td>\n",
       "      <td>POLYGON ((-90.00112 -75.91040, -90.00112 -75.9...</td>\n",
       "    </tr>\n",
       "    <tr>\n",
       "      <th>4032634</th>\n",
       "      <td>S422426446263</td>\n",
       "      <td>8</td>\n",
       "      <td>POLYGON ((-90.00112 -75.91040, -90.00056 -75.9...</td>\n",
       "    </tr>\n",
       "    <tr>\n",
       "      <th>4032635</th>\n",
       "      <td>S422426446266</td>\n",
       "      <td>4</td>\n",
       "      <td>POLYGON ((-90.00000 -75.91075, -90.00000 -75.9...</td>\n",
       "    </tr>\n",
       "  </tbody>\n",
       "</table>\n",
       "<p>4032636 rows × 3 columns</p>\n",
       "</div>"
      ],
      "text/plain": [
       "           region_code  count  \\\n",
       "0        R785882555282      1   \n",
       "1        R785882555285      2   \n",
       "2        R785882555288      1   \n",
       "3        R785882555522      5   \n",
       "4        R785882555525      4   \n",
       "...                ...    ...   \n",
       "4032631  S422426446233     11   \n",
       "4032632  S422426446236     10   \n",
       "4032633  S422426446260     10   \n",
       "4032634  S422426446263      8   \n",
       "4032635  S422426446266      4   \n",
       "\n",
       "                                                  geometry  \n",
       "0        POLYGON ((149.99983 -37.90878, 150.00000 -37.9...  \n",
       "1        POLYGON ((149.99983 -37.90897, 150.00000 -37.9...  \n",
       "2        POLYGON ((149.99983 -37.90915, 150.00000 -37.9...  \n",
       "3        POLYGON ((149.99983 -37.90933, 150.00000 -37.9...  \n",
       "4        POLYGON ((149.99983 -37.90951, 150.00000 -37.9...  \n",
       "...                                                    ...  \n",
       "4032631  POLYGON ((-90.00281 -75.90987, -90.00225 -75.9...  \n",
       "4032632  POLYGON ((-90.00225 -75.91004, -90.00168 -75.9...  \n",
       "4032633  POLYGON ((-90.00112 -75.91040, -90.00112 -75.9...  \n",
       "4032634  POLYGON ((-90.00112 -75.91040, -90.00056 -75.9...  \n",
       "4032635  POLYGON ((-90.00000 -75.91075, -90.00000 -75.9...  \n",
       "\n",
       "[4032636 rows x 3 columns]"
      ]
     },
     "execution_count": 80,
     "metadata": {},
     "output_type": "execute_result"
    }
   ],
   "source": [
    "gdf"
   ]
  },
  {
   "cell_type": "code",
   "execution_count": null,
   "id": "f5b949a7-2287-4c69-ad2f-40ada6c1ce50",
   "metadata": {},
   "outputs": [],
   "source": []
  },
  {
   "cell_type": "code",
   "execution_count": null,
   "id": "45e96a72-9ffe-4114-9f70-fd1dffa3a1dc",
   "metadata": {},
   "outputs": [],
   "source": []
  },
  {
   "cell_type": "code",
   "execution_count": 81,
   "id": "5e8c8316-60d8-4b98-a5ad-939a8b227e82",
   "metadata": {},
   "outputs": [],
   "source": [
    "with fiona.Env(session=AWSSession(aws_access_key_id=creds.access_key, aws_secret_access_key=creds.secret_key)):\n",
    "    gdf.to_file(soundings_cell_density_uri, driver=\"GeoJSONSeq\", coordinate_precision=11)"
   ]
  },
  {
   "cell_type": "code",
   "execution_count": null,
   "id": "d9760694-de91-42cd-94fb-2145b1830c40",
   "metadata": {},
   "outputs": [],
   "source": [
    "dissolved = geopandas.GeoDataFrame(geometry.dissolve(gdf), crs=\"epsg:4326\")"
   ]
  },
  {
   "cell_type": "code",
   "execution_count": null,
   "id": "63cf1d6e-3ea6-4ae9-b46c-be218d93176f",
   "metadata": {},
   "outputs": [],
   "source": [
    "with fiona.Env(session=AWSSession(aws_access_key_id=creds.access_key, aws_secret_access_key=creds.secret_key)):\n",
    "    dissolved.to_file(coverage_uri, driver=\"GeoJSONSeq\", coordinate_precision=11)"
   ]
  },
  {
   "cell_type": "code",
   "execution_count": null,
   "id": "d00647a5-ea38-4fc9-bfd7-aa51b3a80929",
   "metadata": {},
   "outputs": [],
   "source": []
  },
  {
   "cell_type": "code",
   "execution_count": null,
   "id": "a4022a27-1aaa-4600-9c51-2c9fd9fe3312",
   "metadata": {},
   "outputs": [],
   "source": [
    "(res12_df[\"count\"].max(), res12_df[\"count\"].min())"
   ]
  },
  {
   "cell_type": "code",
   "execution_count": null,
   "id": "2ff17590-cf32-4653-b568-16bc6241ec62",
   "metadata": {},
   "outputs": [],
   "source": []
  },
  {
   "cell_type": "code",
   "execution_count": null,
   "id": "4142f999-d684-4b59-8e18-1a3c04a68a7d",
   "metadata": {},
   "outputs": [],
   "source": []
  },
  {
   "cell_type": "code",
   "execution_count": null,
   "id": "fff9d9b4-2da2-4582-a684-2e24bc1c6be1",
   "metadata": {},
   "outputs": [],
   "source": [
    "dggs = rhealpix.RhealpixDGGS.from_ellipsoid()\n",
    "dggs.cell_width(12)"
   ]
  },
  {
   "cell_type": "code",
   "execution_count": null,
   "id": "38d3e970-2a07-4068-ad16-6188f65922ae",
   "metadata": {},
   "outputs": [],
   "source": [
    "area_ha = gdf.shape[0] * dggs.cell_width(12) **2 / 10000\n",
    "sonar_metadata[\"area_ha\"] = area_ha\n",
    "area_ha"
   ]
  },
  {
   "cell_type": "code",
   "execution_count": null,
   "id": "cb6c2105-5266-4b8f-a0cd-ceccbf4fc466",
   "metadata": {},
   "outputs": [],
   "source": []
  },
  {
   "cell_type": "code",
   "execution_count": null,
   "id": "4d7a1467-3b68-4c3e-9b0c-db5264754d2d",
   "metadata": {},
   "outputs": [],
   "source": []
  },
  {
   "cell_type": "code",
   "execution_count": null,
   "id": "71bf92d3-26df-4754-9215-1c15a175a7d2",
   "metadata": {},
   "outputs": [],
   "source": [
    "gdf2 = geopandas.GeoDataFrame({\"region_code\": gdf.region_code.str[0:10], \"count\": gdf[\"count\"]}).groupby([\"region_code\"])[\"count\"].agg(\"sum\").to_frame(\"count\").reset_index()"
   ]
  },
  {
   "cell_type": "code",
   "execution_count": null,
   "id": "5a02e5e2-4185-46f1-b750-4ad7705736ff",
   "metadata": {},
   "outputs": [],
   "source": [
    "(gdf2[\"count\"].max(), gdf2[\"count\"].min())"
   ]
  },
  {
   "cell_type": "code",
   "execution_count": null,
   "id": "0a3864a9-8bae-426a-bfb7-554d7a10f83c",
   "metadata": {},
   "outputs": [],
   "source": []
  },
  {
   "cell_type": "code",
   "execution_count": null,
   "id": "fdebb430-d857-40dd-babb-6e313b660779",
   "metadata": {},
   "outputs": [],
   "source": [
    "slices = []\n",
    "for geom in rhealpix.rhealpix_geo_boundary(gdf2.region_code.values, round_coords=False):\n",
    "    bounds = geom.bounds\n",
    "    slices.append((\n",
    "        slice(bounds[0], bounds[-2]),\n",
    "        slice(bounds[1], bounds[-1])\n",
    "    ))"
   ]
  },
  {
   "cell_type": "code",
   "execution_count": null,
   "id": "62ddb6af-fbe4-4e2f-a6e2-4d026cb2596f",
   "metadata": {},
   "outputs": [],
   "source": [
    "n_partitions = 12\n",
    "n_sub_partitions = 3\n",
    "blocks = scatter(slices, n_partitions)"
   ]
  },
  {
   "cell_type": "code",
   "execution_count": null,
   "id": "d24ee9c6-f843-4f83-a831-422a26040842",
   "metadata": {},
   "outputs": [],
   "source": [
    "len(blocks), len(blocks[0])"
   ]
  },
  {
   "cell_type": "code",
   "execution_count": null,
   "id": "2221203d-450f-4214-8c0a-2a060c80c629",
   "metadata": {},
   "outputs": [],
   "source": [
    "len(scatter(blocks[0], n_sub_partitions)[0])"
   ]
  },
  {
   "cell_type": "code",
   "execution_count": null,
   "id": "09fdc52d-e540-4428-856b-cae76a6a7664",
   "metadata": {},
   "outputs": [],
   "source": [
    "stats_attrs = [at for at in required_attributes if at not in [\"timestamp\", \"region_code\"]]\n",
    "stats_attrs.insert(0, \"Y\")\n",
    "stats_attrs.insert(0, \"X\")"
   ]
  },
  {
   "cell_type": "code",
   "execution_count": null,
   "id": "dee06619-6b8a-4f83-81fb-8a29f72acce6",
   "metadata": {},
   "outputs": [],
   "source": [
    "stats_results = []\n",
    "tasks_dict = {stat: [] for stat in stats_attrs}\n",
    "reduce_tasks = []\n",
    "\n",
    "for i, block in enumerate(blocks):\n",
    "    sub_tasks = []\n",
    "    sub_blocks = scatter(block, n_sub_partitions)\n",
    "\n",
    "    for si, sub_block in enumerate(sub_blocks):\n",
    "        for attribute in stats_attrs:\n",
    "            \n",
    "            if attribute in [\"X\", \"Y\"]:\n",
    "                schema = attribute\n",
    "            else:\n",
    "                schema = None\n",
    "\n",
    "            task_name = f\"block-{i}-sub_block-{si}-{attribute}\"\n",
    "            task = Delayed(\"sixy6e/basic_statistics_incremental\", name=task_name)(array_uri, config_dict, attribute, schema=schema, idxs=sub_block, summarise=False)\n",
    "\n",
    "            if len(tasks_dict[attribute]) > 1:\n",
    "                task.depends_on(tasks_dict[attribute][-1])\n",
    "\n",
    "            tasks_dict[attribute].append(task)\n",
    "\n",
    "for attribute in stats_attrs:\n",
    "    task_name = f\"reduce-attibute-{attribute}\"\n",
    "    reducer_task = Delayed(\"sixy6e/basic_statistics_reduce\", name=task_name)(tasks_dict[attribute], attribute)\n",
    "    reduce_tasks.append(reducer_task)\n",
    "\n",
    "collect_stats_task = Delayed(gather_stats, local=True, name=\"gather-stats\")(reduce_tasks)"
   ]
  },
  {
   "cell_type": "code",
   "execution_count": null,
   "id": "496a7e8e-2fb9-4306-b2e2-5acf4543ffd4",
   "metadata": {},
   "outputs": [],
   "source": [
    "stats_results = collect_stats_task.compute()"
   ]
  },
  {
   "cell_type": "code",
   "execution_count": null,
   "id": "cfb968b0-0866-4023-a8ac-b1d41c9dedb3",
   "metadata": {},
   "outputs": [],
   "source": [
    "crs_info = {\n",
    "    \"horizontal_datum\": \"epsg:4326\",\n",
    "    \"vertical_datum\": \"epsg:5714\",  # TODO******************************************\n",
    "}"
   ]
  },
  {
   "cell_type": "code",
   "execution_count": null,
   "id": "b2d4bdc5-2817-489b-b32e-f97a34a4c672",
   "metadata": {},
   "outputs": [],
   "source": [
    "with tiledb.open(array_uri, \"w\", ctx=ctx) as ds:\n",
    "    ds.meta[\"crs_info\"] = json.dumps(crs_info)\n",
    "    ds.meta[\"basic_statistics\"] = json.dumps(stats_results, cls=stac_metadata.Encoder)"
   ]
  },
  {
   "cell_type": "code",
   "execution_count": null,
   "id": "b85527c4-dce2-4c80-8690-76acf8fd1812",
   "metadata": {},
   "outputs": [],
   "source": [
    "with fs.open(asb_metadata_uri) as src:\n",
    "    asb_metadata = json.loads(src.read())"
   ]
  },
  {
   "cell_type": "code",
   "execution_count": null,
   "id": "bfe5ce58-d8f9-4955-86e6-96d70f3523f6",
   "metadata": {},
   "outputs": [],
   "source": [
    "dataset_metadata = stac_metadata.prepare(\n",
    "    uid,\n",
    "    sonar_metadata,\n",
    "    stats_results,\n",
    "    asb_metadata,\n",
    "    array_uri,\n",
    "    coverage_uri,\n",
    "    soundings_cell_density_uri,\n",
    "    creds.access_key,\n",
    "    creds.secret_key,\n",
    "    final_start_end_timestamps,\n",
    "    outdir_uri,\n",
    "    stac_md_uri,\n",
    ")"
   ]
  },
  {
   "cell_type": "code",
   "execution_count": null,
   "id": "d99c2688-55ce-407a-8a8c-277498b1e508",
   "metadata": {},
   "outputs": [],
   "source": [
    "tiledb.cloud.register_array(\n",
    "    uri=array_uri,\n",
    "    namespace=\"sixy6e\", # Optional, you may register it under your username, or one of your organizations\n",
    "    array_name=array_name,\n",
    "    description=asb_metadata[\"survey_general\"][\"abstract\"],  # Optional \n",
    "    access_credentials_name=\"AusSeabedGMRT-PL019\"\n",
    ")"
   ]
  },
  {
   "cell_type": "code",
   "execution_count": null,
   "id": "bad7df49-b08d-419a-b0f0-95e9e22876b1",
   "metadata": {},
   "outputs": [],
   "source": []
  },
  {
   "cell_type": "code",
   "execution_count": null,
   "id": "57e63d26-1442-449e-824d-c3ae6a2f3203",
   "metadata": {},
   "outputs": [],
   "source": []
  }
 ],
 "metadata": {
  "kernelspec": {
   "display_name": "Python 3",
   "language": "python",
   "name": "python3"
  },
  "language_info": {
   "codemirror_mode": {
    "name": "ipython",
    "version": 3
   },
   "file_extension": ".py",
   "mimetype": "text/x-python",
   "name": "python",
   "nbconvert_exporter": "python",
   "pygments_lexer": "ipython3",
   "version": "3.10.5"
  }
 },
 "nbformat": 4,
 "nbformat_minor": 5
}
